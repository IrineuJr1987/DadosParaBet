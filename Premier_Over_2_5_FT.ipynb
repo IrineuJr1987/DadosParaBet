{
  "cells": [
    {
      "attachments": {},
      "cell_type": "markdown",
      "metadata": {
        "id": "qYXQ9oL886j2"
      },
      "source": [
        "# Método Over 2.5 FT"
      ]
    },
    {
      "attachments": {},
      "cell_type": "markdown",
      "metadata": {
        "id": "sHwRHe5YcHYn"
      },
      "source": [
        "# Importando as Bibliotecas e o DataFrame "
      ]
    },
    {
      "cell_type": "code",
      "execution_count": 1,
      "metadata": {
        "id": "bknPLhIHeKs1"
      },
      "outputs": [],
      "source": [
        "import pandas as pd\n",
        "import numpy as np\n",
        "\n",
        "def drop_reset_index(df):\n",
        "    df = df.dropna()\n",
        "    df = df.reset_index(drop=True)\n",
        "    df.index += 1\n",
        "    return df\n",
        "\n",
        "import warnings\n",
        "warnings.filterwarnings('ignore')"
      ]
    },
    {
      "cell_type": "code",
      "execution_count": 2,
      "metadata": {
        "id": "3JQRytp9fA65"
      },
      "outputs": [
        {
          "data": {
            "text/html": [
              "<div>\n",
              "<style scoped>\n",
              "    .dataframe tbody tr th:only-of-type {\n",
              "        vertical-align: middle;\n",
              "    }\n",
              "\n",
              "    .dataframe tbody tr th {\n",
              "        vertical-align: top;\n",
              "    }\n",
              "\n",
              "    .dataframe thead th {\n",
              "        text-align: right;\n",
              "    }\n",
              "</style>\n",
              "<table border=\"1\" class=\"dataframe\">\n",
              "  <thead>\n",
              "    <tr style=\"text-align: right;\">\n",
              "      <th></th>\n",
              "      <th>League</th>\n",
              "      <th>Date</th>\n",
              "      <th>Home</th>\n",
              "      <th>Away</th>\n",
              "      <th>Goals_H_HT</th>\n",
              "      <th>Goals_A_HT</th>\n",
              "      <th>Result_HT</th>\n",
              "      <th>Goals_H_FT</th>\n",
              "      <th>Goals_A_FT</th>\n",
              "      <th>Result_FT</th>\n",
              "      <th>Odds_H</th>\n",
              "      <th>Odds_D</th>\n",
              "      <th>Odds_A</th>\n",
              "      <th>Odds_Over25_FT</th>\n",
              "    </tr>\n",
              "    <tr>\n",
              "      <th>Nº</th>\n",
              "      <th></th>\n",
              "      <th></th>\n",
              "      <th></th>\n",
              "      <th></th>\n",
              "      <th></th>\n",
              "      <th></th>\n",
              "      <th></th>\n",
              "      <th></th>\n",
              "      <th></th>\n",
              "      <th></th>\n",
              "      <th></th>\n",
              "      <th></th>\n",
              "      <th></th>\n",
              "      <th></th>\n",
              "    </tr>\n",
              "  </thead>\n",
              "  <tbody>\n",
              "    <tr>\n",
              "      <th>1</th>\n",
              "      <td>Inglaterra</td>\n",
              "      <td>13/08/2021</td>\n",
              "      <td>Brentford</td>\n",
              "      <td>Arsenal</td>\n",
              "      <td>1</td>\n",
              "      <td>0</td>\n",
              "      <td>H</td>\n",
              "      <td>2</td>\n",
              "      <td>0</td>\n",
              "      <td>H</td>\n",
              "      <td>4.00</td>\n",
              "      <td>3.40</td>\n",
              "      <td>1.95</td>\n",
              "      <td>2.10</td>\n",
              "    </tr>\n",
              "    <tr>\n",
              "      <th>2</th>\n",
              "      <td>Inglaterra</td>\n",
              "      <td>14/08/2021</td>\n",
              "      <td>Man United</td>\n",
              "      <td>Leeds</td>\n",
              "      <td>1</td>\n",
              "      <td>0</td>\n",
              "      <td>H</td>\n",
              "      <td>5</td>\n",
              "      <td>1</td>\n",
              "      <td>H</td>\n",
              "      <td>1.53</td>\n",
              "      <td>4.50</td>\n",
              "      <td>5.75</td>\n",
              "      <td>1.61</td>\n",
              "    </tr>\n",
              "    <tr>\n",
              "      <th>3</th>\n",
              "      <td>Inglaterra</td>\n",
              "      <td>14/08/2021</td>\n",
              "      <td>Burnley</td>\n",
              "      <td>Brighton</td>\n",
              "      <td>1</td>\n",
              "      <td>0</td>\n",
              "      <td>H</td>\n",
              "      <td>1</td>\n",
              "      <td>2</td>\n",
              "      <td>A</td>\n",
              "      <td>3.10</td>\n",
              "      <td>3.10</td>\n",
              "      <td>2.45</td>\n",
              "      <td>2.50</td>\n",
              "    </tr>\n",
              "    <tr>\n",
              "      <th>4</th>\n",
              "      <td>Inglaterra</td>\n",
              "      <td>14/08/2021</td>\n",
              "      <td>Chelsea</td>\n",
              "      <td>Crystal Palace</td>\n",
              "      <td>2</td>\n",
              "      <td>0</td>\n",
              "      <td>H</td>\n",
              "      <td>3</td>\n",
              "      <td>0</td>\n",
              "      <td>H</td>\n",
              "      <td>1.25</td>\n",
              "      <td>5.75</td>\n",
              "      <td>13.00</td>\n",
              "      <td>1.80</td>\n",
              "    </tr>\n",
              "    <tr>\n",
              "      <th>5</th>\n",
              "      <td>Inglaterra</td>\n",
              "      <td>14/08/2021</td>\n",
              "      <td>Everton</td>\n",
              "      <td>Southampton</td>\n",
              "      <td>0</td>\n",
              "      <td>1</td>\n",
              "      <td>A</td>\n",
              "      <td>3</td>\n",
              "      <td>1</td>\n",
              "      <td>H</td>\n",
              "      <td>1.90</td>\n",
              "      <td>3.50</td>\n",
              "      <td>4.00</td>\n",
              "      <td>2.00</td>\n",
              "    </tr>\n",
              "    <tr>\n",
              "      <th>...</th>\n",
              "      <td>...</td>\n",
              "      <td>...</td>\n",
              "      <td>...</td>\n",
              "      <td>...</td>\n",
              "      <td>...</td>\n",
              "      <td>...</td>\n",
              "      <td>...</td>\n",
              "      <td>...</td>\n",
              "      <td>...</td>\n",
              "      <td>...</td>\n",
              "      <td>...</td>\n",
              "      <td>...</td>\n",
              "      <td>...</td>\n",
              "      <td>...</td>\n",
              "    </tr>\n",
              "    <tr>\n",
              "      <th>756</th>\n",
              "      <td>Inglaterra</td>\n",
              "      <td>28/05/2023</td>\n",
              "      <td>Everton</td>\n",
              "      <td>Bournemouth</td>\n",
              "      <td>0</td>\n",
              "      <td>0</td>\n",
              "      <td>D</td>\n",
              "      <td>1</td>\n",
              "      <td>0</td>\n",
              "      <td>H</td>\n",
              "      <td>1.50</td>\n",
              "      <td>4.50</td>\n",
              "      <td>6.50</td>\n",
              "      <td>1.67</td>\n",
              "    </tr>\n",
              "    <tr>\n",
              "      <th>757</th>\n",
              "      <td>Inglaterra</td>\n",
              "      <td>28/05/2023</td>\n",
              "      <td>Leeds</td>\n",
              "      <td>Tottenham</td>\n",
              "      <td>0</td>\n",
              "      <td>1</td>\n",
              "      <td>A</td>\n",
              "      <td>1</td>\n",
              "      <td>4</td>\n",
              "      <td>A</td>\n",
              "      <td>2.75</td>\n",
              "      <td>3.80</td>\n",
              "      <td>2.30</td>\n",
              "      <td>1.50</td>\n",
              "    </tr>\n",
              "    <tr>\n",
              "      <th>758</th>\n",
              "      <td>Inglaterra</td>\n",
              "      <td>28/05/2023</td>\n",
              "      <td>Leicester</td>\n",
              "      <td>West Ham</td>\n",
              "      <td>1</td>\n",
              "      <td>0</td>\n",
              "      <td>H</td>\n",
              "      <td>2</td>\n",
              "      <td>1</td>\n",
              "      <td>H</td>\n",
              "      <td>1.91</td>\n",
              "      <td>3.80</td>\n",
              "      <td>3.60</td>\n",
              "      <td>1.67</td>\n",
              "    </tr>\n",
              "    <tr>\n",
              "      <th>759</th>\n",
              "      <td>Inglaterra</td>\n",
              "      <td>28/05/2023</td>\n",
              "      <td>Man United</td>\n",
              "      <td>Fulham</td>\n",
              "      <td>1</td>\n",
              "      <td>1</td>\n",
              "      <td>D</td>\n",
              "      <td>2</td>\n",
              "      <td>1</td>\n",
              "      <td>H</td>\n",
              "      <td>1.50</td>\n",
              "      <td>4.33</td>\n",
              "      <td>6.00</td>\n",
              "      <td>1.50</td>\n",
              "    </tr>\n",
              "    <tr>\n",
              "      <th>760</th>\n",
              "      <td>Inglaterra</td>\n",
              "      <td>28/05/2023</td>\n",
              "      <td>Southampton</td>\n",
              "      <td>Liverpool</td>\n",
              "      <td>2</td>\n",
              "      <td>2</td>\n",
              "      <td>D</td>\n",
              "      <td>4</td>\n",
              "      <td>4</td>\n",
              "      <td>D</td>\n",
              "      <td>6.50</td>\n",
              "      <td>4.75</td>\n",
              "      <td>1.44</td>\n",
              "      <td>1.40</td>\n",
              "    </tr>\n",
              "  </tbody>\n",
              "</table>\n",
              "<p>760 rows × 14 columns</p>\n",
              "</div>"
            ],
            "text/plain": [
              "         League        Date         Home            Away  Goals_H_HT  \\\n",
              "Nº                                                                     \n",
              "1    Inglaterra  13/08/2021    Brentford         Arsenal           1   \n",
              "2    Inglaterra  14/08/2021   Man United           Leeds           1   \n",
              "3    Inglaterra  14/08/2021      Burnley        Brighton           1   \n",
              "4    Inglaterra  14/08/2021      Chelsea  Crystal Palace           2   \n",
              "5    Inglaterra  14/08/2021      Everton     Southampton           0   \n",
              "..          ...         ...          ...             ...         ...   \n",
              "756  Inglaterra  28/05/2023      Everton     Bournemouth           0   \n",
              "757  Inglaterra  28/05/2023        Leeds       Tottenham           0   \n",
              "758  Inglaterra  28/05/2023    Leicester        West Ham           1   \n",
              "759  Inglaterra  28/05/2023   Man United          Fulham           1   \n",
              "760  Inglaterra  28/05/2023  Southampton       Liverpool           2   \n",
              "\n",
              "     Goals_A_HT Result_HT  Goals_H_FT  Goals_A_FT Result_FT  Odds_H  Odds_D  \\\n",
              "Nº                                                                            \n",
              "1             0         H           2           0         H    4.00    3.40   \n",
              "2             0         H           5           1         H    1.53    4.50   \n",
              "3             0         H           1           2         A    3.10    3.10   \n",
              "4             0         H           3           0         H    1.25    5.75   \n",
              "5             1         A           3           1         H    1.90    3.50   \n",
              "..          ...       ...         ...         ...       ...     ...     ...   \n",
              "756           0         D           1           0         H    1.50    4.50   \n",
              "757           1         A           1           4         A    2.75    3.80   \n",
              "758           0         H           2           1         H    1.91    3.80   \n",
              "759           1         D           2           1         H    1.50    4.33   \n",
              "760           2         D           4           4         D    6.50    4.75   \n",
              "\n",
              "     Odds_A  Odds_Over25_FT  \n",
              "Nº                           \n",
              "1      1.95            2.10  \n",
              "2      5.75            1.61  \n",
              "3      2.45            2.50  \n",
              "4     13.00            1.80  \n",
              "5      4.00            2.00  \n",
              "..      ...             ...  \n",
              "756    6.50            1.67  \n",
              "757    2.30            1.50  \n",
              "758    3.60            1.67  \n",
              "759    6.00            1.50  \n",
              "760    1.44            1.40  \n",
              "\n",
              "[760 rows x 14 columns]"
            ]
          },
          "execution_count": 2,
          "metadata": {},
          "output_type": "execute_result"
        }
      ],
      "source": [
        "df5 = pd.read_csv(\"https://www.football-data.co.uk/mmz4281/2122/E0.csv\")\n",
        "df4 = pd.read_csv(\"https://www.football-data.co.uk/mmz4281/2223/E0.csv\")\n",
        "df = [df5, df4]\n",
        "df = pd.concat(df)\n",
        "df.reset_index(inplace=True, drop=True)\n",
        "df.index = df.index.set_names(['Nº'])\n",
        "df = df.rename(index=lambda x: x + 1)\n",
        "#df = pd.read_excel(\"x_FutPythonTrader_Base_de_Dados_x_temporadas_passadas2022.xlsx\")\n",
        "#df = pd.read_excel(\"https://github.com/futpythontrader/YouTube/blob/main/DataFrame_2021_2022.xlsx?raw=true\")\n",
        "df['Liga'] = 'Inglaterra'\n",
        "\n",
        "#df = df[['Liga','Date','HomeTeam','AwayTeam','HTHG','HTAG','HTR','FTHG','FTAG','FTR','B365H','B365D','B365A','B365>2.5']]\n",
        "df = df[['Liga','Date','HomeTeam','AwayTeam','HTHG','HTAG','HTR','FTHG','FTAG','FTR','B365H','B365D','B365A','B365>2.5']]\n",
        "df.columns = ['League','Date','Home','Away','Goals_H_HT','Goals_A_HT','Result_HT','Goals_H_FT','Goals_A_FT','Result_FT','Odds_H','Odds_D','Odds_A','Odds_Over25_FT']\n",
        "df"
      ]
    },
    {
      "attachments": {},
      "cell_type": "markdown",
      "metadata": {
        "id": "av-QJGpNqLpD"
      },
      "source": [
        "# Porcentagem de Gols"
      ]
    },
    {
      "cell_type": "code",
      "execution_count": 3,
      "metadata": {
        "id": "Am9razpTqPJr"
      },
      "outputs": [],
      "source": [
        "df['Total_Goals_FT'] = df.apply(lambda row: (row['Goals_H_FT'] + row['Goals_A_FT']), axis=1) \n",
        "\n",
        "df['Over25_FT'] = df.apply(lambda row: 1 if (row['Total_Goals_FT'] > 2) else 0, axis=1) \n",
        "df['BTTS'] = df.apply(lambda row: 1 if (row['Goals_H_FT'] > 0 and row['Goals_A_FT'] > 0) else 0, axis=1) "
      ]
    },
    {
      "cell_type": "code",
      "execution_count": 4,
      "metadata": {
        "id": "HU4QsgaSqVuW"
      },
      "outputs": [],
      "source": [
        "df['Porc_Over25FT_Home'] = (df.groupby('Home')['Over25_FT'].rolling(window=5, min_periods=1).mean().reset_index(0,drop=True) * 100).shift(1)\n",
        "df['Porc_Over25FT_Away'] = (df.groupby('Away')['Over25_FT'].rolling(window=5, min_periods=1).mean().reset_index(0,drop=True) * 100).shift(1)\n",
        "\n",
        "df['Porc_BTTS_Home'] = (df.groupby('Home')['BTTS'].rolling(window=5, min_periods=1).mean().reset_index(0,drop=True) * 100).shift(1)\n",
        "df['Porc_BTTS_Away'] = (df.groupby('Away')['BTTS'].rolling(window=5, min_periods=1).mean().reset_index(0,drop=True) * 100).shift(1)"
      ]
    },
    {
      "attachments": {},
      "cell_type": "markdown",
      "metadata": {
        "id": "Vrpk5_jbQEDu"
      },
      "source": [
        "# Médias, Desvio Padrão e Coeficiente de Variação"
      ]
    },
    {
      "cell_type": "code",
      "execution_count": 5,
      "metadata": {
        "id": "cNmbqsGbQbzT"
      },
      "outputs": [],
      "source": [
        "df['Media_Gols_Feitos_Home'] = df.groupby('Home')['Goals_H_FT'].rolling(window=5, min_periods=1).mean().reset_index(0,drop=True).shift(1)\n",
        "df['Media_Gols_Sofridos_Home'] = df.groupby('Home')['Goals_A_FT'].rolling(window=5, min_periods=1).mean().reset_index(0,drop=True).shift(1)\n",
        "\n",
        "df['Media_Gols_Feitos_Away'] = df.groupby('Away')['Goals_A_FT'].rolling(window=5, min_periods=1).mean().reset_index(0,drop=True).shift(1)\n",
        "df['Media_Gols_Sofridos_Away'] = df.groupby('Away')['Goals_H_FT'].rolling(window=5, min_periods=1).mean().reset_index(0,drop=True).shift(1)"
      ]
    },
    {
      "cell_type": "code",
      "execution_count": 6,
      "metadata": {
        "id": "HItodtlFTQax"
      },
      "outputs": [],
      "source": [
        "df['DP_Gols_Feitos_Home'] = df.groupby('Home')['Goals_H_FT'].rolling(window=5, min_periods=1).std().reset_index(0,drop=True).shift(1)\n",
        "df['DP_Gols_Sofridos_Home'] = df.groupby('Home')['Goals_A_FT'].rolling(window=5, min_periods=1).std().reset_index(0,drop=True).shift(1)\n",
        "\n",
        "df['DP_Gols_Feitos_Away'] = df.groupby('Away')['Goals_A_FT'].rolling(window=5, min_periods=1).std().reset_index(0,drop=True).shift(1)\n",
        "df['DP_Gols_Sofridos_Away'] = df.groupby('Away')['Goals_H_FT'].rolling(window=5, min_periods=1).std().reset_index(0,drop=True).shift(1)"
      ]
    },
    {
      "cell_type": "code",
      "execution_count": 7,
      "metadata": {
        "id": "SHqBRdpvUGt9"
      },
      "outputs": [],
      "source": [
        "df['CV_Gols_Feitos_Home'] = (df['DP_Gols_Feitos_Home'] / df['Media_Gols_Feitos_Home']).shift(1)\n",
        "df['CV_Gols_Sofridos_Home'] = (df['DP_Gols_Sofridos_Home'] / df['Media_Gols_Sofridos_Home']).shift(1)\n",
        "\n",
        "df['CV_Gols_Feitos_Away'] = (df['DP_Gols_Feitos_Away'] / df['Media_Gols_Feitos_Away']).shift(1)\n",
        "df['CV_Gols_Sofridos_Away'] = (df['DP_Gols_Sofridos_Away'] / df['Media_Gols_Sofridos_Away']).shift(1)"
      ]
    },
    {
      "cell_type": "code",
      "execution_count": 8,
      "metadata": {
        "id": "YV-qmXJGGf8k"
      },
      "outputs": [],
      "source": [
        "#df0 = df.groupby(['Home']).get_group('Chelsea')"
      ]
    },
    {
      "cell_type": "code",
      "execution_count": 9,
      "metadata": {
        "id": "wBVkQfY-Heyu"
      },
      "outputs": [],
      "source": [
        "#df0 = df0[['Home','Away','Goals_H_FT','Goals_A_FT','Media_Gols_Feitos_Home','Media_Gols_Sofridos_Home','CV_Gols_Feitos_Home','CV_Gols_Sofridos_Home']]\n",
        "#df0"
      ]
    },
    {
      "attachments": {},
      "cell_type": "markdown",
      "metadata": {
        "id": "tLMkHOTYqjWv"
      },
      "source": [
        "# Ajustando o DataFrame"
      ]
    },
    {
      "cell_type": "code",
      "execution_count": 10,
      "metadata": {
        "id": "lKBnw-avqmz4"
      },
      "outputs": [],
      "source": [
        "df1 = df[['League','Home','Away','Odds_H','Odds_Over25_FT','Goals_H_FT','Goals_A_FT','Total_Goals_FT','Porc_Over25FT_Home','Porc_Over25FT_Away','Porc_BTTS_Home','Porc_BTTS_Away','Media_Gols_Feitos_Home','Media_Gols_Sofridos_Home','Media_Gols_Feitos_Away','Media_Gols_Sofridos_Away','CV_Gols_Feitos_Home','CV_Gols_Sofridos_Home','CV_Gols_Feitos_Away','CV_Gols_Sofridos_Away']]\n",
        "df1 = df1.dropna()"
      ]
    },
    {
      "cell_type": "code",
      "execution_count": 11,
      "metadata": {},
      "outputs": [],
      "source": [
        "# Stake = 1\n",
        "# green = Stake * (df1.Odds_Over25_FT - 1) \n",
        "# red = -Stake\n",
        "\n",
        "# # Over 2.5 FT\n",
        "# df1.loc[((df1['Total_Goals_FT']) > 2), 'Profit_Over25'] = green\n",
        "# df1.loc[((df1['Total_Goals_FT']) <= 2), 'Profit_Over25'] = red\n",
        "# df1.to_excel('teste25ft.xlsx', index=None)"
      ]
    },
    {
      "attachments": {},
      "cell_type": "markdown",
      "metadata": {
        "id": "ftB2NBJ-PlDp"
      },
      "source": [
        "# Filtro Estatístico"
      ]
    },
    {
      "cell_type": "code",
      "execution_count": 12,
      "metadata": {
        "id": "SuI3lanePnoK"
      },
      "outputs": [],
      "source": [
        "# Selecionando o Filtro Estatítisco\n",
        "flt2 = ((df1.Odds_H >= 2.06) &\n",
        "        (df1.Odds_H <= 4.06) &\n",
        "        (df1.Media_Gols_Feitos_Home >= 0.5) &\n",
        "        (df1.Media_Gols_Feitos_Home <= 1.5) &\n",
        "        (df1.Media_Gols_Feitos_Away >= 1) &\n",
        "        (df1.Media_Gols_Sofridos_Away >= 1) &\n",
        "        (df1.Media_Gols_Sofridos_Away <= 2))\n",
        "\n",
        "#flt2 = (df1.Porc_Over25FT_Home > 50) & (df1.Porc_Over25FT_Away > 50) & (df1.Porc_BTTS_Home > 48) & (df1.Porc_BTTS_Away > 47) & (df1.Media_Gols_Feitos_Home > 1) & (df1.Media_Gols_Sofridos_Home > 1) & (df1.Media_Gols_Feitos_Away > 1) & (df1.Media_Gols_Sofridos_Away > 1) & (df1.CV_Gols_Feitos_Home < 1) & (df1.CV_Gols_Sofridos_Home < 1) & (df1.CV_Gols_Feitos_Away < 1) & (df1.CV_Gols_Sofridos_Away < 1)\n",
        "df2 = df1[flt2];\n",
        "#df2 = df1;\n",
        "# Ajustando o Índice\n",
        "df2.reset_index(inplace=True, drop=True)\n",
        "df2.index = df2.index.set_names(['Nº'])\n",
        "df2 = df2.rename(index=lambda x: x + 1)\n",
        "#df2.to_excel('teste25ft.xlsx', index=None)"
      ]
    },
    {
      "attachments": {},
      "cell_type": "markdown",
      "metadata": {
        "id": "CQQkRct0Uk6A"
      },
      "source": [
        "# Resultados"
      ]
    },
    {
      "cell_type": "code",
      "execution_count": 13,
      "metadata": {
        "id": "voEc2lGOR677"
      },
      "outputs": [
        {
          "data": {
            "text/plain": [
              "<Axes: title={'center': 'Over 2.5 FT'}, xlabel='Quantidade de Apostas', ylabel='Stakes'>"
            ]
          },
          "execution_count": 13,
          "metadata": {},
          "output_type": "execute_result"
        },
        {
          "data": {
            "image/png": "[encoded data removed]",
            "text/plain": [
              "<Figure size 640x480 with 1 Axes>"
            ]
          },
          "metadata": {},
          "output_type": "display_data"
        }
      ],
      "source": [
        "Stake = 1\n",
        "green = Stake * (df2.Odds_Over25_FT - 1) \n",
        "red = -Stake\n",
        "\n",
        "# Over 2.5 FT\n",
        "df2.loc[((df2['Total_Goals_FT']) > 2), 'Profit_Over25'] = green\n",
        "df2.loc[((df2['Total_Goals_FT']) <= 2), 'Profit_Over25'] = red\n",
        "df2['Profit_acu_Over25'] = df2.Profit_Over25.cumsum()\n",
        "df2.Profit_acu_Over25.plot(title='Over 2.5 FT', xlabel='Quantidade de Apostas', ylabel='Stakes')\n",
        "#df2.to_excel('teste25ft.xlsx', index=None)"
      ]
    },
    {
      "cell_type": "code",
      "execution_count": 14,
      "metadata": {
        "id": "fbg2SN9DSI4F"
      },
      "outputs": [
        {
          "data": {
            "text/plain": [
              "Nº\n",
              "76    6.06\n",
              "Name: Profit_acu_Over25, dtype: float64"
            ]
          },
          "execution_count": 14,
          "metadata": {},
          "output_type": "execute_result"
        }
      ],
      "source": [
        "df2['Profit_acu_Over25'].tail(1)"
      ]
    },
    {
      "attachments": {},
      "cell_type": "markdown",
      "metadata": {},
      "source": [
        "Unindo a base para pegar os jogos do dia\n"
      ]
    },
    {
      "cell_type": "code",
      "execution_count": 15,
      "metadata": {},
      "outputs": [
        {
          "data": {
            "text/plain": [
              "array(['Inglaterra'], dtype=object)"
            ]
          },
          "execution_count": 15,
          "metadata": {},
          "output_type": "execute_result"
        }
      ],
      "source": [
        "df2['League'].unique()"
      ]
    },
    {
      "cell_type": "code",
      "execution_count": 16,
      "metadata": {},
      "outputs": [
        {
          "data": {
            "text/html": [
              "<div>\n",
              "<style scoped>\n",
              "    .dataframe tbody tr th:only-of-type {\n",
              "        vertical-align: middle;\n",
              "    }\n",
              "\n",
              "    .dataframe tbody tr th {\n",
              "        vertical-align: top;\n",
              "    }\n",
              "\n",
              "    .dataframe thead th {\n",
              "        text-align: right;\n",
              "    }\n",
              "</style>\n",
              "<table border=\"1\" class=\"dataframe\">\n",
              "  <thead>\n",
              "    <tr style=\"text-align: right;\">\n",
              "      <th></th>\n",
              "      <th>Home</th>\n",
              "      <th>Media_Gols_Feitos_Home</th>\n",
              "      <th>Media_Gols_Feitos_Away</th>\n",
              "      <th>Media_Gols_Sofridos_Away</th>\n",
              "    </tr>\n",
              "    <tr>\n",
              "      <th>Nº</th>\n",
              "      <th></th>\n",
              "      <th></th>\n",
              "      <th></th>\n",
              "      <th></th>\n",
              "    </tr>\n",
              "  </thead>\n",
              "  <tbody>\n",
              "    <tr>\n",
              "      <th>3</th>\n",
              "      <td>Burnley</td>\n",
              "      <td>2.4</td>\n",
              "      <td>1.0</td>\n",
              "      <td>1.0</td>\n",
              "    </tr>\n",
              "    <tr>\n",
              "      <th>4</th>\n",
              "      <td>Chelsea</td>\n",
              "      <td>1.6</td>\n",
              "      <td>1.0</td>\n",
              "      <td>2.0</td>\n",
              "    </tr>\n",
              "    <tr>\n",
              "      <th>5</th>\n",
              "      <td>Everton</td>\n",
              "      <td>1.8</td>\n",
              "      <td>1.2</td>\n",
              "      <td>2.0</td>\n",
              "    </tr>\n",
              "    <tr>\n",
              "      <th>6</th>\n",
              "      <td>Leicester</td>\n",
              "      <td>1.2</td>\n",
              "      <td>1.6</td>\n",
              "      <td>2.2</td>\n",
              "    </tr>\n",
              "    <tr>\n",
              "      <th>7</th>\n",
              "      <td>Watford</td>\n",
              "      <td>1.6</td>\n",
              "      <td>1.4</td>\n",
              "      <td>1.8</td>\n",
              "    </tr>\n",
              "    <tr>\n",
              "      <th>...</th>\n",
              "      <td>...</td>\n",
              "      <td>...</td>\n",
              "      <td>...</td>\n",
              "      <td>...</td>\n",
              "    </tr>\n",
              "    <tr>\n",
              "      <th>756</th>\n",
              "      <td>Everton</td>\n",
              "      <td>0.8</td>\n",
              "      <td>1.0</td>\n",
              "      <td>1.4</td>\n",
              "    </tr>\n",
              "    <tr>\n",
              "      <th>757</th>\n",
              "      <td>Leeds</td>\n",
              "      <td>1.4</td>\n",
              "      <td>1.8</td>\n",
              "      <td>3.2</td>\n",
              "    </tr>\n",
              "    <tr>\n",
              "      <th>758</th>\n",
              "      <td>Leicester</td>\n",
              "      <td>1.0</td>\n",
              "      <td>1.6</td>\n",
              "      <td>1.8</td>\n",
              "    </tr>\n",
              "    <tr>\n",
              "      <th>759</th>\n",
              "      <td>Man United</td>\n",
              "      <td>2.0</td>\n",
              "      <td>1.2</td>\n",
              "      <td>1.0</td>\n",
              "    </tr>\n",
              "    <tr>\n",
              "      <th>760</th>\n",
              "      <td>Southampton</td>\n",
              "      <td>0.8</td>\n",
              "      <td>2.4</td>\n",
              "      <td>1.2</td>\n",
              "    </tr>\n",
              "  </tbody>\n",
              "</table>\n",
              "<p>705 rows × 4 columns</p>\n",
              "</div>"
            ],
            "text/plain": [
              "            Home  Media_Gols_Feitos_Home  Media_Gols_Feitos_Away  \\\n",
              "Nº                                                                 \n",
              "3        Burnley                     2.4                     1.0   \n",
              "4        Chelsea                     1.6                     1.0   \n",
              "5        Everton                     1.8                     1.2   \n",
              "6      Leicester                     1.2                     1.6   \n",
              "7        Watford                     1.6                     1.4   \n",
              "..           ...                     ...                     ...   \n",
              "756      Everton                     0.8                     1.0   \n",
              "757        Leeds                     1.4                     1.8   \n",
              "758    Leicester                     1.0                     1.6   \n",
              "759   Man United                     2.0                     1.2   \n",
              "760  Southampton                     0.8                     2.4   \n",
              "\n",
              "     Media_Gols_Sofridos_Away  \n",
              "Nº                             \n",
              "3                         1.0  \n",
              "4                         2.0  \n",
              "5                         2.0  \n",
              "6                         2.2  \n",
              "7                         1.8  \n",
              "..                        ...  \n",
              "756                       1.4  \n",
              "757                       3.2  \n",
              "758                       1.8  \n",
              "759                       1.0  \n",
              "760                       1.2  \n",
              "\n",
              "[705 rows x 4 columns]"
            ]
          },
          "execution_count": 16,
          "metadata": {},
          "output_type": "execute_result"
        }
      ],
      "source": [
        "df1.replace(np.inf, 1, inplace=True)\n",
        "base_H = df1[['Home', 'Media_Gols_Feitos_Home', 'Media_Gols_Feitos_Away', 'Media_Gols_Sofridos_Away']]\n",
        "\n",
        "base_A = df1[['Away', 'Media_Gols_Feitos_Home', 'Media_Gols_Feitos_Away', 'Media_Gols_Sofridos_Away']]\n",
        "\n",
        "from datetime import date, datetime, timedelta\n",
        "dia = date.today() - timedelta(-1)\n",
        "\n",
        "base_H"
      ]
    },
    {
      "cell_type": "code",
      "execution_count": 17,
      "metadata": {},
      "outputs": [
        {
          "ename": "FileNotFoundError",
          "evalue": "[Errno 2] No such file or directory: 'G:\\\\Meu Drive\\\\Programacao\\\\futPythonTrader\\\\Jogos do dia\\\\2023-06-11_Jogos_do_Dia_FlashScore.xlsx'",
          "output_type": "error",
          "traceback": [
            "\u001b[1;31m---------------------------------------------------------------------------\u001b[0m",
            "\u001b[1;31mFileNotFoundError\u001b[0m                         Traceback (most recent call last)",
            "Cell \u001b[1;32mIn[17], line 1\u001b[0m\n\u001b[1;32m----> 1\u001b[0m jogos_do_dia \u001b[39m=\u001b[39m pd\u001b[39m.\u001b[39;49mread_excel(\u001b[39m'\u001b[39;49m\u001b[39mG:\u001b[39;49m\u001b[39m\\\\\u001b[39;49;00m\u001b[39mMeu Drive\u001b[39;49m\u001b[39m\\\\\u001b[39;49;00m\u001b[39mProgramacao\u001b[39;49m\u001b[39m\\\\\u001b[39;49;00m\u001b[39mfutPythonTrader\u001b[39;49m\u001b[39m\\\\\u001b[39;49;00m\u001b[39mJogos do dia\u001b[39;49m\u001b[39m\\\\\u001b[39;49;00m\u001b[39m'\u001b[39;49m\u001b[39m+\u001b[39;49m\u001b[39mstr\u001b[39;49m(dia)\u001b[39m+\u001b[39;49m\u001b[39m'\u001b[39;49m\u001b[39m_Jogos_do_Dia_FlashScore.xlsx\u001b[39;49m\u001b[39m'\u001b[39;49m)\n\u001b[0;32m      2\u001b[0m \u001b[39m#jogos_do_dia = pd.read_excel('E:\\\\Python\\\\Bet\\\\futPythonTrader\\\\Jogos do dia\\\\2023-03-25_Jogos_do_Dia_FlashScore.xlsx')\u001b[39;00m\n\u001b[0;32m      3\u001b[0m \n\u001b[0;32m      4\u001b[0m \u001b[39m#jogos_do_dia = jogos_do_dia[['League','Round','Date','Time','Home','Away','FT_Odd_H','FT_Odd_D','FT_Odd_A','FT_Odd_Over25','FT_Odd_Under25','FT_Odd_BTTS_Yes','FT_Odd_BTTS_No']] \u001b[39;00m\n\u001b[0;32m      5\u001b[0m jogos_do_dia \u001b[39m=\u001b[39m jogos_do_dia[[\u001b[39m'\u001b[39m\u001b[39mLeague\u001b[39m\u001b[39m'\u001b[39m,\u001b[39m'\u001b[39m\u001b[39mDate\u001b[39m\u001b[39m'\u001b[39m,\u001b[39m'\u001b[39m\u001b[39mTime\u001b[39m\u001b[39m'\u001b[39m,\u001b[39m'\u001b[39m\u001b[39mHome\u001b[39m\u001b[39m'\u001b[39m,\u001b[39m'\u001b[39m\u001b[39mAway\u001b[39m\u001b[39m'\u001b[39m,\u001b[39m'\u001b[39m\u001b[39mFT_Odd_H\u001b[39m\u001b[39m'\u001b[39m,\u001b[39m'\u001b[39m\u001b[39mFT_Odd_D\u001b[39m\u001b[39m'\u001b[39m,\u001b[39m'\u001b[39m\u001b[39mFT_Odd_A\u001b[39m\u001b[39m'\u001b[39m,\u001b[39m'\u001b[39m\u001b[39mFT_Odd_Over25\u001b[39m\u001b[39m'\u001b[39m,\u001b[39m'\u001b[39m\u001b[39mFT_Odd_Under25\u001b[39m\u001b[39m'\u001b[39m,\u001b[39m'\u001b[39m\u001b[39mFT_Odd_BTTS_Yes\u001b[39m\u001b[39m'\u001b[39m,\u001b[39m'\u001b[39m\u001b[39mFT_Odd_BTTS_No\u001b[39m\u001b[39m'\u001b[39m]] \n",
            "File \u001b[1;32mc:\\Users\\Bill\\AppData\\Local\\Programs\\Python\\Python310\\lib\\site-packages\\pandas\\util\\_decorators.py:311\u001b[0m, in \u001b[0;36mdeprecate_nonkeyword_arguments.<locals>.decorate.<locals>.wrapper\u001b[1;34m(*args, **kwargs)\u001b[0m\n\u001b[0;32m    305\u001b[0m \u001b[39mif\u001b[39;00m \u001b[39mlen\u001b[39m(args) \u001b[39m>\u001b[39m num_allow_args:\n\u001b[0;32m    306\u001b[0m     warnings\u001b[39m.\u001b[39mwarn(\n\u001b[0;32m    307\u001b[0m         msg\u001b[39m.\u001b[39mformat(arguments\u001b[39m=\u001b[39marguments),\n\u001b[0;32m    308\u001b[0m         \u001b[39mFutureWarning\u001b[39;00m,\n\u001b[0;32m    309\u001b[0m         stacklevel\u001b[39m=\u001b[39mstacklevel,\n\u001b[0;32m    310\u001b[0m     )\n\u001b[1;32m--> 311\u001b[0m \u001b[39mreturn\u001b[39;00m func(\u001b[39m*\u001b[39margs, \u001b[39m*\u001b[39m\u001b[39m*\u001b[39mkwargs)\n",
            "File \u001b[1;32mc:\\Users\\Bill\\AppData\\Local\\Programs\\Python\\Python310\\lib\\site-packages\\pandas\\io\\excel\\_base.py:457\u001b[0m, in \u001b[0;36mread_excel\u001b[1;34m(io, sheet_name, header, names, index_col, usecols, squeeze, dtype, engine, converters, true_values, false_values, skiprows, nrows, na_values, keep_default_na, na_filter, verbose, parse_dates, date_parser, thousands, decimal, comment, skipfooter, convert_float, mangle_dupe_cols, storage_options)\u001b[0m\n\u001b[0;32m    455\u001b[0m \u001b[39mif\u001b[39;00m \u001b[39mnot\u001b[39;00m \u001b[39misinstance\u001b[39m(io, ExcelFile):\n\u001b[0;32m    456\u001b[0m     should_close \u001b[39m=\u001b[39m \u001b[39mTrue\u001b[39;00m\n\u001b[1;32m--> 457\u001b[0m     io \u001b[39m=\u001b[39m ExcelFile(io, storage_options\u001b[39m=\u001b[39;49mstorage_options, engine\u001b[39m=\u001b[39;49mengine)\n\u001b[0;32m    458\u001b[0m \u001b[39melif\u001b[39;00m engine \u001b[39mand\u001b[39;00m engine \u001b[39m!=\u001b[39m io\u001b[39m.\u001b[39mengine:\n\u001b[0;32m    459\u001b[0m     \u001b[39mraise\u001b[39;00m \u001b[39mValueError\u001b[39;00m(\n\u001b[0;32m    460\u001b[0m         \u001b[39m\"\u001b[39m\u001b[39mEngine should not be specified when passing \u001b[39m\u001b[39m\"\u001b[39m\n\u001b[0;32m    461\u001b[0m         \u001b[39m\"\u001b[39m\u001b[39man ExcelFile - ExcelFile already has the engine set\u001b[39m\u001b[39m\"\u001b[39m\n\u001b[0;32m    462\u001b[0m     )\n",
            "File \u001b[1;32mc:\\Users\\Bill\\AppData\\Local\\Programs\\Python\\Python310\\lib\\site-packages\\pandas\\io\\excel\\_base.py:1376\u001b[0m, in \u001b[0;36mExcelFile.__init__\u001b[1;34m(self, path_or_buffer, engine, storage_options)\u001b[0m\n\u001b[0;32m   1374\u001b[0m     ext \u001b[39m=\u001b[39m \u001b[39m\"\u001b[39m\u001b[39mxls\u001b[39m\u001b[39m\"\u001b[39m\n\u001b[0;32m   1375\u001b[0m \u001b[39melse\u001b[39;00m:\n\u001b[1;32m-> 1376\u001b[0m     ext \u001b[39m=\u001b[39m inspect_excel_format(\n\u001b[0;32m   1377\u001b[0m         content_or_path\u001b[39m=\u001b[39;49mpath_or_buffer, storage_options\u001b[39m=\u001b[39;49mstorage_options\n\u001b[0;32m   1378\u001b[0m     )\n\u001b[0;32m   1379\u001b[0m     \u001b[39mif\u001b[39;00m ext \u001b[39mis\u001b[39;00m \u001b[39mNone\u001b[39;00m:\n\u001b[0;32m   1380\u001b[0m         \u001b[39mraise\u001b[39;00m \u001b[39mValueError\u001b[39;00m(\n\u001b[0;32m   1381\u001b[0m             \u001b[39m\"\u001b[39m\u001b[39mExcel file format cannot be determined, you must specify \u001b[39m\u001b[39m\"\u001b[39m\n\u001b[0;32m   1382\u001b[0m             \u001b[39m\"\u001b[39m\u001b[39man engine manually.\u001b[39m\u001b[39m\"\u001b[39m\n\u001b[0;32m   1383\u001b[0m         )\n",
            "File \u001b[1;32mc:\\Users\\Bill\\AppData\\Local\\Programs\\Python\\Python310\\lib\\site-packages\\pandas\\io\\excel\\_base.py:1250\u001b[0m, in \u001b[0;36minspect_excel_format\u001b[1;34m(content_or_path, storage_options)\u001b[0m\n\u001b[0;32m   1247\u001b[0m \u001b[39mif\u001b[39;00m \u001b[39misinstance\u001b[39m(content_or_path, \u001b[39mbytes\u001b[39m):\n\u001b[0;32m   1248\u001b[0m     content_or_path \u001b[39m=\u001b[39m BytesIO(content_or_path)\n\u001b[1;32m-> 1250\u001b[0m \u001b[39mwith\u001b[39;00m get_handle(\n\u001b[0;32m   1251\u001b[0m     content_or_path, \u001b[39m\"\u001b[39;49m\u001b[39mrb\u001b[39;49m\u001b[39m\"\u001b[39;49m, storage_options\u001b[39m=\u001b[39;49mstorage_options, is_text\u001b[39m=\u001b[39;49m\u001b[39mFalse\u001b[39;49;00m\n\u001b[0;32m   1252\u001b[0m ) \u001b[39mas\u001b[39;00m handle:\n\u001b[0;32m   1253\u001b[0m     stream \u001b[39m=\u001b[39m handle\u001b[39m.\u001b[39mhandle\n\u001b[0;32m   1254\u001b[0m     stream\u001b[39m.\u001b[39mseek(\u001b[39m0\u001b[39m)\n",
            "File \u001b[1;32mc:\\Users\\Bill\\AppData\\Local\\Programs\\Python\\Python310\\lib\\site-packages\\pandas\\io\\common.py:798\u001b[0m, in \u001b[0;36mget_handle\u001b[1;34m(path_or_buf, mode, encoding, compression, memory_map, is_text, errors, storage_options)\u001b[0m\n\u001b[0;32m    789\u001b[0m         handle \u001b[39m=\u001b[39m \u001b[39mopen\u001b[39m(\n\u001b[0;32m    790\u001b[0m             handle,\n\u001b[0;32m    791\u001b[0m             ioargs\u001b[39m.\u001b[39mmode,\n\u001b[1;32m   (...)\u001b[0m\n\u001b[0;32m    794\u001b[0m             newline\u001b[39m=\u001b[39m\u001b[39m\"\u001b[39m\u001b[39m\"\u001b[39m,\n\u001b[0;32m    795\u001b[0m         )\n\u001b[0;32m    796\u001b[0m     \u001b[39melse\u001b[39;00m:\n\u001b[0;32m    797\u001b[0m         \u001b[39m# Binary mode\u001b[39;00m\n\u001b[1;32m--> 798\u001b[0m         handle \u001b[39m=\u001b[39m \u001b[39mopen\u001b[39;49m(handle, ioargs\u001b[39m.\u001b[39;49mmode)\n\u001b[0;32m    799\u001b[0m     handles\u001b[39m.\u001b[39mappend(handle)\n\u001b[0;32m    801\u001b[0m \u001b[39m# Convert BytesIO or file objects passed with an encoding\u001b[39;00m\n",
            "\u001b[1;31mFileNotFoundError\u001b[0m: [Errno 2] No such file or directory: 'G:\\\\Meu Drive\\\\Programacao\\\\futPythonTrader\\\\Jogos do dia\\\\2023-06-11_Jogos_do_Dia_FlashScore.xlsx'"
          ]
        }
      ],
      "source": [
        "jogos_do_dia = pd.read_excel('G:\\\\Meu Drive\\\\Programacao\\\\futPythonTrader\\\\Jogos do dia\\\\'+str(dia)+'_Jogos_do_Dia_FlashScore.xlsx')\n",
        "#jogos_do_dia = pd.read_excel('E:\\\\Python\\\\Bet\\\\futPythonTrader\\\\Jogos do dia\\\\2023-03-25_Jogos_do_Dia_FlashScore.xlsx')\n",
        "\n",
        "#jogos_do_dia = jogos_do_dia[['League','Round','Date','Time','Home','Away','FT_Odd_H','FT_Odd_D','FT_Odd_A','FT_Odd_Over25','FT_Odd_Under25','FT_Odd_BTTS_Yes','FT_Odd_BTTS_No']] \n",
        "jogos_do_dia = jogos_do_dia[['League','Date','Time','Home','Away','FT_Odd_H','FT_Odd_D','FT_Odd_A','FT_Odd_Over25','FT_Odd_Under25','FT_Odd_BTTS_Yes','FT_Odd_BTTS_No']] \n",
        "jogos_do_dia.dropna(inplace=True)\n",
        "jogos_do_dia.reset_index(inplace=True, drop=True)\n",
        "jogos_do_dia.index = jogos_do_dia.index.set_names(['Nº'])\n",
        "Jogos_do_Dia = jogos_do_dia.rename(index=lambda x: x + 1)\n",
        "Jogos_do_Dia"
      ]
    },
    {
      "cell_type": "code",
      "execution_count": null,
      "metadata": {},
      "outputs": [],
      "source": [
        "lista=[]\n",
        "\n",
        "for a,b,c,d,e,f,g,h,i,j,k,l in zip(Jogos_do_Dia.League,Jogos_do_Dia.Date,Jogos_do_Dia.Time,Jogos_do_Dia.Home,Jogos_do_Dia.Away,\n",
        "                                   Jogos_do_Dia.FT_Odd_H,Jogos_do_Dia.FT_Odd_D,Jogos_do_Dia.FT_Odd_A,Jogos_do_Dia.FT_Odd_Over25,Jogos_do_Dia.FT_Odd_Under25,\n",
        "                                   Jogos_do_Dia.FT_Odd_BTTS_Yes,Jogos_do_Dia.FT_Odd_BTTS_No):\n",
        "        League = a\n",
        "        Date = b\n",
        "        Time = c\n",
        "        home = d\n",
        "        away = e\n",
        "        FT_Odd_H = f\n",
        "        FT_Odd_D = g\n",
        "        FT_Odd_A = h\n",
        "        FT_Odd_Over15 = i\n",
        "        FT_Odd_Under15 = j\n",
        "        FT_Odd_BTTS_Yes = k\n",
        "        FT_Odd_BTTS_No = l\n",
        "\n",
        "        dfh = base_H[base_H.Home == home].tail(1)\n",
        "        \n",
        "        dfa = base_A[base_A.Away == away].tail(1)\n",
        "\n",
        "        jogo = {}\n",
        "\n",
        "        jogo[\"League\"] = League \n",
        "        jogo[\"Date\"] = Date\n",
        "        jogo[\"Time\"] = Time\n",
        "        jogo[\"Home\"] = home\n",
        "        jogo[\"Away\"] = away\n",
        "        jogo[\"FT_Odd_H\"] = FT_Odd_H\n",
        "        jogo[\"FT_Odd_D\"] = FT_Odd_D\n",
        "        jogo[\"FT_Odd_A\"] = FT_Odd_A\n",
        "        jogo[\"FT_Odd_Over25\"] = FT_Odd_Over15\n",
        "        jogo[\"FT_Odd_Under25\"] = FT_Odd_Under15\n",
        "        jogo[\"FT_Odd_BTTS_Yes\"] = FT_Odd_BTTS_Yes\n",
        "        jogo[\"FT_Odd_BTTS_No\"] = FT_Odd_BTTS_No\n",
        "\n",
        "        try:\n",
        "            # jogo['Media_Gols_Feitos_Home_FT'] = 0\n",
        "            # jogo['Media_Gols_Feitos_Away_FT'] = 0\n",
        "            # jogo['Media_Gols_Sofridos_Away_FT'] = 0\n",
        "\n",
        "            jogo['Media_Gols_Feitos_Home_FT'] = dfh[dfh.Home == home]['Media_Gols_Feitos_Home'].iloc[0]\n",
        "            jogo['Media_Gols_Feitos_Away_FT'] = dfh[dfh.Home == home]['Media_Gols_Feitos_Away'].iloc[0]\n",
        "            jogo['Media_Gols_Sofridos_Away_FT'] = dfh[dfh.Home == home]['Media_Gols_Sofridos_Away'].iloc[0]\n",
        "\n",
        "            jogo['Media_Gols_Feitos_Home_FT'] = dfa[dfa.Away == away]['Media_Gols_Feitos_Home'].iloc[0]\n",
        "            jogo['Media_Gols_Feitos_Away_FT'] = dfa[dfa.Away == away]['Media_Gols_Feitos_Away'].iloc[0]\n",
        "            jogo['Media_Gols_Sofridos_Away_FT'] = dfa[dfa.Away == away]['Media_Gols_Sofridos_Away'].iloc[0]\n",
        "\n",
        "\n",
        "            #jogo['Media_Gols_Feitos_Home_HT'] = df2[df2.Away == away]['Media_Gols_Feitos_Home_HT'].iloc[0]\n",
        "            #jogo['Media_Gols_Sofridos_Home_FT'] = df2[df2.Away == away]['Media_Gols_Sofridos_Home_FT'].iloc[0]\n",
        "                        \n",
        "        except:\n",
        "            pass\n",
        "        \n",
        "        lista.append(jogo)\n",
        "\n",
        "\n",
        "df = pd.DataFrame(lista)\n",
        "#df.reset_index(inplace=True, drop=True)\n",
        "df.index = df.index.set_names(['Nº'])\n",
        "df = df.rename(index=lambda x: x + 1)\n",
        "df.to_excel(f'teste_entrada_FTOver25_.xlsx', index=None)\n",
        "\n"
      ]
    },
    {
      "cell_type": "code",
      "execution_count": null,
      "metadata": {},
      "outputs": [
        {
          "ename": "AttributeError",
          "evalue": "'DataFrame' object has no attribute 'Media_Gols_Feitos_Home_FT'",
          "output_type": "error",
          "traceback": [
            "\u001b[1;31m---------------------------------------------------------------------------\u001b[0m",
            "\u001b[1;31mAttributeError\u001b[0m                            Traceback (most recent call last)",
            "Cell \u001b[1;32mIn[19], line 3\u001b[0m\n\u001b[0;32m      1\u001b[0m flt2 \u001b[39m=\u001b[39m ((df\u001b[39m.\u001b[39mFT_Odd_H \u001b[39m>\u001b[39m\u001b[39m=\u001b[39m \u001b[39m2.06\u001b[39m) \u001b[39m&\u001b[39m\n\u001b[0;32m      2\u001b[0m         (df\u001b[39m.\u001b[39mFT_Odd_H \u001b[39m<\u001b[39m\u001b[39m=\u001b[39m \u001b[39m4.06\u001b[39m) \u001b[39m&\u001b[39m\n\u001b[1;32m----> 3\u001b[0m         (df\u001b[39m.\u001b[39;49mMedia_Gols_Feitos_Home_FT \u001b[39m>\u001b[39m\u001b[39m=\u001b[39m \u001b[39m0.5\u001b[39m) \u001b[39m&\u001b[39m\n\u001b[0;32m      4\u001b[0m         (df\u001b[39m.\u001b[39mMedia_Gols_Feitos_Home_FT \u001b[39m<\u001b[39m\u001b[39m=\u001b[39m \u001b[39m1.5\u001b[39m) \u001b[39m&\u001b[39m\n\u001b[0;32m      5\u001b[0m         (df\u001b[39m.\u001b[39mMedia_Gols_Feitos_Away_FT \u001b[39m>\u001b[39m\u001b[39m=\u001b[39m \u001b[39m1\u001b[39m) \u001b[39m&\u001b[39m\n\u001b[0;32m      6\u001b[0m         (df\u001b[39m.\u001b[39mMedia_Gols_Sofridos_Away_FT \u001b[39m>\u001b[39m\u001b[39m=\u001b[39m \u001b[39m1\u001b[39m) \u001b[39m&\u001b[39m\n\u001b[0;32m      7\u001b[0m         (df\u001b[39m.\u001b[39mMedia_Gols_Sofridos_Away_FT \u001b[39m<\u001b[39m\u001b[39m=\u001b[39m \u001b[39m2\u001b[39m))\n\u001b[0;32m      9\u001b[0m Over25FT \u001b[39m=\u001b[39m df[flt2]\n\u001b[0;32m     11\u001b[0m Over25FT \u001b[39m=\u001b[39m Over25FT[[\u001b[39m'\u001b[39m\u001b[39mDate\u001b[39m\u001b[39m'\u001b[39m,\u001b[39m'\u001b[39m\u001b[39mTime\u001b[39m\u001b[39m'\u001b[39m,\u001b[39m'\u001b[39m\u001b[39mLeague\u001b[39m\u001b[39m'\u001b[39m,\u001b[39m'\u001b[39m\u001b[39mHome\u001b[39m\u001b[39m'\u001b[39m,\u001b[39m'\u001b[39m\u001b[39mAway\u001b[39m\u001b[39m'\u001b[39m,\u001b[39m'\u001b[39m\u001b[39mFT_Odd_H\u001b[39m\u001b[39m'\u001b[39m,\u001b[39m'\u001b[39m\u001b[39mFT_Odd_D\u001b[39m\u001b[39m'\u001b[39m,\u001b[39m'\u001b[39m\u001b[39mFT_Odd_A\u001b[39m\u001b[39m'\u001b[39m,\u001b[39m'\u001b[39m\u001b[39mFT_Odd_Over25\u001b[39m\u001b[39m'\u001b[39m]]\n",
            "File \u001b[1;32mc:\\Users\\Bill\\AppData\\Local\\Programs\\Python\\Python310\\lib\\site-packages\\pandas\\core\\generic.py:5575\u001b[0m, in \u001b[0;36mNDFrame.__getattr__\u001b[1;34m(self, name)\u001b[0m\n\u001b[0;32m   5568\u001b[0m \u001b[39mif\u001b[39;00m (\n\u001b[0;32m   5569\u001b[0m     name \u001b[39mnot\u001b[39;00m \u001b[39min\u001b[39;00m \u001b[39mself\u001b[39m\u001b[39m.\u001b[39m_internal_names_set\n\u001b[0;32m   5570\u001b[0m     \u001b[39mand\u001b[39;00m name \u001b[39mnot\u001b[39;00m \u001b[39min\u001b[39;00m \u001b[39mself\u001b[39m\u001b[39m.\u001b[39m_metadata\n\u001b[0;32m   5571\u001b[0m     \u001b[39mand\u001b[39;00m name \u001b[39mnot\u001b[39;00m \u001b[39min\u001b[39;00m \u001b[39mself\u001b[39m\u001b[39m.\u001b[39m_accessors\n\u001b[0;32m   5572\u001b[0m     \u001b[39mand\u001b[39;00m \u001b[39mself\u001b[39m\u001b[39m.\u001b[39m_info_axis\u001b[39m.\u001b[39m_can_hold_identifiers_and_holds_name(name)\n\u001b[0;32m   5573\u001b[0m ):\n\u001b[0;32m   5574\u001b[0m     \u001b[39mreturn\u001b[39;00m \u001b[39mself\u001b[39m[name]\n\u001b[1;32m-> 5575\u001b[0m \u001b[39mreturn\u001b[39;00m \u001b[39mobject\u001b[39;49m\u001b[39m.\u001b[39;49m\u001b[39m__getattribute__\u001b[39;49m(\u001b[39mself\u001b[39;49m, name)\n",
            "\u001b[1;31mAttributeError\u001b[0m: 'DataFrame' object has no attribute 'Media_Gols_Feitos_Home_FT'"
          ]
        }
      ],
      "source": [
        "flt2 = ((df.FT_Odd_H >= 2.06) &\n",
        "        (df.FT_Odd_H <= 4.06) &\n",
        "        (df.Media_Gols_Feitos_Home_FT >= 0.5) &\n",
        "        (df.Media_Gols_Feitos_Home_FT <= 1.5) &\n",
        "        (df.Media_Gols_Feitos_Away_FT >= 1) &\n",
        "        (df.Media_Gols_Sofridos_Away_FT >= 1) &\n",
        "        (df.Media_Gols_Sofridos_Away_FT <= 2))\n",
        "\n",
        "Over25FT = df[flt2]\n",
        "\n",
        "Over25FT = Over25FT[['Date','Time','League','Home','Away','FT_Odd_H','FT_Odd_D','FT_Odd_A','FT_Odd_Over25']]\n",
        "Over25FT = drop_reset_index(Over25FT)\n",
        "\n",
        "\n",
        "from datetime import date, datetime, timedelta\n",
        "data = datetime.today() + timedelta(1)\n",
        "amanha = data.strftime('%Y-%m-%d')\n",
        "Over25FT.to_excel(f'Entradas Over25ft\\\\{amanha}_entrada_FTOver25_.xlsx', index=None)\n",
        "Over25FT\n"
      ]
    }
  ],
  "metadata": {
    "colab": {
      "collapsed_sections": [
        "qYXQ9oL886j2",
        "sHwRHe5YcHYn",
        "av-QJGpNqLpD",
        "Vrpk5_jbQEDu",
        "tLMkHOTYqjWv",
        "ftB2NBJ-PlDp"
      ],
      "private_outputs": true,
      "provenance": []
    },
    "kernelspec": {
      "display_name": "Python 3",
      "language": "python",
      "name": "python3"
    },
    "language_info": {
      "codemirror_mode": {
        "name": "ipython",
        "version": 3
      },
      "file_extension": ".py",
      "mimetype": "text/x-python",
      "name": "python",
      "nbconvert_exporter": "python",
      "pygments_lexer": "ipython3",
      "version": "3.10.1"
    },
    "vscode": {
      "interpreter": {
        "hash": "969865d4a30e44c97746a39a713a7b997c8febb92cc2710085e7e1537f124735"
      }
    }
  },
  "nbformat": 4,
  "nbformat_minor": 0
}
