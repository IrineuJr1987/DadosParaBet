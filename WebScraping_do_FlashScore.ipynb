{
  "cells": [
    {
      "cell_type": "code",
      "execution_count": 1,
      "metadata": {
        "id": "Il4jpanbyALF"
      },
      "outputs": [],
      "source": [
        "import pandas as pd\n",
        "import numpy as np\n",
        "\n",
        "import warnings\n",
        "warnings.filterwarnings('ignore')\n",
        "\n",
        "def dia():\n",
        "    from datetime import date, timedelta\n",
        "    dia = date.today() + timedelta(0)\n",
        "    return dia\n",
        "\n",
        "def drop_reset_index(df):\n",
        "    df = df.dropna()\n",
        "    df = df.reset_index(drop=True)\n",
        "    df.index += 1\n",
        "    return df\n",
        "    \n",
        "def grafico(df, nome):\n",
        "    df = df.reset_index(drop=True)\n",
        "    df.index += 1\n",
        "    df['Profit_acu'] = df.Profit.cumsum()\n",
        "    profit = round(df.Profit_acu.tail(1).item(),2)\n",
        "    ROI = round((df.Profit_acu.tail(1)/len(df)*100).item(),2)\n",
        "    df.Profit_acu.plot(title=nome, xlabel='Entradas', ylabel='Stakes')\n",
        "    print(\"Profit:\",profit,\"stakes em\", len(df),\"jogos\")\n",
        "    print(\"ROI:\",ROI,\"%\")"
      ]
    },
    {
      "attachments": {},
      "cell_type": "markdown",
      "metadata": {
        "id": "LPftcTqaYDN7"
      },
      "source": [
        "## Instalando as Dependências do Ubuntu"
      ]
    },
    {
      "cell_type": "code",
      "execution_count": 2,
      "metadata": {
        "colab": {
          "base_uri": "https://localhost:8080/"
        },
        "id": "gxE6n0dHk_cg",
        "outputId": "5b5b3173-8a5f-4846-c3bf-8ea3f2b2701b"
      },
      "outputs": [],
      "source": [
        "# %%shell\n",
        "# # Ubuntu no longer distributes chromium-browser outside of snap\n",
        "# #\n",
        "# # Proposed solution: https://askubuntu.com/questions/1204571/how-to-install-chromium-without-snap\n",
        "\n",
        "# # Add debian buster\n",
        "# cat > /etc/apt/sources.list.d/debian.list <<'EOF'\n",
        "# deb [arch=amd64 signed-by=/usr/share/keyrings/debian-buster.gpg] http://deb.debian.org/debian buster main\n",
        "# deb [arch=amd64 signed-by=/usr/share/keyrings/debian-buster-updates.gpg] http://deb.debian.org/debian buster-updates main\n",
        "# deb [arch=amd64 signed-by=/usr/share/keyrings/debian-security-buster.gpg] http://deb.debian.org/debian-security buster/updates main\n",
        "# EOF\n",
        "\n",
        "# # Add keys\n",
        "# apt-key adv --keyserver keyserver.ubuntu.com --recv-keys DCC9EFBF77E11517\n",
        "# apt-key adv --keyserver keyserver.ubuntu.com --recv-keys 648ACFD622F3D138\n",
        "# apt-key adv --keyserver keyserver.ubuntu.com --recv-keys 112695A0E562B32A\n",
        "\n",
        "# apt-key export 77E11517 | gpg --dearmour -o /usr/share/keyrings/debian-buster.gpg\n",
        "# apt-key export 22F3D138 | gpg --dearmour -o /usr/share/keyrings/debian-buster-updates.gpg\n",
        "# apt-key export E562B32A | gpg --dearmour -o /usr/share/keyrings/debian-security-buster.gpg\n",
        "\n",
        "# # Prefer debian repo for chromium* packages only\n",
        "# # Note the double-blank lines between entries\n",
        "# cat > /etc/apt/preferences.d/chromium.pref << 'EOF'\n",
        "# Package: *\n",
        "# Pin: release a=eoan\n",
        "# Pin-Priority: 500\n",
        "\n",
        "# Package: *\n",
        "# Pin: origin \"deb.debian.org\"\n",
        "# Pin-Priority: 300\n",
        "\n",
        "# Package: chromium*\n",
        "# Pin: origin \"deb.debian.org\"\n",
        "# Pin-Priority: 700\n",
        "# EOF\n",
        "\n",
        "# # Install chromium and chromium-driver\n",
        "# apt-get update\n",
        "# apt-get install chromium chromium-driver\n",
        "\n",
        "# # Install selenium\n",
        "# pip install selenium"
      ]
    },
    {
      "attachments": {},
      "cell_type": "markdown",
      "metadata": {
        "id": "SxNjCaz_ZDBZ"
      },
      "source": [
        "## Configuração do Web-Driver"
      ]
    },
    {
      "cell_type": "code",
      "execution_count": 3,
      "metadata": {
        "id": "fnFWgpcBh-nV"
      },
      "outputs": [],
      "source": [
        "import time\n",
        "from tqdm import tqdm\n",
        "from selenium import webdriver\n",
        "from selenium.webdriver.chrome.options import Options\n",
        "from selenium.webdriver.common.by import By\n",
        "\n",
        "options = Options()\n",
        "options.add_argument(\"--headless\")\n",
        "options.add_argument(\"--no-sandbox\")\n",
        "options.headless = True\n",
        "\n",
        "from selenium.webdriver.chrome.service import Service\n",
        "wd_Chrome = webdriver.Chrome(\"/usr/bin/chromedriver\", options=options)"
      ]
    },
    {
      "attachments": {},
      "cell_type": "markdown",
      "metadata": {
        "id": "FlNkojcdZybT"
      },
      "source": [
        "## Iniciando a Raspagem de Dados"
      ]
    },
    {
      "cell_type": "code",
      "execution_count": 4,
      "metadata": {
        "id": "eX6re9bjViBI"
      },
      "outputs": [],
      "source": [
        "# Com o WebDrive a gente consegue a pedir a página (URL)\n",
        "wd_Chrome.get(\"https://www.flashscore.com/\")"
      ]
    },
    {
      "cell_type": "code",
      "execution_count": 5,
      "metadata": {
        "id": "wL3Nnue6Vt5T"
      },
      "outputs": [],
      "source": [
        "# Fechando Botão de Cookies\n",
        "try:\n",
        "    button_cookies = wd_Chrome.find_element(By.CSS_SELECTOR,'button#onetrust-accept-btn-handler')\n",
        "    button_cookies.click()\n",
        "except:\n",
        "    pass\n",
        "\n",
        "# Selecionando o Dia de Amanhã\n",
        "wd_Chrome.find_element(By.CSS_SELECTOR,'button.calendar__navigation--tomorrow').click()\n",
        "time.sleep(3)\n",
        "\n",
        "# Pegando o ID dos Jogos\n",
        "id_jogos = []\n",
        "jogos = wd_Chrome.find_elements(By.CSS_SELECTOR,'div.event__match--scheduled')\n",
        "\n",
        "for i in jogos:\n",
        "    id_jogos.append(i.get_attribute(\"id\"))\n",
        "\n",
        "# Exemplo de ID de um jogo: 'g_1_Gb7buXVt'    \n",
        "id_jogos = [i[4:] for i in id_jogos]\n",
        "\n",
        "jogo = {'Date':[],'Time':[],'Country':[],'League':[],'Home':[],'Away':[],'Odd_H':[],'Odd_D':[],'Odd_A':[],'Odd_Over15':[],'Odd_Under15':[],'Odd_Over25':[],'Odd_Under25':[],'Odd_BTTS_Yes':[],'Odd_BTTS_No':[]}"
      ]
    },
    {
      "cell_type": "code",
      "execution_count": 6,
      "metadata": {
        "colab": {
          "base_uri": "https://localhost:8080/"
        },
        "id": "pfPc-OYBak9y",
        "outputId": "615af628-9ed6-4ec3-c72b-1696af141c5c"
      },
      "outputs": [
        {
          "name": "stderr",
          "output_type": "stream",
          "text": [
            "  0%|          | 0/54 [00:00<?, ?it/s]"
          ]
        },
        {
          "name": "stderr",
          "output_type": "stream",
          "text": [
            "  2%|▏         | 1/54 [00:10<09:15, 10.47s/it]"
          ]
        },
        {
          "name": "stdout",
          "output_type": "stream",
          "text": [
            "19.06.2023 13:00 EUROPE EURO - QUALIFICATION - ROUND 4 Armenia Latvia 1.75 4.0 4.5 1.28 3.75 1.83 2.0 1.75 2.05\n"
          ]
        },
        {
          "name": "stderr",
          "output_type": "stream",
          "text": [
            "  4%|▎         | 2/54 [00:20<08:44, 10.10s/it]"
          ]
        },
        {
          "name": "stdout",
          "output_type": "stream",
          "text": [
            "19.06.2023 13:00 EUROPE EURO - QUALIFICATION - ROUND 4 Finland San Marino 1.02 21.0 126.0 1.04 11.0 1.19 4.75 4.0 1.24\n"
          ]
        },
        {
          "name": "stderr",
          "output_type": "stream",
          "text": [
            "  6%|▌         | 3/54 [00:28<07:57,  9.36s/it]"
          ]
        },
        {
          "name": "stdout",
          "output_type": "stream",
          "text": [
            "19.06.2023 13:00 EUROPE EURO - QUALIFICATION - ROUND 4 Ukraine Malta 1.09 8.5 21.0 1.1 7.0 1.36 3.0 2.25 1.63\n"
          ]
        },
        {
          "name": "stderr",
          "output_type": "stream",
          "text": [
            "  7%|▋         | 4/54 [00:37<07:36,  9.14s/it]"
          ]
        },
        {
          "name": "stdout",
          "output_type": "stream",
          "text": [
            "19.06.2023 15:45 EUROPE EURO - QUALIFICATION - ROUND 4 Belarus Kosovo 5.5 3.75 1.7 1.4 2.95 2.25 1.66 2.15 1.7\n"
          ]
        },
        {
          "name": "stderr",
          "output_type": "stream",
          "text": [
            "  9%|▉         | 5/54 [00:46<07:21,  9.02s/it]"
          ]
        },
        {
          "name": "stdout",
          "output_type": "stream",
          "text": [
            "19.06.2023 15:45 EUROPE EURO - QUALIFICATION - ROUND 4 England North Macedonia 1.11 9.5 29.0 1.13 6.0 1.44 2.8 2.6 1.48\n"
          ]
        },
        {
          "name": "stderr",
          "output_type": "stream",
          "text": [
            " 11%|█         | 6/54 [00:54<07:03,  8.82s/it]"
          ]
        },
        {
          "name": "stdout",
          "output_type": "stream",
          "text": [
            "19.06.2023 15:45 EUROPE EURO - QUALIFICATION - ROUND 4 France Greece 1.26 6.0 13.0 1.18 5.0 1.58 2.4 2.05 1.75\n"
          ]
        },
        {
          "name": "stderr",
          "output_type": "stream",
          "text": [
            " 13%|█▎        | 7/54 [01:03<06:49,  8.71s/it]"
          ]
        },
        {
          "name": "stdout",
          "output_type": "stream",
          "text": [
            "19.06.2023 15:45 EUROPE EURO - QUALIFICATION - ROUND 4 Ireland Gibraltar 25.0 65.0 51.0 1.06 9.5 1.24 4.2 4.33 1.2\n"
          ]
        },
        {
          "name": "stderr",
          "output_type": "stream",
          "text": [
            " 15%|█▍        | 8/54 [01:11<06:40,  8.70s/it]"
          ]
        },
        {
          "name": "stdout",
          "output_type": "stream",
          "text": [
            "19.06.2023 15:45 EUROPE EURO - QUALIFICATION - ROUND 4 Israel Andorra 1.12 9.5 26.0 1.13 6.0 1.44 2.85 2.45 1.53\n"
          ]
        },
        {
          "name": "stderr",
          "output_type": "stream",
          "text": [
            " 17%|█▋        | 9/54 [01:20<06:28,  8.64s/it]"
          ]
        },
        {
          "name": "stdout",
          "output_type": "stream",
          "text": [
            "19.06.2023 15:45 EUROPE EURO - QUALIFICATION - ROUND 4 Northern Ireland Kazakhstan 1.63 3.75 6.5 1.4 2.95 2.25 1.66 2.2 1.65\n"
          ]
        },
        {
          "name": "stderr",
          "output_type": "stream",
          "text": [
            " 19%|█▊        | 10/54 [01:29<06:27,  8.80s/it]"
          ]
        },
        {
          "name": "stdout",
          "output_type": "stream",
          "text": [
            "19.06.2023 15:45 EUROPE EURO - QUALIFICATION - ROUND 4 Slovenia Denmark 4.33 3.6 1.88 1.4 3.0 2.15 1.7 2.0 1.8\n"
          ]
        },
        {
          "name": "stderr",
          "output_type": "stream",
          "text": [
            " 20%|██        | 11/54 [01:38<06:15,  8.74s/it]"
          ]
        },
        {
          "name": "stdout",
          "output_type": "stream",
          "text": [
            "19.06.2023 15:45 EUROPE EURO - QUALIFICATION - ROUND 4 Switzerland Romania 1.4 4.75 9.0 1.3 3.6 1.9 1.9 2.2 1.66\n"
          ]
        },
        {
          "name": "stderr",
          "output_type": "stream",
          "text": [
            " 22%|██▏       | 12/54 [01:46<06:04,  8.68s/it]"
          ]
        },
        {
          "name": "stdout",
          "output_type": "stream",
          "text": [
            "19.06.2023 15:45 EUROPE EURO - QUALIFICATION - ROUND 4 Turkey Wales 1.88 3.5 4.5 1.4 3.0 2.25 1.66 2.0 1.78\n"
          ]
        },
        {
          "name": "stderr",
          "output_type": "stream",
          "text": [
            " 24%|██▍       | 13/54 [01:53<05:35,  8.19s/it]"
          ]
        },
        {
          "name": "stdout",
          "output_type": "stream",
          "text": [
            "19.06.2023 12:00 EUROPE EURO U21 - QUALIFICATION Gibraltar U21 Sweden U21 29.0 17.0 1.03 1.4 3.0 1.1 7.0 1.1 7.0\n"
          ]
        },
        {
          "name": "stderr",
          "output_type": "stream",
          "text": [
            " 26%|██▌       | 14/54 [02:02<05:34,  8.37s/it]"
          ]
        },
        {
          "name": "stdout",
          "output_type": "stream",
          "text": [
            "19.06.2023 15:00 ARGENTINA PRIMERA NACIONAL - ROUND 21 Almirante Brown Almagro 2.1 3.0 3.75 1.6 2.25 2.8 1.4 2.35 1.55\n"
          ]
        },
        {
          "name": "stderr",
          "output_type": "stream",
          "text": [
            " 28%|██▊       | 15/54 [02:11<05:29,  8.45s/it]"
          ]
        },
        {
          "name": "stdout",
          "output_type": "stream",
          "text": [
            "19.06.2023 15:00 ARGENTINA PRIMERA NACIONAL - ROUND 18 Atletico Atlanta CA Estudiantes 2.3 2.95 3.25 1.62 2.2 2.9 1.38 2.3 1.57\n"
          ]
        },
        {
          "name": "stderr",
          "output_type": "stream",
          "text": [
            " 30%|██▉       | 16/54 [02:20<05:24,  8.54s/it]"
          ]
        },
        {
          "name": "stdout",
          "output_type": "stream",
          "text": [
            "19.06.2023 15:00 ARGENTINA PRIMERA NACIONAL - ROUND 18 Dep. Riestra Quilmes 2.05 3.2 3.6 1.45 2.6 2.4 1.53 2.05 1.72\n"
          ]
        },
        {
          "name": "stderr",
          "output_type": "stream",
          "text": [
            " 31%|███▏      | 17/54 [02:28<05:17,  8.59s/it]"
          ]
        },
        {
          "name": "stdout",
          "output_type": "stream",
          "text": [
            "19.06.2023 16:30 ARGENTINA PRIMERA NACIONAL - ROUND 18 Chaco For Ever Deportivo Maipu 2.55 2.9 2.9 1.57 2.3 2.75 1.42 2.2 1.62\n"
          ]
        },
        {
          "name": "stderr",
          "output_type": "stream",
          "text": [
            " 33%|███▎      | 18/54 [02:36<05:04,  8.45s/it]"
          ]
        },
        {
          "name": "stdout",
          "output_type": "stream",
          "text": [
            "19.06.2023 19:00 ARGENTINA PRIMERA NACIONAL - ROUND 18 Racing Cordoba Brown Adrogue 1.95 3.1 4.0 1.55 2.35 2.65 1.44 2.3 1.57\n"
          ]
        },
        {
          "name": "stderr",
          "output_type": "stream",
          "text": [
            " 35%|███▌      | 19/54 [02:45<04:54,  8.41s/it]"
          ]
        },
        {
          "name": "stdout",
          "output_type": "stream",
          "text": [
            "19.06.2023 17:05 ARGENTINA COPA ARGENTINA - 1/32-FINALS Banfield Argentino de Merlo 1.36 4.5 8.5 1.25 3.75 1.8 1.95 2.1 1.68\n"
          ]
        },
        {
          "name": "stderr",
          "output_type": "stream",
          "text": [
            " 37%|███▋      | 20/54 [02:51<04:29,  7.94s/it]"
          ]
        },
        {
          "name": "stdout",
          "output_type": "stream",
          "text": [
            "19.06.2023 07:00 ASIA AFC CHAMPIONSHIP U17 China U17 Australia U17 1.36 4.5 8.5 1.25 3.75 1.8 1.95 2.1 1.68\n"
          ]
        },
        {
          "name": "stderr",
          "output_type": "stream",
          "text": [
            " 39%|███▉      | 21/54 [02:58<04:10,  7.59s/it]"
          ]
        },
        {
          "name": "stdout",
          "output_type": "stream",
          "text": [
            "19.06.2023 09:00 ASIA AFC CHAMPIONSHIP U17 Afghanistan U17 South Korea U17 1.36 4.5 8.5 1.25 3.75 1.8 1.95 2.1 1.68\n"
          ]
        },
        {
          "name": "stderr",
          "output_type": "stream",
          "text": [
            " 41%|████      | 22/54 [03:05<03:53,  7.30s/it]"
          ]
        },
        {
          "name": "stdout",
          "output_type": "stream",
          "text": [
            "19.06.2023 11:00 ASIA AFC CHAMPIONSHIP U17 Qatar U17 Iran U17 1.36 4.5 8.5 1.25 3.75 1.8 1.95 2.1 1.68\n"
          ]
        },
        {
          "name": "stderr",
          "output_type": "stream",
          "text": [
            " 43%|████▎     | 23/54 [03:12<03:42,  7.16s/it]"
          ]
        },
        {
          "name": "stdout",
          "output_type": "stream",
          "text": [
            "19.06.2023 11:00 ASIA AFC CHAMPIONSHIP U17 Saudi Arabia U17 Tajikistan U17 1.36 4.5 8.5 1.25 3.75 1.8 1.95 2.1 1.68\n"
          ]
        },
        {
          "name": "stderr",
          "output_type": "stream",
          "text": [
            " 44%|████▍     | 24/54 [03:20<03:41,  7.37s/it]"
          ]
        },
        {
          "name": "stdout",
          "output_type": "stream",
          "text": [
            "19.06.2023 20:00 BRAZIL BRASILEIRO WOMEN - PLAY OFFS - QUARTER-FINALS Cruzeiro W Corinthians W 7.5 4.75 1.3 1.11 5.5 1.45 2.55 1.65 2.1\n"
          ]
        },
        {
          "name": "stderr",
          "output_type": "stream",
          "text": [
            " 46%|████▋     | 25/54 [03:28<03:42,  7.68s/it]"
          ]
        },
        {
          "name": "stdout",
          "output_type": "stream",
          "text": [
            "19.06.2023 21:00 ECUADOR LIGA PRO - FIRST STAGE - ROUND 15 Tecnico U. Delfin 1.83 3.3 4.33 1.44 2.65 2.35 1.55 2.1 1.68\n"
          ]
        },
        {
          "name": "stderr",
          "output_type": "stream",
          "text": [
            " 48%|████▊     | 26/54 [03:35<03:27,  7.41s/it]"
          ]
        },
        {
          "name": "stdout",
          "output_type": "stream",
          "text": [
            "19.06.2023 13:15 MALI PREMIERE DIVISION - ROUND 25 Korofina Black Stars 1.83 3.3 4.33 1.44 2.65 2.35 1.55 2.1 1.68\n"
          ]
        },
        {
          "name": "stderr",
          "output_type": "stream",
          "text": [
            " 50%|█████     | 27/54 [03:42<03:21,  7.46s/it]"
          ]
        },
        {
          "name": "stdout",
          "output_type": "stream",
          "text": [
            "19.06.2023 13:15 MALI PREMIERE DIVISION - ROUND 25 LC Bamako Djoliba 4.45 2.9 1.88 1.62 2.02 2.93 1.33 2.54 1.49\n"
          ]
        },
        {
          "name": "stderr",
          "output_type": "stream",
          "text": [
            " 52%|█████▏    | 28/54 [03:50<03:12,  7.42s/it]"
          ]
        },
        {
          "name": "stdout",
          "output_type": "stream",
          "text": [
            "19.06.2023 13:15 MALI PREMIERE DIVISION - ROUND 25 Stade Malien Onze Createurs 3.35 2.57 2.42 1.75 1.87 3.28 1.27 2.51 1.5\n"
          ]
        },
        {
          "name": "stderr",
          "output_type": "stream",
          "text": [
            " 54%|█████▎    | 29/54 [03:57<03:01,  7.24s/it]"
          ]
        },
        {
          "name": "stdout",
          "output_type": "stream",
          "text": [
            "19.06.2023 12:30 NIGER LIGUE 1 - ROUND 23 ASFAN Liberte 3.35 2.57 2.42 1.75 1.87 3.28 1.27 2.51 1.5\n"
          ]
        },
        {
          "name": "stderr",
          "output_type": "stream",
          "text": [
            " 56%|█████▌    | 30/54 [04:03<02:51,  7.16s/it]"
          ]
        },
        {
          "name": "stdout",
          "output_type": "stream",
          "text": [
            "19.06.2023 12:30 NIGER LIGUE 1 - ROUND 23 Sahel Tahoua 3.35 2.57 2.42 1.75 1.87 3.28 1.27 2.51 1.5\n"
          ]
        },
        {
          "name": "stderr",
          "output_type": "stream",
          "text": [
            " 57%|█████▋    | 31/54 [04:12<02:50,  7.43s/it]"
          ]
        },
        {
          "name": "stdout",
          "output_type": "stream",
          "text": [
            "19.06.2023 14:00 SENEGAL LIGUE 1 - ROUND 22 Dakar SC Sonacos 1.98 2.77 4.3 1.7 1.93 2.32 1.47 2.6 1.47\n"
          ]
        },
        {
          "name": "stderr",
          "output_type": "stream",
          "text": [
            " 59%|█████▉    | 32/54 [04:19<02:44,  7.50s/it]"
          ]
        },
        {
          "name": "stdout",
          "output_type": "stream",
          "text": [
            "19.06.2023 13:00 SWEDEN ALLSVENSKAN WOMEN - ROUND 14 Rosengard W Uppsala W 1.07 8.5 18.0 1.06 7.5 1.29 3.3 2.1 1.65\n"
          ]
        },
        {
          "name": "stderr",
          "output_type": "stream",
          "text": [
            " 61%|██████    | 33/54 [04:27<02:38,  7.54s/it]"
          ]
        },
        {
          "name": "stdout",
          "output_type": "stream",
          "text": [
            "19.06.2023 14:00 SWEDEN ALLSVENSKAN WOMEN - ROUND 14 Hammarby W Orebro W 1.08 8.5 14.0 1.08 6.5 1.4 2.75 2.25 1.57\n"
          ]
        },
        {
          "name": "stderr",
          "output_type": "stream",
          "text": [
            " 63%|██████▎   | 34/54 [04:35<02:32,  7.64s/it]"
          ]
        },
        {
          "name": "stdout",
          "output_type": "stream",
          "text": [
            "19.06.2023 14:00 SWEDEN ALLSVENSKAN WOMEN - ROUND 14 IF Brommapojkarna W Vittsjo W 7.5 4.75 1.3 1.2 4.0 1.73 2.0 1.95 1.75\n"
          ]
        },
        {
          "name": "stderr",
          "output_type": "stream",
          "text": [
            " 65%|██████▍   | 35/54 [04:51<03:14, 10.24s/it]"
          ]
        },
        {
          "name": "stdout",
          "output_type": "stream",
          "text": [
            "19.06.2023 14:00 SWEDEN ALLSVENSKAN WOMEN - ROUND 14 Kristianstad W Hacken W 3.25 3.6 1.91 1.2 4.0 1.65 2.1 1.57 2.25\n"
          ]
        },
        {
          "name": "stderr",
          "output_type": "stream",
          "text": [
            " 67%|██████▋   | 36/54 [04:59<02:50,  9.49s/it]"
          ]
        },
        {
          "name": "stdout",
          "output_type": "stream",
          "text": [
            "19.06.2023 14:00 SWEDEN ALLSVENSKAN WOMEN - ROUND 14 Vaxjo DFF W Norrkoping W 2.63 3.4 2.3 1.2 4.0 1.73 2.0 1.57 2.25\n"
          ]
        },
        {
          "name": "stderr",
          "output_type": "stream",
          "text": [
            " 69%|██████▊   | 37/54 [05:06<02:28,  8.75s/it]"
          ]
        },
        {
          "name": "stdout",
          "output_type": "stream",
          "text": [
            "19.06.2023 10:00 TANZANIA LIGI KUU BARA - RELEGATION - FINAL Mashujaa Mbeya City 2.63 3.4 2.3 1.2 4.0 1.73 2.0 1.57 2.25\n"
          ]
        },
        {
          "name": "stderr",
          "output_type": "stream",
          "text": [
            " 70%|███████   | 38/54 [05:13<02:10,  8.17s/it]"
          ]
        },
        {
          "name": "stdout",
          "output_type": "stream",
          "text": [
            "19.06.2023 05:00 WORLD FRIENDLY INTERNATIONAL Bulgaria U17 Austria U16 2.63 3.4 2.3 1.2 4.0 1.73 2.0 1.57 2.25\n"
          ]
        },
        {
          "name": "stderr",
          "output_type": "stream",
          "text": [
            " 72%|███████▏  | 39/54 [05:19<01:55,  7.71s/it]"
          ]
        },
        {
          "name": "stdout",
          "output_type": "stream",
          "text": [
            "19.06.2023 06:30 WORLD FRIENDLY INTERNATIONAL China U22 Uzbekistan U23 2.63 3.4 2.3 1.2 4.0 1.73 2.0 1.57 2.25\n"
          ]
        },
        {
          "name": "stderr",
          "output_type": "stream",
          "text": [
            " 74%|███████▍  | 40/54 [05:26<01:44,  7.48s/it]"
          ]
        },
        {
          "name": "stdout",
          "output_type": "stream",
          "text": [
            "19.06.2023 07:00 WORLD FRIENDLY INTERNATIONAL Macau Myanmar 2.63 3.4 2.3 1.2 4.0 1.73 2.0 1.57 2.25\n"
          ]
        },
        {
          "name": "stderr",
          "output_type": "stream",
          "text": [
            " 76%|███████▌  | 41/54 [05:33<01:34,  7.30s/it]"
          ]
        },
        {
          "name": "stdout",
          "output_type": "stream",
          "text": [
            "19.06.2023 07:00 WORLD FRIENDLY INTERNATIONAL Tajikistan U23 Hong Kong U23 2.63 3.4 2.3 1.2 4.0 1.73 2.0 1.57 2.25\n"
          ]
        },
        {
          "name": "stderr",
          "output_type": "stream",
          "text": [
            " 78%|███████▊  | 42/54 [05:40<01:26,  7.17s/it]"
          ]
        },
        {
          "name": "stdout",
          "output_type": "stream",
          "text": [
            "19.06.2023 08:00 WORLD FRIENDLY INTERNATIONAL Philippines Chinese Taipei 2.63 3.4 2.3 1.2 4.0 1.73 2.0 1.57 2.25\n"
          ]
        },
        {
          "name": "stderr",
          "output_type": "stream",
          "text": [
            " 80%|███████▉  | 43/54 [05:47<01:20,  7.28s/it]"
          ]
        },
        {
          "name": "stdout",
          "output_type": "stream",
          "text": [
            "19.06.2023 08:35 WORLD FRIENDLY INTERNATIONAL China U23 South Korea U23 6.1 3.85 1.5 1.25 3.25 1.75 1.87 1.83 1.78\n"
          ]
        },
        {
          "name": "stderr",
          "output_type": "stream",
          "text": [
            " 81%|████████▏ | 44/54 [05:56<01:18,  7.80s/it]"
          ]
        },
        {
          "name": "stdout",
          "output_type": "stream",
          "text": [
            "19.06.2023 09:00 WORLD FRIENDLY INTERNATIONAL Hong Kong Thailand 5.0 4.0 1.6 1.25 3.75 1.75 2.0 1.8 1.95\n"
          ]
        },
        {
          "name": "stderr",
          "output_type": "stream",
          "text": [
            " 83%|████████▎ | 45/54 [06:05<01:12,  8.00s/it]"
          ]
        },
        {
          "name": "stdout",
          "output_type": "stream",
          "text": [
            "19.06.2023 09:00 WORLD FRIENDLY INTERNATIONAL Jamaica Jordan 2.45 3.0 2.88 1.4 2.88 2.3 1.6 1.9 1.87\n"
          ]
        },
        {
          "name": "stderr",
          "output_type": "stream",
          "text": [
            " 85%|████████▌ | 46/54 [06:13<01:05,  8.13s/it]"
          ]
        },
        {
          "name": "stdout",
          "output_type": "stream",
          "text": [
            "19.06.2023 09:30 WORLD FRIENDLY INTERNATIONAL Indonesia Argentina 62.0 19.0 1.02 1.01 15.0 1.15 5.5 1.72 2.05\n"
          ]
        },
        {
          "name": "stderr",
          "output_type": "stream",
          "text": [
            " 87%|████████▋ | 47/54 [06:21<00:54,  7.85s/it]"
          ]
        },
        {
          "name": "stdout",
          "output_type": "stream",
          "text": [
            "19.06.2023 12:00 WORLD FRIENDLY INTERNATIONAL Ireland U21 Kuwait U22 62.0 19.0 1.02 1.01 15.0 1.15 5.5 1.72 2.05\n"
          ]
        },
        {
          "name": "stderr",
          "output_type": "stream",
          "text": [
            " 89%|████████▉ | 48/54 [06:28<00:45,  7.60s/it]"
          ]
        },
        {
          "name": "stdout",
          "output_type": "stream",
          "text": [
            "19.06.2023 12:30 WORLD FRIENDLY INTERNATIONAL Azerbaijan U21 Kyrgyzstan U21 62.0 19.0 1.02 1.01 15.0 1.15 5.5 1.72 2.05\n"
          ]
        },
        {
          "name": "stderr",
          "output_type": "stream",
          "text": [
            " 91%|█████████ | 49/54 [06:36<00:38,  7.72s/it]"
          ]
        },
        {
          "name": "stdout",
          "output_type": "stream",
          "text": [
            "19.06.2023 13:00 WORLD FRIENDLY INTERNATIONAL Qatar New Zealand 2.7 3.0 2.63 1.4 2.88 2.3 1.6 1.9 1.87\n"
          ]
        },
        {
          "name": "stderr",
          "output_type": "stream",
          "text": [
            " 93%|█████████▎| 50/54 [06:43<00:31,  7.76s/it]"
          ]
        },
        {
          "name": "stdout",
          "output_type": "stream",
          "text": [
            "19.06.2023 14:15 WORLD FRIENDLY INTERNATIONAL Hungary U21 Iceland U21 2.2 3.25 3.05 1.39 2.55 2.12 1.57 1.91 1.7\n"
          ]
        },
        {
          "name": "stderr",
          "output_type": "stream",
          "text": [
            " 94%|█████████▍| 51/54 [06:51<00:23,  7.83s/it]"
          ]
        },
        {
          "name": "stdout",
          "output_type": "stream",
          "text": [
            "19.06.2023 15:15 WORLD FRIENDLY INTERNATIONAL Montenegro U21 Poland U21 3.1 3.5 2.1 1.22 4.0 1.72 2.05 1.62 2.2\n"
          ]
        },
        {
          "name": "stderr",
          "output_type": "stream",
          "text": [
            " 96%|█████████▋| 52/54 [06:58<00:15,  7.60s/it]"
          ]
        },
        {
          "name": "stdout",
          "output_type": "stream",
          "text": [
            "19.06.2023 12:30 WORLD CLUB FRIENDLY O. Ljubljana (Slo) Radomlje (Slo) 3.1 3.5 2.1 1.22 4.0 1.72 2.05 1.62 2.2\n"
          ]
        },
        {
          "name": "stderr",
          "output_type": "stream",
          "text": [
            " 98%|█████████▊| 53/54 [07:06<00:07,  7.72s/it]"
          ]
        },
        {
          "name": "stdout",
          "output_type": "stream",
          "text": [
            "19.06.2023 12:30 WORLD CLUB FRIENDLY Rogaska (Slo) Ferencvaros (Hun) 13.0 7.0 1.16 1.07 7.0 1.36 3.0 1.95 1.75\n"
          ]
        },
        {
          "name": "stderr",
          "output_type": "stream",
          "text": [
            "100%|██████████| 54/54 [07:13<00:00,  8.03s/it]"
          ]
        },
        {
          "name": "stdout",
          "output_type": "stream",
          "text": [
            "19.06.2023 06:00 WORLD FRIENDLY INTERNATIONAL WOMEN Poland U23 W Vietnam W 13.0 7.0 1.16 1.07 7.0 1.36 3.0 1.95 1.75\n"
          ]
        },
        {
          "name": "stderr",
          "output_type": "stream",
          "text": [
            "\n"
          ]
        }
      ],
      "source": [
        "# Pegando as Informacoes Básicas do Jogo\n",
        "for link in tqdm(id_jogos, total=len(id_jogos)):\n",
        "    wd_Chrome.get(f'https://www.flashscore.com/match/{link}/#/match-summary')\n",
        "    \n",
        "    try:\n",
        "        Date = wd_Chrome.find_element(By.CSS_SELECTOR,'div.duelParticipant__startTime').text.split(' ')[0]\n",
        "        Time = wd_Chrome.find_element(By.CSS_SELECTOR,'div.duelParticipant__startTime').text.split(' ')[1]\n",
        "        Country = wd_Chrome.find_element(By.CSS_SELECTOR,'span.tournamentHeader__country').text.split(':')[0]\n",
        "        League = wd_Chrome.find_element(By.CSS_SELECTOR,'span.tournamentHeader__country')\n",
        "        League = League.find_element(By.CSS_SELECTOR,'a').text\n",
        "        Home = wd_Chrome.find_element(By.CSS_SELECTOR,'div.duelParticipant__home')\n",
        "        Home = Home.find_element(By.CSS_SELECTOR,'div.participant__participantName').text\n",
        "        Away = wd_Chrome.find_element(By.CSS_SELECTOR,'div.duelParticipant__away')\n",
        "        Away = Away.find_element(By.CSS_SELECTOR,'div.participant__participantName').text\n",
        "    except:\n",
        "        pass\n",
        "\n",
        "# Match Odds\n",
        "    try:\n",
        "        wd_Chrome.get(f'https://www.flashscore.com/match/{link}/#/odds-comparison/1x2-odds/full-time')\n",
        "        time.sleep(2)\n",
        "        \n",
        "        linhas = wd_Chrome.find_elements(By.CSS_SELECTOR,'div.ui-table__row')\n",
        "        \n",
        "        for linha in linhas:\n",
        "                Odd_H = float(linha.find_elements(By.CSS_SELECTOR,'a.oddsCell__odd')[0].text)\n",
        "                Odd_D = float(linha.find_elements(By.CSS_SELECTOR,'a.oddsCell__odd')[1].text) \n",
        "                Odd_A = float(linha.find_elements(By.CSS_SELECTOR,'a.oddsCell__odd')[2].text)\n",
        "    except:\n",
        "        pass\n",
        "\n",
        "# Over e Under 2.5\n",
        "    try:\n",
        "        wd_Chrome.get(f'https://www.flashscore.com/match/{link}/#/odds-comparison/over-under/full-time')\n",
        "        time.sleep(2)\n",
        "        \n",
        "        linhas_over_under = wd_Chrome.find_elements(By.CSS_SELECTOR,'div.ui-table.oddsCell__odds')\n",
        "        for i in linhas_over_under:\n",
        "            linhas = i.find_elements(By.CSS_SELECTOR,'div.ui-table__row')\n",
        "            for linha in linhas:\n",
        "                try:\n",
        "                    qtd_gols = linha.find_element(By.CSS_SELECTOR,'span.oddsCell__noOddsCell').text.replace('.','')\n",
        "                    if qtd_gols == '05':\n",
        "                        Odd_Over05 = float(linha.find_elements(By.CSS_SELECTOR,'a.oddsCell__odd')[0].text)\n",
        "                        Odd_Under05 = float(linha.find_elements(By.CSS_SELECTOR,'a.oddsCell__odd')[1].text)\n",
        "                    if qtd_gols == '15':\n",
        "                        Odd_Over15 = float(linha.find_elements(By.CSS_SELECTOR,'a.oddsCell__odd')[0].text)\n",
        "                        Odd_Under15 = float(linha.find_elements(By.CSS_SELECTOR,'a.oddsCell__odd')[1].text)\n",
        "                        #print(Odd_Under15)\n",
        "                    if qtd_gols == '25':\n",
        "                        Odd_Over25 = float(linha.find_elements(By.CSS_SELECTOR,'a.oddsCell__odd')[0].text)\n",
        "                        Odd_Under25 = float(linha.find_elements(By.CSS_SELECTOR,'a.oddsCell__odd')[1].text)\n",
        "                except:\n",
        "                    pass\n",
        "    except:\n",
        "        pass\n",
        "\n",
        "# Ambas Marcam (BTTS)\n",
        "    try:\n",
        "        wd_Chrome.get(f'https://www.flashscore.com/match/{link}/#/odds-comparison/both-teams-to-score/full-time')\n",
        "        time.sleep(2)\n",
        "    \n",
        "        linhas = wd_Chrome.find_elements(By.CSS_SELECTOR,'div.ui-table__row')\n",
        "        \n",
        "        for linha in linhas:\n",
        "                BTTS_Yes = float(linha.find_elements(By.CSS_SELECTOR,'a.oddsCell__odd')[0].text)\n",
        "                BTTS_No = float(linha.find_elements(By.CSS_SELECTOR,'a.oddsCell__odd')[1].text)\n",
        "    except:\n",
        "        pass    \n",
        "    \n",
        "    try:\n",
        "        print(Date,Time,Country,League,Home,Away,Odd_H,Odd_D,Odd_A,Odd_Over15,Odd_Under15,Odd_Over25,Odd_Under25,BTTS_Yes,BTTS_No) \n",
        "\n",
        "        jogo['Date'].append(Date)\n",
        "        jogo['Time'].append(Time)\n",
        "        jogo['Country'].append(Country)\n",
        "        jogo['League'].append(League)\n",
        "        jogo['Home'].append(Home)\n",
        "        jogo['Away'].append(Away)\n",
        "        jogo['Odd_H'].append(Odd_H)\n",
        "        jogo['Odd_D'].append(Odd_D)\n",
        "        jogo['Odd_A'].append(Odd_A)\n",
        "        jogo['Odd_Over15'].append(Odd_Over15)\n",
        "        jogo['Odd_Under15'].append(Odd_Under15)\n",
        "        jogo['Odd_Over25'].append(Odd_Over25)\n",
        "        jogo['Odd_Under25'].append(Odd_Under25)\n",
        "        jogo['Odd_BTTS_Yes'].append(BTTS_Yes)\n",
        "        jogo['Odd_BTTS_No'].append(BTTS_No)\n",
        "\n",
        "    except:\n",
        "        pass"
      ]
    },
    {
      "attachments": {},
      "cell_type": "markdown",
      "metadata": {
        "id": "PfRRruDDyt38"
      },
      "source": [
        "## Gerando DataFrame com os Jogos do Dia"
      ]
    },
    {
      "cell_type": "code",
      "execution_count": 7,
      "metadata": {
        "id": "gCvR74k9aiC9"
      },
      "outputs": [
        {
          "data": {
            "text/html": [
              "<div>\n",
              "<style scoped>\n",
              "    .dataframe tbody tr th:only-of-type {\n",
              "        vertical-align: middle;\n",
              "    }\n",
              "\n",
              "    .dataframe tbody tr th {\n",
              "        vertical-align: top;\n",
              "    }\n",
              "\n",
              "    .dataframe thead th {\n",
              "        text-align: right;\n",
              "    }\n",
              "</style>\n",
              "<table border=\"1\" class=\"dataframe\">\n",
              "  <thead>\n",
              "    <tr style=\"text-align: right;\">\n",
              "      <th></th>\n",
              "      <th>Date</th>\n",
              "      <th>Time</th>\n",
              "      <th>Country</th>\n",
              "      <th>League</th>\n",
              "      <th>Home</th>\n",
              "      <th>Away</th>\n",
              "      <th>Odd_H</th>\n",
              "      <th>Odd_D</th>\n",
              "      <th>Odd_A</th>\n",
              "      <th>Odd_Over15</th>\n",
              "      <th>Odd_Under15</th>\n",
              "      <th>Odd_Over25</th>\n",
              "      <th>Odd_Under25</th>\n",
              "      <th>Odd_BTTS_Yes</th>\n",
              "      <th>Odd_BTTS_No</th>\n",
              "    </tr>\n",
              "  </thead>\n",
              "  <tbody>\n",
              "    <tr>\n",
              "      <th>1</th>\n",
              "      <td>19.06.2023</td>\n",
              "      <td>13:00</td>\n",
              "      <td>EUROPE</td>\n",
              "      <td>EURO - QUALIFICATION - ROUND 4</td>\n",
              "      <td>Armenia</td>\n",
              "      <td>Latvia</td>\n",
              "      <td>1.75</td>\n",
              "      <td>4.00</td>\n",
              "      <td>4.50</td>\n",
              "      <td>1.28</td>\n",
              "      <td>3.75</td>\n",
              "      <td>1.83</td>\n",
              "      <td>2.00</td>\n",
              "      <td>1.75</td>\n",
              "      <td>2.05</td>\n",
              "    </tr>\n",
              "    <tr>\n",
              "      <th>2</th>\n",
              "      <td>19.06.2023</td>\n",
              "      <td>13:00</td>\n",
              "      <td>EUROPE</td>\n",
              "      <td>EURO - QUALIFICATION - ROUND 4</td>\n",
              "      <td>Finland</td>\n",
              "      <td>San Marino</td>\n",
              "      <td>1.02</td>\n",
              "      <td>21.00</td>\n",
              "      <td>126.00</td>\n",
              "      <td>1.04</td>\n",
              "      <td>11.00</td>\n",
              "      <td>1.19</td>\n",
              "      <td>4.75</td>\n",
              "      <td>4.00</td>\n",
              "      <td>1.24</td>\n",
              "    </tr>\n",
              "    <tr>\n",
              "      <th>3</th>\n",
              "      <td>19.06.2023</td>\n",
              "      <td>13:00</td>\n",
              "      <td>EUROPE</td>\n",
              "      <td>EURO - QUALIFICATION - ROUND 4</td>\n",
              "      <td>Ukraine</td>\n",
              "      <td>Malta</td>\n",
              "      <td>1.09</td>\n",
              "      <td>8.50</td>\n",
              "      <td>21.00</td>\n",
              "      <td>1.10</td>\n",
              "      <td>7.00</td>\n",
              "      <td>1.36</td>\n",
              "      <td>3.00</td>\n",
              "      <td>2.25</td>\n",
              "      <td>1.63</td>\n",
              "    </tr>\n",
              "    <tr>\n",
              "      <th>4</th>\n",
              "      <td>19.06.2023</td>\n",
              "      <td>15:45</td>\n",
              "      <td>EUROPE</td>\n",
              "      <td>EURO - QUALIFICATION - ROUND 4</td>\n",
              "      <td>Belarus</td>\n",
              "      <td>Kosovo</td>\n",
              "      <td>5.50</td>\n",
              "      <td>3.75</td>\n",
              "      <td>1.70</td>\n",
              "      <td>1.40</td>\n",
              "      <td>2.95</td>\n",
              "      <td>2.25</td>\n",
              "      <td>1.66</td>\n",
              "      <td>2.15</td>\n",
              "      <td>1.70</td>\n",
              "    </tr>\n",
              "    <tr>\n",
              "      <th>5</th>\n",
              "      <td>19.06.2023</td>\n",
              "      <td>15:45</td>\n",
              "      <td>EUROPE</td>\n",
              "      <td>EURO - QUALIFICATION - ROUND 4</td>\n",
              "      <td>England</td>\n",
              "      <td>North Macedonia</td>\n",
              "      <td>1.11</td>\n",
              "      <td>9.50</td>\n",
              "      <td>29.00</td>\n",
              "      <td>1.13</td>\n",
              "      <td>6.00</td>\n",
              "      <td>1.44</td>\n",
              "      <td>2.80</td>\n",
              "      <td>2.60</td>\n",
              "      <td>1.48</td>\n",
              "    </tr>\n",
              "    <tr>\n",
              "      <th>6</th>\n",
              "      <td>19.06.2023</td>\n",
              "      <td>15:45</td>\n",
              "      <td>EUROPE</td>\n",
              "      <td>EURO - QUALIFICATION - ROUND 4</td>\n",
              "      <td>France</td>\n",
              "      <td>Greece</td>\n",
              "      <td>1.26</td>\n",
              "      <td>6.00</td>\n",
              "      <td>13.00</td>\n",
              "      <td>1.18</td>\n",
              "      <td>5.00</td>\n",
              "      <td>1.58</td>\n",
              "      <td>2.40</td>\n",
              "      <td>2.05</td>\n",
              "      <td>1.75</td>\n",
              "    </tr>\n",
              "    <tr>\n",
              "      <th>7</th>\n",
              "      <td>19.06.2023</td>\n",
              "      <td>15:45</td>\n",
              "      <td>EUROPE</td>\n",
              "      <td>EURO - QUALIFICATION - ROUND 4</td>\n",
              "      <td>Ireland</td>\n",
              "      <td>Gibraltar</td>\n",
              "      <td>25.00</td>\n",
              "      <td>65.00</td>\n",
              "      <td>51.00</td>\n",
              "      <td>1.06</td>\n",
              "      <td>9.50</td>\n",
              "      <td>1.24</td>\n",
              "      <td>4.20</td>\n",
              "      <td>4.33</td>\n",
              "      <td>1.20</td>\n",
              "    </tr>\n",
              "    <tr>\n",
              "      <th>8</th>\n",
              "      <td>19.06.2023</td>\n",
              "      <td>15:45</td>\n",
              "      <td>EUROPE</td>\n",
              "      <td>EURO - QUALIFICATION - ROUND 4</td>\n",
              "      <td>Israel</td>\n",
              "      <td>Andorra</td>\n",
              "      <td>1.12</td>\n",
              "      <td>9.50</td>\n",
              "      <td>26.00</td>\n",
              "      <td>1.13</td>\n",
              "      <td>6.00</td>\n",
              "      <td>1.44</td>\n",
              "      <td>2.85</td>\n",
              "      <td>2.45</td>\n",
              "      <td>1.53</td>\n",
              "    </tr>\n",
              "    <tr>\n",
              "      <th>9</th>\n",
              "      <td>19.06.2023</td>\n",
              "      <td>15:45</td>\n",
              "      <td>EUROPE</td>\n",
              "      <td>EURO - QUALIFICATION - ROUND 4</td>\n",
              "      <td>Northern Ireland</td>\n",
              "      <td>Kazakhstan</td>\n",
              "      <td>1.63</td>\n",
              "      <td>3.75</td>\n",
              "      <td>6.50</td>\n",
              "      <td>1.40</td>\n",
              "      <td>2.95</td>\n",
              "      <td>2.25</td>\n",
              "      <td>1.66</td>\n",
              "      <td>2.20</td>\n",
              "      <td>1.65</td>\n",
              "    </tr>\n",
              "    <tr>\n",
              "      <th>10</th>\n",
              "      <td>19.06.2023</td>\n",
              "      <td>15:45</td>\n",
              "      <td>EUROPE</td>\n",
              "      <td>EURO - QUALIFICATION - ROUND 4</td>\n",
              "      <td>Slovenia</td>\n",
              "      <td>Denmark</td>\n",
              "      <td>4.33</td>\n",
              "      <td>3.60</td>\n",
              "      <td>1.88</td>\n",
              "      <td>1.40</td>\n",
              "      <td>3.00</td>\n",
              "      <td>2.15</td>\n",
              "      <td>1.70</td>\n",
              "      <td>2.00</td>\n",
              "      <td>1.80</td>\n",
              "    </tr>\n",
              "    <tr>\n",
              "      <th>11</th>\n",
              "      <td>19.06.2023</td>\n",
              "      <td>15:45</td>\n",
              "      <td>EUROPE</td>\n",
              "      <td>EURO - QUALIFICATION - ROUND 4</td>\n",
              "      <td>Switzerland</td>\n",
              "      <td>Romania</td>\n",
              "      <td>1.40</td>\n",
              "      <td>4.75</td>\n",
              "      <td>9.00</td>\n",
              "      <td>1.30</td>\n",
              "      <td>3.60</td>\n",
              "      <td>1.90</td>\n",
              "      <td>1.90</td>\n",
              "      <td>2.20</td>\n",
              "      <td>1.66</td>\n",
              "    </tr>\n",
              "    <tr>\n",
              "      <th>12</th>\n",
              "      <td>19.06.2023</td>\n",
              "      <td>15:45</td>\n",
              "      <td>EUROPE</td>\n",
              "      <td>EURO - QUALIFICATION - ROUND 4</td>\n",
              "      <td>Turkey</td>\n",
              "      <td>Wales</td>\n",
              "      <td>1.88</td>\n",
              "      <td>3.50</td>\n",
              "      <td>4.50</td>\n",
              "      <td>1.40</td>\n",
              "      <td>3.00</td>\n",
              "      <td>2.25</td>\n",
              "      <td>1.66</td>\n",
              "      <td>2.00</td>\n",
              "      <td>1.78</td>\n",
              "    </tr>\n",
              "    <tr>\n",
              "      <th>13</th>\n",
              "      <td>19.06.2023</td>\n",
              "      <td>12:00</td>\n",
              "      <td>EUROPE</td>\n",
              "      <td>EURO U21 - QUALIFICATION</td>\n",
              "      <td>Gibraltar U21</td>\n",
              "      <td>Sweden U21</td>\n",
              "      <td>29.00</td>\n",
              "      <td>17.00</td>\n",
              "      <td>1.03</td>\n",
              "      <td>1.40</td>\n",
              "      <td>3.00</td>\n",
              "      <td>1.10</td>\n",
              "      <td>7.00</td>\n",
              "      <td>1.10</td>\n",
              "      <td>7.00</td>\n",
              "    </tr>\n",
              "    <tr>\n",
              "      <th>14</th>\n",
              "      <td>19.06.2023</td>\n",
              "      <td>15:00</td>\n",
              "      <td>ARGENTINA</td>\n",
              "      <td>PRIMERA NACIONAL - ROUND 21</td>\n",
              "      <td>Almirante Brown</td>\n",
              "      <td>Almagro</td>\n",
              "      <td>2.10</td>\n",
              "      <td>3.00</td>\n",
              "      <td>3.75</td>\n",
              "      <td>1.60</td>\n",
              "      <td>2.25</td>\n",
              "      <td>2.80</td>\n",
              "      <td>1.40</td>\n",
              "      <td>2.35</td>\n",
              "      <td>1.55</td>\n",
              "    </tr>\n",
              "    <tr>\n",
              "      <th>15</th>\n",
              "      <td>19.06.2023</td>\n",
              "      <td>15:00</td>\n",
              "      <td>ARGENTINA</td>\n",
              "      <td>PRIMERA NACIONAL - ROUND 18</td>\n",
              "      <td>Atletico Atlanta</td>\n",
              "      <td>CA Estudiantes</td>\n",
              "      <td>2.30</td>\n",
              "      <td>2.95</td>\n",
              "      <td>3.25</td>\n",
              "      <td>1.62</td>\n",
              "      <td>2.20</td>\n",
              "      <td>2.90</td>\n",
              "      <td>1.38</td>\n",
              "      <td>2.30</td>\n",
              "      <td>1.57</td>\n",
              "    </tr>\n",
              "    <tr>\n",
              "      <th>16</th>\n",
              "      <td>19.06.2023</td>\n",
              "      <td>15:00</td>\n",
              "      <td>ARGENTINA</td>\n",
              "      <td>PRIMERA NACIONAL - ROUND 18</td>\n",
              "      <td>Dep. Riestra</td>\n",
              "      <td>Quilmes</td>\n",
              "      <td>2.05</td>\n",
              "      <td>3.20</td>\n",
              "      <td>3.60</td>\n",
              "      <td>1.45</td>\n",
              "      <td>2.60</td>\n",
              "      <td>2.40</td>\n",
              "      <td>1.53</td>\n",
              "      <td>2.05</td>\n",
              "      <td>1.72</td>\n",
              "    </tr>\n",
              "    <tr>\n",
              "      <th>17</th>\n",
              "      <td>19.06.2023</td>\n",
              "      <td>16:30</td>\n",
              "      <td>ARGENTINA</td>\n",
              "      <td>PRIMERA NACIONAL - ROUND 18</td>\n",
              "      <td>Chaco For Ever</td>\n",
              "      <td>Deportivo Maipu</td>\n",
              "      <td>2.55</td>\n",
              "      <td>2.90</td>\n",
              "      <td>2.90</td>\n",
              "      <td>1.57</td>\n",
              "      <td>2.30</td>\n",
              "      <td>2.75</td>\n",
              "      <td>1.42</td>\n",
              "      <td>2.20</td>\n",
              "      <td>1.62</td>\n",
              "    </tr>\n",
              "    <tr>\n",
              "      <th>18</th>\n",
              "      <td>19.06.2023</td>\n",
              "      <td>19:00</td>\n",
              "      <td>ARGENTINA</td>\n",
              "      <td>PRIMERA NACIONAL - ROUND 18</td>\n",
              "      <td>Racing Cordoba</td>\n",
              "      <td>Brown Adrogue</td>\n",
              "      <td>1.95</td>\n",
              "      <td>3.10</td>\n",
              "      <td>4.00</td>\n",
              "      <td>1.55</td>\n",
              "      <td>2.35</td>\n",
              "      <td>2.65</td>\n",
              "      <td>1.44</td>\n",
              "      <td>2.30</td>\n",
              "      <td>1.57</td>\n",
              "    </tr>\n",
              "    <tr>\n",
              "      <th>19</th>\n",
              "      <td>19.06.2023</td>\n",
              "      <td>17:05</td>\n",
              "      <td>ARGENTINA</td>\n",
              "      <td>COPA ARGENTINA - 1/32-FINALS</td>\n",
              "      <td>Banfield</td>\n",
              "      <td>Argentino de Merlo</td>\n",
              "      <td>1.36</td>\n",
              "      <td>4.50</td>\n",
              "      <td>8.50</td>\n",
              "      <td>1.25</td>\n",
              "      <td>3.75</td>\n",
              "      <td>1.80</td>\n",
              "      <td>1.95</td>\n",
              "      <td>2.10</td>\n",
              "      <td>1.68</td>\n",
              "    </tr>\n",
              "    <tr>\n",
              "      <th>20</th>\n",
              "      <td>19.06.2023</td>\n",
              "      <td>07:00</td>\n",
              "      <td>ASIA</td>\n",
              "      <td>AFC CHAMPIONSHIP U17</td>\n",
              "      <td>China U17</td>\n",
              "      <td>Australia U17</td>\n",
              "      <td>1.36</td>\n",
              "      <td>4.50</td>\n",
              "      <td>8.50</td>\n",
              "      <td>1.25</td>\n",
              "      <td>3.75</td>\n",
              "      <td>1.80</td>\n",
              "      <td>1.95</td>\n",
              "      <td>2.10</td>\n",
              "      <td>1.68</td>\n",
              "    </tr>\n",
              "    <tr>\n",
              "      <th>21</th>\n",
              "      <td>19.06.2023</td>\n",
              "      <td>09:00</td>\n",
              "      <td>ASIA</td>\n",
              "      <td>AFC CHAMPIONSHIP U17</td>\n",
              "      <td>Afghanistan U17</td>\n",
              "      <td>South Korea U17</td>\n",
              "      <td>1.36</td>\n",
              "      <td>4.50</td>\n",
              "      <td>8.50</td>\n",
              "      <td>1.25</td>\n",
              "      <td>3.75</td>\n",
              "      <td>1.80</td>\n",
              "      <td>1.95</td>\n",
              "      <td>2.10</td>\n",
              "      <td>1.68</td>\n",
              "    </tr>\n",
              "    <tr>\n",
              "      <th>22</th>\n",
              "      <td>19.06.2023</td>\n",
              "      <td>11:00</td>\n",
              "      <td>ASIA</td>\n",
              "      <td>AFC CHAMPIONSHIP U17</td>\n",
              "      <td>Qatar U17</td>\n",
              "      <td>Iran U17</td>\n",
              "      <td>1.36</td>\n",
              "      <td>4.50</td>\n",
              "      <td>8.50</td>\n",
              "      <td>1.25</td>\n",
              "      <td>3.75</td>\n",
              "      <td>1.80</td>\n",
              "      <td>1.95</td>\n",
              "      <td>2.10</td>\n",
              "      <td>1.68</td>\n",
              "    </tr>\n",
              "    <tr>\n",
              "      <th>23</th>\n",
              "      <td>19.06.2023</td>\n",
              "      <td>11:00</td>\n",
              "      <td>ASIA</td>\n",
              "      <td>AFC CHAMPIONSHIP U17</td>\n",
              "      <td>Saudi Arabia U17</td>\n",
              "      <td>Tajikistan U17</td>\n",
              "      <td>1.36</td>\n",
              "      <td>4.50</td>\n",
              "      <td>8.50</td>\n",
              "      <td>1.25</td>\n",
              "      <td>3.75</td>\n",
              "      <td>1.80</td>\n",
              "      <td>1.95</td>\n",
              "      <td>2.10</td>\n",
              "      <td>1.68</td>\n",
              "    </tr>\n",
              "    <tr>\n",
              "      <th>24</th>\n",
              "      <td>19.06.2023</td>\n",
              "      <td>20:00</td>\n",
              "      <td>BRAZIL</td>\n",
              "      <td>BRASILEIRO WOMEN - PLAY OFFS - QUARTER-FINALS</td>\n",
              "      <td>Cruzeiro W</td>\n",
              "      <td>Corinthians W</td>\n",
              "      <td>7.50</td>\n",
              "      <td>4.75</td>\n",
              "      <td>1.30</td>\n",
              "      <td>1.11</td>\n",
              "      <td>5.50</td>\n",
              "      <td>1.45</td>\n",
              "      <td>2.55</td>\n",
              "      <td>1.65</td>\n",
              "      <td>2.10</td>\n",
              "    </tr>\n",
              "    <tr>\n",
              "      <th>25</th>\n",
              "      <td>19.06.2023</td>\n",
              "      <td>21:00</td>\n",
              "      <td>ECUADOR</td>\n",
              "      <td>LIGA PRO - FIRST STAGE - ROUND 15</td>\n",
              "      <td>Tecnico U.</td>\n",
              "      <td>Delfin</td>\n",
              "      <td>1.83</td>\n",
              "      <td>3.30</td>\n",
              "      <td>4.33</td>\n",
              "      <td>1.44</td>\n",
              "      <td>2.65</td>\n",
              "      <td>2.35</td>\n",
              "      <td>1.55</td>\n",
              "      <td>2.10</td>\n",
              "      <td>1.68</td>\n",
              "    </tr>\n",
              "    <tr>\n",
              "      <th>26</th>\n",
              "      <td>19.06.2023</td>\n",
              "      <td>13:15</td>\n",
              "      <td>MALI</td>\n",
              "      <td>PREMIERE DIVISION - ROUND 25</td>\n",
              "      <td>Korofina</td>\n",
              "      <td>Black Stars</td>\n",
              "      <td>1.83</td>\n",
              "      <td>3.30</td>\n",
              "      <td>4.33</td>\n",
              "      <td>1.44</td>\n",
              "      <td>2.65</td>\n",
              "      <td>2.35</td>\n",
              "      <td>1.55</td>\n",
              "      <td>2.10</td>\n",
              "      <td>1.68</td>\n",
              "    </tr>\n",
              "    <tr>\n",
              "      <th>27</th>\n",
              "      <td>19.06.2023</td>\n",
              "      <td>13:15</td>\n",
              "      <td>MALI</td>\n",
              "      <td>PREMIERE DIVISION - ROUND 25</td>\n",
              "      <td>LC Bamako</td>\n",
              "      <td>Djoliba</td>\n",
              "      <td>4.45</td>\n",
              "      <td>2.90</td>\n",
              "      <td>1.88</td>\n",
              "      <td>1.62</td>\n",
              "      <td>2.02</td>\n",
              "      <td>2.93</td>\n",
              "      <td>1.33</td>\n",
              "      <td>2.54</td>\n",
              "      <td>1.49</td>\n",
              "    </tr>\n",
              "    <tr>\n",
              "      <th>28</th>\n",
              "      <td>19.06.2023</td>\n",
              "      <td>13:15</td>\n",
              "      <td>MALI</td>\n",
              "      <td>PREMIERE DIVISION - ROUND 25</td>\n",
              "      <td>Stade Malien</td>\n",
              "      <td>Onze Createurs</td>\n",
              "      <td>3.35</td>\n",
              "      <td>2.57</td>\n",
              "      <td>2.42</td>\n",
              "      <td>1.75</td>\n",
              "      <td>1.87</td>\n",
              "      <td>3.28</td>\n",
              "      <td>1.27</td>\n",
              "      <td>2.51</td>\n",
              "      <td>1.50</td>\n",
              "    </tr>\n",
              "    <tr>\n",
              "      <th>29</th>\n",
              "      <td>19.06.2023</td>\n",
              "      <td>12:30</td>\n",
              "      <td>NIGER</td>\n",
              "      <td>LIGUE 1 - ROUND 23</td>\n",
              "      <td>ASFAN</td>\n",
              "      <td>Liberte</td>\n",
              "      <td>3.35</td>\n",
              "      <td>2.57</td>\n",
              "      <td>2.42</td>\n",
              "      <td>1.75</td>\n",
              "      <td>1.87</td>\n",
              "      <td>3.28</td>\n",
              "      <td>1.27</td>\n",
              "      <td>2.51</td>\n",
              "      <td>1.50</td>\n",
              "    </tr>\n",
              "    <tr>\n",
              "      <th>30</th>\n",
              "      <td>19.06.2023</td>\n",
              "      <td>12:30</td>\n",
              "      <td>NIGER</td>\n",
              "      <td>LIGUE 1 - ROUND 23</td>\n",
              "      <td>Sahel</td>\n",
              "      <td>Tahoua</td>\n",
              "      <td>3.35</td>\n",
              "      <td>2.57</td>\n",
              "      <td>2.42</td>\n",
              "      <td>1.75</td>\n",
              "      <td>1.87</td>\n",
              "      <td>3.28</td>\n",
              "      <td>1.27</td>\n",
              "      <td>2.51</td>\n",
              "      <td>1.50</td>\n",
              "    </tr>\n",
              "    <tr>\n",
              "      <th>31</th>\n",
              "      <td>19.06.2023</td>\n",
              "      <td>14:00</td>\n",
              "      <td>SENEGAL</td>\n",
              "      <td>LIGUE 1 - ROUND 22</td>\n",
              "      <td>Dakar SC</td>\n",
              "      <td>Sonacos</td>\n",
              "      <td>1.98</td>\n",
              "      <td>2.77</td>\n",
              "      <td>4.30</td>\n",
              "      <td>1.70</td>\n",
              "      <td>1.93</td>\n",
              "      <td>2.32</td>\n",
              "      <td>1.47</td>\n",
              "      <td>2.60</td>\n",
              "      <td>1.47</td>\n",
              "    </tr>\n",
              "    <tr>\n",
              "      <th>32</th>\n",
              "      <td>19.06.2023</td>\n",
              "      <td>13:00</td>\n",
              "      <td>SWEDEN</td>\n",
              "      <td>ALLSVENSKAN WOMEN - ROUND 14</td>\n",
              "      <td>Rosengard W</td>\n",
              "      <td>Uppsala W</td>\n",
              "      <td>1.07</td>\n",
              "      <td>8.50</td>\n",
              "      <td>18.00</td>\n",
              "      <td>1.06</td>\n",
              "      <td>7.50</td>\n",
              "      <td>1.29</td>\n",
              "      <td>3.30</td>\n",
              "      <td>2.10</td>\n",
              "      <td>1.65</td>\n",
              "    </tr>\n",
              "    <tr>\n",
              "      <th>33</th>\n",
              "      <td>19.06.2023</td>\n",
              "      <td>14:00</td>\n",
              "      <td>SWEDEN</td>\n",
              "      <td>ALLSVENSKAN WOMEN - ROUND 14</td>\n",
              "      <td>Hammarby W</td>\n",
              "      <td>Orebro W</td>\n",
              "      <td>1.08</td>\n",
              "      <td>8.50</td>\n",
              "      <td>14.00</td>\n",
              "      <td>1.08</td>\n",
              "      <td>6.50</td>\n",
              "      <td>1.40</td>\n",
              "      <td>2.75</td>\n",
              "      <td>2.25</td>\n",
              "      <td>1.57</td>\n",
              "    </tr>\n",
              "    <tr>\n",
              "      <th>34</th>\n",
              "      <td>19.06.2023</td>\n",
              "      <td>14:00</td>\n",
              "      <td>SWEDEN</td>\n",
              "      <td>ALLSVENSKAN WOMEN - ROUND 14</td>\n",
              "      <td>IF Brommapojkarna W</td>\n",
              "      <td>Vittsjo W</td>\n",
              "      <td>7.50</td>\n",
              "      <td>4.75</td>\n",
              "      <td>1.30</td>\n",
              "      <td>1.20</td>\n",
              "      <td>4.00</td>\n",
              "      <td>1.73</td>\n",
              "      <td>2.00</td>\n",
              "      <td>1.95</td>\n",
              "      <td>1.75</td>\n",
              "    </tr>\n",
              "    <tr>\n",
              "      <th>35</th>\n",
              "      <td>19.06.2023</td>\n",
              "      <td>14:00</td>\n",
              "      <td>SWEDEN</td>\n",
              "      <td>ALLSVENSKAN WOMEN - ROUND 14</td>\n",
              "      <td>Kristianstad W</td>\n",
              "      <td>Hacken W</td>\n",
              "      <td>3.25</td>\n",
              "      <td>3.60</td>\n",
              "      <td>1.91</td>\n",
              "      <td>1.20</td>\n",
              "      <td>4.00</td>\n",
              "      <td>1.65</td>\n",
              "      <td>2.10</td>\n",
              "      <td>1.57</td>\n",
              "      <td>2.25</td>\n",
              "    </tr>\n",
              "    <tr>\n",
              "      <th>36</th>\n",
              "      <td>19.06.2023</td>\n",
              "      <td>14:00</td>\n",
              "      <td>SWEDEN</td>\n",
              "      <td>ALLSVENSKAN WOMEN - ROUND 14</td>\n",
              "      <td>Vaxjo DFF W</td>\n",
              "      <td>Norrkoping W</td>\n",
              "      <td>2.63</td>\n",
              "      <td>3.40</td>\n",
              "      <td>2.30</td>\n",
              "      <td>1.20</td>\n",
              "      <td>4.00</td>\n",
              "      <td>1.73</td>\n",
              "      <td>2.00</td>\n",
              "      <td>1.57</td>\n",
              "      <td>2.25</td>\n",
              "    </tr>\n",
              "    <tr>\n",
              "      <th>37</th>\n",
              "      <td>19.06.2023</td>\n",
              "      <td>10:00</td>\n",
              "      <td>TANZANIA</td>\n",
              "      <td>LIGI KUU BARA - RELEGATION - FINAL</td>\n",
              "      <td>Mashujaa</td>\n",
              "      <td>Mbeya City</td>\n",
              "      <td>2.63</td>\n",
              "      <td>3.40</td>\n",
              "      <td>2.30</td>\n",
              "      <td>1.20</td>\n",
              "      <td>4.00</td>\n",
              "      <td>1.73</td>\n",
              "      <td>2.00</td>\n",
              "      <td>1.57</td>\n",
              "      <td>2.25</td>\n",
              "    </tr>\n",
              "    <tr>\n",
              "      <th>38</th>\n",
              "      <td>19.06.2023</td>\n",
              "      <td>05:00</td>\n",
              "      <td>WORLD</td>\n",
              "      <td>FRIENDLY INTERNATIONAL</td>\n",
              "      <td>Bulgaria U17</td>\n",
              "      <td>Austria U16</td>\n",
              "      <td>2.63</td>\n",
              "      <td>3.40</td>\n",
              "      <td>2.30</td>\n",
              "      <td>1.20</td>\n",
              "      <td>4.00</td>\n",
              "      <td>1.73</td>\n",
              "      <td>2.00</td>\n",
              "      <td>1.57</td>\n",
              "      <td>2.25</td>\n",
              "    </tr>\n",
              "    <tr>\n",
              "      <th>39</th>\n",
              "      <td>19.06.2023</td>\n",
              "      <td>06:30</td>\n",
              "      <td>WORLD</td>\n",
              "      <td>FRIENDLY INTERNATIONAL</td>\n",
              "      <td>China U22</td>\n",
              "      <td>Uzbekistan U23</td>\n",
              "      <td>2.63</td>\n",
              "      <td>3.40</td>\n",
              "      <td>2.30</td>\n",
              "      <td>1.20</td>\n",
              "      <td>4.00</td>\n",
              "      <td>1.73</td>\n",
              "      <td>2.00</td>\n",
              "      <td>1.57</td>\n",
              "      <td>2.25</td>\n",
              "    </tr>\n",
              "    <tr>\n",
              "      <th>40</th>\n",
              "      <td>19.06.2023</td>\n",
              "      <td>07:00</td>\n",
              "      <td>WORLD</td>\n",
              "      <td>FRIENDLY INTERNATIONAL</td>\n",
              "      <td>Macau</td>\n",
              "      <td>Myanmar</td>\n",
              "      <td>2.63</td>\n",
              "      <td>3.40</td>\n",
              "      <td>2.30</td>\n",
              "      <td>1.20</td>\n",
              "      <td>4.00</td>\n",
              "      <td>1.73</td>\n",
              "      <td>2.00</td>\n",
              "      <td>1.57</td>\n",
              "      <td>2.25</td>\n",
              "    </tr>\n",
              "    <tr>\n",
              "      <th>41</th>\n",
              "      <td>19.06.2023</td>\n",
              "      <td>07:00</td>\n",
              "      <td>WORLD</td>\n",
              "      <td>FRIENDLY INTERNATIONAL</td>\n",
              "      <td>Tajikistan U23</td>\n",
              "      <td>Hong Kong U23</td>\n",
              "      <td>2.63</td>\n",
              "      <td>3.40</td>\n",
              "      <td>2.30</td>\n",
              "      <td>1.20</td>\n",
              "      <td>4.00</td>\n",
              "      <td>1.73</td>\n",
              "      <td>2.00</td>\n",
              "      <td>1.57</td>\n",
              "      <td>2.25</td>\n",
              "    </tr>\n",
              "    <tr>\n",
              "      <th>42</th>\n",
              "      <td>19.06.2023</td>\n",
              "      <td>08:00</td>\n",
              "      <td>WORLD</td>\n",
              "      <td>FRIENDLY INTERNATIONAL</td>\n",
              "      <td>Philippines</td>\n",
              "      <td>Chinese Taipei</td>\n",
              "      <td>2.63</td>\n",
              "      <td>3.40</td>\n",
              "      <td>2.30</td>\n",
              "      <td>1.20</td>\n",
              "      <td>4.00</td>\n",
              "      <td>1.73</td>\n",
              "      <td>2.00</td>\n",
              "      <td>1.57</td>\n",
              "      <td>2.25</td>\n",
              "    </tr>\n",
              "    <tr>\n",
              "      <th>43</th>\n",
              "      <td>19.06.2023</td>\n",
              "      <td>08:35</td>\n",
              "      <td>WORLD</td>\n",
              "      <td>FRIENDLY INTERNATIONAL</td>\n",
              "      <td>China U23</td>\n",
              "      <td>South Korea U23</td>\n",
              "      <td>6.10</td>\n",
              "      <td>3.85</td>\n",
              "      <td>1.50</td>\n",
              "      <td>1.25</td>\n",
              "      <td>3.25</td>\n",
              "      <td>1.75</td>\n",
              "      <td>1.87</td>\n",
              "      <td>1.83</td>\n",
              "      <td>1.78</td>\n",
              "    </tr>\n",
              "    <tr>\n",
              "      <th>44</th>\n",
              "      <td>19.06.2023</td>\n",
              "      <td>09:00</td>\n",
              "      <td>WORLD</td>\n",
              "      <td>FRIENDLY INTERNATIONAL</td>\n",
              "      <td>Hong Kong</td>\n",
              "      <td>Thailand</td>\n",
              "      <td>5.00</td>\n",
              "      <td>4.00</td>\n",
              "      <td>1.60</td>\n",
              "      <td>1.25</td>\n",
              "      <td>3.75</td>\n",
              "      <td>1.75</td>\n",
              "      <td>2.00</td>\n",
              "      <td>1.80</td>\n",
              "      <td>1.95</td>\n",
              "    </tr>\n",
              "    <tr>\n",
              "      <th>45</th>\n",
              "      <td>19.06.2023</td>\n",
              "      <td>09:00</td>\n",
              "      <td>WORLD</td>\n",
              "      <td>FRIENDLY INTERNATIONAL</td>\n",
              "      <td>Jamaica</td>\n",
              "      <td>Jordan</td>\n",
              "      <td>2.45</td>\n",
              "      <td>3.00</td>\n",
              "      <td>2.88</td>\n",
              "      <td>1.40</td>\n",
              "      <td>2.88</td>\n",
              "      <td>2.30</td>\n",
              "      <td>1.60</td>\n",
              "      <td>1.90</td>\n",
              "      <td>1.87</td>\n",
              "    </tr>\n",
              "    <tr>\n",
              "      <th>46</th>\n",
              "      <td>19.06.2023</td>\n",
              "      <td>09:30</td>\n",
              "      <td>WORLD</td>\n",
              "      <td>FRIENDLY INTERNATIONAL</td>\n",
              "      <td>Indonesia</td>\n",
              "      <td>Argentina</td>\n",
              "      <td>62.00</td>\n",
              "      <td>19.00</td>\n",
              "      <td>1.02</td>\n",
              "      <td>1.01</td>\n",
              "      <td>15.00</td>\n",
              "      <td>1.15</td>\n",
              "      <td>5.50</td>\n",
              "      <td>1.72</td>\n",
              "      <td>2.05</td>\n",
              "    </tr>\n",
              "    <tr>\n",
              "      <th>47</th>\n",
              "      <td>19.06.2023</td>\n",
              "      <td>12:00</td>\n",
              "      <td>WORLD</td>\n",
              "      <td>FRIENDLY INTERNATIONAL</td>\n",
              "      <td>Ireland U21</td>\n",
              "      <td>Kuwait U22</td>\n",
              "      <td>62.00</td>\n",
              "      <td>19.00</td>\n",
              "      <td>1.02</td>\n",
              "      <td>1.01</td>\n",
              "      <td>15.00</td>\n",
              "      <td>1.15</td>\n",
              "      <td>5.50</td>\n",
              "      <td>1.72</td>\n",
              "      <td>2.05</td>\n",
              "    </tr>\n",
              "    <tr>\n",
              "      <th>48</th>\n",
              "      <td>19.06.2023</td>\n",
              "      <td>12:30</td>\n",
              "      <td>WORLD</td>\n",
              "      <td>FRIENDLY INTERNATIONAL</td>\n",
              "      <td>Azerbaijan U21</td>\n",
              "      <td>Kyrgyzstan U21</td>\n",
              "      <td>62.00</td>\n",
              "      <td>19.00</td>\n",
              "      <td>1.02</td>\n",
              "      <td>1.01</td>\n",
              "      <td>15.00</td>\n",
              "      <td>1.15</td>\n",
              "      <td>5.50</td>\n",
              "      <td>1.72</td>\n",
              "      <td>2.05</td>\n",
              "    </tr>\n",
              "    <tr>\n",
              "      <th>49</th>\n",
              "      <td>19.06.2023</td>\n",
              "      <td>13:00</td>\n",
              "      <td>WORLD</td>\n",
              "      <td>FRIENDLY INTERNATIONAL</td>\n",
              "      <td>Qatar</td>\n",
              "      <td>New Zealand</td>\n",
              "      <td>2.70</td>\n",
              "      <td>3.00</td>\n",
              "      <td>2.63</td>\n",
              "      <td>1.40</td>\n",
              "      <td>2.88</td>\n",
              "      <td>2.30</td>\n",
              "      <td>1.60</td>\n",
              "      <td>1.90</td>\n",
              "      <td>1.87</td>\n",
              "    </tr>\n",
              "    <tr>\n",
              "      <th>50</th>\n",
              "      <td>19.06.2023</td>\n",
              "      <td>14:15</td>\n",
              "      <td>WORLD</td>\n",
              "      <td>FRIENDLY INTERNATIONAL</td>\n",
              "      <td>Hungary U21</td>\n",
              "      <td>Iceland U21</td>\n",
              "      <td>2.20</td>\n",
              "      <td>3.25</td>\n",
              "      <td>3.05</td>\n",
              "      <td>1.39</td>\n",
              "      <td>2.55</td>\n",
              "      <td>2.12</td>\n",
              "      <td>1.57</td>\n",
              "      <td>1.91</td>\n",
              "      <td>1.70</td>\n",
              "    </tr>\n",
              "    <tr>\n",
              "      <th>51</th>\n",
              "      <td>19.06.2023</td>\n",
              "      <td>15:15</td>\n",
              "      <td>WORLD</td>\n",
              "      <td>FRIENDLY INTERNATIONAL</td>\n",
              "      <td>Montenegro U21</td>\n",
              "      <td>Poland U21</td>\n",
              "      <td>3.10</td>\n",
              "      <td>3.50</td>\n",
              "      <td>2.10</td>\n",
              "      <td>1.22</td>\n",
              "      <td>4.00</td>\n",
              "      <td>1.72</td>\n",
              "      <td>2.05</td>\n",
              "      <td>1.62</td>\n",
              "      <td>2.20</td>\n",
              "    </tr>\n",
              "    <tr>\n",
              "      <th>52</th>\n",
              "      <td>19.06.2023</td>\n",
              "      <td>12:30</td>\n",
              "      <td>WORLD</td>\n",
              "      <td>CLUB FRIENDLY</td>\n",
              "      <td>O. Ljubljana (Slo)</td>\n",
              "      <td>Radomlje (Slo)</td>\n",
              "      <td>3.10</td>\n",
              "      <td>3.50</td>\n",
              "      <td>2.10</td>\n",
              "      <td>1.22</td>\n",
              "      <td>4.00</td>\n",
              "      <td>1.72</td>\n",
              "      <td>2.05</td>\n",
              "      <td>1.62</td>\n",
              "      <td>2.20</td>\n",
              "    </tr>\n",
              "    <tr>\n",
              "      <th>53</th>\n",
              "      <td>19.06.2023</td>\n",
              "      <td>12:30</td>\n",
              "      <td>WORLD</td>\n",
              "      <td>CLUB FRIENDLY</td>\n",
              "      <td>Rogaska (Slo)</td>\n",
              "      <td>Ferencvaros (Hun)</td>\n",
              "      <td>13.00</td>\n",
              "      <td>7.00</td>\n",
              "      <td>1.16</td>\n",
              "      <td>1.07</td>\n",
              "      <td>7.00</td>\n",
              "      <td>1.36</td>\n",
              "      <td>3.00</td>\n",
              "      <td>1.95</td>\n",
              "      <td>1.75</td>\n",
              "    </tr>\n",
              "    <tr>\n",
              "      <th>54</th>\n",
              "      <td>19.06.2023</td>\n",
              "      <td>06:00</td>\n",
              "      <td>WORLD</td>\n",
              "      <td>FRIENDLY INTERNATIONAL WOMEN</td>\n",
              "      <td>Poland U23 W</td>\n",
              "      <td>Vietnam W</td>\n",
              "      <td>13.00</td>\n",
              "      <td>7.00</td>\n",
              "      <td>1.16</td>\n",
              "      <td>1.07</td>\n",
              "      <td>7.00</td>\n",
              "      <td>1.36</td>\n",
              "      <td>3.00</td>\n",
              "      <td>1.95</td>\n",
              "      <td>1.75</td>\n",
              "    </tr>\n",
              "  </tbody>\n",
              "</table>\n",
              "</div>"
            ],
            "text/plain": [
              "          Date   Time    Country  \\\n",
              "1   19.06.2023  13:00     EUROPE   \n",
              "2   19.06.2023  13:00     EUROPE   \n",
              "3   19.06.2023  13:00     EUROPE   \n",
              "4   19.06.2023  15:45     EUROPE   \n",
              "5   19.06.2023  15:45     EUROPE   \n",
              "6   19.06.2023  15:45     EUROPE   \n",
              "7   19.06.2023  15:45     EUROPE   \n",
              "8   19.06.2023  15:45     EUROPE   \n",
              "9   19.06.2023  15:45     EUROPE   \n",
              "10  19.06.2023  15:45     EUROPE   \n",
              "11  19.06.2023  15:45     EUROPE   \n",
              "12  19.06.2023  15:45     EUROPE   \n",
              "13  19.06.2023  12:00     EUROPE   \n",
              "14  19.06.2023  15:00  ARGENTINA   \n",
              "15  19.06.2023  15:00  ARGENTINA   \n",
              "16  19.06.2023  15:00  ARGENTINA   \n",
              "17  19.06.2023  16:30  ARGENTINA   \n",
              "18  19.06.2023  19:00  ARGENTINA   \n",
              "19  19.06.2023  17:05  ARGENTINA   \n",
              "20  19.06.2023  07:00       ASIA   \n",
              "21  19.06.2023  09:00       ASIA   \n",
              "22  19.06.2023  11:00       ASIA   \n",
              "23  19.06.2023  11:00       ASIA   \n",
              "24  19.06.2023  20:00     BRAZIL   \n",
              "25  19.06.2023  21:00    ECUADOR   \n",
              "26  19.06.2023  13:15       MALI   \n",
              "27  19.06.2023  13:15       MALI   \n",
              "28  19.06.2023  13:15       MALI   \n",
              "29  19.06.2023  12:30      NIGER   \n",
              "30  19.06.2023  12:30      NIGER   \n",
              "31  19.06.2023  14:00    SENEGAL   \n",
              "32  19.06.2023  13:00     SWEDEN   \n",
              "33  19.06.2023  14:00     SWEDEN   \n",
              "34  19.06.2023  14:00     SWEDEN   \n",
              "35  19.06.2023  14:00     SWEDEN   \n",
              "36  19.06.2023  14:00     SWEDEN   \n",
              "37  19.06.2023  10:00   TANZANIA   \n",
              "38  19.06.2023  05:00      WORLD   \n",
              "39  19.06.2023  06:30      WORLD   \n",
              "40  19.06.2023  07:00      WORLD   \n",
              "41  19.06.2023  07:00      WORLD   \n",
              "42  19.06.2023  08:00      WORLD   \n",
              "43  19.06.2023  08:35      WORLD   \n",
              "44  19.06.2023  09:00      WORLD   \n",
              "45  19.06.2023  09:00      WORLD   \n",
              "46  19.06.2023  09:30      WORLD   \n",
              "47  19.06.2023  12:00      WORLD   \n",
              "48  19.06.2023  12:30      WORLD   \n",
              "49  19.06.2023  13:00      WORLD   \n",
              "50  19.06.2023  14:15      WORLD   \n",
              "51  19.06.2023  15:15      WORLD   \n",
              "52  19.06.2023  12:30      WORLD   \n",
              "53  19.06.2023  12:30      WORLD   \n",
              "54  19.06.2023  06:00      WORLD   \n",
              "\n",
              "                                           League                 Home  \\\n",
              "1                  EURO - QUALIFICATION - ROUND 4              Armenia   \n",
              "2                  EURO - QUALIFICATION - ROUND 4              Finland   \n",
              "3                  EURO - QUALIFICATION - ROUND 4              Ukraine   \n",
              "4                  EURO - QUALIFICATION - ROUND 4              Belarus   \n",
              "5                  EURO - QUALIFICATION - ROUND 4              England   \n",
              "6                  EURO - QUALIFICATION - ROUND 4               France   \n",
              "7                  EURO - QUALIFICATION - ROUND 4              Ireland   \n",
              "8                  EURO - QUALIFICATION - ROUND 4               Israel   \n",
              "9                  EURO - QUALIFICATION - ROUND 4     Northern Ireland   \n",
              "10                 EURO - QUALIFICATION - ROUND 4             Slovenia   \n",
              "11                 EURO - QUALIFICATION - ROUND 4          Switzerland   \n",
              "12                 EURO - QUALIFICATION - ROUND 4               Turkey   \n",
              "13                       EURO U21 - QUALIFICATION        Gibraltar U21   \n",
              "14                    PRIMERA NACIONAL - ROUND 21      Almirante Brown   \n",
              "15                    PRIMERA NACIONAL - ROUND 18     Atletico Atlanta   \n",
              "16                    PRIMERA NACIONAL - ROUND 18         Dep. Riestra   \n",
              "17                    PRIMERA NACIONAL - ROUND 18       Chaco For Ever   \n",
              "18                    PRIMERA NACIONAL - ROUND 18       Racing Cordoba   \n",
              "19                   COPA ARGENTINA - 1/32-FINALS             Banfield   \n",
              "20                           AFC CHAMPIONSHIP U17            China U17   \n",
              "21                           AFC CHAMPIONSHIP U17      Afghanistan U17   \n",
              "22                           AFC CHAMPIONSHIP U17            Qatar U17   \n",
              "23                           AFC CHAMPIONSHIP U17     Saudi Arabia U17   \n",
              "24  BRASILEIRO WOMEN - PLAY OFFS - QUARTER-FINALS           Cruzeiro W   \n",
              "25              LIGA PRO - FIRST STAGE - ROUND 15           Tecnico U.   \n",
              "26                   PREMIERE DIVISION - ROUND 25             Korofina   \n",
              "27                   PREMIERE DIVISION - ROUND 25            LC Bamako   \n",
              "28                   PREMIERE DIVISION - ROUND 25         Stade Malien   \n",
              "29                             LIGUE 1 - ROUND 23                ASFAN   \n",
              "30                             LIGUE 1 - ROUND 23                Sahel   \n",
              "31                             LIGUE 1 - ROUND 22             Dakar SC   \n",
              "32                   ALLSVENSKAN WOMEN - ROUND 14          Rosengard W   \n",
              "33                   ALLSVENSKAN WOMEN - ROUND 14           Hammarby W   \n",
              "34                   ALLSVENSKAN WOMEN - ROUND 14  IF Brommapojkarna W   \n",
              "35                   ALLSVENSKAN WOMEN - ROUND 14       Kristianstad W   \n",
              "36                   ALLSVENSKAN WOMEN - ROUND 14          Vaxjo DFF W   \n",
              "37             LIGI KUU BARA - RELEGATION - FINAL             Mashujaa   \n",
              "38                         FRIENDLY INTERNATIONAL         Bulgaria U17   \n",
              "39                         FRIENDLY INTERNATIONAL            China U22   \n",
              "40                         FRIENDLY INTERNATIONAL                Macau   \n",
              "41                         FRIENDLY INTERNATIONAL       Tajikistan U23   \n",
              "42                         FRIENDLY INTERNATIONAL          Philippines   \n",
              "43                         FRIENDLY INTERNATIONAL            China U23   \n",
              "44                         FRIENDLY INTERNATIONAL            Hong Kong   \n",
              "45                         FRIENDLY INTERNATIONAL              Jamaica   \n",
              "46                         FRIENDLY INTERNATIONAL            Indonesia   \n",
              "47                         FRIENDLY INTERNATIONAL          Ireland U21   \n",
              "48                         FRIENDLY INTERNATIONAL       Azerbaijan U21   \n",
              "49                         FRIENDLY INTERNATIONAL                Qatar   \n",
              "50                         FRIENDLY INTERNATIONAL          Hungary U21   \n",
              "51                         FRIENDLY INTERNATIONAL       Montenegro U21   \n",
              "52                                  CLUB FRIENDLY   O. Ljubljana (Slo)   \n",
              "53                                  CLUB FRIENDLY        Rogaska (Slo)   \n",
              "54                   FRIENDLY INTERNATIONAL WOMEN         Poland U23 W   \n",
              "\n",
              "                  Away  Odd_H  Odd_D   Odd_A  Odd_Over15  Odd_Under15  \\\n",
              "1               Latvia   1.75   4.00    4.50        1.28         3.75   \n",
              "2           San Marino   1.02  21.00  126.00        1.04        11.00   \n",
              "3                Malta   1.09   8.50   21.00        1.10         7.00   \n",
              "4               Kosovo   5.50   3.75    1.70        1.40         2.95   \n",
              "5      North Macedonia   1.11   9.50   29.00        1.13         6.00   \n",
              "6               Greece   1.26   6.00   13.00        1.18         5.00   \n",
              "7            Gibraltar  25.00  65.00   51.00        1.06         9.50   \n",
              "8              Andorra   1.12   9.50   26.00        1.13         6.00   \n",
              "9           Kazakhstan   1.63   3.75    6.50        1.40         2.95   \n",
              "10             Denmark   4.33   3.60    1.88        1.40         3.00   \n",
              "11             Romania   1.40   4.75    9.00        1.30         3.60   \n",
              "12               Wales   1.88   3.50    4.50        1.40         3.00   \n",
              "13          Sweden U21  29.00  17.00    1.03        1.40         3.00   \n",
              "14             Almagro   2.10   3.00    3.75        1.60         2.25   \n",
              "15      CA Estudiantes   2.30   2.95    3.25        1.62         2.20   \n",
              "16             Quilmes   2.05   3.20    3.60        1.45         2.60   \n",
              "17     Deportivo Maipu   2.55   2.90    2.90        1.57         2.30   \n",
              "18       Brown Adrogue   1.95   3.10    4.00        1.55         2.35   \n",
              "19  Argentino de Merlo   1.36   4.50    8.50        1.25         3.75   \n",
              "20       Australia U17   1.36   4.50    8.50        1.25         3.75   \n",
              "21     South Korea U17   1.36   4.50    8.50        1.25         3.75   \n",
              "22            Iran U17   1.36   4.50    8.50        1.25         3.75   \n",
              "23      Tajikistan U17   1.36   4.50    8.50        1.25         3.75   \n",
              "24       Corinthians W   7.50   4.75    1.30        1.11         5.50   \n",
              "25              Delfin   1.83   3.30    4.33        1.44         2.65   \n",
              "26         Black Stars   1.83   3.30    4.33        1.44         2.65   \n",
              "27             Djoliba   4.45   2.90    1.88        1.62         2.02   \n",
              "28      Onze Createurs   3.35   2.57    2.42        1.75         1.87   \n",
              "29             Liberte   3.35   2.57    2.42        1.75         1.87   \n",
              "30              Tahoua   3.35   2.57    2.42        1.75         1.87   \n",
              "31             Sonacos   1.98   2.77    4.30        1.70         1.93   \n",
              "32           Uppsala W   1.07   8.50   18.00        1.06         7.50   \n",
              "33            Orebro W   1.08   8.50   14.00        1.08         6.50   \n",
              "34           Vittsjo W   7.50   4.75    1.30        1.20         4.00   \n",
              "35            Hacken W   3.25   3.60    1.91        1.20         4.00   \n",
              "36        Norrkoping W   2.63   3.40    2.30        1.20         4.00   \n",
              "37          Mbeya City   2.63   3.40    2.30        1.20         4.00   \n",
              "38         Austria U16   2.63   3.40    2.30        1.20         4.00   \n",
              "39      Uzbekistan U23   2.63   3.40    2.30        1.20         4.00   \n",
              "40             Myanmar   2.63   3.40    2.30        1.20         4.00   \n",
              "41       Hong Kong U23   2.63   3.40    2.30        1.20         4.00   \n",
              "42      Chinese Taipei   2.63   3.40    2.30        1.20         4.00   \n",
              "43     South Korea U23   6.10   3.85    1.50        1.25         3.25   \n",
              "44            Thailand   5.00   4.00    1.60        1.25         3.75   \n",
              "45              Jordan   2.45   3.00    2.88        1.40         2.88   \n",
              "46           Argentina  62.00  19.00    1.02        1.01        15.00   \n",
              "47          Kuwait U22  62.00  19.00    1.02        1.01        15.00   \n",
              "48      Kyrgyzstan U21  62.00  19.00    1.02        1.01        15.00   \n",
              "49         New Zealand   2.70   3.00    2.63        1.40         2.88   \n",
              "50         Iceland U21   2.20   3.25    3.05        1.39         2.55   \n",
              "51          Poland U21   3.10   3.50    2.10        1.22         4.00   \n",
              "52      Radomlje (Slo)   3.10   3.50    2.10        1.22         4.00   \n",
              "53   Ferencvaros (Hun)  13.00   7.00    1.16        1.07         7.00   \n",
              "54           Vietnam W  13.00   7.00    1.16        1.07         7.00   \n",
              "\n",
              "    Odd_Over25  Odd_Under25  Odd_BTTS_Yes  Odd_BTTS_No  \n",
              "1         1.83         2.00          1.75         2.05  \n",
              "2         1.19         4.75          4.00         1.24  \n",
              "3         1.36         3.00          2.25         1.63  \n",
              "4         2.25         1.66          2.15         1.70  \n",
              "5         1.44         2.80          2.60         1.48  \n",
              "6         1.58         2.40          2.05         1.75  \n",
              "7         1.24         4.20          4.33         1.20  \n",
              "8         1.44         2.85          2.45         1.53  \n",
              "9         2.25         1.66          2.20         1.65  \n",
              "10        2.15         1.70          2.00         1.80  \n",
              "11        1.90         1.90          2.20         1.66  \n",
              "12        2.25         1.66          2.00         1.78  \n",
              "13        1.10         7.00          1.10         7.00  \n",
              "14        2.80         1.40          2.35         1.55  \n",
              "15        2.90         1.38          2.30         1.57  \n",
              "16        2.40         1.53          2.05         1.72  \n",
              "17        2.75         1.42          2.20         1.62  \n",
              "18        2.65         1.44          2.30         1.57  \n",
              "19        1.80         1.95          2.10         1.68  \n",
              "20        1.80         1.95          2.10         1.68  \n",
              "21        1.80         1.95          2.10         1.68  \n",
              "22        1.80         1.95          2.10         1.68  \n",
              "23        1.80         1.95          2.10         1.68  \n",
              "24        1.45         2.55          1.65         2.10  \n",
              "25        2.35         1.55          2.10         1.68  \n",
              "26        2.35         1.55          2.10         1.68  \n",
              "27        2.93         1.33          2.54         1.49  \n",
              "28        3.28         1.27          2.51         1.50  \n",
              "29        3.28         1.27          2.51         1.50  \n",
              "30        3.28         1.27          2.51         1.50  \n",
              "31        2.32         1.47          2.60         1.47  \n",
              "32        1.29         3.30          2.10         1.65  \n",
              "33        1.40         2.75          2.25         1.57  \n",
              "34        1.73         2.00          1.95         1.75  \n",
              "35        1.65         2.10          1.57         2.25  \n",
              "36        1.73         2.00          1.57         2.25  \n",
              "37        1.73         2.00          1.57         2.25  \n",
              "38        1.73         2.00          1.57         2.25  \n",
              "39        1.73         2.00          1.57         2.25  \n",
              "40        1.73         2.00          1.57         2.25  \n",
              "41        1.73         2.00          1.57         2.25  \n",
              "42        1.73         2.00          1.57         2.25  \n",
              "43        1.75         1.87          1.83         1.78  \n",
              "44        1.75         2.00          1.80         1.95  \n",
              "45        2.30         1.60          1.90         1.87  \n",
              "46        1.15         5.50          1.72         2.05  \n",
              "47        1.15         5.50          1.72         2.05  \n",
              "48        1.15         5.50          1.72         2.05  \n",
              "49        2.30         1.60          1.90         1.87  \n",
              "50        2.12         1.57          1.91         1.70  \n",
              "51        1.72         2.05          1.62         2.20  \n",
              "52        1.72         2.05          1.62         2.20  \n",
              "53        1.36         3.00          1.95         1.75  \n",
              "54        1.36         3.00          1.95         1.75  "
            ]
          },
          "execution_count": 7,
          "metadata": {},
          "output_type": "execute_result"
        }
      ],
      "source": [
        "df = pd.DataFrame(jogo)\n",
        "df = drop_reset_index(df)\n",
        "df"
      ]
    },
    {
      "cell_type": "code",
      "execution_count": 8,
      "metadata": {},
      "outputs": [],
      "source": [
        "df = df.rename(columns={'Odd_H': 'FT_Odd_H',\n",
        "                        'Odd_D': 'FT_Odd_D',\n",
        "                        'Odd_A': 'FT_Odd_A',\n",
        "                        'Odd_Over15': 'FT_Odd_Over15',\n",
        "                        'Odd_Under15': 'FT_Odd_Under15',\n",
        "                        'Odd_Over25': 'FT_Odd_Over25',\n",
        "                        'Odd_Under25': 'FT_Odd_Under25',\n",
        "                        'Odd_BTTS_Yes': 'FT_Odd_BTTS_Yes',\n",
        "                        'Odd_BTTS_No': 'FT_Odd_BTTS_No',\n",
        "                        })"
      ]
    },
    {
      "cell_type": "code",
      "execution_count": 9,
      "metadata": {
        "id": "RMxg0e62rlQv"
      },
      "outputs": [],
      "source": [
        "# Gerando os dados para excel\n",
        "from datetime import date, datetime, timedelta\n",
        "data = datetime.today() + timedelta(1)\n",
        "amanha = data.strftime('%Y-%m-%d')\n",
        "nome = 'Jogos_do_Dia_FlashScore.xlsx'\n",
        "\n",
        "df.to_excel(f'G:\\\\Meu Drive\\\\Programacao\\\\futPythonTrader\\\\Jogos do dia\\\\{amanha}_{nome}', index = False)"
      ]
    }
  ],
  "metadata": {
    "colab": {
      "collapsed_sections": [
        "Hs058KhByBQE",
        "LPftcTqaYDN7",
        "SxNjCaz_ZDBZ"
      ],
      "provenance": []
    },
    "kernelspec": {
      "display_name": "Python 3",
      "name": "python3"
    },
    "language_info": {
      "codemirror_mode": {
        "name": "ipython",
        "version": 3
      },
      "file_extension": ".py",
      "mimetype": "text/x-python",
      "name": "python",
      "nbconvert_exporter": "python",
      "pygments_lexer": "ipython3",
      "version": "3.10.1"
    }
  },
  "nbformat": 4,
  "nbformat_minor": 0
}
