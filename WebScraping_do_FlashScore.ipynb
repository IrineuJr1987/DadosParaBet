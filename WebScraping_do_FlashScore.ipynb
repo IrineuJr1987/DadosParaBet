{
  "cells": [
    {
      "cell_type": "code",
      "execution_count": 1,
      "metadata": {
        "id": "Il4jpanbyALF"
      },
      "outputs": [],
      "source": [
        "import pandas as pd\n",
        "import numpy as np\n",
        "\n",
        "import warnings\n",
        "warnings.filterwarnings('ignore')\n",
        "\n",
        "def dia():\n",
        "    from datetime import date, timedelta\n",
        "    dia = date.today() + timedelta(0)\n",
        "    return dia\n",
        "\n",
        "def drop_reset_index(df):\n",
        "    df = df.dropna()\n",
        "    df = df.reset_index(drop=True)\n",
        "    df.index += 1\n",
        "    return df\n",
        "    \n",
        "def grafico(df, nome):\n",
        "    df = df.reset_index(drop=True)\n",
        "    df.index += 1\n",
        "    df['Profit_acu'] = df.Profit.cumsum()\n",
        "    profit = round(df.Profit_acu.tail(1).item(),2)\n",
        "    ROI = round((df.Profit_acu.tail(1)/len(df)*100).item(),2)\n",
        "    df.Profit_acu.plot(title=nome, xlabel='Entradas', ylabel='Stakes')\n",
        "    print(\"Profit:\",profit,\"stakes em\", len(df),\"jogos\")\n",
        "    print(\"ROI:\",ROI,\"%\")"
      ]
    },
    {
      "attachments": {},
      "cell_type": "markdown",
      "metadata": {
        "id": "LPftcTqaYDN7"
      },
      "source": [
        "## Instalando as Dependências do Ubuntu"
      ]
    },
    {
      "cell_type": "code",
      "execution_count": 2,
      "metadata": {
        "colab": {
          "base_uri": "https://localhost:8080/"
        },
        "id": "gxE6n0dHk_cg",
        "outputId": "5b5b3173-8a5f-4846-c3bf-8ea3f2b2701b"
      },
      "outputs": [],
      "source": [
        "# %%shell\n",
        "# # Ubuntu no longer distributes chromium-browser outside of snap\n",
        "# #\n",
        "# # Proposed solution: https://askubuntu.com/questions/1204571/how-to-install-chromium-without-snap\n",
        "\n",
        "# # Add debian buster\n",
        "# cat > /etc/apt/sources.list.d/debian.list <<'EOF'\n",
        "# deb [arch=amd64 signed-by=/usr/share/keyrings/debian-buster.gpg] http://deb.debian.org/debian buster main\n",
        "# deb [arch=amd64 signed-by=/usr/share/keyrings/debian-buster-updates.gpg] http://deb.debian.org/debian buster-updates main\n",
        "# deb [arch=amd64 signed-by=/usr/share/keyrings/debian-security-buster.gpg] http://deb.debian.org/debian-security buster/updates main\n",
        "# EOF\n",
        "\n",
        "# # Add keys\n",
        "# apt-key adv --keyserver keyserver.ubuntu.com --recv-keys DCC9EFBF77E11517\n",
        "# apt-key adv --keyserver keyserver.ubuntu.com --recv-keys 648ACFD622F3D138\n",
        "# apt-key adv --keyserver keyserver.ubuntu.com --recv-keys 112695A0E562B32A\n",
        "\n",
        "# apt-key export 77E11517 | gpg --dearmour -o /usr/share/keyrings/debian-buster.gpg\n",
        "# apt-key export 22F3D138 | gpg --dearmour -o /usr/share/keyrings/debian-buster-updates.gpg\n",
        "# apt-key export E562B32A | gpg --dearmour -o /usr/share/keyrings/debian-security-buster.gpg\n",
        "\n",
        "# # Prefer debian repo for chromium* packages only\n",
        "# # Note the double-blank lines between entries\n",
        "# cat > /etc/apt/preferences.d/chromium.pref << 'EOF'\n",
        "# Package: *\n",
        "# Pin: release a=eoan\n",
        "# Pin-Priority: 500\n",
        "\n",
        "# Package: *\n",
        "# Pin: origin \"deb.debian.org\"\n",
        "# Pin-Priority: 300\n",
        "\n",
        "# Package: chromium*\n",
        "# Pin: origin \"deb.debian.org\"\n",
        "# Pin-Priority: 700\n",
        "# EOF\n",
        "\n",
        "# # Install chromium and chromium-driver\n",
        "# apt-get update\n",
        "# apt-get install chromium chromium-driver\n",
        "\n",
        "# # Install selenium\n",
        "# pip install selenium"
      ]
    },
    {
      "attachments": {},
      "cell_type": "markdown",
      "metadata": {
        "id": "SxNjCaz_ZDBZ"
      },
      "source": [
        "## Configuração do Web-Driver"
      ]
    },
    {
      "cell_type": "code",
      "execution_count": 3,
      "metadata": {
        "id": "fnFWgpcBh-nV"
      },
      "outputs": [],
      "source": [
        "import time\n",
        "from tqdm import tqdm\n",
        "from selenium import webdriver\n",
        "from selenium.webdriver.chrome.options import Options\n",
        "from selenium.webdriver.common.by import By\n",
        "\n",
        "options = Options()\n",
        "options.add_argument(\"--headless\")\n",
        "options.add_argument(\"--no-sandbox\")\n",
        "options.headless = True\n",
        "\n",
        "from selenium.webdriver.chrome.service import Service\n",
        "wd_Chrome = webdriver.Chrome(\"/usr/bin/chromedriver\", options=options)"
      ]
    },
    {
      "attachments": {},
      "cell_type": "markdown",
      "metadata": {
        "id": "FlNkojcdZybT"
      },
      "source": [
        "## Iniciando a Raspagem de Dados"
      ]
    },
    {
      "cell_type": "code",
      "execution_count": 4,
      "metadata": {
        "id": "eX6re9bjViBI"
      },
      "outputs": [],
      "source": [
        "# Com o WebDrive a gente consegue a pedir a página (URL)\n",
        "wd_Chrome.get(\"https://www.flashscore.com/\")"
      ]
    },
    {
      "cell_type": "code",
      "execution_count": 5,
      "metadata": {
        "id": "wL3Nnue6Vt5T"
      },
      "outputs": [],
      "source": [
        "# Fechando Botão de Cookies\n",
        "try:\n",
        "    button_cookies = wd_Chrome.find_element(By.CSS_SELECTOR,'button#onetrust-accept-btn-handler')\n",
        "    button_cookies.click()\n",
        "except:\n",
        "    pass\n",
        "\n",
        "# Selecionando o Dia de Amanhã\n",
        "wd_Chrome.find_element(By.CSS_SELECTOR,'button.calendar__navigation--tomorrow').click()\n",
        "time.sleep(3)\n",
        "\n",
        "# Pegando o ID dos Jogos\n",
        "id_jogos = []\n",
        "jogos = wd_Chrome.find_elements(By.CSS_SELECTOR,'div.event__match--scheduled')\n",
        "\n",
        "for i in jogos:\n",
        "    id_jogos.append(i.get_attribute(\"id\"))\n",
        "\n",
        "# Exemplo de ID de um jogo: 'g_1_Gb7buXVt'    \n",
        "id_jogos = [i[4:] for i in id_jogos]\n",
        "\n",
        "jogo = {'Date':[],'Time':[],'Country':[],'League':[],'Home':[],'Away':[],'Odd_H':[],'Odd_D':[],'Odd_A':[],'Odd_Over15':[],'Odd_Under15':[],'Odd_Over25':[],'Odd_Under25':[],'Odd_BTTS_Yes':[],'Odd_BTTS_No':[]}"
      ]
    },
    {
      "cell_type": "code",
      "execution_count": 6,
      "metadata": {
        "colab": {
          "base_uri": "https://localhost:8080/"
        },
        "id": "pfPc-OYBak9y",
        "outputId": "615af628-9ed6-4ec3-c72b-1696af141c5c"
      },
      "outputs": [
        {
          "name": "stderr",
          "output_type": "stream",
          "text": [
            " 72%|███████▏  | 138/193 [19:30<08:53,  9.70s/it]"
          ]
        },
        {
          "name": "stdout",
          "output_type": "stream",
          "text": [
            "09.07.2023 12:00 SWEDEN SUPERETTAN - ROUND 13 Skovde AIK GAIS 5.0 4.2 1.6 1.22 4.2 1.72 2.1 1.78 2.0\n"
          ]
        },
        {
          "name": "stderr",
          "output_type": "stream",
          "text": [
            " 72%|███████▏  | 139/193 [19:38<08:28,  9.42s/it]"
          ]
        },
        {
          "name": "stdout",
          "output_type": "stream",
          "text": [
            "09.07.2023 08:00 SWEDEN ALLSVENSKAN WOMEN - ROUND 17 IF Brommapojkarna W Norrkoping W 3.6 3.75 1.83 1.22 4.2 1.72 2.1 1.65 2.2\n"
          ]
        },
        {
          "name": "stderr",
          "output_type": "stream",
          "text": [
            " 73%|███████▎  | 140/193 [19:47<08:07,  9.19s/it]"
          ]
        },
        {
          "name": "stdout",
          "output_type": "stream",
          "text": [
            "09.07.2023 08:00 SWEDEN ALLSVENSKAN WOMEN - ROUND 17 Vittsjo W Djurgarden W 1.33 5.0 7.5 1.2 4.33 1.68 2.15 2.0 1.8\n"
          ]
        },
        {
          "name": "stderr",
          "output_type": "stream",
          "text": [
            " 73%|███████▎  | 141/193 [19:55<07:45,  8.95s/it]"
          ]
        },
        {
          "name": "stdout",
          "output_type": "stream",
          "text": [
            "09.07.2023 10:00 SWEDEN ALLSVENSKAN WOMEN - ROUND 17 Vaxjo DFF W Kalmar W 1.23 5.5 9.3 1.13 5.2 1.5 2.4 1.85 1.85\n"
          ]
        },
        {
          "name": "stderr",
          "output_type": "stream",
          "text": [
            " 74%|███████▎  | 142/193 [20:04<07:27,  8.77s/it]"
          ]
        },
        {
          "name": "stdout",
          "output_type": "stream",
          "text": [
            "09.07.2023 05:00 TAIWAN PREMIER LEAGUE - ROUND 4 Taichung Hang Yuen 1.68 3.75 4.2 1.2 4.0 1.72 2.0 1.68 2.05\n"
          ]
        },
        {
          "name": "stderr",
          "output_type": "stream",
          "text": [
            " 74%|███████▍  | 143/193 [20:13<07:26,  8.92s/it]"
          ]
        },
        {
          "name": "stdout",
          "output_type": "stream",
          "text": [
            "09.07.2023 12:30 URUGUAY PRIMERA DIVISION - TORNEO INTERMEDIO - ROUND 5 Plaza Colonia Maldonado 2.65 3.2 2.55 1.38 2.9 2.15 1.65 1.87 1.87\n"
          ]
        },
        {
          "name": "stderr",
          "output_type": "stream",
          "text": [
            " 75%|███████▍  | 144/193 [20:22<07:22,  9.03s/it]"
          ]
        },
        {
          "name": "stdout",
          "output_type": "stream",
          "text": [
            "09.07.2023 15:00 URUGUAY PRIMERA DIVISION - TORNEO INTERMEDIO - ROUND 5 Boston River Defensor Sp. 3.3 3.3 2.1 1.33 3.1 2.05 1.72 1.83 1.9\n"
          ]
        },
        {
          "name": "stderr",
          "output_type": "stream",
          "text": [
            " 75%|███████▌  | 145/193 [20:32<07:18,  9.13s/it]"
          ]
        },
        {
          "name": "stdout",
          "output_type": "stream",
          "text": [
            "09.07.2023 18:00 URUGUAY PRIMERA DIVISION - TORNEO INTERMEDIO - ROUND 5 Racing Montevideo Nacional 5.0 4.0 1.6 1.3 3.3 1.9 1.83 1.95 1.8\n"
          ]
        },
        {
          "name": "stderr",
          "output_type": "stream",
          "text": [
            " 76%|███████▌  | 146/193 [20:40<07:05,  9.04s/it]"
          ]
        },
        {
          "name": "stdout",
          "output_type": "stream",
          "text": [
            "09.07.2023 18:30 USA NWSL WOMEN Gotham W Portland Thorns W 3.3 3.5 1.95 1.2 4.0 1.72 2.0 1.63 2.15\n"
          ]
        },
        {
          "name": "stderr",
          "output_type": "stream",
          "text": [
            " 76%|███████▌  | 147/193 [20:49<06:45,  8.81s/it]"
          ]
        },
        {
          "name": "stdout",
          "output_type": "stream",
          "text": [
            "09.07.2023 21:00 USA NWSL WOMEN Angel City W North Carolina Courage W 3.3 3.4 2.0 1.29 3.3 2.0 1.72 1.83 1.87\n"
          ]
        },
        {
          "name": "stderr",
          "output_type": "stream",
          "text": [
            " 77%|███████▋  | 148/193 [20:57<06:31,  8.70s/it]"
          ]
        },
        {
          "name": "stdout",
          "output_type": "stream",
          "text": [
            "09.07.2023 19:00 VENEZUELA LIGA FUTVE - ROUND 18 Caracas Puerto Cabello 2.63 3.0 2.63 1.36 2.88 2.3 1.6 1.91 1.8\n"
          ]
        },
        {
          "name": "stderr",
          "output_type": "stream",
          "text": [
            " 77%|███████▋  | 149/193 [21:06<06:19,  8.63s/it]"
          ]
        },
        {
          "name": "stdout",
          "output_type": "stream",
          "text": [
            "09.07.2023 21:15 VENEZUELA LIGA FUTVE - ROUND 18 Zamora Portuguesa 2.3 2.9 3.1 1.44 2.63 2.55 1.5 2.1 1.67\n"
          ]
        },
        {
          "name": "stderr",
          "output_type": "stream",
          "text": [
            " 78%|███████▊  | 150/193 [21:14<06:04,  8.47s/it]"
          ]
        },
        {
          "name": "stdout",
          "output_type": "stream",
          "text": [
            "09.07.2023 06:00 WORLD CLUB FRIENDLY Bahlinger (Ger) Hoffenheim II (Ger) 3.45 3.95 1.75 1.44 2.63 1.48 2.6 2.05 1.6\n"
          ]
        },
        {
          "name": "stderr",
          "output_type": "stream",
          "text": [
            " 78%|███████▊  | 151/193 [21:22<05:50,  8.34s/it]"
          ]
        },
        {
          "name": "stdout",
          "output_type": "stream",
          "text": [
            "09.07.2023 06:00 WORLD CLUB FRIENDLY D. Kubin (Svk) Spisska Nova Ves (Svk) 2.7 3.3 2.3 1.14 4.8 1.6 2.2 1.5 2.4\n"
          ]
        },
        {
          "name": "stderr",
          "output_type": "stream",
          "text": [
            " 79%|███████▉  | 152/193 [21:30<05:35,  8.19s/it]"
          ]
        },
        {
          "name": "stdout",
          "output_type": "stream",
          "text": [
            "09.07.2023 06:00 WORLD CLUB FRIENDLY Kolding IF (Den) SC Weiche-08 (Ger) 2.15 3.8 2.62 1.11 5.2 1.43 2.54 1.41 2.81\n"
          ]
        },
        {
          "name": "stderr",
          "output_type": "stream",
          "text": [
            " 79%|███████▉  | 153/193 [21:37<05:22,  8.06s/it]"
          ]
        },
        {
          "name": "stdout",
          "output_type": "stream",
          "text": [
            "09.07.2023 06:00 WORLD CLUB FRIENDLY Liberec B (Cze) Sparta Prague B (Cze) 4.4 4.25 1.55 1.12 5.2 1.42 2.57 1.51 2.48\n"
          ]
        },
        {
          "name": "stderr",
          "output_type": "stream",
          "text": [
            " 80%|███████▉  | 154/193 [21:45<05:05,  7.82s/it]"
          ]
        },
        {
          "name": "stdout",
          "output_type": "stream",
          "text": [
            "09.07.2023 06:00 WORLD CLUB FRIENDLY Monaco (Fra) Royale Union SG (Bel) 4.4 4.25 1.55 1.12 5.2 1.42 2.57 1.51 2.48\n"
          ]
        },
        {
          "name": "stderr",
          "output_type": "stream",
          "text": [
            " 80%|████████  | 155/193 [21:52<04:49,  7.63s/it]"
          ]
        },
        {
          "name": "stdout",
          "output_type": "stream",
          "text": [
            "09.07.2023 07:00 WORLD CLUB FRIENDLY Bordesholm (Ger) Eimsbutteler (Ger) 4.4 4.25 1.55 1.12 5.2 1.42 2.57 1.51 2.48\n"
          ]
        },
        {
          "name": "stderr",
          "output_type": "stream",
          "text": [
            " 81%|████████  | 156/193 [22:00<04:52,  7.90s/it]"
          ]
        },
        {
          "name": "stdout",
          "output_type": "stream",
          "text": [
            "09.07.2023 07:00 WORLD CLUB FRIENDLY Odense (Den) Viborg (Den) 2.55 3.3 2.4 1.14 4.8 1.57 2.25 1.45 2.55\n"
          ]
        },
        {
          "name": "stderr",
          "output_type": "stream",
          "text": [
            " 81%|████████▏ | 157/193 [22:08<04:38,  7.74s/it]"
          ]
        },
        {
          "name": "stdout",
          "output_type": "stream",
          "text": [
            "09.07.2023 09:00 WORLD CLUB FRIENDLY Eckernforder SV (Ger) Norderstedt (Ger) 2.55 3.3 2.4 1.14 4.8 1.57 2.25 1.45 2.55\n"
          ]
        },
        {
          "name": "stderr",
          "output_type": "stream",
          "text": [
            " 82%|████████▏ | 158/193 [22:15<04:28,  7.66s/it]"
          ]
        },
        {
          "name": "stdout",
          "output_type": "stream",
          "text": [
            "09.07.2023 09:00 WORLD CLUB FRIENDLY FK Rostov (Rus) Fakel Voronezh (Rus) 2.55 3.3 2.4 1.14 4.8 1.57 2.25 1.45 2.55\n"
          ]
        },
        {
          "name": "stderr",
          "output_type": "stream",
          "text": [
            " 82%|████████▏ | 159/193 [22:23<04:18,  7.60s/it]"
          ]
        },
        {
          "name": "stdout",
          "output_type": "stream",
          "text": [
            "09.07.2023 09:00 WORLD CLUB FRIENDLY Hatayspor (Tur) Hull (Eng) 2.55 3.3 2.4 1.14 4.8 1.57 2.25 1.45 2.55\n"
          ]
        },
        {
          "name": "stderr",
          "output_type": "stream",
          "text": [
            " 83%|████████▎ | 160/193 [22:30<04:12,  7.65s/it]"
          ]
        },
        {
          "name": "stdout",
          "output_type": "stream",
          "text": [
            "09.07.2023 09:00 WORLD CLUB FRIENDLY Heerenveen (Ned) Emden (Ger) 1.04 13.0 23.0 1.01 11.0 1.1 7.0 1.6 2.27\n"
          ]
        },
        {
          "name": "stderr",
          "output_type": "stream",
          "text": [
            " 83%|████████▎ | 161/193 [22:38<04:03,  7.62s/it]"
          ]
        },
        {
          "name": "stdout",
          "output_type": "stream",
          "text": [
            "09.07.2023 09:00 WORLD CLUB FRIENDLY Kassel (Ger) Lippstadt (Ger) 2.2 3.8 2.55 1.01 11.0 1.44 2.55 1.4 2.85\n"
          ]
        },
        {
          "name": "stderr",
          "output_type": "stream",
          "text": [
            " 84%|████████▍ | 162/193 [22:45<03:51,  7.46s/it]"
          ]
        },
        {
          "name": "stdout",
          "output_type": "stream",
          "text": [
            "09.07.2023 09:00 WORLD CLUB FRIENDLY Litex Lovech (Bul) Etar (Bul) 3.55 3.25 1.93 1.01 11.0 1.7 1.91 1.7 1.91\n"
          ]
        },
        {
          "name": "stderr",
          "output_type": "stream",
          "text": [
            " 84%|████████▍ | 163/193 [22:53<03:45,  7.52s/it]"
          ]
        },
        {
          "name": "stdout",
          "output_type": "stream",
          "text": [
            "09.07.2023 09:00 WORLD CLUB FRIENDLY Lokomotive Leipzig (Ger) Hallescher (Ger) 2.5 3.75 2.3 1.08 6.5 1.36 2.88 1.33 3.0\n"
          ]
        },
        {
          "name": "stderr",
          "output_type": "stream",
          "text": [
            " 85%|████████▍ | 164/193 [23:00<03:35,  7.44s/it]"
          ]
        },
        {
          "name": "stdout",
          "output_type": "stream",
          "text": [
            "09.07.2023 09:00 WORLD CLUB FRIENDLY Mahlsdorf (Ger) Mariendorf (Ger) 2.5 3.75 2.3 1.08 6.5 1.36 2.88 1.33 3.0\n"
          ]
        },
        {
          "name": "stderr",
          "output_type": "stream",
          "text": [
            " 85%|████████▌ | 165/193 [23:08<03:32,  7.60s/it]"
          ]
        },
        {
          "name": "stdout",
          "output_type": "stream",
          "text": [
            "09.07.2023 09:00 WORLD CLUB FRIENDLY Pforzheim (Ger) Freiberg (Ger) 2.4 3.25 2.6 1.17 4.25 1.57 2.1 1.51 2.48\n"
          ]
        },
        {
          "name": "stderr",
          "output_type": "stream",
          "text": [
            " 86%|████████▌ | 166/193 [23:15<03:21,  7.48s/it]"
          ]
        },
        {
          "name": "stdout",
          "output_type": "stream",
          "text": [
            "09.07.2023 09:00 WORLD CLUB FRIENDLY Preussen Munster 2 (Ger) Wiedenbruck (Ger) 2.4 3.25 2.6 1.17 4.25 1.57 2.1 1.51 2.48\n"
          ]
        },
        {
          "name": "stderr",
          "output_type": "stream",
          "text": [
            " 87%|████████▋ | 167/193 [23:23<03:19,  7.66s/it]"
          ]
        },
        {
          "name": "stdout",
          "output_type": "stream",
          "text": [
            "09.07.2023 09:00 WORLD CLUB FRIENDLY Radnicki 1923 (Srb) Borac Banja Luka (Bih) 2.0 3.25 3.3 1.25 3.6 1.85 1.85 1.65 2.1\n"
          ]
        },
        {
          "name": "stderr",
          "output_type": "stream",
          "text": [
            " 87%|████████▋ | 168/193 [23:30<03:07,  7.52s/it]"
          ]
        },
        {
          "name": "stdout",
          "output_type": "stream",
          "text": [
            "09.07.2023 09:00 WORLD CLUB FRIENDLY Velez Mostar (Bih) Igman K. (Bih) 2.0 3.25 3.3 1.25 3.6 1.85 1.85 1.65 2.1\n"
          ]
        },
        {
          "name": "stderr",
          "output_type": "stream",
          "text": [
            " 88%|████████▊ | 169/193 [23:38<02:58,  7.42s/it]"
          ]
        },
        {
          "name": "stdout",
          "output_type": "stream",
          "text": [
            "09.07.2023 09:00 WORLD CLUB FRIENDLY Vitoria Guimaraes (Por) Wolves (Eng) 2.0 3.25 3.3 1.25 3.6 1.85 1.85 1.65 2.1\n"
          ]
        },
        {
          "name": "stderr",
          "output_type": "stream",
          "text": [
            " 88%|████████▊ | 170/193 [23:45<02:48,  7.34s/it]"
          ]
        },
        {
          "name": "stdout",
          "output_type": "stream",
          "text": [
            "09.07.2023 10:00 WORLD CLUB FRIENDLY Herford (Ger) Lotte (Ger) 2.0 3.25 3.3 1.25 3.6 1.85 1.85 1.65 2.1\n"
          ]
        },
        {
          "name": "stderr",
          "output_type": "stream",
          "text": [
            " 89%|████████▊ | 171/193 [23:52<02:40,  7.31s/it]"
          ]
        },
        {
          "name": "stdout",
          "output_type": "stream",
          "text": [
            "09.07.2023 10:00 WORLD CLUB FRIENDLY Memmingen (Ger) Munich 1860 (Ger) 2.0 3.25 3.3 1.25 3.6 1.85 1.85 1.65 2.1\n"
          ]
        },
        {
          "name": "stderr",
          "output_type": "stream",
          "text": [
            " 89%|████████▉ | 172/193 [24:00<02:39,  7.58s/it]"
          ]
        },
        {
          "name": "stdout",
          "output_type": "stream",
          "text": [
            "09.07.2023 10:00 WORLD CLUB FRIENDLY Paderborn (Ger) Gornik Zabrze (Pol) 1.9 3.5 3.5 1.17 4.5 1.65 2.1 1.57 2.25\n"
          ]
        },
        {
          "name": "stderr",
          "output_type": "stream",
          "text": [
            " 90%|████████▉ | 173/193 [24:08<02:33,  7.69s/it]"
          ]
        },
        {
          "name": "stdout",
          "output_type": "stream",
          "text": [
            "09.07.2023 10:30 WORLD CLUB FRIENDLY Dynamo Moscow (Rus) CSKA Moscow (Rus) 2.7 3.9 2.35 1.03 9.8 1.22 4.0 1.21 4.19\n"
          ]
        },
        {
          "name": "stderr",
          "output_type": "stream",
          "text": [
            " 90%|█████████ | 174/193 [24:16<02:26,  7.74s/it]"
          ]
        },
        {
          "name": "stdout",
          "output_type": "stream",
          "text": [
            "09.07.2023 10:30 WORLD CLUB FRIENDLY Werder Bremen (Ger) Drochtersen/Assel (Ger) 1.04 13.0 31.0 1.05 8.0 1.25 3.6 2.75 1.4\n"
          ]
        },
        {
          "name": "stderr",
          "output_type": "stream",
          "text": [
            " 91%|█████████ | 175/193 [24:24<02:22,  7.92s/it]"
          ]
        },
        {
          "name": "stdout",
          "output_type": "stream",
          "text": [
            "09.07.2023 11:00 WORLD CLUB FRIENDLY A. Lustenau (Aut) St. Pauli (Ger) 4.33 4.2 1.6 1.14 4.8 1.57 2.25 1.57 2.25\n"
          ]
        },
        {
          "name": "stderr",
          "output_type": "stream",
          "text": [
            " 91%|█████████ | 176/193 [24:32<02:11,  7.71s/it]"
          ]
        },
        {
          "name": "stdout",
          "output_type": "stream",
          "text": [
            "09.07.2023 11:00 WORLD CLUB FRIENDLY Bury (Eng) Preston (Eng) 4.33 4.2 1.6 1.14 4.8 1.57 2.25 1.57 2.25\n"
          ]
        },
        {
          "name": "stderr",
          "output_type": "stream",
          "text": [
            " 92%|█████████▏| 177/193 [24:39<02:01,  7.59s/it]"
          ]
        },
        {
          "name": "stdout",
          "output_type": "stream",
          "text": [
            "09.07.2023 11:00 WORLD CLUB FRIENDLY Dunfermline (Sco) Hearts (Sco) 7.5 5.2 1.31 1.14 4.8 1.44 2.4 1.75 1.87\n"
          ]
        },
        {
          "name": "stderr",
          "output_type": "stream",
          "text": [
            " 92%|█████████▏| 178/193 [24:46<01:50,  7.37s/it]"
          ]
        },
        {
          "name": "stdout",
          "output_type": "stream",
          "text": [
            "09.07.2023 11:00 WORLD CLUB FRIENDLY Lokomotiv Moscow (Rus) SKA Khabarovsk (Rus) 7.5 5.2 1.31 1.14 4.8 1.44 2.4 1.75 1.87\n"
          ]
        },
        {
          "name": "stderr",
          "output_type": "stream",
          "text": [
            " 93%|█████████▎| 179/193 [24:53<01:41,  7.28s/it]"
          ]
        },
        {
          "name": "stdout",
          "output_type": "stream",
          "text": [
            "09.07.2023 11:00 WORLD CLUB FRIENDLY Sonthofen (Ger) FC 08 Homburg (Ger) 7.5 5.2 1.31 1.14 4.8 1.44 2.4 1.75 1.87\n"
          ]
        },
        {
          "name": "stderr",
          "output_type": "stream",
          "text": [
            " 93%|█████████▎| 180/193 [25:01<01:39,  7.66s/it]"
          ]
        },
        {
          "name": "stdout",
          "output_type": "stream",
          "text": [
            "09.07.2023 12:00 WORLD CLUB FRIENDLY DVTK (Hun) Nurnberg (Ger) 5.5 4.33 1.4 1.11 5.5 1.45 2.55 1.57 2.25\n"
          ]
        },
        {
          "name": "stderr",
          "output_type": "stream",
          "text": [
            " 94%|█████████▍| 181/193 [25:09<01:32,  7.73s/it]"
          ]
        },
        {
          "name": "stdout",
          "output_type": "stream",
          "text": [
            "09.07.2023 12:00 WORLD CLUB FRIENDLY Erfurt (Ger) Schweinfurt (Ger) 2.05 4.0 2.7 1.11 5.5 1.45 2.55 1.4 2.75\n"
          ]
        },
        {
          "name": "stderr",
          "output_type": "stream",
          "text": [
            " 94%|█████████▍| 182/193 [25:18<01:26,  7.89s/it]"
          ]
        },
        {
          "name": "stdout",
          "output_type": "stream",
          "text": [
            "09.07.2023 12:30 WORLD CLUB FRIENDLY CSKA 1948 Sofia (Bul) Aris (Gre) 4.0 3.5 1.75 1.25 3.6 1.85 1.85 1.75 1.95\n"
          ]
        },
        {
          "name": "stderr",
          "output_type": "stream",
          "text": [
            " 95%|█████████▍| 183/193 [25:25<01:17,  7.75s/it]"
          ]
        },
        {
          "name": "stdout",
          "output_type": "stream",
          "text": [
            "09.07.2023 13:00 WORLD CLUB FRIENDLY Al-Shabab (Sau) Jablonec (Cze) 1.8 3.75 3.6 1.14 4.8 1.57 2.25 1.57 2.25\n"
          ]
        },
        {
          "name": "stderr",
          "output_type": "stream",
          "text": [
            " 95%|█████████▌| 184/193 [25:33<01:11,  7.91s/it]"
          ]
        },
        {
          "name": "stdout",
          "output_type": "stream",
          "text": [
            "09.07.2023 13:00 WORLD CLUB FRIENDLY Botev Plovdiv (Bul) Radnicki Nis (Srb) 2.75 3.3 2.3 1.25 3.6 1.85 1.85 1.65 2.1\n"
          ]
        },
        {
          "name": "stderr",
          "output_type": "stream",
          "text": [
            " 96%|█████████▌| 185/193 [25:40<01:01,  7.71s/it]"
          ]
        },
        {
          "name": "stdout",
          "output_type": "stream",
          "text": [
            "09.07.2023 13:00 WORLD CLUB FRIENDLY Panathinaikos (Gre) AEK Larnaca (Cyp) 1.95 3.6 3.45 1.29 3.3 1.85 1.85 1.75 1.95\n"
          ]
        },
        {
          "name": "stderr",
          "output_type": "stream",
          "text": [
            " 96%|█████████▋| 186/193 [25:48<00:54,  7.75s/it]"
          ]
        },
        {
          "name": "stdout",
          "output_type": "stream",
          "text": [
            "09.07.2023 13:30 WORLD CLUB FRIENDLY Zenit (Rus) Fenerbahce (Tur) 2.14 3.58 3.25 1.16 4.4 1.63 2.3 1.53 2.43\n"
          ]
        },
        {
          "name": "stderr",
          "output_type": "stream",
          "text": [
            " 97%|█████████▋| 187/193 [25:56<00:46,  7.77s/it]"
          ]
        },
        {
          "name": "stdout",
          "output_type": "stream",
          "text": [
            "09.07.2023 17:00 WORLD FRIENDLY INTERNATIONAL WOMEN USA W Wales W 1.04 11.0 31.0 1.02 10.0 1.17 4.5 1.95 1.75\n"
          ]
        },
        {
          "name": "stderr",
          "output_type": "stream",
          "text": [
            " 97%|█████████▋| 188/193 [26:03<00:37,  7.52s/it]"
          ]
        },
        {
          "name": "stdout",
          "output_type": "stream",
          "text": [
            "09.07.2023 10:00 WORLD CLUB FRIENDLY WOMEN Notts Co W (Eng) MK Dons W (Eng) 1.04 11.0 31.0 1.02 10.0 1.17 4.5 1.95 1.75\n"
          ]
        },
        {
          "name": "stderr",
          "output_type": "stream",
          "text": [
            " 98%|█████████▊| 189/193 [26:10<00:29,  7.42s/it]"
          ]
        },
        {
          "name": "stdout",
          "output_type": "stream",
          "text": [
            "09.07.2023 10:00 ZIMBABWE PREMIER SOCCER LEAGUE - ROUND 14 GreenFuel Chicken Inn 1.04 11.0 31.0 1.02 10.0 1.17 4.5 1.95 1.75\n"
          ]
        },
        {
          "name": "stderr",
          "output_type": "stream",
          "text": [
            " 98%|█████████▊| 190/193 [26:18<00:22,  7.40s/it]"
          ]
        },
        {
          "name": "stdout",
          "output_type": "stream",
          "text": [
            "09.07.2023 10:00 ZIMBABWE PREMIER SOCCER LEAGUE - ROUND 14 Highlanders Triangle 1.72 3.15 4.75 1.53 2.18 2.62 1.39 2.65 1.45\n"
          ]
        },
        {
          "name": "stderr",
          "output_type": "stream",
          "text": [
            " 99%|█████████▉| 191/193 [26:25<00:14,  7.31s/it]"
          ]
        },
        {
          "name": "stdout",
          "output_type": "stream",
          "text": [
            "09.07.2023 10:00 ZIMBABWE PREMIER SOCCER LEAGUE - ROUND 14 Hwange ZPC Kariba 1.72 3.15 4.75 1.53 2.18 2.62 1.39 2.65 1.45\n"
          ]
        },
        {
          "name": "stderr",
          "output_type": "stream",
          "text": [
            " 99%|█████████▉| 192/193 [26:32<00:07,  7.25s/it]"
          ]
        },
        {
          "name": "stdout",
          "output_type": "stream",
          "text": [
            "09.07.2023 10:00 ZIMBABWE PREMIER SOCCER LEAGUE - ROUND 14 Sheasham Ngezi Platinum 1.72 3.15 4.75 1.53 2.18 2.62 1.39 2.65 1.45\n"
          ]
        },
        {
          "name": "stderr",
          "output_type": "stream",
          "text": [
            "100%|██████████| 193/193 [26:39<00:00,  8.29s/it]"
          ]
        },
        {
          "name": "stdout",
          "output_type": "stream",
          "text": [
            "09.07.2023 10:00 ZIMBABWE PREMIER SOCCER LEAGUE - ROUND 14 Simba Bhora Manica 1.72 3.15 4.75 1.53 2.18 2.62 1.39 2.65 1.45\n"
          ]
        },
        {
          "name": "stderr",
          "output_type": "stream",
          "text": [
            "\n"
          ]
        }
      ],
      "source": [
        "# Pegando as Informacoes Básicas do Jogo\n",
        "for link in tqdm(id_jogos, total=len(id_jogos)):\n",
        "    wd_Chrome.get(f'https://www.flashscore.com/match/{link}/#/match-summary')\n",
        "    \n",
        "    try:\n",
        "        Date = wd_Chrome.find_element(By.CSS_SELECTOR,'div.duelParticipant__startTime').text.split(' ')[0]\n",
        "        Time = wd_Chrome.find_element(By.CSS_SELECTOR,'div.duelParticipant__startTime').text.split(' ')[1]\n",
        "        Country = wd_Chrome.find_element(By.CSS_SELECTOR,'span.tournamentHeader__country').text.split(':')[0]\n",
        "        League = wd_Chrome.find_element(By.CSS_SELECTOR,'span.tournamentHeader__country')\n",
        "        League = League.find_element(By.CSS_SELECTOR,'a').text\n",
        "        Home = wd_Chrome.find_element(By.CSS_SELECTOR,'div.duelParticipant__home')\n",
        "        Home = Home.find_element(By.CSS_SELECTOR,'div.participant__participantName').text\n",
        "        Away = wd_Chrome.find_element(By.CSS_SELECTOR,'div.duelParticipant__away')\n",
        "        Away = Away.find_element(By.CSS_SELECTOR,'div.participant__participantName').text\n",
        "    except:\n",
        "        pass\n",
        "\n",
        "# Match Odds\n",
        "    try:\n",
        "        wd_Chrome.get(f'https://www.flashscore.com/match/{link}/#/odds-comparison/1x2-odds/full-time')\n",
        "        time.sleep(2)\n",
        "        \n",
        "        linhas = wd_Chrome.find_elements(By.CSS_SELECTOR,'div.ui-table__row')\n",
        "        \n",
        "        for linha in linhas:\n",
        "                Odd_H = float(linha.find_elements(By.CSS_SELECTOR,'a.oddsCell__odd')[0].text)\n",
        "                Odd_D = float(linha.find_elements(By.CSS_SELECTOR,'a.oddsCell__odd')[1].text) \n",
        "                Odd_A = float(linha.find_elements(By.CSS_SELECTOR,'a.oddsCell__odd')[2].text)\n",
        "    except:\n",
        "        pass\n",
        "\n",
        "# Over e Under 2.5\n",
        "    try:\n",
        "        wd_Chrome.get(f'https://www.flashscore.com/match/{link}/#/odds-comparison/over-under/full-time')\n",
        "        time.sleep(2)\n",
        "        \n",
        "        linhas_over_under = wd_Chrome.find_elements(By.CSS_SELECTOR,'div.ui-table.oddsCell__odds')\n",
        "        for i in linhas_over_under:\n",
        "            linhas = i.find_elements(By.CSS_SELECTOR,'div.ui-table__row')\n",
        "            for linha in linhas:\n",
        "                try:\n",
        "                    qtd_gols = linha.find_element(By.CSS_SELECTOR,'span.oddsCell__noOddsCell').text.replace('.','')\n",
        "                    if qtd_gols == '05':\n",
        "                        Odd_Over05 = float(linha.find_elements(By.CSS_SELECTOR,'a.oddsCell__odd')[0].text)\n",
        "                        Odd_Under05 = float(linha.find_elements(By.CSS_SELECTOR,'a.oddsCell__odd')[1].text)\n",
        "                    if qtd_gols == '15':\n",
        "                        Odd_Over15 = float(linha.find_elements(By.CSS_SELECTOR,'a.oddsCell__odd')[0].text)\n",
        "                        Odd_Under15 = float(linha.find_elements(By.CSS_SELECTOR,'a.oddsCell__odd')[1].text)\n",
        "                        #print(Odd_Under15)\n",
        "                    if qtd_gols == '25':\n",
        "                        Odd_Over25 = float(linha.find_elements(By.CSS_SELECTOR,'a.oddsCell__odd')[0].text)\n",
        "                        Odd_Under25 = float(linha.find_elements(By.CSS_SELECTOR,'a.oddsCell__odd')[1].text)\n",
        "                except:\n",
        "                    pass\n",
        "    except:\n",
        "        pass\n",
        "\n",
        "# Ambas Marcam (BTTS)\n",
        "    try:\n",
        "        wd_Chrome.get(f'https://www.flashscore.com/match/{link}/#/odds-comparison/both-teams-to-score/full-time')\n",
        "        time.sleep(2)\n",
        "    \n",
        "        linhas = wd_Chrome.find_elements(By.CSS_SELECTOR,'div.ui-table__row')\n",
        "        \n",
        "        for linha in linhas:\n",
        "                BTTS_Yes = float(linha.find_elements(By.CSS_SELECTOR,'a.oddsCell__odd')[0].text)\n",
        "                BTTS_No = float(linha.find_elements(By.CSS_SELECTOR,'a.oddsCell__odd')[1].text)\n",
        "    except:\n",
        "        pass    \n",
        "    \n",
        "    try:\n",
        "        print(Date,Time,Country,League,Home,Away,Odd_H,Odd_D,Odd_A,Odd_Over15,Odd_Under15,Odd_Over25,Odd_Under25,BTTS_Yes,BTTS_No) \n",
        "\n",
        "        jogo['Date'].append(Date)\n",
        "        jogo['Time'].append(Time)\n",
        "        jogo['Country'].append(Country)\n",
        "        jogo['League'].append(League)\n",
        "        jogo['Home'].append(Home)\n",
        "        jogo['Away'].append(Away)\n",
        "        jogo['Odd_H'].append(Odd_H)\n",
        "        jogo['Odd_D'].append(Odd_D)\n",
        "        jogo['Odd_A'].append(Odd_A)\n",
        "        jogo['Odd_Over15'].append(Odd_Over15)\n",
        "        jogo['Odd_Under15'].append(Odd_Under15)\n",
        "        jogo['Odd_Over25'].append(Odd_Over25)\n",
        "        jogo['Odd_Under25'].append(Odd_Under25)\n",
        "        jogo['Odd_BTTS_Yes'].append(BTTS_Yes)\n",
        "        jogo['Odd_BTTS_No'].append(BTTS_No)\n",
        "\n",
        "    except:\n",
        "        pass"
      ]
    },
    {
      "attachments": {},
      "cell_type": "markdown",
      "metadata": {
        "id": "PfRRruDDyt38"
      },
      "source": [
        "## Gerando DataFrame com os Jogos do Dia"
      ]
    },
    {
      "cell_type": "code",
      "execution_count": 7,
      "metadata": {
        "id": "gCvR74k9aiC9"
      },
      "outputs": [
        {
          "data": {
            "text/html": [
              "<div>\n",
              "<style scoped>\n",
              "    .dataframe tbody tr th:only-of-type {\n",
              "        vertical-align: middle;\n",
              "    }\n",
              "\n",
              "    .dataframe tbody tr th {\n",
              "        vertical-align: top;\n",
              "    }\n",
              "\n",
              "    .dataframe thead th {\n",
              "        text-align: right;\n",
              "    }\n",
              "</style>\n",
              "<table border=\"1\" class=\"dataframe\">\n",
              "  <thead>\n",
              "    <tr style=\"text-align: right;\">\n",
              "      <th></th>\n",
              "      <th>Date</th>\n",
              "      <th>Time</th>\n",
              "      <th>Country</th>\n",
              "      <th>League</th>\n",
              "      <th>Home</th>\n",
              "      <th>Away</th>\n",
              "      <th>Odd_H</th>\n",
              "      <th>Odd_D</th>\n",
              "      <th>Odd_A</th>\n",
              "      <th>Odd_Over15</th>\n",
              "      <th>Odd_Under15</th>\n",
              "      <th>Odd_Over25</th>\n",
              "      <th>Odd_Under25</th>\n",
              "      <th>Odd_BTTS_Yes</th>\n",
              "      <th>Odd_BTTS_No</th>\n",
              "    </tr>\n",
              "  </thead>\n",
              "  <tbody>\n",
              "    <tr>\n",
              "      <th>1</th>\n",
              "      <td>09.07.2023</td>\n",
              "      <td>18:00</td>\n",
              "      <td>NORTH &amp; CENTRAL AMERICA</td>\n",
              "      <td>GOLD CUP - PLAY OFFS - QUARTER-FINALS</td>\n",
              "      <td>Guatemala</td>\n",
              "      <td>Jamaica</td>\n",
              "      <td>5.50</td>\n",
              "      <td>3.60</td>\n",
              "      <td>1.66</td>\n",
              "      <td>1.42</td>\n",
              "      <td>2.85</td>\n",
              "      <td>2.25</td>\n",
              "      <td>1.62</td>\n",
              "      <td>2.20</td>\n",
              "      <td>1.63</td>\n",
              "    </tr>\n",
              "    <tr>\n",
              "      <th>2</th>\n",
              "      <td>09.07.2023</td>\n",
              "      <td>20:30</td>\n",
              "      <td>NORTH &amp; CENTRAL AMERICA</td>\n",
              "      <td>GOLD CUP - PLAY OFFS - QUARTER-FINALS</td>\n",
              "      <td>USA</td>\n",
              "      <td>Canada</td>\n",
              "      <td>1.68</td>\n",
              "      <td>3.75</td>\n",
              "      <td>5.00</td>\n",
              "      <td>1.30</td>\n",
              "      <td>3.40</td>\n",
              "      <td>1.95</td>\n",
              "      <td>1.83</td>\n",
              "      <td>1.90</td>\n",
              "      <td>1.83</td>\n",
              "    </tr>\n",
              "    <tr>\n",
              "      <th>3</th>\n",
              "      <td>09.07.2023</td>\n",
              "      <td>10:00</td>\n",
              "      <td>AFRICA</td>\n",
              "      <td>COSAFA CUP</td>\n",
              "      <td>Zambia</td>\n",
              "      <td>Comoros</td>\n",
              "      <td>1.68</td>\n",
              "      <td>3.10</td>\n",
              "      <td>5.50</td>\n",
              "      <td>1.57</td>\n",
              "      <td>2.25</td>\n",
              "      <td>2.88</td>\n",
              "      <td>1.40</td>\n",
              "      <td>2.55</td>\n",
              "      <td>1.45</td>\n",
              "    </tr>\n",
              "    <tr>\n",
              "      <th>4</th>\n",
              "      <td>09.07.2023</td>\n",
              "      <td>13:00</td>\n",
              "      <td>AFRICA</td>\n",
              "      <td>COSAFA CUP</td>\n",
              "      <td>Malawi</td>\n",
              "      <td>Seychelles</td>\n",
              "      <td>1.45</td>\n",
              "      <td>3.75</td>\n",
              "      <td>7.00</td>\n",
              "      <td>1.40</td>\n",
              "      <td>2.75</td>\n",
              "      <td>2.20</td>\n",
              "      <td>1.60</td>\n",
              "      <td>2.40</td>\n",
              "      <td>1.50</td>\n",
              "    </tr>\n",
              "    <tr>\n",
              "      <th>5</th>\n",
              "      <td>09.07.2023</td>\n",
              "      <td>15:30</td>\n",
              "      <td>ARGENTINA</td>\n",
              "      <td>LIGA PROFESIONAL - ROUND 24</td>\n",
              "      <td>Instituto</td>\n",
              "      <td>Tigre</td>\n",
              "      <td>2.25</td>\n",
              "      <td>3.15</td>\n",
              "      <td>3.30</td>\n",
              "      <td>1.43</td>\n",
              "      <td>2.75</td>\n",
              "      <td>2.32</td>\n",
              "      <td>1.58</td>\n",
              "      <td>1.97</td>\n",
              "      <td>1.76</td>\n",
              "    </tr>\n",
              "    <tr>\n",
              "      <th>...</th>\n",
              "      <td>...</td>\n",
              "      <td>...</td>\n",
              "      <td>...</td>\n",
              "      <td>...</td>\n",
              "      <td>...</td>\n",
              "      <td>...</td>\n",
              "      <td>...</td>\n",
              "      <td>...</td>\n",
              "      <td>...</td>\n",
              "      <td>...</td>\n",
              "      <td>...</td>\n",
              "      <td>...</td>\n",
              "      <td>...</td>\n",
              "      <td>...</td>\n",
              "      <td>...</td>\n",
              "    </tr>\n",
              "    <tr>\n",
              "      <th>189</th>\n",
              "      <td>09.07.2023</td>\n",
              "      <td>10:00</td>\n",
              "      <td>ZIMBABWE</td>\n",
              "      <td>PREMIER SOCCER LEAGUE - ROUND 14</td>\n",
              "      <td>GreenFuel</td>\n",
              "      <td>Chicken Inn</td>\n",
              "      <td>1.04</td>\n",
              "      <td>11.00</td>\n",
              "      <td>31.00</td>\n",
              "      <td>1.02</td>\n",
              "      <td>10.00</td>\n",
              "      <td>1.17</td>\n",
              "      <td>4.50</td>\n",
              "      <td>1.95</td>\n",
              "      <td>1.75</td>\n",
              "    </tr>\n",
              "    <tr>\n",
              "      <th>190</th>\n",
              "      <td>09.07.2023</td>\n",
              "      <td>10:00</td>\n",
              "      <td>ZIMBABWE</td>\n",
              "      <td>PREMIER SOCCER LEAGUE - ROUND 14</td>\n",
              "      <td>Highlanders</td>\n",
              "      <td>Triangle</td>\n",
              "      <td>1.72</td>\n",
              "      <td>3.15</td>\n",
              "      <td>4.75</td>\n",
              "      <td>1.53</td>\n",
              "      <td>2.18</td>\n",
              "      <td>2.62</td>\n",
              "      <td>1.39</td>\n",
              "      <td>2.65</td>\n",
              "      <td>1.45</td>\n",
              "    </tr>\n",
              "    <tr>\n",
              "      <th>191</th>\n",
              "      <td>09.07.2023</td>\n",
              "      <td>10:00</td>\n",
              "      <td>ZIMBABWE</td>\n",
              "      <td>PREMIER SOCCER LEAGUE - ROUND 14</td>\n",
              "      <td>Hwange</td>\n",
              "      <td>ZPC Kariba</td>\n",
              "      <td>1.72</td>\n",
              "      <td>3.15</td>\n",
              "      <td>4.75</td>\n",
              "      <td>1.53</td>\n",
              "      <td>2.18</td>\n",
              "      <td>2.62</td>\n",
              "      <td>1.39</td>\n",
              "      <td>2.65</td>\n",
              "      <td>1.45</td>\n",
              "    </tr>\n",
              "    <tr>\n",
              "      <th>192</th>\n",
              "      <td>09.07.2023</td>\n",
              "      <td>10:00</td>\n",
              "      <td>ZIMBABWE</td>\n",
              "      <td>PREMIER SOCCER LEAGUE - ROUND 14</td>\n",
              "      <td>Sheasham</td>\n",
              "      <td>Ngezi Platinum</td>\n",
              "      <td>1.72</td>\n",
              "      <td>3.15</td>\n",
              "      <td>4.75</td>\n",
              "      <td>1.53</td>\n",
              "      <td>2.18</td>\n",
              "      <td>2.62</td>\n",
              "      <td>1.39</td>\n",
              "      <td>2.65</td>\n",
              "      <td>1.45</td>\n",
              "    </tr>\n",
              "    <tr>\n",
              "      <th>193</th>\n",
              "      <td>09.07.2023</td>\n",
              "      <td>10:00</td>\n",
              "      <td>ZIMBABWE</td>\n",
              "      <td>PREMIER SOCCER LEAGUE - ROUND 14</td>\n",
              "      <td>Simba Bhora</td>\n",
              "      <td>Manica</td>\n",
              "      <td>1.72</td>\n",
              "      <td>3.15</td>\n",
              "      <td>4.75</td>\n",
              "      <td>1.53</td>\n",
              "      <td>2.18</td>\n",
              "      <td>2.62</td>\n",
              "      <td>1.39</td>\n",
              "      <td>2.65</td>\n",
              "      <td>1.45</td>\n",
              "    </tr>\n",
              "  </tbody>\n",
              "</table>\n",
              "<p>193 rows × 15 columns</p>\n",
              "</div>"
            ],
            "text/plain": [
              "           Date   Time                  Country  \\\n",
              "1    09.07.2023  18:00  NORTH & CENTRAL AMERICA   \n",
              "2    09.07.2023  20:30  NORTH & CENTRAL AMERICA   \n",
              "3    09.07.2023  10:00                   AFRICA   \n",
              "4    09.07.2023  13:00                   AFRICA   \n",
              "5    09.07.2023  15:30                ARGENTINA   \n",
              "..          ...    ...                      ...   \n",
              "189  09.07.2023  10:00                 ZIMBABWE   \n",
              "190  09.07.2023  10:00                 ZIMBABWE   \n",
              "191  09.07.2023  10:00                 ZIMBABWE   \n",
              "192  09.07.2023  10:00                 ZIMBABWE   \n",
              "193  09.07.2023  10:00                 ZIMBABWE   \n",
              "\n",
              "                                    League         Home            Away  \\\n",
              "1    GOLD CUP - PLAY OFFS - QUARTER-FINALS    Guatemala         Jamaica   \n",
              "2    GOLD CUP - PLAY OFFS - QUARTER-FINALS          USA          Canada   \n",
              "3                               COSAFA CUP       Zambia         Comoros   \n",
              "4                               COSAFA CUP       Malawi      Seychelles   \n",
              "5              LIGA PROFESIONAL - ROUND 24    Instituto           Tigre   \n",
              "..                                     ...          ...             ...   \n",
              "189       PREMIER SOCCER LEAGUE - ROUND 14    GreenFuel     Chicken Inn   \n",
              "190       PREMIER SOCCER LEAGUE - ROUND 14  Highlanders        Triangle   \n",
              "191       PREMIER SOCCER LEAGUE - ROUND 14       Hwange      ZPC Kariba   \n",
              "192       PREMIER SOCCER LEAGUE - ROUND 14     Sheasham  Ngezi Platinum   \n",
              "193       PREMIER SOCCER LEAGUE - ROUND 14  Simba Bhora          Manica   \n",
              "\n",
              "     Odd_H  Odd_D  Odd_A  Odd_Over15  Odd_Under15  Odd_Over25  Odd_Under25  \\\n",
              "1     5.50   3.60   1.66        1.42         2.85        2.25         1.62   \n",
              "2     1.68   3.75   5.00        1.30         3.40        1.95         1.83   \n",
              "3     1.68   3.10   5.50        1.57         2.25        2.88         1.40   \n",
              "4     1.45   3.75   7.00        1.40         2.75        2.20         1.60   \n",
              "5     2.25   3.15   3.30        1.43         2.75        2.32         1.58   \n",
              "..     ...    ...    ...         ...          ...         ...          ...   \n",
              "189   1.04  11.00  31.00        1.02        10.00        1.17         4.50   \n",
              "190   1.72   3.15   4.75        1.53         2.18        2.62         1.39   \n",
              "191   1.72   3.15   4.75        1.53         2.18        2.62         1.39   \n",
              "192   1.72   3.15   4.75        1.53         2.18        2.62         1.39   \n",
              "193   1.72   3.15   4.75        1.53         2.18        2.62         1.39   \n",
              "\n",
              "     Odd_BTTS_Yes  Odd_BTTS_No  \n",
              "1            2.20         1.63  \n",
              "2            1.90         1.83  \n",
              "3            2.55         1.45  \n",
              "4            2.40         1.50  \n",
              "5            1.97         1.76  \n",
              "..            ...          ...  \n",
              "189          1.95         1.75  \n",
              "190          2.65         1.45  \n",
              "191          2.65         1.45  \n",
              "192          2.65         1.45  \n",
              "193          2.65         1.45  \n",
              "\n",
              "[193 rows x 15 columns]"
            ]
          },
          "execution_count": 7,
          "metadata": {},
          "output_type": "execute_result"
        }
      ],
      "source": [
        "df = pd.DataFrame(jogo)\n",
        "df = drop_reset_index(df)\n",
        "df"
      ]
    },
    {
      "cell_type": "code",
      "execution_count": 8,
      "metadata": {},
      "outputs": [],
      "source": [
        "df = df.rename(columns={'Odd_H': 'FT_Odd_H',\n",
        "                        'Odd_D': 'FT_Odd_D',\n",
        "                        'Odd_A': 'FT_Odd_A',\n",
        "                        'Odd_Over15': 'FT_Odd_Over15',\n",
        "                        'Odd_Under15': 'FT_Odd_Under15',\n",
        "                        'Odd_Over25': 'FT_Odd_Over25',\n",
        "                        'Odd_Under25': 'FT_Odd_Under25',\n",
        "                        'Odd_BTTS_Yes': 'FT_Odd_BTTS_Yes',\n",
        "                        'Odd_BTTS_No': 'FT_Odd_BTTS_No',\n",
        "                        })"
      ]
    },
    {
      "cell_type": "code",
      "execution_count": 9,
      "metadata": {
        "id": "RMxg0e62rlQv"
      },
      "outputs": [],
      "source": [
        "# Gerando os dados para excel\n",
        "from datetime import date, datetime, timedelta\n",
        "data = datetime.today() + timedelta(1)\n",
        "amanha = data.strftime('%Y-%m-%d')\n",
        "nome = 'Jogos_do_Dia_FlashScore.xlsx'\n",
        "\n",
        "df.to_excel(f'G:\\\\Meu Drive\\\\Programacao\\\\futPythonTrader\\\\Jogos do dia\\\\{amanha}_{nome}', index = False)"
      ]
    }
  ],
  "metadata": {
    "colab": {
      "collapsed_sections": [
        "Hs058KhByBQE",
        "LPftcTqaYDN7",
        "SxNjCaz_ZDBZ"
      ],
      "provenance": []
    },
    "kernelspec": {
      "display_name": "Python 3",
      "name": "python3"
    },
    "language_info": {
      "codemirror_mode": {
        "name": "ipython",
        "version": 3
      },
      "file_extension": ".py",
      "mimetype": "text/x-python",
      "name": "python",
      "nbconvert_exporter": "python",
      "pygments_lexer": "ipython3",
      "version": "3.10.1"
    }
  },
  "nbformat": 4,
  "nbformat_minor": 0
}
