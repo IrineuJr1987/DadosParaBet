{
  "cells": [
    {
      "cell_type": "code",
      "execution_count": 1,
      "metadata": {
        "id": "Il4jpanbyALF"
      },
      "outputs": [],
      "source": [
        "import pandas as pd\n",
        "import numpy as np\n",
        "\n",
        "import warnings\n",
        "warnings.filterwarnings('ignore')\n",
        "\n",
        "def dia():\n",
        "    from datetime import date, timedelta\n",
        "    dia = date.today() + timedelta(0)\n",
        "    return dia\n",
        "\n",
        "def drop_reset_index(df):\n",
        "    df = df.dropna()\n",
        "    df = df.reset_index(drop=True)\n",
        "    df.index += 1\n",
        "    return df\n",
        "    \n",
        "def grafico(df, nome):\n",
        "    df = df.reset_index(drop=True)\n",
        "    df.index += 1\n",
        "    df['Profit_acu'] = df.Profit.cumsum()\n",
        "    profit = round(df.Profit_acu.tail(1).item(),2)\n",
        "    ROI = round((df.Profit_acu.tail(1)/len(df)*100).item(),2)\n",
        "    df.Profit_acu.plot(title=nome, xlabel='Entradas', ylabel='Stakes')\n",
        "    print(\"Profit:\",profit,\"stakes em\", len(df),\"jogos\")\n",
        "    print(\"ROI:\",ROI,\"%\")"
      ]
    },
    {
      "attachments": {},
      "cell_type": "markdown",
      "metadata": {
        "id": "LPftcTqaYDN7"
      },
      "source": [
        "## Instalando as Dependências do Ubuntu"
      ]
    },
    {
      "cell_type": "code",
      "execution_count": 2,
      "metadata": {
        "colab": {
          "base_uri": "https://localhost:8080/"
        },
        "id": "gxE6n0dHk_cg",
        "outputId": "5b5b3173-8a5f-4846-c3bf-8ea3f2b2701b"
      },
      "outputs": [],
      "source": [
        "# %%shell\n",
        "# # Ubuntu no longer distributes chromium-browser outside of snap\n",
        "# #\n",
        "# # Proposed solution: https://askubuntu.com/questions/1204571/how-to-install-chromium-without-snap\n",
        "\n",
        "# # Add debian buster\n",
        "# cat > /etc/apt/sources.list.d/debian.list <<'EOF'\n",
        "# deb [arch=amd64 signed-by=/usr/share/keyrings/debian-buster.gpg] http://deb.debian.org/debian buster main\n",
        "# deb [arch=amd64 signed-by=/usr/share/keyrings/debian-buster-updates.gpg] http://deb.debian.org/debian buster-updates main\n",
        "# deb [arch=amd64 signed-by=/usr/share/keyrings/debian-security-buster.gpg] http://deb.debian.org/debian-security buster/updates main\n",
        "# EOF\n",
        "\n",
        "# # Add keys\n",
        "# apt-key adv --keyserver keyserver.ubuntu.com --recv-keys DCC9EFBF77E11517\n",
        "# apt-key adv --keyserver keyserver.ubuntu.com --recv-keys 648ACFD622F3D138\n",
        "# apt-key adv --keyserver keyserver.ubuntu.com --recv-keys 112695A0E562B32A\n",
        "\n",
        "# apt-key export 77E11517 | gpg --dearmour -o /usr/share/keyrings/debian-buster.gpg\n",
        "# apt-key export 22F3D138 | gpg --dearmour -o /usr/share/keyrings/debian-buster-updates.gpg\n",
        "# apt-key export E562B32A | gpg --dearmour -o /usr/share/keyrings/debian-security-buster.gpg\n",
        "\n",
        "# # Prefer debian repo for chromium* packages only\n",
        "# # Note the double-blank lines between entries\n",
        "# cat > /etc/apt/preferences.d/chromium.pref << 'EOF'\n",
        "# Package: *\n",
        "# Pin: release a=eoan\n",
        "# Pin-Priority: 500\n",
        "\n",
        "# Package: *\n",
        "# Pin: origin \"deb.debian.org\"\n",
        "# Pin-Priority: 300\n",
        "\n",
        "# Package: chromium*\n",
        "# Pin: origin \"deb.debian.org\"\n",
        "# Pin-Priority: 700\n",
        "# EOF\n",
        "\n",
        "# # Install chromium and chromium-driver\n",
        "# apt-get update\n",
        "# apt-get install chromium chromium-driver\n",
        "\n",
        "# # Install selenium\n",
        "# pip install selenium"
      ]
    },
    {
      "attachments": {},
      "cell_type": "markdown",
      "metadata": {
        "id": "SxNjCaz_ZDBZ"
      },
      "source": [
        "## Configuração do Web-Driver"
      ]
    },
    {
      "cell_type": "code",
      "execution_count": 3,
      "metadata": {
        "id": "fnFWgpcBh-nV"
      },
      "outputs": [],
      "source": [
        "import time\n",
        "from tqdm import tqdm\n",
        "from selenium import webdriver\n",
        "from selenium.webdriver.chrome.options import Options\n",
        "from selenium.webdriver.common.by import By\n",
        "\n",
        "options = Options()\n",
        "options.add_argument(\"--headless\")\n",
        "options.add_argument(\"--no-sandbox\")\n",
        "options.headless = True\n",
        "\n",
        "from selenium.webdriver.chrome.service import Service\n",
        "wd_Chrome = webdriver.Chrome(\"/usr/bin/chromedriver\", options=options)"
      ]
    },
    {
      "attachments": {},
      "cell_type": "markdown",
      "metadata": {
        "id": "FlNkojcdZybT"
      },
      "source": [
        "## Iniciando a Raspagem de Dados"
      ]
    },
    {
      "cell_type": "code",
      "execution_count": 4,
      "metadata": {
        "id": "eX6re9bjViBI"
      },
      "outputs": [],
      "source": [
        "# Com o WebDrive a gente consegue a pedir a página (URL)\n",
        "wd_Chrome.get(\"https://www.flashscore.com/\")"
      ]
    },
    {
      "cell_type": "code",
      "execution_count": 5,
      "metadata": {
        "id": "wL3Nnue6Vt5T"
      },
      "outputs": [],
      "source": [
        "# Fechando Botão de Cookies\n",
        "try:\n",
        "    button_cookies = wd_Chrome.find_element(By.CSS_SELECTOR,'button#onetrust-accept-btn-handler')\n",
        "    button_cookies.click()\n",
        "except:\n",
        "    pass\n",
        "\n",
        "# Selecionando o Dia de Amanhã\n",
        "wd_Chrome.find_element(By.CSS_SELECTOR,'button.calendar__navigation--tomorrow').click()\n",
        "time.sleep(3)\n",
        "\n",
        "# Pegando o ID dos Jogos\n",
        "id_jogos = []\n",
        "jogos = wd_Chrome.find_elements(By.CSS_SELECTOR,'div.event__match--scheduled')\n",
        "\n",
        "for i in jogos:\n",
        "    id_jogos.append(i.get_attribute(\"id\"))\n",
        "\n",
        "# Exemplo de ID de um jogo: 'g_1_Gb7buXVt'    \n",
        "id_jogos = [i[4:] for i in id_jogos]\n",
        "\n",
        "jogo = {'Date':[],'Time':[],'Country':[],'League':[],'Home':[],'Away':[],'Odd_H':[],'Odd_D':[],'Odd_A':[],'Odd_Over15':[],'Odd_Under15':[],'Odd_Over25':[],'Odd_Under25':[],'Odd_BTTS_Yes':[],'Odd_BTTS_No':[]}"
      ]
    },
    {
      "cell_type": "code",
      "execution_count": 6,
      "metadata": {
        "colab": {
          "base_uri": "https://localhost:8080/"
        },
        "id": "pfPc-OYBak9y",
        "outputId": "615af628-9ed6-4ec3-c72b-1696af141c5c"
      },
      "outputs": [
        {
          "name": "stderr",
          "output_type": "stream",
          "text": [
            "  0%|          | 0/170 [00:00<?, ?it/s]"
          ]
        },
        {
          "name": "stderr",
          "output_type": "stream",
          "text": [
            "  1%|          | 1/170 [00:08<24:46,  8.80s/it]"
          ]
        },
        {
          "name": "stdout",
          "output_type": "stream",
          "text": [
            "05.07.2023 13:00 EUROPE EURO U21 - PLAY OFFS - SEMI-FINALS Israel U21 England U21 8.9 4.45 1.37 1.32 3.26 2.0 1.78 2.34 1.54\n"
          ]
        },
        {
          "name": "stderr",
          "output_type": "stream",
          "text": [
            "  1%|          | 2/170 [00:17<24:19,  8.69s/it]"
          ]
        },
        {
          "name": "stdout",
          "output_type": "stream",
          "text": [
            "05.07.2023 16:00 EUROPE EURO U21 - PLAY OFFS - SEMI-FINALS Spain U21 Ukraine U21 1.7 3.95 4.45 1.23 4.04 1.74 2.04 1.71 2.04\n"
          ]
        },
        {
          "name": "stderr",
          "output_type": "stream",
          "text": [
            "  2%|▏         | 3/170 [00:25<23:45,  8.54s/it]"
          ]
        },
        {
          "name": "stdout",
          "output_type": "stream",
          "text": [
            "05.07.2023 10:00 AFRICA COSAFA CUP Eswatini Botswana 2.95 2.9 2.4 1.55 2.3 2.7 1.44 2.15 1.63\n"
          ]
        },
        {
          "name": "stderr",
          "output_type": "stream",
          "text": [
            "  2%|▏         | 4/170 [00:33<22:55,  8.29s/it]"
          ]
        },
        {
          "name": "stdout",
          "output_type": "stream",
          "text": [
            "05.07.2023 13:00 AFRICA COSAFA CUP South Africa Namibia 1.65 3.4 5.0 1.44 2.7 2.45 1.5 2.35 1.53\n"
          ]
        },
        {
          "name": "stderr",
          "output_type": "stream",
          "text": [
            "  3%|▎         | 5/170 [00:42<22:58,  8.36s/it]"
          ]
        },
        {
          "name": "stdout",
          "output_type": "stream",
          "text": [
            "05.07.2023 15:30 ARGENTINA LIGA PROFESIONAL - ROUND 23 Godoy Cruz Platense 1.85 3.2 4.6 1.53 2.45 2.62 1.47 2.29 1.57\n"
          ]
        },
        {
          "name": "stderr",
          "output_type": "stream",
          "text": [
            "  4%|▎         | 6/170 [00:51<23:23,  8.56s/it]"
          ]
        },
        {
          "name": "stdout",
          "output_type": "stream",
          "text": [
            "05.07.2023 17:00 ARGENTINA LIGA PROFESIONAL - ROUND 23 Tigre Banfield 2.2 3.2 3.4 1.43 2.73 2.35 1.57 1.97 1.76\n"
          ]
        },
        {
          "name": "stderr",
          "output_type": "stream",
          "text": [
            "  4%|▍         | 7/170 [01:00<23:36,  8.69s/it]"
          ]
        },
        {
          "name": "stdout",
          "output_type": "stream",
          "text": [
            "05.07.2023 18:00 ARGENTINA LIGA PROFESIONAL - ROUND 23 Rosario Central Estudiantes L.P. 2.82 3.0 2.65 1.47 2.59 2.47 1.52 2.02 1.72\n"
          ]
        },
        {
          "name": "stderr",
          "output_type": "stream",
          "text": [
            "  5%|▍         | 8/170 [01:08<22:58,  8.51s/it]"
          ]
        },
        {
          "name": "stdout",
          "output_type": "stream",
          "text": [
            "05.07.2023 19:30 ARGENTINA LIGA PROFESIONAL - ROUND 23 Racing Club San Lorenzo 2.6 2.95 2.95 1.55 2.39 2.75 1.43 2.17 1.63\n"
          ]
        },
        {
          "name": "stderr",
          "output_type": "stream",
          "text": [
            "  5%|▌         | 9/170 [01:16<22:56,  8.55s/it]"
          ]
        },
        {
          "name": "stdout",
          "output_type": "stream",
          "text": [
            "05.07.2023 21:30 ARGENTINA LIGA PROFESIONAL - ROUND 23 River Plate Colon Santa Fe 1.24 5.85 11.5 1.16 4.87 1.56 2.36 2.02 1.72\n"
          ]
        },
        {
          "name": "stderr",
          "output_type": "stream",
          "text": [
            "  6%|▌         | 10/170 [01:24<22:22,  8.39s/it]"
          ]
        },
        {
          "name": "stdout",
          "output_type": "stream",
          "text": [
            "05.07.2023 06:30 AUSTRALIA NPL ACT - ROUND 9 Canberra Croatia Tuggeranong Utd 1.08 9.0 14.0 1.04 11.0 1.2 4.5 1.62 2.2\n"
          ]
        },
        {
          "name": "stderr",
          "output_type": "stream",
          "text": [
            "  6%|▋         | 11/170 [01:31<20:58,  7.91s/it]"
          ]
        },
        {
          "name": "stdout",
          "output_type": "stream",
          "text": [
            "05.07.2023 00:00 AUSTRALIA & OCEANIA OFC CHAMPIONSHIP U19 WOMEN - PLAY OFFS - SEMI-FINALS Samoa U19 W Fiji U19 W 1.08 9.0 14.0 1.04 11.0 1.2 4.5 1.62 2.2\n"
          ]
        },
        {
          "name": "stderr",
          "output_type": "stream",
          "text": [
            "  7%|▋         | 12/170 [01:38<19:59,  7.59s/it]"
          ]
        },
        {
          "name": "stdout",
          "output_type": "stream",
          "text": [
            "05.07.2023 04:00 AUSTRALIA & OCEANIA OFC CHAMPIONSHIP U19 WOMEN - PLAY OFFS - SEMI-FINALS New Zealand U19 W Cook Islands U19 W 1.08 9.0 14.0 1.04 11.0 1.2 4.5 1.62 2.2\n"
          ]
        },
        {
          "name": "stderr",
          "output_type": "stream",
          "text": [
            "  8%|▊         | 13/170 [01:46<20:25,  7.80s/it]"
          ]
        },
        {
          "name": "stdout",
          "output_type": "stream",
          "text": [
            "05.07.2023 19:00 BRAZIL SERIE B - ROUND 1 CRB Sport Recife 2.75 3.0 2.7 1.5 2.5 2.5 1.5 2.1 1.7\n"
          ]
        },
        {
          "name": "stderr",
          "output_type": "stream",
          "text": [
            "  8%|▊         | 14/170 [01:55<21:17,  8.19s/it]"
          ]
        },
        {
          "name": "stdout",
          "output_type": "stream",
          "text": [
            "05.07.2023 19:30 BRAZIL COPA DO BRASIL - QUARTER-FINALS Sao Paulo Palmeiras 2.8 3.3 2.5 1.36 3.1 2.1 1.72 1.83 1.9\n"
          ]
        },
        {
          "name": "stderr",
          "output_type": "stream",
          "text": [
            "  9%|▉         | 15/170 [02:05<21:51,  8.46s/it]"
          ]
        },
        {
          "name": "stdout",
          "output_type": "stream",
          "text": [
            "05.07.2023 21:30 BRAZIL COPA DO BRASIL - QUARTER-FINALS America MG Corinthians 2.15 3.25 3.5 1.44 2.8 2.3 1.6 2.0 1.78\n"
          ]
        },
        {
          "name": "stderr",
          "output_type": "stream",
          "text": [
            "  9%|▉         | 16/170 [02:14<22:08,  8.63s/it]"
          ]
        },
        {
          "name": "stdout",
          "output_type": "stream",
          "text": [
            "05.07.2023 21:30 BRAZIL COPA DO BRASIL - QUARTER-FINALS Flamengo RJ Athletico-PR 1.57 4.0 6.0 1.33 3.25 2.0 1.78 2.05 1.72\n"
          ]
        },
        {
          "name": "stderr",
          "output_type": "stream",
          "text": [
            " 10%|█         | 17/170 [02:21<21:23,  8.39s/it]"
          ]
        },
        {
          "name": "stdout",
          "output_type": "stream",
          "text": [
            "05.07.2023 15:00 BRAZIL COPA PAULISTA - ROUND 2 Santo Andre EC Sao Bernardo 2.8 3.2 2.4 1.3 3.2 2.1 1.73 1.73 2.0\n"
          ]
        },
        {
          "name": "stderr",
          "output_type": "stream",
          "text": [
            " 11%|█         | 18/170 [02:30<21:16,  8.40s/it]"
          ]
        },
        {
          "name": "stdout",
          "output_type": "stream",
          "text": [
            "05.07.2023 14:30 EGYPT PREMIER LEAGUE - ROUND 18 Al Ahly El Ismaily 1.33 4.75 8.5 1.25 3.75 1.8 1.95 2.15 1.65\n"
          ]
        },
        {
          "name": "stderr",
          "output_type": "stream",
          "text": [
            " 11%|█         | 19/170 [02:37<20:21,  8.09s/it]"
          ]
        },
        {
          "name": "stdout",
          "output_type": "stream",
          "text": [
            "05.07.2023 09:00 ETHIOPIA PREMIER LEAGUE - ROUND 30 Fasil Kenema Ethiopia Bunna 1.9 3.32 3.96 1.37 2.75 2.21 1.65 1.95 1.81\n"
          ]
        },
        {
          "name": "stderr",
          "output_type": "stream",
          "text": [
            " 12%|█▏        | 20/170 [02:45<19:43,  7.89s/it]"
          ]
        },
        {
          "name": "stdout",
          "output_type": "stream",
          "text": [
            "05.07.2023 12:00 ETHIOPIA PREMIER LEAGUE - ROUND 30 Sidama Bunna Ethio Electric 1.57 3.8 4.75 1.24 3.48 1.75 1.87 1.83 1.93\n"
          ]
        },
        {
          "name": "stderr",
          "output_type": "stream",
          "text": [
            " 12%|█▏        | 21/170 [02:53<20:16,  8.16s/it]"
          ]
        },
        {
          "name": "stdout",
          "output_type": "stream",
          "text": [
            "05.07.2023 12:00 FINLAND SUOMEN CUP - QUARTER-FINALS Mariehamn KuPS 5.0 3.75 1.66 1.33 3.2 2.0 1.75 1.95 1.8\n"
          ]
        },
        {
          "name": "stderr",
          "output_type": "stream",
          "text": [
            " 13%|█▎        | 22/170 [03:01<20:05,  8.15s/it]"
          ]
        },
        {
          "name": "stdout",
          "output_type": "stream",
          "text": [
            "05.07.2023 12:30 FINLAND SUOMEN CUP - QUARTER-FINALS KTP AC Oulu 2.7 3.3 2.5 1.3 3.3 1.95 1.8 1.75 2.0\n"
          ]
        },
        {
          "name": "stderr",
          "output_type": "stream",
          "text": [
            " 14%|█▎        | 23/170 [03:10<20:12,  8.25s/it]"
          ]
        },
        {
          "name": "stdout",
          "output_type": "stream",
          "text": [
            "05.07.2023 12:30 FINLAND SUOMEN CUP - QUARTER-FINALS SalPa Honka 10.0 5.0 1.3 1.22 4.0 1.72 2.05 2.15 1.65\n"
          ]
        },
        {
          "name": "stderr",
          "output_type": "stream",
          "text": [
            " 14%|█▍        | 24/170 [03:18<20:10,  8.29s/it]"
          ]
        },
        {
          "name": "stdout",
          "output_type": "stream",
          "text": [
            "05.07.2023 13:00 FINLAND SUOMEN CUP - QUARTER-FINALS VJS Ilves 19.0 8.0 1.12 1.1 6.5 1.36 3.0 2.15 1.65\n"
          ]
        },
        {
          "name": "stderr",
          "output_type": "stream",
          "text": [
            " 15%|█▍        | 25/170 [03:25<19:07,  7.91s/it]"
          ]
        },
        {
          "name": "stdout",
          "output_type": "stream",
          "text": [
            "05.07.2023 13:00 FINLAND SUOMEN CUP WOMEN - 1/8-FINALS EBK W PK-35 Vantaa W 19.0 8.0 1.12 1.1 6.5 1.36 3.0 2.15 1.65\n"
          ]
        },
        {
          "name": "stderr",
          "output_type": "stream",
          "text": [
            " 15%|█▌        | 26/170 [03:32<18:22,  7.66s/it]"
          ]
        },
        {
          "name": "stdout",
          "output_type": "stream",
          "text": [
            "05.07.2023 13:00 FINLAND SUOMEN CUP WOMEN - 1/8-FINALS JaPS W HJK W 19.0 8.0 1.12 1.1 6.5 1.36 3.0 2.15 1.65\n"
          ]
        },
        {
          "name": "stderr",
          "output_type": "stream",
          "text": [
            " 16%|█▌        | 27/170 [03:40<18:15,  7.66s/it]"
          ]
        },
        {
          "name": "stdout",
          "output_type": "stream",
          "text": [
            "05.07.2023 11:00 IRAQ SUPER LEAGUE - ROUND 35 Al Naft Al Najaf 3.25 2.92 2.18 1.39 2.67 2.15 1.55 1.88 1.88\n"
          ]
        },
        {
          "name": "stderr",
          "output_type": "stream",
          "text": [
            " 16%|█▋        | 28/170 [03:48<18:07,  7.66s/it]"
          ]
        },
        {
          "name": "stdout",
          "output_type": "stream",
          "text": [
            "05.07.2023 11:00 IRAQ SUPER LEAGUE - ROUND 35 Al Wasat Newroz 1.88 2.72 4.75 1.47 2.32 2.5 1.44 2.21 1.63\n"
          ]
        },
        {
          "name": "stderr",
          "output_type": "stream",
          "text": [
            " 17%|█▋        | 29/170 [03:55<17:20,  7.38s/it]"
          ]
        },
        {
          "name": "stdout",
          "output_type": "stream",
          "text": [
            "05.07.2023 13:15 IRAQ SUPER LEAGUE - ROUND 35 Naft Al-Basra Al Zawraa 1.88 2.72 4.75 1.47 2.32 2.5 1.44 2.21 1.63\n"
          ]
        },
        {
          "name": "stderr",
          "output_type": "stream",
          "text": [
            " 18%|█▊        | 30/170 [04:02<17:17,  7.41s/it]"
          ]
        },
        {
          "name": "stdout",
          "output_type": "stream",
          "text": [
            "05.07.2023 15:30 IRAQ SUPER LEAGUE - ROUND 35 Al Quwa Al Jawiya Al Karkh 1.57 3.5 5.4 1.36 2.79 2.07 1.6 2.14 1.67\n"
          ]
        },
        {
          "name": "stderr",
          "output_type": "stream",
          "text": [
            " 18%|█▊        | 31/170 [04:09<16:56,  7.31s/it]"
          ]
        },
        {
          "name": "stdout",
          "output_type": "stream",
          "text": [
            "05.07.2023 15:30 IRAQ SUPER LEAGUE - ROUND 35 Erbil Zakho 1.57 3.5 5.4 1.36 2.79 2.07 1.6 2.14 1.67\n"
          ]
        },
        {
          "name": "stderr",
          "output_type": "stream",
          "text": [
            " 19%|█▉        | 32/170 [04:17<17:03,  7.42s/it]"
          ]
        },
        {
          "name": "stdout",
          "output_type": "stream",
          "text": [
            "05.07.2023 15:30 IRAQ SUPER LEAGUE - ROUND 35 Karbala Al Shorta 4.85 3.2 1.7 1.37 2.75 2.12 1.57 2.05 1.73\n"
          ]
        },
        {
          "name": "stderr",
          "output_type": "stream",
          "text": [
            " 19%|█▉        | 33/170 [04:26<18:01,  7.89s/it]"
          ]
        },
        {
          "name": "stdout",
          "output_type": "stream",
          "text": [
            "05.07.2023 07:00 JAPAN J2 LEAGUE - ROUND 24 Iwaki Tochigi SC 2.3 2.95 3.25 1.53 2.4 2.55 1.47 2.15 1.66\n"
          ]
        },
        {
          "name": "stderr",
          "output_type": "stream",
          "text": [
            " 20%|██        | 34/170 [04:34<18:23,  8.11s/it]"
          ]
        },
        {
          "name": "stdout",
          "output_type": "stream",
          "text": [
            "05.07.2023 07:00 JAPAN J2 LEAGUE - ROUND 24 Iwata Kanazawa 1.55 4.2 5.0 1.2 4.2 1.65 2.15 1.72 2.05\n"
          ]
        },
        {
          "name": "stderr",
          "output_type": "stream",
          "text": [
            " 21%|██        | 35/170 [04:43<18:32,  8.24s/it]"
          ]
        },
        {
          "name": "stdout",
          "output_type": "stream",
          "text": [
            "05.07.2023 07:00 JAPAN J2 LEAGUE - ROUND 24 Kofu Blaublitz 2.05 3.1 3.75 1.5 2.5 2.55 1.47 2.15 1.65\n"
          ]
        },
        {
          "name": "stderr",
          "output_type": "stream",
          "text": [
            " 21%|██        | 36/170 [04:52<18:56,  8.48s/it]"
          ]
        },
        {
          "name": "stdout",
          "output_type": "stream",
          "text": [
            "05.07.2023 07:00 JAPAN J2 LEAGUE - ROUND 24 Kusatsu Kumamoto 3.5 3.4 2.0 1.28 3.5 1.9 1.85 1.75 2.0\n"
          ]
        },
        {
          "name": "stderr",
          "output_type": "stream",
          "text": [
            " 22%|██▏       | 37/170 [05:01<19:06,  8.62s/it]"
          ]
        },
        {
          "name": "stdout",
          "output_type": "stream",
          "text": [
            "05.07.2023 07:00 JAPAN J2 LEAGUE - ROUND 24 Mito Tokushima 2.5 3.25 2.7 1.33 3.1 2.0 1.75 1.78 1.95\n"
          ]
        },
        {
          "name": "stderr",
          "output_type": "stream",
          "text": [
            " 22%|██▏       | 38/170 [05:09<18:49,  8.56s/it]"
          ]
        },
        {
          "name": "stdout",
          "output_type": "stream",
          "text": [
            "05.07.2023 07:00 JAPAN J2 LEAGUE - ROUND 24 Oita Trinita Machida 3.25 3.1 2.2 1.44 2.65 2.3 1.57 2.0 1.75\n"
          ]
        },
        {
          "name": "stderr",
          "output_type": "stream",
          "text": [
            " 23%|██▎       | 39/170 [05:18<18:31,  8.49s/it]"
          ]
        },
        {
          "name": "stdout",
          "output_type": "stream",
          "text": [
            "05.07.2023 07:00 JAPAN J2 LEAGUE - ROUND 24 Okayama Fujieda MYFC 2.0 3.5 3.4 1.25 3.75 1.75 2.0 1.65 2.15\n"
          ]
        },
        {
          "name": "stderr",
          "output_type": "stream",
          "text": [
            " 24%|██▎       | 40/170 [05:26<18:23,  8.49s/it]"
          ]
        },
        {
          "name": "stdout",
          "output_type": "stream",
          "text": [
            "05.07.2023 07:00 JAPAN J2 LEAGUE - ROUND 24 Omiya Ardija Chiba 3.2 3.2 2.2 1.33 3.1 2.05 1.72 1.8 1.95\n"
          ]
        },
        {
          "name": "stderr",
          "output_type": "stream",
          "text": [
            " 24%|██▍       | 41/170 [05:35<18:36,  8.65s/it]"
          ]
        },
        {
          "name": "stdout",
          "output_type": "stream",
          "text": [
            "05.07.2023 07:00 JAPAN J2 LEAGUE - ROUND 24 Renofa Yamaguchi Montedio Yamagata 3.5 3.4 2.0 1.28 3.5 1.87 1.87 1.72 2.05\n"
          ]
        },
        {
          "name": "stderr",
          "output_type": "stream",
          "text": [
            " 25%|██▍       | 42/170 [05:44<18:21,  8.61s/it]"
          ]
        },
        {
          "name": "stdout",
          "output_type": "stream",
          "text": [
            "05.07.2023 07:00 JAPAN J2 LEAGUE - ROUND 24 Vegalta Sendai Shimizu S-Pulse 3.75 3.6 1.85 1.22 4.0 1.68 2.1 1.62 2.2\n"
          ]
        },
        {
          "name": "stderr",
          "output_type": "stream",
          "text": [
            " 25%|██▌       | 43/170 [05:53<18:25,  8.70s/it]"
          ]
        },
        {
          "name": "stdout",
          "output_type": "stream",
          "text": [
            "05.07.2023 07:00 JAPAN J2 LEAGUE - ROUND 24 Verdy V-Varen Nagasaki 1.95 3.3 3.75 1.36 3.0 2.1 1.7 1.87 1.87\n"
          ]
        },
        {
          "name": "stderr",
          "output_type": "stream",
          "text": [
            " 26%|██▌       | 44/170 [06:00<17:39,  8.41s/it]"
          ]
        },
        {
          "name": "stdout",
          "output_type": "stream",
          "text": [
            "05.07.2023 12:00 JORDAN SHIELD CUP - ROUND 9 Al Ramtha Al Salt 1.57 3.7 5.0 1.4 2.75 2.25 1.57 2.25 1.57\n"
          ]
        },
        {
          "name": "stderr",
          "output_type": "stream",
          "text": [
            " 26%|██▋       | 45/170 [06:08<17:12,  8.26s/it]"
          ]
        },
        {
          "name": "stdout",
          "output_type": "stream",
          "text": [
            "05.07.2023 15:30 JORDAN SHIELD CUP - ROUND 9 Al-Faisaly Amman Al Ahli 1.22 5.0 10.0 1.17 4.5 1.65 2.1 2.1 1.65\n"
          ]
        },
        {
          "name": "stderr",
          "output_type": "stream",
          "text": [
            " 27%|██▋       | 46/170 [06:16<17:00,  8.23s/it]"
          ]
        },
        {
          "name": "stdout",
          "output_type": "stream",
          "text": [
            "05.07.2023 12:00 LATVIA OPTIBET VIRSLIGA - ROUND 21 BFC Daugavpils Super Nova 1.38 5.0 6.5 1.1 6.5 1.36 3.0 1.52 2.45\n"
          ]
        },
        {
          "name": "stderr",
          "output_type": "stream",
          "text": [
            " 28%|██▊       | 47/170 [06:23<16:02,  7.83s/it]"
          ]
        },
        {
          "name": "stdout",
          "output_type": "stream",
          "text": [
            "05.07.2023 12:30 LIBYA PREMIER LEAGUE - CHAMPIONSHIP GROUP - ROUND 3 Al Ahly Tripoli Al Hilal 1.38 5.0 6.5 1.1 6.5 1.36 3.0 1.52 2.45\n"
          ]
        },
        {
          "name": "stderr",
          "output_type": "stream",
          "text": [
            " 28%|██▊       | 48/170 [06:30<15:21,  7.56s/it]"
          ]
        },
        {
          "name": "stdout",
          "output_type": "stream",
          "text": [
            "05.07.2023 15:00 LIBYA PREMIER LEAGUE - CHAMPIONSHIP GROUP - ROUND 3 Abu Salim Al-Ittihad 1.38 5.0 6.5 1.1 6.5 1.36 3.0 1.52 2.45\n"
          ]
        },
        {
          "name": "stderr",
          "output_type": "stream",
          "text": [
            " 29%|██▉       | 49/170 [06:37<14:50,  7.36s/it]"
          ]
        },
        {
          "name": "stdout",
          "output_type": "stream",
          "text": [
            "05.07.2023 17:00 LIBYA PREMIER LEAGUE - CHAMPIONSHIP GROUP - ROUND 3 Al Nasr Al Ahly Benghazi 1.38 5.0 6.5 1.1 6.5 1.36 3.0 1.52 2.45\n"
          ]
        },
        {
          "name": "stderr",
          "output_type": "stream",
          "text": [
            " 29%|██▉       | 50/170 [06:44<14:26,  7.22s/it]"
          ]
        },
        {
          "name": "stdout",
          "output_type": "stream",
          "text": [
            "05.07.2023 13:00 MALI PREMIERE DIVISION - ROUND 29 AS Police Onze Createurs 1.38 5.0 6.5 1.1 6.5 1.36 3.0 1.52 2.45\n"
          ]
        },
        {
          "name": "stderr",
          "output_type": "stream",
          "text": [
            " 30%|███       | 51/170 [06:51<14:07,  7.12s/it]"
          ]
        },
        {
          "name": "stdout",
          "output_type": "stream",
          "text": [
            "05.07.2023 13:00 MALI PREMIERE DIVISION - ROUND 29 Foot Elite USC Kita 1.38 5.0 6.5 1.1 6.5 1.36 3.0 1.52 2.45\n"
          ]
        },
        {
          "name": "stderr",
          "output_type": "stream",
          "text": [
            " 31%|███       | 52/170 [06:58<14:14,  7.24s/it]"
          ]
        },
        {
          "name": "stdout",
          "output_type": "stream",
          "text": [
            "05.07.2023 06:00 MYANMAR NATIONAL LEAGUE - ROUND 11 Yangon Utd Shan Utd 2.4 3.0 2.75 1.29 3.3 2.0 1.73 1.75 1.95\n"
          ]
        },
        {
          "name": "stderr",
          "output_type": "stream",
          "text": [
            " 31%|███       | 53/170 [07:06<14:22,  7.37s/it]"
          ]
        },
        {
          "name": "stdout",
          "output_type": "stream",
          "text": [
            "05.07.2023 06:30 MYANMAR NATIONAL LEAGUE - ROUND 11 Chinland Sagaing 2.4 3.5 2.5 1.11 5.5 1.45 2.55 1.4 2.75\n"
          ]
        },
        {
          "name": "stderr",
          "output_type": "stream",
          "text": [
            " 32%|███▏      | 54/170 [07:13<14:10,  7.33s/it]"
          ]
        },
        {
          "name": "stdout",
          "output_type": "stream",
          "text": [
            "05.07.2023 19:00 NORTH & CENTRAL AMERICA CENTRAL AMERICAN & CARIBBEAN GAMES WOMEN - PLAY OFFS - SEMI-FINALS Venezuela W El Salvador W 2.4 3.5 2.5 1.11 5.5 1.45 2.55 1.4 2.75\n"
          ]
        },
        {
          "name": "stderr",
          "output_type": "stream",
          "text": [
            " 32%|███▏      | 55/170 [07:20<13:53,  7.25s/it]"
          ]
        },
        {
          "name": "stdout",
          "output_type": "stream",
          "text": [
            "05.07.2023 22:30 NORTH & CENTRAL AMERICA CENTRAL AMERICAN & CARIBBEAN GAMES WOMEN - PLAY OFFS - SEMI-FINALS Mexico W Centro Caribe W 2.4 3.5 2.5 1.11 5.5 1.45 2.55 1.4 2.75\n"
          ]
        },
        {
          "name": "stderr",
          "output_type": "stream",
          "text": [
            " 33%|███▎      | 56/170 [07:27<13:34,  7.14s/it]"
          ]
        },
        {
          "name": "stdout",
          "output_type": "stream",
          "text": [
            "05.07.2023 13:15 SIERRA LEONE PREMIER LEAGUE - ROUND 31 Freetown City Bo Rangers 2.4 3.5 2.5 1.11 5.5 1.45 2.55 1.4 2.75\n"
          ]
        },
        {
          "name": "stderr",
          "output_type": "stream",
          "text": [
            " 34%|███▎      | 57/170 [07:34<13:19,  7.08s/it]"
          ]
        },
        {
          "name": "stdout",
          "output_type": "stream",
          "text": [
            "05.07.2023 13:15 SIERRA LEONE PREMIER LEAGUE - ROUND 31 Lamboi Real Republicans 2.4 3.5 2.5 1.11 5.5 1.45 2.55 1.4 2.75\n"
          ]
        },
        {
          "name": "stderr",
          "output_type": "stream",
          "text": [
            " 34%|███▍      | 58/170 [07:41<13:07,  7.04s/it]"
          ]
        },
        {
          "name": "stdout",
          "output_type": "stream",
          "text": [
            "05.07.2023 13:15 SIERRA LEONE PREMIER LEAGUE - ROUND 31 Luawa Diamond Stars 2.4 3.5 2.5 1.11 5.5 1.45 2.55 1.4 2.75\n"
          ]
        },
        {
          "name": "stderr",
          "output_type": "stream",
          "text": [
            " 35%|███▍      | 59/170 [07:48<13:01,  7.04s/it]"
          ]
        },
        {
          "name": "stdout",
          "output_type": "stream",
          "text": [
            "05.07.2023 13:15 SIERRA LEONE PREMIER LEAGUE - ROUND 31 SLIFA Old Edwardians 2.4 3.5 2.5 1.11 5.5 1.45 2.55 1.4 2.75\n"
          ]
        },
        {
          "name": "stderr",
          "output_type": "stream",
          "text": [
            " 35%|███▌      | 60/170 [07:55<12:53,  7.04s/it]"
          ]
        },
        {
          "name": "stdout",
          "output_type": "stream",
          "text": [
            "05.07.2023 13:15 SIERRA LEONE PREMIER LEAGUE - ROUND 31 Wilberforce Strikers East End Tigers 2.4 3.5 2.5 1.11 5.5 1.45 2.55 1.4 2.75\n"
          ]
        },
        {
          "name": "stderr",
          "output_type": "stream",
          "text": [
            " 36%|███▌      | 61/170 [08:02<12:40,  6.97s/it]"
          ]
        },
        {
          "name": "stdout",
          "output_type": "stream",
          "text": [
            "05.07.2023 13:15 SIERRA LEONE PREMIER LEAGUE - ROUND 31 Wusum Stars Kamboi Eagles 2.4 3.5 2.5 1.11 5.5 1.45 2.55 1.4 2.75\n"
          ]
        },
        {
          "name": "stderr",
          "output_type": "stream",
          "text": [
            " 36%|███▋      | 62/170 [08:09<12:49,  7.13s/it]"
          ]
        },
        {
          "name": "stdout",
          "output_type": "stream",
          "text": [
            "05.07.2023 16:00 SOUTH AMERICA COPA LIBERTADORES U20 - ROUND 2 Independiente del Valle U20 Envigado U20 1.6 3.6 5.3 1.21 3.55 1.62 2.02 1.62 2.02\n"
          ]
        },
        {
          "name": "stderr",
          "output_type": "stream",
          "text": [
            " 37%|███▋      | 63/170 [08:17<12:49,  7.19s/it]"
          ]
        },
        {
          "name": "stdout",
          "output_type": "stream",
          "text": [
            "05.07.2023 19:00 SOUTH AMERICA COPA LIBERTADORES U20 - ROUND 2 Cerro Porteno U20 Always Ready U20 1.55 3.9 5.4 1.23 3.4 1.7 1.93 1.75 1.85\n"
          ]
        },
        {
          "name": "stderr",
          "output_type": "stream",
          "text": [
            " 38%|███▊      | 64/170 [08:24<12:50,  7.27s/it]"
          ]
        },
        {
          "name": "stdout",
          "output_type": "stream",
          "text": [
            "05.07.2023 10:00 SYRIA SYRIA CUP - SEMI-FINALS Al Wahda Al Karamah 2.6 2.92 2.62 1.53 2.18 2.64 1.4 2.16 1.66\n"
          ]
        },
        {
          "name": "stderr",
          "output_type": "stream",
          "text": [
            " 38%|███▊      | 65/170 [08:32<12:43,  7.27s/it]"
          ]
        },
        {
          "name": "stdout",
          "output_type": "stream",
          "text": [
            "05.07.2023 10:00 SYRIA SYRIA CUP - SEMI-FINALS Tishreen Al Majd 1.35 4.0 8.25 1.53 2.18 2.1 1.57 2.1 1.57\n"
          ]
        },
        {
          "name": "stderr",
          "output_type": "stream",
          "text": [
            " 39%|███▉      | 66/170 [08:40<13:19,  7.68s/it]"
          ]
        },
        {
          "name": "stdout",
          "output_type": "stream",
          "text": [
            "05.07.2023 19:30 URUGUAY PRIMERA DIVISION - TORNEO INTERMEDIO - ROUND 4 Nacional Plaza Colonia 1.3 5.0 9.0 1.22 4.0 1.7 2.1 2.05 1.72\n"
          ]
        },
        {
          "name": "stderr",
          "output_type": "stream",
          "text": [
            " 39%|███▉      | 67/170 [08:48<13:26,  7.83s/it]"
          ]
        },
        {
          "name": "stdout",
          "output_type": "stream",
          "text": [
            "05.07.2023 20:30 USA MLS New York City Charlotte 1.87 3.75 3.75 1.22 4.0 1.75 2.05 1.68 2.15\n"
          ]
        },
        {
          "name": "stderr",
          "output_type": "stream",
          "text": [
            " 40%|████      | 68/170 [08:56<13:10,  7.75s/it]"
          ]
        },
        {
          "name": "stdout",
          "output_type": "stream",
          "text": [
            "05.07.2023 05:00 WORLD CLUB FRIENDLY Budaorsi SC (Hun) BKV Elore (Hun) 1.88 3.7 3.25 1.12 5.2 1.45 2.48 1.44 2.7\n"
          ]
        },
        {
          "name": "stderr",
          "output_type": "stream",
          "text": [
            " 41%|████      | 69/170 [09:03<12:37,  7.50s/it]"
          ]
        },
        {
          "name": "stdout",
          "output_type": "stream",
          "text": [
            "05.07.2023 05:00 WORLD CLUB FRIENDLY Presov (Svk) Trebisov (Svk) 1.88 3.7 3.25 1.12 5.2 1.45 2.48 1.44 2.7\n"
          ]
        },
        {
          "name": "stderr",
          "output_type": "stream",
          "text": [
            " 41%|████      | 70/170 [09:10<12:12,  7.32s/it]"
          ]
        },
        {
          "name": "stdout",
          "output_type": "stream",
          "text": [
            "05.07.2023 05:30 WORLD CLUB FRIENDLY Ujpest (Hun) Vasas (Hun) 1.88 3.7 3.25 1.12 5.2 1.45 2.48 1.44 2.7\n"
          ]
        },
        {
          "name": "stderr",
          "output_type": "stream",
          "text": [
            " 42%|████▏     | 71/170 [09:18<12:28,  7.56s/it]"
          ]
        },
        {
          "name": "stdout",
          "output_type": "stream",
          "text": [
            "05.07.2023 06:00 WORLD CLUB FRIENDLY Liberec (Cze) Varnsdorf (Cze) 1.36 4.6 6.0 1.13 5.2 1.5 2.4 1.6 2.2\n"
          ]
        },
        {
          "name": "stderr",
          "output_type": "stream",
          "text": [
            " 42%|████▏     | 72/170 [09:26<12:32,  7.68s/it]"
          ]
        },
        {
          "name": "stdout",
          "output_type": "stream",
          "text": [
            "05.07.2023 06:00 WORLD CLUB FRIENDLY Povazska Bystrica (Svk) Skalica (Svk) 3.1 3.6 1.95 1.2 4.0 1.65 2.1 1.57 2.25\n"
          ]
        },
        {
          "name": "stderr",
          "output_type": "stream",
          "text": [
            " 43%|████▎     | 73/170 [09:33<12:01,  7.44s/it]"
          ]
        },
        {
          "name": "stdout",
          "output_type": "stream",
          "text": [
            "05.07.2023 06:00 WORLD CLUB FRIENDLY Primorje (Slo) O. Ljubljana (Slo) 3.1 3.6 1.95 1.2 4.0 1.65 2.1 1.57 2.25\n"
          ]
        },
        {
          "name": "stderr",
          "output_type": "stream",
          "text": [
            " 44%|████▎     | 74/170 [09:40<11:42,  7.32s/it]"
          ]
        },
        {
          "name": "stdout",
          "output_type": "stream",
          "text": [
            "05.07.2023 06:00 WORLD CLUB FRIENDLY Pruszkow (Pol) Stomil Olsztyn (Pol) 3.1 3.6 1.95 1.2 4.0 1.65 2.1 1.57 2.25\n"
          ]
        },
        {
          "name": "stderr",
          "output_type": "stream",
          "text": [
            " 44%|████▍     | 75/170 [09:47<11:28,  7.25s/it]"
          ]
        },
        {
          "name": "stdout",
          "output_type": "stream",
          "text": [
            "05.07.2023 06:00 WORLD CLUB FRIENDLY Puchov (Svk) Kvitkovice (Cze) 3.1 3.6 1.95 1.2 4.0 1.65 2.1 1.57 2.25\n"
          ]
        },
        {
          "name": "stderr",
          "output_type": "stream",
          "text": [
            " 45%|████▍     | 76/170 [09:53<10:59,  7.01s/it]"
          ]
        },
        {
          "name": "stdout",
          "output_type": "stream",
          "text": [
            "05.07.2023 06:00 WORLD CLUB FRIENDLY Radnicki Beograd (Srb) Viitorul Tg. Jiu (Rou) 3.1 3.6 1.95 1.2 4.0 1.65 2.1 1.57 2.25\n"
          ]
        },
        {
          "name": "stderr",
          "output_type": "stream",
          "text": [
            " 45%|████▌     | 77/170 [10:00<10:40,  6.88s/it]"
          ]
        },
        {
          "name": "stdout",
          "output_type": "stream",
          "text": [
            "05.07.2023 06:00 WORLD CLUB FRIENDLY Rakow (Pol) U. Cluj (Rou) 3.1 3.6 1.95 1.2 4.0 1.65 2.1 1.57 2.25\n"
          ]
        },
        {
          "name": "stderr",
          "output_type": "stream",
          "text": [
            " 46%|████▌     | 78/170 [10:07<10:48,  7.04s/it]"
          ]
        },
        {
          "name": "stdout",
          "output_type": "stream",
          "text": [
            "05.07.2023 06:00 WORLD CLUB FRIENDLY Teplice (Cze) Zizkov (Cze) 1.47 4.6 4.75 1.08 6.5 1.36 2.88 1.44 2.6\n"
          ]
        },
        {
          "name": "stderr",
          "output_type": "stream",
          "text": [
            " 46%|████▋     | 79/170 [10:14<10:25,  6.88s/it]"
          ]
        },
        {
          "name": "stdout",
          "output_type": "stream",
          "text": [
            "05.07.2023 06:00 WORLD CLUB FRIENDLY Warta Poznan (Pol) Pogon Szczecin (Pol) 1.47 4.6 4.75 1.08 6.5 1.36 2.88 1.44 2.6\n"
          ]
        },
        {
          "name": "stderr",
          "output_type": "stream",
          "text": [
            " 47%|████▋     | 80/170 [10:21<10:28,  6.99s/it]"
          ]
        },
        {
          "name": "stdout",
          "output_type": "stream",
          "text": [
            "05.07.2023 06:00 WORLD CLUB FRIENDLY Zaglebie Sosnowiec (Pol) Polonia Bytom (Pol) 1.5 4.2 5.0 1.11 5.5 1.5 2.4 1.57 2.25\n"
          ]
        },
        {
          "name": "stderr",
          "output_type": "stream",
          "text": [
            " 48%|████▊     | 81/170 [10:28<10:29,  7.07s/it]"
          ]
        },
        {
          "name": "stdout",
          "output_type": "stream",
          "text": [
            "05.07.2023 06:30 WORLD CLUB FRIENDLY Radomiak Radom (Pol) Tychy (Pol) 1.67 3.8 4.0 1.13 5.2 1.5 2.4 1.5 2.4\n"
          ]
        },
        {
          "name": "stderr",
          "output_type": "stream",
          "text": [
            " 48%|████▊     | 82/170 [10:35<10:06,  6.90s/it]"
          ]
        },
        {
          "name": "stdout",
          "output_type": "stream",
          "text": [
            "05.07.2023 06:30 WORLD CLUB FRIENDLY Ruch Chorzow (Pol) Hutnik Krakow (Pol) 1.67 3.8 4.0 1.13 5.2 1.5 2.4 1.5 2.4\n"
          ]
        },
        {
          "name": "stderr",
          "output_type": "stream",
          "text": [
            " 49%|████▉     | 83/170 [10:42<10:03,  6.93s/it]"
          ]
        },
        {
          "name": "stdout",
          "output_type": "stream",
          "text": [
            "05.07.2023 07:00 WORLD CLUB FRIENDLY Ol. Grudziadz (Pol) Chojniczanka (Pol) 1.67 3.8 4.0 1.13 5.2 1.5 2.4 1.5 2.4\n"
          ]
        },
        {
          "name": "stderr",
          "output_type": "stream",
          "text": [
            " 49%|████▉     | 84/170 [10:48<09:44,  6.80s/it]"
          ]
        },
        {
          "name": "stdout",
          "output_type": "stream",
          "text": [
            "05.07.2023 07:00 WORLD CLUB FRIENDLY Slask Wroclaw (Pol) KKS Kalisz (Pol) 1.67 3.8 4.0 1.13 5.2 1.5 2.4 1.5 2.4\n"
          ]
        },
        {
          "name": "stderr",
          "output_type": "stream",
          "text": [
            " 50%|█████     | 85/170 [10:57<10:14,  7.23s/it]"
          ]
        },
        {
          "name": "stdout",
          "output_type": "stream",
          "text": [
            "05.07.2023 08:00 WORLD CLUB FRIENDLY FC Copenhagen (Den) Silkeborg (Den) 1.6 3.9 4.6 1.14 4.8 1.57 2.25 1.6 2.2\n"
          ]
        },
        {
          "name": "stderr",
          "output_type": "stream",
          "text": [
            " 51%|█████     | 86/170 [11:05<10:29,  7.50s/it]"
          ]
        },
        {
          "name": "stdout",
          "output_type": "stream",
          "text": [
            "05.07.2023 08:00 WORLD CLUB FRIENDLY LKS Lodz (Pol) GKS Katowice (Pol) 1.9 3.6 3.3 1.2 4.0 1.73 2.0 1.6 2.2\n"
          ]
        },
        {
          "name": "stderr",
          "output_type": "stream",
          "text": [
            " 51%|█████     | 87/170 [11:11<09:56,  7.19s/it]"
          ]
        },
        {
          "name": "stdout",
          "output_type": "stream",
          "text": [
            "05.07.2023 08:00 WORLD CLUB FRIENDLY Sparta Prague B (Cze) Zaglebie 2 (Pol) 1.9 3.6 3.3 1.2 4.0 1.73 2.0 1.6 2.2\n"
          ]
        },
        {
          "name": "stderr",
          "output_type": "stream",
          "text": [
            " 52%|█████▏    | 88/170 [11:19<10:11,  7.46s/it]"
          ]
        },
        {
          "name": "stdout",
          "output_type": "stream",
          "text": [
            "05.07.2023 09:00 WORLD CLUB FRIENDLY Aluminij (Slo) Kecskemeti TE (Hun) 2.75 3.3 2.2 1.17 4.5 1.65 2.1 1.5 2.4\n"
          ]
        },
        {
          "name": "stderr",
          "output_type": "stream",
          "text": [
            " 52%|█████▏    | 89/170 [11:26<09:53,  7.33s/it]"
          ]
        },
        {
          "name": "stdout",
          "output_type": "stream",
          "text": [
            "05.07.2023 09:00 WORLD CLUB FRIENDLY Annen (Ned) Groningen (Ned) 2.75 3.3 2.2 1.17 4.5 1.65 2.1 1.5 2.4\n"
          ]
        },
        {
          "name": "stderr",
          "output_type": "stream",
          "text": [
            " 53%|█████▎    | 90/170 [11:34<09:53,  7.42s/it]"
          ]
        },
        {
          "name": "stdout",
          "output_type": "stream",
          "text": [
            "05.07.2023 09:00 WORLD CLUB FRIENDLY ASC 09 Dortmund (Ger) Wuppertal (Ger) 6.0 4.33 1.4 1.13 5.2 1.5 2.4 1.6 2.2\n"
          ]
        },
        {
          "name": "stderr",
          "output_type": "stream",
          "text": [
            " 54%|█████▎    | 91/170 [11:42<09:54,  7.53s/it]"
          ]
        },
        {
          "name": "stdout",
          "output_type": "stream",
          "text": [
            "05.07.2023 09:00 WORLD CLUB FRIENDLY Auda (Lat) Aris (Cyp) 8.0 4.75 1.3 1.2 4.0 1.73 2.0 1.95 1.75\n"
          ]
        },
        {
          "name": "stderr",
          "output_type": "stream",
          "text": [
            " 54%|█████▍    | 92/170 [11:49<09:46,  7.51s/it]"
          ]
        },
        {
          "name": "stdout",
          "output_type": "stream",
          "text": [
            "05.07.2023 09:00 WORLD CLUB FRIENDLY Brno (Cze) Banska Bystrica (Svk) 2.8 3.5 2.2 1.11 5.5 1.5 2.4 1.4 2.75\n"
          ]
        },
        {
          "name": "stderr",
          "output_type": "stream",
          "text": [
            " 55%|█████▍    | 93/170 [11:56<09:25,  7.34s/it]"
          ]
        },
        {
          "name": "stdout",
          "output_type": "stream",
          "text": [
            "05.07.2023 09:00 WORLD CLUB FRIENDLY Chojniczanka (Pol) Cartusia Kartuzy (Pol) 2.8 3.5 2.2 1.11 5.5 1.5 2.4 1.4 2.75\n"
          ]
        },
        {
          "name": "stderr",
          "output_type": "stream",
          "text": [
            " 55%|█████▌    | 94/170 [12:03<09:07,  7.20s/it]"
          ]
        },
        {
          "name": "stdout",
          "output_type": "stream",
          "text": [
            "05.07.2023 09:00 WORLD CLUB FRIENDLY Csakvari (Hun) Tatabanya (Hun) 2.8 3.5 2.2 1.11 5.5 1.5 2.4 1.4 2.75\n"
          ]
        },
        {
          "name": "stderr",
          "output_type": "stream",
          "text": [
            " 56%|█████▌    | 95/170 [12:10<08:53,  7.12s/it]"
          ]
        },
        {
          "name": "stdout",
          "output_type": "stream",
          "text": [
            "05.07.2023 09:00 WORLD CLUB FRIENDLY Dyn. Kyiv (Ukr) Din. Bucuresti (Rou) 2.8 3.5 2.2 1.11 5.5 1.5 2.4 1.4 2.75\n"
          ]
        },
        {
          "name": "stderr",
          "output_type": "stream",
          "text": [
            " 56%|█████▋    | 96/170 [12:17<08:42,  7.06s/it]"
          ]
        },
        {
          "name": "stdout",
          "output_type": "stream",
          "text": [
            "05.07.2023 09:00 WORLD CLUB FRIENDLY Etar (Bul) Spartak Varna (Bul) 2.8 3.5 2.2 1.11 5.5 1.5 2.4 1.4 2.75\n"
          ]
        },
        {
          "name": "stderr",
          "output_type": "stream",
          "text": [
            " 57%|█████▋    | 97/170 [12:24<08:32,  7.02s/it]"
          ]
        },
        {
          "name": "stdout",
          "output_type": "stream",
          "text": [
            "05.07.2023 09:00 WORLD CLUB FRIENDLY KF Tirana (Alb) Struga (Mkd) 2.8 3.5 2.2 1.11 5.5 1.5 2.4 1.4 2.75\n"
          ]
        },
        {
          "name": "stderr",
          "output_type": "stream",
          "text": [
            " 58%|█████▊    | 98/170 [12:31<08:26,  7.03s/it]"
          ]
        },
        {
          "name": "stdout",
          "output_type": "stream",
          "text": [
            "05.07.2023 09:00 WORLD CLUB FRIENDLY Otelul (Rou) Vojvodina (Srb) 2.8 3.5 2.2 1.11 5.5 1.5 2.4 1.4 2.75\n"
          ]
        },
        {
          "name": "stderr",
          "output_type": "stream",
          "text": [
            " 58%|█████▊    | 99/170 [12:38<08:19,  7.03s/it]"
          ]
        },
        {
          "name": "stdout",
          "output_type": "stream",
          "text": [
            "05.07.2023 09:00 WORLD CLUB FRIENDLY Paderborn (Ger) Preussen Munster (Ger) 2.8 3.5 2.2 1.11 5.5 1.5 2.4 1.4 2.75\n"
          ]
        },
        {
          "name": "stderr",
          "output_type": "stream",
          "text": [
            " 59%|█████▉    | 100/170 [12:45<08:12,  7.04s/it]"
          ]
        },
        {
          "name": "stdout",
          "output_type": "stream",
          "text": [
            "05.07.2023 09:00 WORLD CLUB FRIENDLY Paks (Hun) Siofok (Hun) 2.8 3.5 2.2 1.11 5.5 1.5 2.4 1.4 2.75\n"
          ]
        },
        {
          "name": "stderr",
          "output_type": "stream",
          "text": [
            " 59%|█████▉    | 101/170 [12:52<08:01,  6.97s/it]"
          ]
        },
        {
          "name": "stdout",
          "output_type": "stream",
          "text": [
            "05.07.2023 09:00 WORLD CLUB FRIENDLY Pecsi MFC (Hun) Kaposvar (Hun) 2.8 3.5 2.2 1.11 5.5 1.5 2.4 1.4 2.75\n"
          ]
        },
        {
          "name": "stderr",
          "output_type": "stream",
          "text": [
            " 60%|██████    | 102/170 [12:59<07:55,  7.00s/it]"
          ]
        },
        {
          "name": "stdout",
          "output_type": "stream",
          "text": [
            "05.07.2023 09:00 WORLD CLUB FRIENDLY Petrolul (Rou) Osijek (Cro) 2.8 3.5 2.2 1.11 5.5 1.5 2.4 1.4 2.75\n"
          ]
        },
        {
          "name": "stderr",
          "output_type": "stream",
          "text": [
            " 61%|██████    | 103/170 [13:06<07:50,  7.02s/it]"
          ]
        },
        {
          "name": "stdout",
          "output_type": "stream",
          "text": [
            "05.07.2023 09:00 WORLD CLUB FRIENDLY Pirin Blagoevgrad (Bul) Arda (Bul) 2.8 3.5 2.2 1.11 5.5 1.5 2.4 1.4 2.75\n"
          ]
        },
        {
          "name": "stderr",
          "output_type": "stream",
          "text": [
            " 61%|██████    | 104/170 [13:13<07:39,  6.96s/it]"
          ]
        },
        {
          "name": "stdout",
          "output_type": "stream",
          "text": [
            "05.07.2023 09:00 WORLD CLUB FRIENDLY Radnicki Beograd (Srb) Viitorul Tg. Jiu (Rou) 2.8 3.5 2.2 1.11 5.5 1.5 2.4 1.4 2.75\n"
          ]
        },
        {
          "name": "stderr",
          "output_type": "stream",
          "text": [
            " 62%|██████▏   | 105/170 [13:20<07:34,  6.99s/it]"
          ]
        },
        {
          "name": "stdout",
          "output_type": "stream",
          "text": [
            "05.07.2023 09:00 WORLD CLUB FRIENDLY Samorin (Svk) Gyor (Hun) 2.8 3.5 2.2 1.11 5.5 1.5 2.4 1.4 2.75\n"
          ]
        },
        {
          "name": "stderr",
          "output_type": "stream",
          "text": [
            " 62%|██████▏   | 106/170 [13:27<07:32,  7.07s/it]"
          ]
        },
        {
          "name": "stdout",
          "output_type": "stream",
          "text": [
            "05.07.2023 09:00 WORLD CLUB FRIENDLY Sandecja Nowy S. (Pol) Legnica (Pol) 2.8 3.5 2.2 1.11 5.5 1.5 2.4 1.4 2.75\n"
          ]
        },
        {
          "name": "stderr",
          "output_type": "stream",
          "text": [
            " 63%|██████▎   | 107/170 [13:35<07:42,  7.34s/it]"
          ]
        },
        {
          "name": "stdout",
          "output_type": "stream",
          "text": [
            "05.07.2023 09:00 WORLD CLUB FRIENDLY Schalke II (Ger) Hannover II (Ger) 2.5 3.8 2.3 1.08 6.5 1.36 2.88 1.33 3.0\n"
          ]
        },
        {
          "name": "stderr",
          "output_type": "stream",
          "text": [
            " 64%|██████▎   | 108/170 [13:42<07:29,  7.25s/it]"
          ]
        },
        {
          "name": "stdout",
          "output_type": "stream",
          "text": [
            "05.07.2023 09:00 WORLD CLUB FRIENDLY Sp. Subotica (Srb) Javor (Srb) 2.5 3.8 2.3 1.08 6.5 1.36 2.88 1.33 3.0\n"
          ]
        },
        {
          "name": "stderr",
          "output_type": "stream",
          "text": [
            " 64%|██████▍   | 109/170 [13:49<07:18,  7.20s/it]"
          ]
        },
        {
          "name": "stdout",
          "output_type": "stream",
          "text": [
            "05.07.2023 09:00 WORLD CLUB FRIENDLY Swindon S (Eng) Swindon (Eng) 2.5 3.8 2.3 1.08 6.5 1.36 2.88 1.33 3.0\n"
          ]
        },
        {
          "name": "stderr",
          "output_type": "stream",
          "text": [
            " 65%|██████▍   | 110/170 [13:56<07:09,  7.16s/it]"
          ]
        },
        {
          "name": "stdout",
          "output_type": "stream",
          "text": [
            "05.07.2023 09:00 WORLD CLUB FRIENDLY U. Cluj (Rou) Podbrezova (Svk) 2.5 3.8 2.3 1.08 6.5 1.36 2.88 1.33 3.0\n"
          ]
        },
        {
          "name": "stderr",
          "output_type": "stream",
          "text": [
            " 65%|██████▌   | 111/170 [14:03<06:56,  7.06s/it]"
          ]
        },
        {
          "name": "stdout",
          "output_type": "stream",
          "text": [
            "05.07.2023 10:30 WORLD CLUB FRIENDLY Yantra Gabrovo (Bul) Akademik Svishtov (Bul) 2.5 3.8 2.3 1.08 6.5 1.36 2.88 1.33 3.0\n"
          ]
        },
        {
          "name": "stderr",
          "output_type": "stream",
          "text": [
            " 66%|██████▌   | 112/170 [14:10<06:49,  7.06s/it]"
          ]
        },
        {
          "name": "stdout",
          "output_type": "stream",
          "text": [
            "05.07.2023 10:50 WORLD CLUB FRIENDLY Dnipro-1 (Ukr) Minaj (Ukr) 2.5 3.8 2.3 1.08 6.5 1.36 2.88 1.33 3.0\n"
          ]
        },
        {
          "name": "stderr",
          "output_type": "stream",
          "text": [
            " 66%|██████▋   | 113/170 [14:17<06:42,  7.06s/it]"
          ]
        },
        {
          "name": "stdout",
          "output_type": "stream",
          "text": [
            "05.07.2023 11:00 WORLD CLUB FRIENDLY Dunav Ruse (Bul) Cherno More (Bul) 2.5 3.8 2.3 1.08 6.5 1.36 2.88 1.33 3.0\n"
          ]
        },
        {
          "name": "stderr",
          "output_type": "stream",
          "text": [
            " 67%|██████▋   | 114/170 [14:25<06:45,  7.23s/it]"
          ]
        },
        {
          "name": "stdout",
          "output_type": "stream",
          "text": [
            "05.07.2023 11:00 WORLD CLUB FRIENDLY Torpedo Moscow (Rus) Spartak Moscow (Rus) 9.6 6.15 1.27 1.12 5.05 1.45 2.51 1.95 1.81\n"
          ]
        },
        {
          "name": "stderr",
          "output_type": "stream",
          "text": [
            " 68%|██████▊   | 115/170 [14:33<06:53,  7.52s/it]"
          ]
        },
        {
          "name": "stdout",
          "output_type": "stream",
          "text": [
            "05.07.2023 11:30 WORLD CLUB FRIENDLY Cracovia (Pol) Ostrava (Cze) 2.55 3.4 2.4 1.2 4.0 1.65 2.1 1.57 2.25\n"
          ]
        },
        {
          "name": "stderr",
          "output_type": "stream",
          "text": [
            " 68%|██████▊   | 116/170 [14:40<06:42,  7.45s/it]"
          ]
        },
        {
          "name": "stdout",
          "output_type": "stream",
          "text": [
            "05.07.2023 11:30 WORLD CLUB FRIENDLY Paderborn II (Ger) Wiedenbruck (Ger) 2.55 3.4 2.4 1.2 4.0 1.65 2.1 1.57 2.25\n"
          ]
        },
        {
          "name": "stderr",
          "output_type": "stream",
          "text": [
            " 69%|██████▉   | 117/170 [14:48<06:44,  7.63s/it]"
          ]
        },
        {
          "name": "stdout",
          "output_type": "stream",
          "text": [
            "05.07.2023 12:00 WORLD CLUB FRIENDLY Austria Vienna (Aut) Floridsdorfer AC (Aut) 1.22 6.0 7.5 1.03 9.0 1.2 4.0 1.4 2.75\n"
          ]
        },
        {
          "name": "stderr",
          "output_type": "stream",
          "text": [
            " 69%|██████▉   | 118/170 [14:55<06:27,  7.46s/it]"
          ]
        },
        {
          "name": "stdout",
          "output_type": "stream",
          "text": [
            "05.07.2023 12:00 WORLD CLUB FRIENDLY Budafoki (Hun) Bicskei (Hun) 1.22 6.0 7.5 1.03 9.0 1.2 4.0 1.4 2.75\n"
          ]
        },
        {
          "name": "stderr",
          "output_type": "stream",
          "text": [
            " 70%|███████   | 119/170 [15:02<06:16,  7.38s/it]"
          ]
        },
        {
          "name": "stdout",
          "output_type": "stream",
          "text": [
            "05.07.2023 12:00 WORLD CLUB FRIENDLY Corvinul Hunedoara (Rou) CSC Dumbravita (Rou) 1.22 6.0 7.5 1.03 9.0 1.2 4.0 1.4 2.75\n"
          ]
        },
        {
          "name": "stderr",
          "output_type": "stream",
          "text": [
            " 71%|███████   | 120/170 [15:10<06:03,  7.28s/it]"
          ]
        },
        {
          "name": "stdout",
          "output_type": "stream",
          "text": [
            "05.07.2023 12:00 WORLD CLUB FRIENDLY Etar (Bul) Beroe (Bul) 1.22 6.0 7.5 1.03 9.0 1.2 4.0 1.4 2.75\n"
          ]
        },
        {
          "name": "stderr",
          "output_type": "stream",
          "text": [
            " 71%|███████   | 121/170 [15:17<05:56,  7.27s/it]"
          ]
        },
        {
          "name": "stdout",
          "output_type": "stream",
          "text": [
            "05.07.2023 12:00 WORLD CLUB FRIENDLY Galanta (Svk) Komarno (Svk) 4.35 4.3 1.55 1.03 9.0 1.4 2.75 1.47 2.5\n"
          ]
        },
        {
          "name": "stderr",
          "output_type": "stream",
          "text": [
            " 72%|███████▏  | 122/170 [15:24<05:46,  7.22s/it]"
          ]
        },
        {
          "name": "stdout",
          "output_type": "stream",
          "text": [
            "05.07.2023 12:00 WORLD CLUB FRIENDLY Hatvan (Hun) III. Keruleti TVE (Hun) 3.25 3.9 1.82 1.03 9.0 1.4 2.88 1.98 1.65\n"
          ]
        },
        {
          "name": "stderr",
          "output_type": "stream",
          "text": [
            " 72%|███████▏  | 123/170 [15:31<05:36,  7.16s/it]"
          ]
        },
        {
          "name": "stdout",
          "output_type": "stream",
          "text": [
            "05.07.2023 12:00 WORLD CLUB FRIENDLY Komaromi VSE (Hun) Szabadkikoto (Hun) 3.25 3.9 1.82 1.03 9.0 1.4 2.88 1.98 1.65\n"
          ]
        },
        {
          "name": "stderr",
          "output_type": "stream",
          "text": [
            " 73%|███████▎  | 124/170 [15:38<05:25,  7.07s/it]"
          ]
        },
        {
          "name": "stdout",
          "output_type": "stream",
          "text": [
            "05.07.2023 12:00 WORLD CLUB FRIENDLY Nagykanizsa (Hun) Mosonmagyarovari TE (Hun) 3.25 3.9 1.82 1.03 9.0 1.4 2.88 1.98 1.65\n"
          ]
        },
        {
          "name": "stderr",
          "output_type": "stream",
          "text": [
            " 74%|███████▎  | 125/170 [15:45<05:24,  7.21s/it]"
          ]
        },
        {
          "name": "stdout",
          "output_type": "stream",
          "text": [
            "05.07.2023 12:00 WORLD CLUB FRIENDLY Opava (Cze) GKS Jastrzebie (Pol) 1.25 5.5 7.5 1.08 6.5 1.36 2.88 1.65 2.1\n"
          ]
        },
        {
          "name": "stderr",
          "output_type": "stream",
          "text": [
            " 74%|███████▍  | 126/170 [15:53<05:29,  7.49s/it]"
          ]
        },
        {
          "name": "stdout",
          "output_type": "stream",
          "text": [
            "05.07.2023 12:00 WORLD CLUB FRIENDLY Podbrezova (Svk) DVTK (Hun) 2.38 3.75 2.4 1.11 5.5 1.45 2.55 1.4 2.75\n"
          ]
        },
        {
          "name": "stderr",
          "output_type": "stream",
          "text": [
            " 75%|███████▍  | 127/170 [16:01<05:16,  7.37s/it]"
          ]
        },
        {
          "name": "stdout",
          "output_type": "stream",
          "text": [
            "05.07.2023 12:00 WORLD CLUB FRIENDLY Rudar (Slo) O. Ljubljana (Slo) 2.38 3.75 2.4 1.11 5.5 1.45 2.55 1.4 2.75\n"
          ]
        },
        {
          "name": "stderr",
          "output_type": "stream",
          "text": [
            " 75%|███████▌  | 128/170 [16:08<05:13,  7.45s/it]"
          ]
        },
        {
          "name": "stdout",
          "output_type": "stream",
          "text": [
            "05.07.2023 12:00 WORLD CLUB FRIENDLY Sigma Olomouc B (Cze) Kromeriz (Cze) 2.25 3.55 2.6 1.11 5.25 1.38 2.71 1.35 3.08\n"
          ]
        },
        {
          "name": "stderr",
          "output_type": "stream",
          "text": [
            " 76%|███████▌  | 129/170 [16:16<05:08,  7.52s/it]"
          ]
        },
        {
          "name": "stdout",
          "output_type": "stream",
          "text": [
            "05.07.2023 12:00 WORLD CLUB FRIENDLY St. Polten (Aut) Maccabi Haifa (Isr) 3.9 4.0 1.67 1.14 4.8 1.57 2.25 1.5 2.4\n"
          ]
        },
        {
          "name": "stderr",
          "output_type": "stream",
          "text": [
            " 76%|███████▋  | 130/170 [16:24<05:03,  7.58s/it]"
          ]
        },
        {
          "name": "stdout",
          "output_type": "stream",
          "text": [
            "05.07.2023 12:00 WORLD CLUB FRIENDLY Wisla Pulawy (Pol) Karvina (Cze) 3.9 4.2 1.65 1.11 5.5 1.44 2.6 1.4 2.75\n"
          ]
        },
        {
          "name": "stderr",
          "output_type": "stream",
          "text": [
            " 77%|███████▋  | 131/170 [16:31<04:49,  7.43s/it]"
          ]
        },
        {
          "name": "stdout",
          "output_type": "stream",
          "text": [
            "05.07.2023 12:30 WORLD CLUB FRIENDLY Chernomorets Novorossijsk (Rus) FDC Vista (Rus) 3.9 4.2 1.65 1.11 5.5 1.44 2.6 1.4 2.75\n"
          ]
        },
        {
          "name": "stderr",
          "output_type": "stream",
          "text": [
            " 78%|███████▊  | 132/170 [16:39<04:50,  7.64s/it]"
          ]
        },
        {
          "name": "stdout",
          "output_type": "stream",
          "text": [
            "05.07.2023 12:30 WORLD CLUB FRIENDLY Hajduk Split (Cro) MTK Budapest (Hun) 1.62 3.9 4.33 1.14 4.8 1.6 2.2 1.57 2.25\n"
          ]
        },
        {
          "name": "stderr",
          "output_type": "stream",
          "text": [
            " 78%|███████▊  | 133/170 [16:47<04:47,  7.76s/it]"
          ]
        },
        {
          "name": "stdout",
          "output_type": "stream",
          "text": [
            "05.07.2023 12:30 WORLD CLUB FRIENDLY Regensburg (Ger) Fortuna Koln (Ger) 1.5 4.33 4.75 1.08 6.5 1.36 2.88 1.45 2.55\n"
          ]
        },
        {
          "name": "stderr",
          "output_type": "stream",
          "text": [
            " 79%|███████▉  | 134/170 [16:55<04:41,  7.83s/it]"
          ]
        },
        {
          "name": "stdout",
          "output_type": "stream",
          "text": [
            "05.07.2023 12:30 WORLD CLUB FRIENDLY Slovan Bratislava (Svk) FC Rapid Bucuresti (Rou) 2.1 3.3 3.0 1.2 4.0 1.65 2.1 1.57 2.25\n"
          ]
        },
        {
          "name": "stderr",
          "output_type": "stream",
          "text": [
            " 79%|███████▉  | 135/170 [17:02<04:25,  7.59s/it]"
          ]
        },
        {
          "name": "stdout",
          "output_type": "stream",
          "text": [
            "05.07.2023 12:30 WORLD CLUB FRIENDLY Yantra Gabrovo (Bul) Spartak Pleven (Bul) 2.1 3.3 3.0 1.2 4.0 1.65 2.1 1.57 2.25\n"
          ]
        },
        {
          "name": "stderr",
          "output_type": "stream",
          "text": [
            " 80%|████████  | 136/170 [17:09<04:12,  7.43s/it]"
          ]
        },
        {
          "name": "stdout",
          "output_type": "stream",
          "text": [
            "05.07.2023 13:00 WORLD CLUB FRIENDLY Chernomorets Novorossijsk (Rus) Gelendzhik (Rus) 2.1 3.3 3.0 1.2 4.0 1.65 2.1 1.57 2.25\n"
          ]
        },
        {
          "name": "stderr",
          "output_type": "stream",
          "text": [
            " 81%|████████  | 137/170 [17:16<04:01,  7.31s/it]"
          ]
        },
        {
          "name": "stdout",
          "output_type": "stream",
          "text": [
            "05.07.2023 13:00 WORLD CLUB FRIENDLY Chrobry Glogow (Pol) Bytom Odrzanski (Pol) 2.1 3.3 3.0 1.2 4.0 1.65 2.1 1.57 2.25\n"
          ]
        },
        {
          "name": "stderr",
          "output_type": "stream",
          "text": [
            " 81%|████████  | 138/170 [17:24<04:01,  7.54s/it]"
          ]
        },
        {
          "name": "stdout",
          "output_type": "stream",
          "text": [
            "05.07.2023 13:00 WORLD CLUB FRIENDLY Hartberg (Aut) Nurnberg (Ger) 2.4 3.6 2.45 1.17 4.5 1.6 2.2 1.5 2.4\n"
          ]
        },
        {
          "name": "stderr",
          "output_type": "stream",
          "text": [
            " 82%|████████▏ | 139/170 [17:31<03:49,  7.40s/it]"
          ]
        },
        {
          "name": "stdout",
          "output_type": "stream",
          "text": [
            "05.07.2023 13:00 WORLD CLUB FRIENDLY Magpies (Gib) Preston (Eng) 2.4 3.6 2.45 1.17 4.5 1.6 2.2 1.5 2.4\n"
          ]
        },
        {
          "name": "stderr",
          "output_type": "stream",
          "text": [
            " 82%|████████▏ | 140/170 [17:38<03:40,  7.36s/it]"
          ]
        },
        {
          "name": "stdout",
          "output_type": "stream",
          "text": [
            "05.07.2023 13:00 WORLD CLUB FRIENDLY Napredak (Srb) Istra 1961 (Cro) 2.4 3.6 2.45 1.17 4.5 1.6 2.2 1.5 2.4\n"
          ]
        },
        {
          "name": "stderr",
          "output_type": "stream",
          "text": [
            " 83%|████████▎ | 141/170 [17:45<03:30,  7.26s/it]"
          ]
        },
        {
          "name": "stdout",
          "output_type": "stream",
          "text": [
            "05.07.2023 13:00 WORLD CLUB FRIENDLY Offenbach (Ger) Dusseldorf II (Ger) 2.4 3.6 2.45 1.17 4.5 1.6 2.2 1.5 2.4\n"
          ]
        },
        {
          "name": "stderr",
          "output_type": "stream",
          "text": [
            " 84%|████████▎ | 142/170 [17:53<03:25,  7.35s/it]"
          ]
        },
        {
          "name": "stdout",
          "output_type": "stream",
          "text": [
            "05.07.2023 13:00 WORLD CLUB FRIENDLY Olimpia Elblag (Pol) Wikielec (Pol) 1.6 4.35 3.95 1.17 4.5 1.28 3.2 1.35 3.08\n"
          ]
        },
        {
          "name": "stderr",
          "output_type": "stream",
          "text": [
            " 84%|████████▍ | 143/170 [18:00<03:17,  7.30s/it]"
          ]
        },
        {
          "name": "stdout",
          "output_type": "stream",
          "text": [
            "05.07.2023 13:00 WORLD CLUB FRIENDLY Panathinaikos (Gre) CSKA 1948 Sofia (Bul) 1.93 3.55 3.55 1.23 3.75 1.7 2.05 1.62 2.15\n"
          ]
        },
        {
          "name": "stderr",
          "output_type": "stream",
          "text": [
            " 85%|████████▍ | 144/170 [18:07<03:07,  7.23s/it]"
          ]
        },
        {
          "name": "stdout",
          "output_type": "stream",
          "text": [
            "05.07.2023 13:00 WORLD CLUB FRIENDLY Sion (Sui) Yverdon (Sui) 1.93 3.55 3.55 1.23 3.75 1.7 2.05 1.62 2.15\n"
          ]
        },
        {
          "name": "stderr",
          "output_type": "stream",
          "text": [
            " 85%|████████▌ | 145/170 [18:14<03:00,  7.21s/it]"
          ]
        },
        {
          "name": "stdout",
          "output_type": "stream",
          "text": [
            "05.07.2023 13:00 WORLD CLUB FRIENDLY Zeljeznicar (Bih) Kapfenberg (Aut) 1.93 3.55 3.55 1.23 3.75 1.7 2.05 1.62 2.15\n"
          ]
        },
        {
          "name": "stderr",
          "output_type": "stream",
          "text": [
            " 86%|████████▌ | 146/170 [18:22<02:53,  7.23s/it]"
          ]
        },
        {
          "name": "stdout",
          "output_type": "stream",
          "text": [
            "05.07.2023 13:30 WORLD CLUB FRIENDLY FCSB (Rou) PAOK (Gre) 2.47 3.0 2.92 1.23 3.7 1.7 2.02 1.5 2.4\n"
          ]
        },
        {
          "name": "stderr",
          "output_type": "stream",
          "text": [
            " 86%|████████▋ | 147/170 [18:29<02:44,  7.14s/it]"
          ]
        },
        {
          "name": "stdout",
          "output_type": "stream",
          "text": [
            "05.07.2023 13:30 WORLD CLUB FRIENDLY Hobro (Den) Vendsyssel (Den) 2.47 3.0 2.92 1.23 3.7 1.7 2.02 1.5 2.4\n"
          ]
        },
        {
          "name": "stderr",
          "output_type": "stream",
          "text": [
            " 87%|████████▋ | 148/170 [18:36<02:36,  7.09s/it]"
          ]
        },
        {
          "name": "stdout",
          "output_type": "stream",
          "text": [
            "05.07.2023 13:30 WORLD CLUB FRIENDLY Malchower (Ger) Hansa Rostock (Ger) 2.47 3.0 2.92 1.23 3.7 1.7 2.02 1.5 2.4\n"
          ]
        },
        {
          "name": "stderr",
          "output_type": "stream",
          "text": [
            " 88%|████████▊ | 149/170 [18:42<02:27,  7.04s/it]"
          ]
        },
        {
          "name": "stdout",
          "output_type": "stream",
          "text": [
            "05.07.2023 13:45 WORLD CLUB FRIENDLY Cherno More (Bul) Dobrudzha (Bul) 2.47 3.0 2.92 1.23 3.7 1.7 2.02 1.5 2.4\n"
          ]
        },
        {
          "name": "stderr",
          "output_type": "stream",
          "text": [
            " 88%|████████▊ | 150/170 [18:51<02:29,  7.48s/it]"
          ]
        },
        {
          "name": "stdout",
          "output_type": "stream",
          "text": [
            "05.07.2023 13:45 WORLD CLUB FRIENDLY Galatasaray (Tur) Hull (Eng) 1.57 4.33 5.0 1.18 4.5 1.53 2.4 1.6 2.25\n"
          ]
        },
        {
          "name": "stderr",
          "output_type": "stream",
          "text": [
            " 89%|████████▉ | 151/170 [18:59<02:24,  7.59s/it]"
          ]
        },
        {
          "name": "stdout",
          "output_type": "stream",
          "text": [
            "05.07.2023 14:00 WORLD CLUB FRIENDLY Kortrijk (Bel) RWDM (Bel) 2.2 3.6 2.63 1.11 5.5 1.5 2.4 1.4 2.75\n"
          ]
        },
        {
          "name": "stderr",
          "output_type": "stream",
          "text": [
            " 89%|████████▉ | 152/170 [19:06<02:17,  7.61s/it]"
          ]
        },
        {
          "name": "stdout",
          "output_type": "stream",
          "text": [
            "05.07.2023 14:00 WORLD CLUB FRIENDLY Mahlsdorf (Ger) Viktoria Berlin (Ger) 4.75 4.33 1.5 1.11 5.5 1.45 2.55 1.5 2.4\n"
          ]
        },
        {
          "name": "stderr",
          "output_type": "stream",
          "text": [
            " 90%|█████████ | 153/170 [19:13<02:05,  7.40s/it]"
          ]
        },
        {
          "name": "stdout",
          "output_type": "stream",
          "text": [
            "05.07.2023 14:00 WORLD CLUB FRIENDLY Morlautern (Ger) Pirmasens (Ger) 4.75 4.33 1.5 1.11 5.5 1.45 2.55 1.5 2.4\n"
          ]
        },
        {
          "name": "stderr",
          "output_type": "stream",
          "text": [
            " 91%|█████████ | 154/170 [19:21<01:59,  7.48s/it]"
          ]
        },
        {
          "name": "stdout",
          "output_type": "stream",
          "text": [
            "05.07.2023 14:00 WORLD CLUB FRIENDLY Patro Eisden (Bel) St. Truiden (Bel) 5.0 4.6 1.44 1.22 3.8 1.75 1.95 1.91 1.8\n"
          ]
        },
        {
          "name": "stderr",
          "output_type": "stream",
          "text": [
            " 91%|█████████ | 155/170 [19:28<01:49,  7.32s/it]"
          ]
        },
        {
          "name": "stdout",
          "output_type": "stream",
          "text": [
            "05.07.2023 14:00 WORLD CLUB FRIENDLY RKSV Sarto (Ned) Willem II (Ned) 5.0 4.6 1.44 1.22 3.8 1.75 1.95 1.91 1.8\n"
          ]
        },
        {
          "name": "stderr",
          "output_type": "stream",
          "text": [
            " 92%|█████████▏| 156/170 [19:36<01:43,  7.42s/it]"
          ]
        },
        {
          "name": "stdout",
          "output_type": "stream",
          "text": [
            "05.07.2023 14:00 WORLD CLUB FRIENDLY Weindorf St. Anna (Aut) Sturm Graz (Am) (Aut) 2.85 4.15 1.93 1.06 7.3 1.23 3.56 1.25 3.77\n"
          ]
        },
        {
          "name": "stderr",
          "output_type": "stream",
          "text": [
            " 92%|█████████▏| 157/170 [19:43<01:36,  7.42s/it]"
          ]
        },
        {
          "name": "stdout",
          "output_type": "stream",
          "text": [
            "05.07.2023 14:00 WORLD CLUB FRIENDLY Wismar (Ger) Greifswald (Ger) 3.85 4.15 1.65 1.06 7.3 1.36 3.1 1.9 1.72\n"
          ]
        },
        {
          "name": "stderr",
          "output_type": "stream",
          "text": [
            " 93%|█████████▎| 158/170 [19:50<01:27,  7.31s/it]"
          ]
        },
        {
          "name": "stdout",
          "output_type": "stream",
          "text": [
            "05.07.2023 14:30 WORLD CLUB FRIENDLY Germania Ratingen (Ger) Frechen (Ger) 3.85 4.15 1.65 1.06 7.3 1.36 3.1 1.9 1.72\n"
          ]
        },
        {
          "name": "stderr",
          "output_type": "stream",
          "text": [
            " 94%|█████████▎| 159/170 [19:58<01:22,  7.50s/it]"
          ]
        },
        {
          "name": "stdout",
          "output_type": "stream",
          "text": [
            "05.07.2023 15:00 WORLD CLUB FRIENDLY Queen of South (Sco) Gretna 2008 (Sco) 1.25 6.0 8.5 1.06 7.5 1.3 3.3 1.55 2.35\n"
          ]
        },
        {
          "name": "stderr",
          "output_type": "stream",
          "text": [
            " 94%|█████████▍| 160/170 [20:06<01:15,  7.51s/it]"
          ]
        },
        {
          "name": "stdout",
          "output_type": "stream",
          "text": [
            "05.07.2023 15:00 WORLD CLUB FRIENDLY Waldgirmes (Ger) Hadamar (Ger) 1.44 4.5 5.3 1.11 5.25 1.38 2.71 1.53 2.42\n"
          ]
        },
        {
          "name": "stderr",
          "output_type": "stream",
          "text": [
            " 95%|█████████▍| 161/170 [20:14<01:09,  7.74s/it]"
          ]
        },
        {
          "name": "stdout",
          "output_type": "stream",
          "text": [
            "05.07.2023 15:30 WORLD CLUB FRIENDLY Boreham Wood (Eng) Watford (Eng) 5.5 4.5 1.47 1.11 5.5 1.44 2.65 1.55 2.35\n"
          ]
        },
        {
          "name": "stderr",
          "output_type": "stream",
          "text": [
            " 95%|█████████▌| 162/170 [20:22<01:03,  7.89s/it]"
          ]
        },
        {
          "name": "stdout",
          "output_type": "stream",
          "text": [
            "05.07.2023 15:30 WORLD CLUB FRIENDLY Bray (Irl) Dundee FC (Sco) 4.5 4.5 1.57 1.11 5.5 1.42 2.7 1.5 2.5\n"
          ]
        },
        {
          "name": "stderr",
          "output_type": "stream",
          "text": [
            " 96%|█████████▌| 163/170 [20:29<00:53,  7.64s/it]"
          ]
        },
        {
          "name": "stdout",
          "output_type": "stream",
          "text": [
            "05.07.2023 15:30 WORLD CLUB FRIENDLY Dufftown (Sco) Rothes (Sco) 4.5 4.5 1.57 1.11 5.5 1.42 2.7 1.5 2.5\n"
          ]
        },
        {
          "name": "stderr",
          "output_type": "stream",
          "text": [
            " 96%|█████████▋| 164/170 [20:37<00:45,  7.59s/it]"
          ]
        },
        {
          "name": "stdout",
          "output_type": "stream",
          "text": [
            "05.07.2023 15:30 WORLD CLUB FRIENDLY Melksham (Eng) Forest Green (Eng) 29.0 13.0 1.05 1.11 5.5 1.1 7.0 1.1 7.0\n"
          ]
        },
        {
          "name": "stderr",
          "output_type": "stream",
          "text": [
            " 97%|█████████▋| 165/170 [20:44<00:37,  7.43s/it]"
          ]
        },
        {
          "name": "stdout",
          "output_type": "stream",
          "text": [
            "05.07.2023 15:30 WORLD CLUB FRIENDLY Ruthin (Wal) Llanrwst United (Wal) 29.0 13.0 1.05 1.11 5.5 1.1 7.0 1.1 7.0\n"
          ]
        },
        {
          "name": "stderr",
          "output_type": "stream",
          "text": [
            " 98%|█████████▊| 166/170 [20:51<00:29,  7.31s/it]"
          ]
        },
        {
          "name": "stdout",
          "output_type": "stream",
          "text": [
            "05.07.2023 15:45 WORLD CLUB FRIENDLY Avro (Eng) Radcliffe (Eng) 29.0 13.0 1.05 1.11 5.5 1.1 7.0 1.1 7.0\n"
          ]
        },
        {
          "name": "stderr",
          "output_type": "stream",
          "text": [
            " 98%|█████████▊| 167/170 [20:58<00:21,  7.17s/it]"
          ]
        },
        {
          "name": "stdout",
          "output_type": "stream",
          "text": [
            "05.07.2023 15:45 WORLD CLUB FRIENDLY Huntly (Sco) Newmachar United (Sco) 29.0 13.0 1.05 1.11 5.5 1.1 7.0 1.1 7.0\n"
          ]
        },
        {
          "name": "stderr",
          "output_type": "stream",
          "text": [
            " 99%|█████████▉| 168/170 [21:05<00:14,  7.14s/it]"
          ]
        },
        {
          "name": "stdout",
          "output_type": "stream",
          "text": [
            "05.07.2023 17:00 WORLD CLUB FRIENDLY Zacatecas Mineros (Mex) Tepatitlan de Morelos (Mex) 29.0 13.0 1.05 1.11 5.5 1.1 7.0 1.1 7.0\n"
          ]
        },
        {
          "name": "stderr",
          "output_type": "stream",
          "text": [
            " 99%|█████████▉| 169/170 [21:13<00:07,  7.47s/it]"
          ]
        },
        {
          "name": "stdout",
          "output_type": "stream",
          "text": [
            "05.07.2023 13:00 WORLD FRIENDLY INTERNATIONAL WOMEN Denmark W Spain W 5.5 4.5 1.47 1.08 6.5 1.42 2.75 1.53 2.4\n"
          ]
        },
        {
          "name": "stderr",
          "output_type": "stream",
          "text": [
            "100%|██████████| 170/170 [21:21<00:00,  7.54s/it]"
          ]
        },
        {
          "name": "stdout",
          "output_type": "stream",
          "text": [
            "05.07.2023 14:00 WORLD FRIENDLY INTERNATIONAL WOMEN Switzerland W Morocco W 1.33 5.0 7.5 1.11 5.5 1.45 2.6 1.72 2.05\n"
          ]
        },
        {
          "name": "stderr",
          "output_type": "stream",
          "text": [
            "\n"
          ]
        }
      ],
      "source": [
        "# Pegando as Informacoes Básicas do Jogo\n",
        "for link in tqdm(id_jogos, total=len(id_jogos)):\n",
        "    wd_Chrome.get(f'https://www.flashscore.com/match/{link}/#/match-summary')\n",
        "    \n",
        "    try:\n",
        "        Date = wd_Chrome.find_element(By.CSS_SELECTOR,'div.duelParticipant__startTime').text.split(' ')[0]\n",
        "        Time = wd_Chrome.find_element(By.CSS_SELECTOR,'div.duelParticipant__startTime').text.split(' ')[1]\n",
        "        Country = wd_Chrome.find_element(By.CSS_SELECTOR,'span.tournamentHeader__country').text.split(':')[0]\n",
        "        League = wd_Chrome.find_element(By.CSS_SELECTOR,'span.tournamentHeader__country')\n",
        "        League = League.find_element(By.CSS_SELECTOR,'a').text\n",
        "        Home = wd_Chrome.find_element(By.CSS_SELECTOR,'div.duelParticipant__home')\n",
        "        Home = Home.find_element(By.CSS_SELECTOR,'div.participant__participantName').text\n",
        "        Away = wd_Chrome.find_element(By.CSS_SELECTOR,'div.duelParticipant__away')\n",
        "        Away = Away.find_element(By.CSS_SELECTOR,'div.participant__participantName').text\n",
        "    except:\n",
        "        pass\n",
        "\n",
        "# Match Odds\n",
        "    try:\n",
        "        wd_Chrome.get(f'https://www.flashscore.com/match/{link}/#/odds-comparison/1x2-odds/full-time')\n",
        "        time.sleep(2)\n",
        "        \n",
        "        linhas = wd_Chrome.find_elements(By.CSS_SELECTOR,'div.ui-table__row')\n",
        "        \n",
        "        for linha in linhas:\n",
        "                Odd_H = float(linha.find_elements(By.CSS_SELECTOR,'a.oddsCell__odd')[0].text)\n",
        "                Odd_D = float(linha.find_elements(By.CSS_SELECTOR,'a.oddsCell__odd')[1].text) \n",
        "                Odd_A = float(linha.find_elements(By.CSS_SELECTOR,'a.oddsCell__odd')[2].text)\n",
        "    except:\n",
        "        pass\n",
        "\n",
        "# Over e Under 2.5\n",
        "    try:\n",
        "        wd_Chrome.get(f'https://www.flashscore.com/match/{link}/#/odds-comparison/over-under/full-time')\n",
        "        time.sleep(2)\n",
        "        \n",
        "        linhas_over_under = wd_Chrome.find_elements(By.CSS_SELECTOR,'div.ui-table.oddsCell__odds')\n",
        "        for i in linhas_over_under:\n",
        "            linhas = i.find_elements(By.CSS_SELECTOR,'div.ui-table__row')\n",
        "            for linha in linhas:\n",
        "                try:\n",
        "                    qtd_gols = linha.find_element(By.CSS_SELECTOR,'span.oddsCell__noOddsCell').text.replace('.','')\n",
        "                    if qtd_gols == '05':\n",
        "                        Odd_Over05 = float(linha.find_elements(By.CSS_SELECTOR,'a.oddsCell__odd')[0].text)\n",
        "                        Odd_Under05 = float(linha.find_elements(By.CSS_SELECTOR,'a.oddsCell__odd')[1].text)\n",
        "                    if qtd_gols == '15':\n",
        "                        Odd_Over15 = float(linha.find_elements(By.CSS_SELECTOR,'a.oddsCell__odd')[0].text)\n",
        "                        Odd_Under15 = float(linha.find_elements(By.CSS_SELECTOR,'a.oddsCell__odd')[1].text)\n",
        "                        #print(Odd_Under15)\n",
        "                    if qtd_gols == '25':\n",
        "                        Odd_Over25 = float(linha.find_elements(By.CSS_SELECTOR,'a.oddsCell__odd')[0].text)\n",
        "                        Odd_Under25 = float(linha.find_elements(By.CSS_SELECTOR,'a.oddsCell__odd')[1].text)\n",
        "                except:\n",
        "                    pass\n",
        "    except:\n",
        "        pass\n",
        "\n",
        "# Ambas Marcam (BTTS)\n",
        "    try:\n",
        "        wd_Chrome.get(f'https://www.flashscore.com/match/{link}/#/odds-comparison/both-teams-to-score/full-time')\n",
        "        time.sleep(2)\n",
        "    \n",
        "        linhas = wd_Chrome.find_elements(By.CSS_SELECTOR,'div.ui-table__row')\n",
        "        \n",
        "        for linha in linhas:\n",
        "                BTTS_Yes = float(linha.find_elements(By.CSS_SELECTOR,'a.oddsCell__odd')[0].text)\n",
        "                BTTS_No = float(linha.find_elements(By.CSS_SELECTOR,'a.oddsCell__odd')[1].text)\n",
        "    except:\n",
        "        pass    \n",
        "    \n",
        "    try:\n",
        "        print(Date,Time,Country,League,Home,Away,Odd_H,Odd_D,Odd_A,Odd_Over15,Odd_Under15,Odd_Over25,Odd_Under25,BTTS_Yes,BTTS_No) \n",
        "\n",
        "        jogo['Date'].append(Date)\n",
        "        jogo['Time'].append(Time)\n",
        "        jogo['Country'].append(Country)\n",
        "        jogo['League'].append(League)\n",
        "        jogo['Home'].append(Home)\n",
        "        jogo['Away'].append(Away)\n",
        "        jogo['Odd_H'].append(Odd_H)\n",
        "        jogo['Odd_D'].append(Odd_D)\n",
        "        jogo['Odd_A'].append(Odd_A)\n",
        "        jogo['Odd_Over15'].append(Odd_Over15)\n",
        "        jogo['Odd_Under15'].append(Odd_Under15)\n",
        "        jogo['Odd_Over25'].append(Odd_Over25)\n",
        "        jogo['Odd_Under25'].append(Odd_Under25)\n",
        "        jogo['Odd_BTTS_Yes'].append(BTTS_Yes)\n",
        "        jogo['Odd_BTTS_No'].append(BTTS_No)\n",
        "\n",
        "    except:\n",
        "        pass"
      ]
    },
    {
      "attachments": {},
      "cell_type": "markdown",
      "metadata": {
        "id": "PfRRruDDyt38"
      },
      "source": [
        "## Gerando DataFrame com os Jogos do Dia"
      ]
    },
    {
      "cell_type": "code",
      "execution_count": 7,
      "metadata": {
        "id": "gCvR74k9aiC9"
      },
      "outputs": [
        {
          "data": {
            "text/html": [
              "<div>\n",
              "<style scoped>\n",
              "    .dataframe tbody tr th:only-of-type {\n",
              "        vertical-align: middle;\n",
              "    }\n",
              "\n",
              "    .dataframe tbody tr th {\n",
              "        vertical-align: top;\n",
              "    }\n",
              "\n",
              "    .dataframe thead th {\n",
              "        text-align: right;\n",
              "    }\n",
              "</style>\n",
              "<table border=\"1\" class=\"dataframe\">\n",
              "  <thead>\n",
              "    <tr style=\"text-align: right;\">\n",
              "      <th></th>\n",
              "      <th>Date</th>\n",
              "      <th>Time</th>\n",
              "      <th>Country</th>\n",
              "      <th>League</th>\n",
              "      <th>Home</th>\n",
              "      <th>Away</th>\n",
              "      <th>Odd_H</th>\n",
              "      <th>Odd_D</th>\n",
              "      <th>Odd_A</th>\n",
              "      <th>Odd_Over15</th>\n",
              "      <th>Odd_Under15</th>\n",
              "      <th>Odd_Over25</th>\n",
              "      <th>Odd_Under25</th>\n",
              "      <th>Odd_BTTS_Yes</th>\n",
              "      <th>Odd_BTTS_No</th>\n",
              "    </tr>\n",
              "  </thead>\n",
              "  <tbody>\n",
              "    <tr>\n",
              "      <th>1</th>\n",
              "      <td>05.07.2023</td>\n",
              "      <td>13:00</td>\n",
              "      <td>EUROPE</td>\n",
              "      <td>EURO U21 - PLAY OFFS - SEMI-FINALS</td>\n",
              "      <td>Israel U21</td>\n",
              "      <td>England U21</td>\n",
              "      <td>8.90</td>\n",
              "      <td>4.45</td>\n",
              "      <td>1.37</td>\n",
              "      <td>1.32</td>\n",
              "      <td>3.26</td>\n",
              "      <td>2.00</td>\n",
              "      <td>1.78</td>\n",
              "      <td>2.34</td>\n",
              "      <td>1.54</td>\n",
              "    </tr>\n",
              "    <tr>\n",
              "      <th>2</th>\n",
              "      <td>05.07.2023</td>\n",
              "      <td>16:00</td>\n",
              "      <td>EUROPE</td>\n",
              "      <td>EURO U21 - PLAY OFFS - SEMI-FINALS</td>\n",
              "      <td>Spain U21</td>\n",
              "      <td>Ukraine U21</td>\n",
              "      <td>1.70</td>\n",
              "      <td>3.95</td>\n",
              "      <td>4.45</td>\n",
              "      <td>1.23</td>\n",
              "      <td>4.04</td>\n",
              "      <td>1.74</td>\n",
              "      <td>2.04</td>\n",
              "      <td>1.71</td>\n",
              "      <td>2.04</td>\n",
              "    </tr>\n",
              "    <tr>\n",
              "      <th>3</th>\n",
              "      <td>05.07.2023</td>\n",
              "      <td>10:00</td>\n",
              "      <td>AFRICA</td>\n",
              "      <td>COSAFA CUP</td>\n",
              "      <td>Eswatini</td>\n",
              "      <td>Botswana</td>\n",
              "      <td>2.95</td>\n",
              "      <td>2.90</td>\n",
              "      <td>2.40</td>\n",
              "      <td>1.55</td>\n",
              "      <td>2.30</td>\n",
              "      <td>2.70</td>\n",
              "      <td>1.44</td>\n",
              "      <td>2.15</td>\n",
              "      <td>1.63</td>\n",
              "    </tr>\n",
              "    <tr>\n",
              "      <th>4</th>\n",
              "      <td>05.07.2023</td>\n",
              "      <td>13:00</td>\n",
              "      <td>AFRICA</td>\n",
              "      <td>COSAFA CUP</td>\n",
              "      <td>South Africa</td>\n",
              "      <td>Namibia</td>\n",
              "      <td>1.65</td>\n",
              "      <td>3.40</td>\n",
              "      <td>5.00</td>\n",
              "      <td>1.44</td>\n",
              "      <td>2.70</td>\n",
              "      <td>2.45</td>\n",
              "      <td>1.50</td>\n",
              "      <td>2.35</td>\n",
              "      <td>1.53</td>\n",
              "    </tr>\n",
              "    <tr>\n",
              "      <th>5</th>\n",
              "      <td>05.07.2023</td>\n",
              "      <td>15:30</td>\n",
              "      <td>ARGENTINA</td>\n",
              "      <td>LIGA PROFESIONAL - ROUND 23</td>\n",
              "      <td>Godoy Cruz</td>\n",
              "      <td>Platense</td>\n",
              "      <td>1.85</td>\n",
              "      <td>3.20</td>\n",
              "      <td>4.60</td>\n",
              "      <td>1.53</td>\n",
              "      <td>2.45</td>\n",
              "      <td>2.62</td>\n",
              "      <td>1.47</td>\n",
              "      <td>2.29</td>\n",
              "      <td>1.57</td>\n",
              "    </tr>\n",
              "    <tr>\n",
              "      <th>...</th>\n",
              "      <td>...</td>\n",
              "      <td>...</td>\n",
              "      <td>...</td>\n",
              "      <td>...</td>\n",
              "      <td>...</td>\n",
              "      <td>...</td>\n",
              "      <td>...</td>\n",
              "      <td>...</td>\n",
              "      <td>...</td>\n",
              "      <td>...</td>\n",
              "      <td>...</td>\n",
              "      <td>...</td>\n",
              "      <td>...</td>\n",
              "      <td>...</td>\n",
              "      <td>...</td>\n",
              "    </tr>\n",
              "    <tr>\n",
              "      <th>166</th>\n",
              "      <td>05.07.2023</td>\n",
              "      <td>15:45</td>\n",
              "      <td>WORLD</td>\n",
              "      <td>CLUB FRIENDLY</td>\n",
              "      <td>Avro (Eng)</td>\n",
              "      <td>Radcliffe (Eng)</td>\n",
              "      <td>29.00</td>\n",
              "      <td>13.00</td>\n",
              "      <td>1.05</td>\n",
              "      <td>1.11</td>\n",
              "      <td>5.50</td>\n",
              "      <td>1.10</td>\n",
              "      <td>7.00</td>\n",
              "      <td>1.10</td>\n",
              "      <td>7.00</td>\n",
              "    </tr>\n",
              "    <tr>\n",
              "      <th>167</th>\n",
              "      <td>05.07.2023</td>\n",
              "      <td>15:45</td>\n",
              "      <td>WORLD</td>\n",
              "      <td>CLUB FRIENDLY</td>\n",
              "      <td>Huntly (Sco)</td>\n",
              "      <td>Newmachar United (Sco)</td>\n",
              "      <td>29.00</td>\n",
              "      <td>13.00</td>\n",
              "      <td>1.05</td>\n",
              "      <td>1.11</td>\n",
              "      <td>5.50</td>\n",
              "      <td>1.10</td>\n",
              "      <td>7.00</td>\n",
              "      <td>1.10</td>\n",
              "      <td>7.00</td>\n",
              "    </tr>\n",
              "    <tr>\n",
              "      <th>168</th>\n",
              "      <td>05.07.2023</td>\n",
              "      <td>17:00</td>\n",
              "      <td>WORLD</td>\n",
              "      <td>CLUB FRIENDLY</td>\n",
              "      <td>Zacatecas Mineros (Mex)</td>\n",
              "      <td>Tepatitlan de Morelos (Mex)</td>\n",
              "      <td>29.00</td>\n",
              "      <td>13.00</td>\n",
              "      <td>1.05</td>\n",
              "      <td>1.11</td>\n",
              "      <td>5.50</td>\n",
              "      <td>1.10</td>\n",
              "      <td>7.00</td>\n",
              "      <td>1.10</td>\n",
              "      <td>7.00</td>\n",
              "    </tr>\n",
              "    <tr>\n",
              "      <th>169</th>\n",
              "      <td>05.07.2023</td>\n",
              "      <td>13:00</td>\n",
              "      <td>WORLD</td>\n",
              "      <td>FRIENDLY INTERNATIONAL WOMEN</td>\n",
              "      <td>Denmark W</td>\n",
              "      <td>Spain W</td>\n",
              "      <td>5.50</td>\n",
              "      <td>4.50</td>\n",
              "      <td>1.47</td>\n",
              "      <td>1.08</td>\n",
              "      <td>6.50</td>\n",
              "      <td>1.42</td>\n",
              "      <td>2.75</td>\n",
              "      <td>1.53</td>\n",
              "      <td>2.40</td>\n",
              "    </tr>\n",
              "    <tr>\n",
              "      <th>170</th>\n",
              "      <td>05.07.2023</td>\n",
              "      <td>14:00</td>\n",
              "      <td>WORLD</td>\n",
              "      <td>FRIENDLY INTERNATIONAL WOMEN</td>\n",
              "      <td>Switzerland W</td>\n",
              "      <td>Morocco W</td>\n",
              "      <td>1.33</td>\n",
              "      <td>5.00</td>\n",
              "      <td>7.50</td>\n",
              "      <td>1.11</td>\n",
              "      <td>5.50</td>\n",
              "      <td>1.45</td>\n",
              "      <td>2.60</td>\n",
              "      <td>1.72</td>\n",
              "      <td>2.05</td>\n",
              "    </tr>\n",
              "  </tbody>\n",
              "</table>\n",
              "<p>170 rows × 15 columns</p>\n",
              "</div>"
            ],
            "text/plain": [
              "           Date   Time    Country                              League  \\\n",
              "1    05.07.2023  13:00     EUROPE  EURO U21 - PLAY OFFS - SEMI-FINALS   \n",
              "2    05.07.2023  16:00     EUROPE  EURO U21 - PLAY OFFS - SEMI-FINALS   \n",
              "3    05.07.2023  10:00     AFRICA                          COSAFA CUP   \n",
              "4    05.07.2023  13:00     AFRICA                          COSAFA CUP   \n",
              "5    05.07.2023  15:30  ARGENTINA         LIGA PROFESIONAL - ROUND 23   \n",
              "..          ...    ...        ...                                 ...   \n",
              "166  05.07.2023  15:45      WORLD                       CLUB FRIENDLY   \n",
              "167  05.07.2023  15:45      WORLD                       CLUB FRIENDLY   \n",
              "168  05.07.2023  17:00      WORLD                       CLUB FRIENDLY   \n",
              "169  05.07.2023  13:00      WORLD        FRIENDLY INTERNATIONAL WOMEN   \n",
              "170  05.07.2023  14:00      WORLD        FRIENDLY INTERNATIONAL WOMEN   \n",
              "\n",
              "                        Home                         Away  Odd_H  Odd_D  \\\n",
              "1                 Israel U21                  England U21   8.90   4.45   \n",
              "2                  Spain U21                  Ukraine U21   1.70   3.95   \n",
              "3                   Eswatini                     Botswana   2.95   2.90   \n",
              "4               South Africa                      Namibia   1.65   3.40   \n",
              "5                 Godoy Cruz                     Platense   1.85   3.20   \n",
              "..                       ...                          ...    ...    ...   \n",
              "166               Avro (Eng)              Radcliffe (Eng)  29.00  13.00   \n",
              "167             Huntly (Sco)       Newmachar United (Sco)  29.00  13.00   \n",
              "168  Zacatecas Mineros (Mex)  Tepatitlan de Morelos (Mex)  29.00  13.00   \n",
              "169                Denmark W                      Spain W   5.50   4.50   \n",
              "170            Switzerland W                    Morocco W   1.33   5.00   \n",
              "\n",
              "     Odd_A  Odd_Over15  Odd_Under15  Odd_Over25  Odd_Under25  Odd_BTTS_Yes  \\\n",
              "1     1.37        1.32         3.26        2.00         1.78          2.34   \n",
              "2     4.45        1.23         4.04        1.74         2.04          1.71   \n",
              "3     2.40        1.55         2.30        2.70         1.44          2.15   \n",
              "4     5.00        1.44         2.70        2.45         1.50          2.35   \n",
              "5     4.60        1.53         2.45        2.62         1.47          2.29   \n",
              "..     ...         ...          ...         ...          ...           ...   \n",
              "166   1.05        1.11         5.50        1.10         7.00          1.10   \n",
              "167   1.05        1.11         5.50        1.10         7.00          1.10   \n",
              "168   1.05        1.11         5.50        1.10         7.00          1.10   \n",
              "169   1.47        1.08         6.50        1.42         2.75          1.53   \n",
              "170   7.50        1.11         5.50        1.45         2.60          1.72   \n",
              "\n",
              "     Odd_BTTS_No  \n",
              "1           1.54  \n",
              "2           2.04  \n",
              "3           1.63  \n",
              "4           1.53  \n",
              "5           1.57  \n",
              "..           ...  \n",
              "166         7.00  \n",
              "167         7.00  \n",
              "168         7.00  \n",
              "169         2.40  \n",
              "170         2.05  \n",
              "\n",
              "[170 rows x 15 columns]"
            ]
          },
          "execution_count": 7,
          "metadata": {},
          "output_type": "execute_result"
        }
      ],
      "source": [
        "df = pd.DataFrame(jogo)\n",
        "df = drop_reset_index(df)\n",
        "df"
      ]
    },
    {
      "cell_type": "code",
      "execution_count": 8,
      "metadata": {},
      "outputs": [],
      "source": [
        "df = df.rename(columns={'Odd_H': 'FT_Odd_H',\n",
        "                        'Odd_D': 'FT_Odd_D',\n",
        "                        'Odd_A': 'FT_Odd_A',\n",
        "                        'Odd_Over15': 'FT_Odd_Over15',\n",
        "                        'Odd_Under15': 'FT_Odd_Under15',\n",
        "                        'Odd_Over25': 'FT_Odd_Over25',\n",
        "                        'Odd_Under25': 'FT_Odd_Under25',\n",
        "                        'Odd_BTTS_Yes': 'FT_Odd_BTTS_Yes',\n",
        "                        'Odd_BTTS_No': 'FT_Odd_BTTS_No',\n",
        "                        })"
      ]
    },
    {
      "cell_type": "code",
      "execution_count": 9,
      "metadata": {
        "id": "RMxg0e62rlQv"
      },
      "outputs": [],
      "source": [
        "# Gerando os dados para excel\n",
        "from datetime import date, datetime, timedelta\n",
        "data = datetime.today() + timedelta(1)\n",
        "amanha = data.strftime('%Y-%m-%d')\n",
        "nome = 'Jogos_do_Dia_FlashScore.xlsx'\n",
        "\n",
        "df.to_excel(f'G:\\\\Meu Drive\\\\Programacao\\\\futPythonTrader\\\\Jogos do dia\\\\{amanha}_{nome}', index = False)"
      ]
    }
  ],
  "metadata": {
    "colab": {
      "collapsed_sections": [
        "Hs058KhByBQE",
        "LPftcTqaYDN7",
        "SxNjCaz_ZDBZ"
      ],
      "provenance": []
    },
    "kernelspec": {
      "display_name": "Python 3",
      "name": "python3"
    },
    "language_info": {
      "codemirror_mode": {
        "name": "ipython",
        "version": 3
      },
      "file_extension": ".py",
      "mimetype": "text/x-python",
      "name": "python",
      "nbconvert_exporter": "python",
      "pygments_lexer": "ipython3",
      "version": "3.10.1"
    }
  },
  "nbformat": 4,
  "nbformat_minor": 0
}
