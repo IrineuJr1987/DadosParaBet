{
  "cells": [
    {
      "cell_type": "code",
      "execution_count": 1,
      "metadata": {
        "id": "Il4jpanbyALF"
      },
      "outputs": [],
      "source": [
        "import pandas as pd\n",
        "import numpy as np\n",
        "\n",
        "import warnings\n",
        "warnings.filterwarnings('ignore')\n",
        "\n",
        "def dia():\n",
        "    from datetime import date, timedelta\n",
        "    dia = date.today() + timedelta(0)\n",
        "    return dia\n",
        "\n",
        "def drop_reset_index(df):\n",
        "    df = df.dropna()\n",
        "    df = df.reset_index(drop=True)\n",
        "    df.index += 1\n",
        "    return df\n",
        "    \n",
        "def grafico(df, nome):\n",
        "    df = df.reset_index(drop=True)\n",
        "    df.index += 1\n",
        "    df['Profit_acu'] = df.Profit.cumsum()\n",
        "    profit = round(df.Profit_acu.tail(1).item(),2)\n",
        "    ROI = round((df.Profit_acu.tail(1)/len(df)*100).item(),2)\n",
        "    df.Profit_acu.plot(title=nome, xlabel='Entradas', ylabel='Stakes')\n",
        "    print(\"Profit:\",profit,\"stakes em\", len(df),\"jogos\")\n",
        "    print(\"ROI:\",ROI,\"%\")"
      ]
    },
    {
      "attachments": {},
      "cell_type": "markdown",
      "metadata": {
        "id": "LPftcTqaYDN7"
      },
      "source": [
        "## Instalando as Dependências do Ubuntu"
      ]
    },
    {
      "cell_type": "code",
      "execution_count": 2,
      "metadata": {
        "colab": {
          "base_uri": "https://localhost:8080/"
        },
        "id": "gxE6n0dHk_cg",
        "outputId": "5b5b3173-8a5f-4846-c3bf-8ea3f2b2701b"
      },
      "outputs": [],
      "source": [
        "# %%shell\n",
        "# # Ubuntu no longer distributes chromium-browser outside of snap\n",
        "# #\n",
        "# # Proposed solution: https://askubuntu.com/questions/1204571/how-to-install-chromium-without-snap\n",
        "\n",
        "# # Add debian buster\n",
        "# cat > /etc/apt/sources.list.d/debian.list <<'EOF'\n",
        "# deb [arch=amd64 signed-by=/usr/share/keyrings/debian-buster.gpg] http://deb.debian.org/debian buster main\n",
        "# deb [arch=amd64 signed-by=/usr/share/keyrings/debian-buster-updates.gpg] http://deb.debian.org/debian buster-updates main\n",
        "# deb [arch=amd64 signed-by=/usr/share/keyrings/debian-security-buster.gpg] http://deb.debian.org/debian-security buster/updates main\n",
        "# EOF\n",
        "\n",
        "# # Add keys\n",
        "# apt-key adv --keyserver keyserver.ubuntu.com --recv-keys DCC9EFBF77E11517\n",
        "# apt-key adv --keyserver keyserver.ubuntu.com --recv-keys 648ACFD622F3D138\n",
        "# apt-key adv --keyserver keyserver.ubuntu.com --recv-keys 112695A0E562B32A\n",
        "\n",
        "# apt-key export 77E11517 | gpg --dearmour -o /usr/share/keyrings/debian-buster.gpg\n",
        "# apt-key export 22F3D138 | gpg --dearmour -o /usr/share/keyrings/debian-buster-updates.gpg\n",
        "# apt-key export E562B32A | gpg --dearmour -o /usr/share/keyrings/debian-security-buster.gpg\n",
        "\n",
        "# # Prefer debian repo for chromium* packages only\n",
        "# # Note the double-blank lines between entries\n",
        "# cat > /etc/apt/preferences.d/chromium.pref << 'EOF'\n",
        "# Package: *\n",
        "# Pin: release a=eoan\n",
        "# Pin-Priority: 500\n",
        "\n",
        "# Package: *\n",
        "# Pin: origin \"deb.debian.org\"\n",
        "# Pin-Priority: 300\n",
        "\n",
        "# Package: chromium*\n",
        "# Pin: origin \"deb.debian.org\"\n",
        "# Pin-Priority: 700\n",
        "# EOF\n",
        "\n",
        "# # Install chromium and chromium-driver\n",
        "# apt-get update\n",
        "# apt-get install chromium chromium-driver\n",
        "\n",
        "# # Install selenium\n",
        "# pip install selenium"
      ]
    },
    {
      "attachments": {},
      "cell_type": "markdown",
      "metadata": {
        "id": "SxNjCaz_ZDBZ"
      },
      "source": [
        "## Configuração do Web-Driver"
      ]
    },
    {
      "cell_type": "code",
      "execution_count": 3,
      "metadata": {
        "id": "fnFWgpcBh-nV"
      },
      "outputs": [],
      "source": [
        "import time\n",
        "from tqdm import tqdm\n",
        "from selenium import webdriver\n",
        "from selenium.webdriver.chrome.options import Options\n",
        "from selenium.webdriver.common.by import By\n",
        "\n",
        "options = Options()\n",
        "options.add_argument(\"--headless\")\n",
        "options.add_argument(\"--no-sandbox\")\n",
        "options.headless = True\n",
        "\n",
        "from selenium.webdriver.chrome.service import Service\n",
        "wd_Chrome = webdriver.Chrome(\"/usr/bin/chromedriver\", options=options)"
      ]
    },
    {
      "attachments": {},
      "cell_type": "markdown",
      "metadata": {
        "id": "FlNkojcdZybT"
      },
      "source": [
        "## Iniciando a Raspagem de Dados"
      ]
    },
    {
      "cell_type": "code",
      "execution_count": 4,
      "metadata": {
        "id": "eX6re9bjViBI"
      },
      "outputs": [],
      "source": [
        "# Com o WebDrive a gente consegue a pedir a página (URL)\n",
        "wd_Chrome.get(\"https://www.flashscore.com/\")"
      ]
    },
    {
      "cell_type": "code",
      "execution_count": 5,
      "metadata": {
        "id": "wL3Nnue6Vt5T"
      },
      "outputs": [
        {
          "ename": "ElementClickInterceptedException",
          "evalue": "Message: element click intercepted: Element <button class=\"calendar__navigation calendar__navigation--tomorrow\" title=\"Next day\">...</button> is not clickable at point (743, 402). Other element would receive the click: <button id=\"onetrust-accept-btn-handler\">...</button>\n  (Session info: headless chrome=114.0.5735.248)\nStacktrace:\nBacktrace:\n\tGetHandleVerifier [0x009AA813+48355]\n\t(No symbol) [0x0093C4B1]\n\t(No symbol) [0x00845358]\n\t(No symbol) [0x00875062]\n\t(No symbol) [0x00873B98]\n\t(No symbol) [0x0087239B]\n\t(No symbol) [0x0087179E]\n\t(No symbol) [0x00869F5C]\n\t(No symbol) [0x0088A73C]\n\t(No symbol) [0x00869A36]\n\t(No symbol) [0x0088AA94]\n\t(No symbol) [0x0089C922]\n\t(No symbol) [0x0088A536]\n\t(No symbol) [0x008682DC]\n\t(No symbol) [0x008693DD]\n\tGetHandleVerifier [0x00C0AABD+2539405]\n\tGetHandleVerifier [0x00C4A78F+2800735]\n\tGetHandleVerifier [0x00C4456C+2775612]\n\tGetHandleVerifier [0x00A351E0+616112]\n\t(No symbol) [0x00945F8C]\n\t(No symbol) [0x00942328]\n\t(No symbol) [0x0094240B]\n\t(No symbol) [0x00934FF7]\n\tBaseThreadInitThunk [0x763500C9+25]\n\tRtlGetAppContainerNamedObjectPath [0x77927B1E+286]\n\tRtlGetAppContainerNamedObjectPath [0x77927AEE+238]\n",
          "output_type": "error",
          "traceback": [
            "\u001b[1;31m---------------------------------------------------------------------------\u001b[0m",
            "\u001b[1;31mElementClickInterceptedException\u001b[0m          Traceback (most recent call last)",
            "Cell \u001b[1;32mIn[5], line 9\u001b[0m\n\u001b[0;32m      6\u001b[0m     \u001b[39mpass\u001b[39;00m\n\u001b[0;32m      8\u001b[0m \u001b[39m# Selecionando o Dia de Amanhã\u001b[39;00m\n\u001b[1;32m----> 9\u001b[0m wd_Chrome\u001b[39m.\u001b[39;49mfind_element(By\u001b[39m.\u001b[39;49mCSS_SELECTOR,\u001b[39m'\u001b[39;49m\u001b[39mbutton.calendar__navigation--tomorrow\u001b[39;49m\u001b[39m'\u001b[39;49m)\u001b[39m.\u001b[39;49mclick()\n\u001b[0;32m     10\u001b[0m time\u001b[39m.\u001b[39msleep(\u001b[39m3\u001b[39m)\n\u001b[0;32m     12\u001b[0m \u001b[39m# Pegando o ID dos Jogos\u001b[39;00m\n",
            "File \u001b[1;32mc:\\Users\\Bill\\AppData\\Local\\Programs\\Python\\Python310\\lib\\site-packages\\selenium\\webdriver\\remote\\webelement.py:93\u001b[0m, in \u001b[0;36mWebElement.click\u001b[1;34m(self)\u001b[0m\n\u001b[0;32m     91\u001b[0m \u001b[39mdef\u001b[39;00m \u001b[39mclick\u001b[39m(\u001b[39mself\u001b[39m) \u001b[39m-\u001b[39m\u001b[39m>\u001b[39m \u001b[39mNone\u001b[39;00m:\n\u001b[0;32m     92\u001b[0m \u001b[39m    \u001b[39m\u001b[39m\"\"\"Clicks the element.\"\"\"\u001b[39;00m\n\u001b[1;32m---> 93\u001b[0m     \u001b[39mself\u001b[39;49m\u001b[39m.\u001b[39;49m_execute(Command\u001b[39m.\u001b[39;49mCLICK_ELEMENT)\n",
            "File \u001b[1;32mc:\\Users\\Bill\\AppData\\Local\\Programs\\Python\\Python310\\lib\\site-packages\\selenium\\webdriver\\remote\\webelement.py:410\u001b[0m, in \u001b[0;36mWebElement._execute\u001b[1;34m(self, command, params)\u001b[0m\n\u001b[0;32m    408\u001b[0m     params \u001b[39m=\u001b[39m {}\n\u001b[0;32m    409\u001b[0m params[\u001b[39m\"\u001b[39m\u001b[39mid\u001b[39m\u001b[39m\"\u001b[39m] \u001b[39m=\u001b[39m \u001b[39mself\u001b[39m\u001b[39m.\u001b[39m_id\n\u001b[1;32m--> 410\u001b[0m \u001b[39mreturn\u001b[39;00m \u001b[39mself\u001b[39;49m\u001b[39m.\u001b[39;49m_parent\u001b[39m.\u001b[39;49mexecute(command, params)\n",
            "File \u001b[1;32mc:\\Users\\Bill\\AppData\\Local\\Programs\\Python\\Python310\\lib\\site-packages\\selenium\\webdriver\\remote\\webdriver.py:444\u001b[0m, in \u001b[0;36mWebDriver.execute\u001b[1;34m(self, driver_command, params)\u001b[0m\n\u001b[0;32m    442\u001b[0m response \u001b[39m=\u001b[39m \u001b[39mself\u001b[39m\u001b[39m.\u001b[39mcommand_executor\u001b[39m.\u001b[39mexecute(driver_command, params)\n\u001b[0;32m    443\u001b[0m \u001b[39mif\u001b[39;00m response:\n\u001b[1;32m--> 444\u001b[0m     \u001b[39mself\u001b[39;49m\u001b[39m.\u001b[39;49merror_handler\u001b[39m.\u001b[39;49mcheck_response(response)\n\u001b[0;32m    445\u001b[0m     response[\u001b[39m\"\u001b[39m\u001b[39mvalue\u001b[39m\u001b[39m\"\u001b[39m] \u001b[39m=\u001b[39m \u001b[39mself\u001b[39m\u001b[39m.\u001b[39m_unwrap_value(response\u001b[39m.\u001b[39mget(\u001b[39m\"\u001b[39m\u001b[39mvalue\u001b[39m\u001b[39m\"\u001b[39m, \u001b[39mNone\u001b[39;00m))\n\u001b[0;32m    446\u001b[0m     \u001b[39mreturn\u001b[39;00m response\n",
            "File \u001b[1;32mc:\\Users\\Bill\\AppData\\Local\\Programs\\Python\\Python310\\lib\\site-packages\\selenium\\webdriver\\remote\\errorhandler.py:249\u001b[0m, in \u001b[0;36mErrorHandler.check_response\u001b[1;34m(self, response)\u001b[0m\n\u001b[0;32m    247\u001b[0m         alert_text \u001b[39m=\u001b[39m value[\u001b[39m\"\u001b[39m\u001b[39malert\u001b[39m\u001b[39m\"\u001b[39m]\u001b[39m.\u001b[39mget(\u001b[39m\"\u001b[39m\u001b[39mtext\u001b[39m\u001b[39m\"\u001b[39m)\n\u001b[0;32m    248\u001b[0m     \u001b[39mraise\u001b[39;00m exception_class(message, screen, stacktrace, alert_text)  \u001b[39m# type: ignore[call-arg]  # mypy is not smart enough here\u001b[39;00m\n\u001b[1;32m--> 249\u001b[0m \u001b[39mraise\u001b[39;00m exception_class(message, screen, stacktrace)\n",
            "\u001b[1;31mElementClickInterceptedException\u001b[0m: Message: element click intercepted: Element <button class=\"calendar__navigation calendar__navigation--tomorrow\" title=\"Next day\">...</button> is not clickable at point (743, 402). Other element would receive the click: <button id=\"onetrust-accept-btn-handler\">...</button>\n  (Session info: headless chrome=114.0.5735.248)\nStacktrace:\nBacktrace:\n\tGetHandleVerifier [0x009AA813+48355]\n\t(No symbol) [0x0093C4B1]\n\t(No symbol) [0x00845358]\n\t(No symbol) [0x00875062]\n\t(No symbol) [0x00873B98]\n\t(No symbol) [0x0087239B]\n\t(No symbol) [0x0087179E]\n\t(No symbol) [0x00869F5C]\n\t(No symbol) [0x0088A73C]\n\t(No symbol) [0x00869A36]\n\t(No symbol) [0x0088AA94]\n\t(No symbol) [0x0089C922]\n\t(No symbol) [0x0088A536]\n\t(No symbol) [0x008682DC]\n\t(No symbol) [0x008693DD]\n\tGetHandleVerifier [0x00C0AABD+2539405]\n\tGetHandleVerifier [0x00C4A78F+2800735]\n\tGetHandleVerifier [0x00C4456C+2775612]\n\tGetHandleVerifier [0x00A351E0+616112]\n\t(No symbol) [0x00945F8C]\n\t(No symbol) [0x00942328]\n\t(No symbol) [0x0094240B]\n\t(No symbol) [0x00934FF7]\n\tBaseThreadInitThunk [0x763500C9+25]\n\tRtlGetAppContainerNamedObjectPath [0x77927B1E+286]\n\tRtlGetAppContainerNamedObjectPath [0x77927AEE+238]\n"
          ]
        }
      ],
      "source": [
        "# Fechando Botão de Cookies\n",
        "try:\n",
        "    button_cookies = wd_Chrome.find_element(By.CSS_SELECTOR,'button#onetrust-accept-btn-handler')\n",
        "    button_cookies.click()\n",
        "except:\n",
        "    pass\n",
        "\n",
        "# Selecionando o Dia de Amanhã\n",
        "time.sleep(3)\n",
        "wd_Chrome.find_element(By.CSS_SELECTOR,'button.calendar__navigation--tomorrow').click()\n",
        "time.sleep(3)\n",
        "\n",
        "# Pegando o ID dos Jogos\n",
        "id_jogos = []\n",
        "jogos = wd_Chrome.find_elements(By.CSS_SELECTOR,'div.event__match--scheduled')\n",
        "\n",
        "for i in jogos:\n",
        "    id_jogos.append(i.get_attribute(\"id\"))\n",
        "\n",
        "# Exemplo de ID de um jogo: 'g_1_Gb7buXVt'    \n",
        "id_jogos = [i[4:] for i in id_jogos]\n",
        "\n",
        "jogo = {'Date':[],'Time':[],'Country':[],'League':[],'Home':[],'Away':[],'Odd_H':[],'Odd_D':[],'Odd_A':[],'Odd_Over15':[],'Odd_Under15':[],'Odd_Over25':[],'Odd_Under25':[],'Odd_BTTS_Yes':[],'Odd_BTTS_No':[]}"
      ]
    },
    {
      "cell_type": "code",
      "execution_count": null,
      "metadata": {
        "colab": {
          "base_uri": "https://localhost:8080/"
        },
        "id": "pfPc-OYBak9y",
        "outputId": "615af628-9ed6-4ec3-c72b-1696af141c5c"
      },
      "outputs": [
        {
          "name": "stderr",
          "output_type": "stream",
          "text": [
            " 39%|███▉      | 61/157 [08:32<12:49,  8.02s/it]"
          ]
        },
        {
          "name": "stdout",
          "output_type": "stream",
          "text": [
            "26.07.2023 15:30 SWITZERLAND SUPER LEAGUE - ROUND 1 Lausanne Ouchy Lugano 3.4 3.6 2.0 1.22 4.0 1.75 2.05 1.63 2.2\n"
          ]
        },
        {
          "name": "stderr",
          "output_type": "stream",
          "text": [
            " 39%|███▉      | 62/157 [08:41<12:58,  8.20s/it]"
          ]
        },
        {
          "name": "stdout",
          "output_type": "stream",
          "text": [
            "26.07.2023 20:00 USA USL CHAMPIONSHIP Pittsburgh Indy Eleven 1.63 3.75 5.0 1.28 3.5 1.9 1.85 1.9 1.85\n"
          ]
        },
        {
          "name": "stderr",
          "output_type": "stream",
          "text": [
            " 40%|████      | 63/157 [08:50<13:13,  8.44s/it]"
          ]
        },
        {
          "name": "stdout",
          "output_type": "stream",
          "text": [
            "26.07.2023 23:00 USA USL CHAMPIONSHIP Oakland Roots Las Vegas Lights 1.75 3.5 4.5 1.28 3.5 1.87 1.87 1.8 1.95\n"
          ]
        },
        {
          "name": "stderr",
          "output_type": "stream",
          "text": [
            " 41%|████      | 64/157 [08:57<12:38,  8.16s/it]"
          ]
        },
        {
          "name": "stdout",
          "output_type": "stream",
          "text": [
            "26.07.2023 10:00 WORLD FRIENDLY INTERNATIONAL Teuta Kyrgyzstan 1.75 3.5 4.5 1.28 3.5 1.87 1.87 1.8 1.95\n"
          ]
        },
        {
          "name": "stderr",
          "output_type": "stream",
          "text": [
            " 41%|████▏     | 65/157 [09:04<11:52,  7.75s/it]"
          ]
        },
        {
          "name": "stdout",
          "output_type": "stream",
          "text": [
            "26.07.2023 04:30 WORLD CLUB FRIENDLY Concordia (Rou) CSM Slatina (Rou) 1.75 3.5 4.5 1.28 3.5 1.87 1.87 1.8 1.95\n"
          ]
        },
        {
          "name": "stderr",
          "output_type": "stream",
          "text": [
            " 42%|████▏     | 66/157 [09:11<11:33,  7.62s/it]"
          ]
        },
        {
          "name": "stdout",
          "output_type": "stream",
          "text": [
            "26.07.2023 05:00 WORLD CLUB FRIENDLY Liberec B (Cze) Dukla Prague B (Cze) 1.75 3.5 4.5 1.28 3.5 1.87 1.87 1.8 1.95\n"
          ]
        },
        {
          "name": "stderr",
          "output_type": "stream",
          "text": [
            " 43%|████▎     | 67/157 [09:18<11:12,  7.48s/it]"
          ]
        },
        {
          "name": "stdout",
          "output_type": "stream",
          "text": [
            "26.07.2023 05:00 WORLD CLUB FRIENDLY Polet Dorcol (Srb) Prva Iskra (Srb) 1.75 3.5 4.5 1.28 3.5 1.87 1.87 1.8 1.95\n"
          ]
        },
        {
          "name": "stderr",
          "output_type": "stream",
          "text": [
            " 43%|████▎     | 68/157 [09:26<10:55,  7.36s/it]"
          ]
        },
        {
          "name": "stdout",
          "output_type": "stream",
          "text": [
            "26.07.2023 06:00 WORLD CLUB FRIENDLY CD Portosantense (Por) Trofense (Por) 1.75 3.5 4.5 1.28 3.5 1.87 1.87 1.8 1.95\n"
          ]
        },
        {
          "name": "stderr",
          "output_type": "stream",
          "text": [
            " 44%|████▍     | 69/157 [09:33<10:43,  7.31s/it]"
          ]
        },
        {
          "name": "stdout",
          "output_type": "stream",
          "text": [
            "26.07.2023 06:00 WORLD CLUB FRIENDLY Omladinac NB (Srb) FK Indjija (Srb) 1.75 3.5 4.5 1.28 3.5 1.87 1.87 1.8 1.95\n"
          ]
        },
        {
          "name": "stderr",
          "output_type": "stream",
          "text": [
            " 45%|████▍     | 70/157 [09:40<10:31,  7.26s/it]"
          ]
        },
        {
          "name": "stdout",
          "output_type": "stream",
          "text": [
            "26.07.2023 06:00 WORLD CLUB FRIENDLY Triglav (Slo) Trabzonspor (Tur) 1.75 3.5 4.5 1.28 3.5 1.87 1.87 1.8 1.95\n"
          ]
        },
        {
          "name": "stderr",
          "output_type": "stream",
          "text": [
            " 45%|████▌     | 71/157 [09:47<10:22,  7.24s/it]"
          ]
        },
        {
          "name": "stdout",
          "output_type": "stream",
          "text": [
            "26.07.2023 06:30 WORLD CLUB FRIENDLY AVS (Por) Varzim (Por) 1.75 3.5 4.5 1.28 3.5 1.87 1.87 1.8 1.95\n"
          ]
        },
        {
          "name": "stderr",
          "output_type": "stream",
          "text": [
            " 46%|████▌     | 72/157 [09:54<10:09,  7.17s/it]"
          ]
        },
        {
          "name": "stdout",
          "output_type": "stream",
          "text": [
            "26.07.2023 06:30 WORLD CLUB FRIENDLY Ursaria (Esp) Zaragoza B (Esp) 1.75 3.5 4.5 1.28 3.5 1.87 1.87 1.8 1.95\n"
          ]
        },
        {
          "name": "stderr",
          "output_type": "stream",
          "text": [
            " 46%|████▋     | 73/157 [10:03<10:44,  7.67s/it]"
          ]
        },
        {
          "name": "stdout",
          "output_type": "stream",
          "text": [
            "26.07.2023 07:30 WORLD CLUB FRIENDLY Bayern Munich (Ger) Manchester City (Eng) 3.1 4.0 2.05 1.1 6.5 1.38 3.0 1.36 3.0\n"
          ]
        },
        {
          "name": "stderr",
          "output_type": "stream",
          "text": [
            " 47%|████▋     | 74/157 [10:10<10:28,  7.57s/it]"
          ]
        },
        {
          "name": "stdout",
          "output_type": "stream",
          "text": [
            "26.07.2023 08:30 WORLD CLUB FRIENDLY Lion City (Sgp) Tottenham (Eng) 3.1 4.0 2.05 1.1 6.5 1.38 3.0 1.36 3.0\n"
          ]
        },
        {
          "name": "stderr",
          "output_type": "stream",
          "text": [
            " 48%|████▊     | 75/157 [10:18<10:14,  7.50s/it]"
          ]
        },
        {
          "name": "stdout",
          "output_type": "stream",
          "text": [
            "26.07.2023 09:00 WORLD CLUB FRIENDLY Alaves (Esp) Tenerife (Esp) 3.1 4.0 2.05 1.1 6.5 1.38 3.0 1.36 3.0\n"
          ]
        },
        {
          "name": "stderr",
          "output_type": "stream",
          "text": [
            " 48%|████▊     | 76/157 [10:25<10:01,  7.43s/it]"
          ]
        },
        {
          "name": "stdout",
          "output_type": "stream",
          "text": [
            "26.07.2023 09:00 WORLD CLUB FRIENDLY Dubocica (Srb) SFS Borac (Srb) 3.1 4.0 2.05 1.1 6.5 1.38 3.0 1.36 3.0\n"
          ]
        },
        {
          "name": "stderr",
          "output_type": "stream",
          "text": [
            " 49%|████▉     | 77/157 [10:33<10:11,  7.65s/it]"
          ]
        },
        {
          "name": "stdout",
          "output_type": "stream",
          "text": [
            "26.07.2023 09:00 WORLD CLUB FRIENDLY Getafe (Esp) Reims (Fra) 2.27 3.4 2.92 1.25 3.8 1.78 1.97 1.66 2.16\n"
          ]
        },
        {
          "name": "stderr",
          "output_type": "stream",
          "text": [
            " 50%|████▉     | 78/157 [10:40<09:55,  7.54s/it]"
          ]
        },
        {
          "name": "stdout",
          "output_type": "stream",
          "text": [
            "26.07.2023 09:00 WORLD CLUB FRIENDLY Grodzisk M. (Pol) Mszczonowianka Mszczonow (Pol) 2.27 3.4 2.92 1.25 3.8 1.78 1.97 1.66 2.16\n"
          ]
        },
        {
          "name": "stderr",
          "output_type": "stream",
          "text": [
            " 50%|█████     | 79/157 [10:48<09:42,  7.47s/it]"
          ]
        },
        {
          "name": "stdout",
          "output_type": "stream",
          "text": [
            "26.07.2023 09:00 WORLD CLUB FRIENDLY Koronco (Hun) Papai Perutz (Hun) 2.27 3.4 2.92 1.25 3.8 1.78 1.97 1.66 2.16\n"
          ]
        },
        {
          "name": "stderr",
          "output_type": "stream",
          "text": [
            " 51%|█████     | 80/157 [10:55<09:31,  7.43s/it]"
          ]
        },
        {
          "name": "stdout",
          "output_type": "stream",
          "text": [
            "26.07.2023 09:00 WORLD CLUB FRIENDLY Le Puy-en-Velay (Fra) Troyes (Fra) 2.27 3.4 2.92 1.25 3.8 1.78 1.97 1.66 2.16\n"
          ]
        },
        {
          "name": "stderr",
          "output_type": "stream",
          "text": [
            " 52%|█████▏    | 81/157 [11:02<09:18,  7.35s/it]"
          ]
        },
        {
          "name": "stdout",
          "output_type": "stream",
          "text": [
            "26.07.2023 09:00 WORLD CLUB FRIENDLY Lille (Fra) Le Havre (Fra) 2.27 3.4 2.92 1.25 3.8 1.78 1.97 1.66 2.16\n"
          ]
        },
        {
          "name": "stderr",
          "output_type": "stream",
          "text": [
            " 52%|█████▏    | 82/157 [11:09<09:09,  7.32s/it]"
          ]
        },
        {
          "name": "stdout",
          "output_type": "stream",
          "text": [
            "26.07.2023 09:00 WORLD CLUB FRIENDLY Os Belenenses (Por) Oriental (Por) 2.27 3.4 2.92 1.25 3.8 1.78 1.97 1.66 2.16\n"
          ]
        },
        {
          "name": "stderr",
          "output_type": "stream",
          "text": [
            " 53%|█████▎    | 83/157 [11:17<08:58,  7.27s/it]"
          ]
        },
        {
          "name": "stdout",
          "output_type": "stream",
          "text": [
            "26.07.2023 09:00 WORLD CLUB FRIENDLY Paris FC (Fra) Chateauroux (Fra) 2.27 3.4 2.92 1.25 3.8 1.78 1.97 1.66 2.16\n"
          ]
        },
        {
          "name": "stderr",
          "output_type": "stream",
          "text": [
            " 54%|█████▎    | 84/157 [11:24<08:51,  7.28s/it]"
          ]
        },
        {
          "name": "stdout",
          "output_type": "stream",
          "text": [
            "26.07.2023 09:00 WORLD CLUB FRIENDLY Sheffield Utd (Eng) Girona (Esp) 2.27 3.4 2.92 1.25 3.8 1.78 1.97 1.66 2.16\n"
          ]
        },
        {
          "name": "stderr",
          "output_type": "stream",
          "text": [
            " 54%|█████▍    | 85/157 [11:31<08:45,  7.30s/it]"
          ]
        },
        {
          "name": "stdout",
          "output_type": "stream",
          "text": [
            "26.07.2023 09:30 WORLD CLUB FRIENDLY Union Titus Petange (Lux) Amiens (Fra) 2.27 3.4 2.92 1.25 3.8 1.78 1.97 1.66 2.16\n"
          ]
        },
        {
          "name": "stderr",
          "output_type": "stream",
          "text": [
            " 55%|█████▍    | 86/157 [11:39<08:39,  7.32s/it]"
          ]
        },
        {
          "name": "stdout",
          "output_type": "stream",
          "text": [
            "26.07.2023 11:00 WORLD CLUB FRIENDLY Bordeaux (Fra) GOAL FC (Fra) 2.27 3.4 2.92 1.25 3.8 1.78 1.97 1.66 2.16\n"
          ]
        },
        {
          "name": "stderr",
          "output_type": "stream",
          "text": [
            " 55%|█████▌    | 87/157 [11:45<08:23,  7.20s/it]"
          ]
        },
        {
          "name": "stdout",
          "output_type": "stream",
          "text": [
            "26.07.2023 12:00 WORLD CLUB FRIENDLY Annecy (Fra) St Etienne (Fra) 2.27 3.4 2.92 1.25 3.8 1.78 1.97 1.66 2.16\n"
          ]
        },
        {
          "name": "stderr",
          "output_type": "stream",
          "text": [
            " 56%|█████▌    | 88/157 [11:53<08:20,  7.25s/it]"
          ]
        },
        {
          "name": "stdout",
          "output_type": "stream",
          "text": [
            "26.07.2023 12:00 WORLD CLUB FRIENDLY Atalanta (Ita) Pro Vercelli (Ita) 2.27 3.4 2.92 1.25 3.8 1.78 1.97 1.66 2.16\n"
          ]
        },
        {
          "name": "stderr",
          "output_type": "stream",
          "text": [
            " 57%|█████▋    | 89/157 [12:00<08:13,  7.26s/it]"
          ]
        },
        {
          "name": "stdout",
          "output_type": "stream",
          "text": [
            "26.07.2023 12:00 WORLD CLUB FRIENDLY Auxerre (Fra) Orleans (Fra) 2.27 3.4 2.92 1.25 3.8 1.78 1.97 1.66 2.16\n"
          ]
        },
        {
          "name": "stderr",
          "output_type": "stream",
          "text": [
            " 57%|█████▋    | 90/157 [12:08<08:17,  7.42s/it]"
          ]
        },
        {
          "name": "stdout",
          "output_type": "stream",
          "text": [
            "26.07.2023 12:00 WORLD CLUB FRIENDLY Cremonese (Ita) Lumezzane (Ita) 1.05 11.0 24.0 1.01 11.0 1.18 4.5 2.1 1.7\n"
          ]
        },
        {
          "name": "stderr",
          "output_type": "stream",
          "text": [
            " 58%|█████▊    | 91/157 [12:15<08:06,  7.38s/it]"
          ]
        },
        {
          "name": "stdout",
          "output_type": "stream",
          "text": [
            "26.07.2023 12:00 WORLD CLUB FRIENDLY Inainte Modelu (Rou) Gloria Baneasa (Rou) 1.05 11.0 24.0 1.01 11.0 1.18 4.5 2.1 1.7\n"
          ]
        },
        {
          "name": "stderr",
          "output_type": "stream",
          "text": [
            " 59%|█████▊    | 92/157 [12:22<07:51,  7.25s/it]"
          ]
        },
        {
          "name": "stdout",
          "output_type": "stream",
          "text": [
            "26.07.2023 12:00 WORLD CLUB FRIENDLY Jelenia Gora (Pol) Slask Wroclaw 2 (Pol) 1.05 11.0 24.0 1.01 11.0 1.18 4.5 2.1 1.7\n"
          ]
        },
        {
          "name": "stderr",
          "output_type": "stream",
          "text": [
            " 59%|█████▉    | 93/157 [12:29<07:44,  7.26s/it]"
          ]
        },
        {
          "name": "stdout",
          "output_type": "stream",
          "text": [
            "26.07.2023 12:00 WORLD CLUB FRIENDLY Mosonmagyarovari TE (Hun) I. Bratislava (Svk) 1.05 11.0 24.0 1.01 11.0 1.18 4.5 2.1 1.7\n"
          ]
        },
        {
          "name": "stderr",
          "output_type": "stream",
          "text": [
            " 60%|█████▉    | 94/157 [12:37<07:36,  7.25s/it]"
          ]
        },
        {
          "name": "stdout",
          "output_type": "stream",
          "text": [
            "26.07.2023 12:00 WORLD CLUB FRIENDLY Pardubice B (Cze) Zaglebie Sosnowiec 2 (Pol) 1.05 11.0 24.0 1.01 11.0 1.18 4.5 2.1 1.7\n"
          ]
        },
        {
          "name": "stderr",
          "output_type": "stream",
          "text": [
            " 61%|██████    | 95/157 [12:44<07:27,  7.22s/it]"
          ]
        },
        {
          "name": "stdout",
          "output_type": "stream",
          "text": [
            "26.07.2023 12:00 WORLD CLUB FRIENDLY Reggiana (Ita) AlbinoLeffe (Ita) 1.05 11.0 24.0 1.01 11.0 1.18 4.5 2.1 1.7\n"
          ]
        },
        {
          "name": "stderr",
          "output_type": "stream",
          "text": [
            " 61%|██████    | 96/157 [12:51<07:25,  7.30s/it]"
          ]
        },
        {
          "name": "stdout",
          "output_type": "stream",
          "text": [
            "26.07.2023 12:30 WORLD CLUB FRIENDLY Blansko (Cze) Velke Mezirici (Cze) 1.05 11.0 24.0 1.01 11.0 1.18 4.5 2.1 1.7\n"
          ]
        },
        {
          "name": "stderr",
          "output_type": "stream",
          "text": [
            " 62%|██████▏   | 97/157 [12:59<07:17,  7.30s/it]"
          ]
        },
        {
          "name": "stdout",
          "output_type": "stream",
          "text": [
            "26.07.2023 12:30 WORLD CLUB FRIENDLY Lecce (Ita) Padova (Ita) 1.05 11.0 24.0 1.01 11.0 1.18 4.5 2.1 1.7\n"
          ]
        },
        {
          "name": "stderr",
          "output_type": "stream",
          "text": [
            " 62%|██████▏   | 98/157 [13:06<07:18,  7.44s/it]"
          ]
        },
        {
          "name": "stdout",
          "output_type": "stream",
          "text": [
            "26.07.2023 13:00 WORLD CLUB FRIENDLY B. Monchengladbach (Ger) Ingolstadt (Ger) 1.19 6.0 10.0 1.08 7.1 1.33 3.2 1.65 2.18\n"
          ]
        },
        {
          "name": "stderr",
          "output_type": "stream",
          "text": [
            " 63%|██████▎   | 99/157 [13:13<07:05,  7.34s/it]"
          ]
        },
        {
          "name": "stdout",
          "output_type": "stream",
          "text": [
            "26.07.2023 13:00 WORLD CLUB FRIENDLY Benesov (Cze) Admira Prague (Cze) 1.19 6.0 10.0 1.08 7.1 1.33 3.2 1.65 2.18\n"
          ]
        },
        {
          "name": "stderr",
          "output_type": "stream",
          "text": [
            " 64%|██████▎   | 100/157 [13:21<06:57,  7.33s/it]"
          ]
        },
        {
          "name": "stdout",
          "output_type": "stream",
          "text": [
            "26.07.2023 13:00 WORLD CLUB FRIENDLY Brest (Fra) Rennes (Fra) 1.19 6.0 10.0 1.08 7.1 1.33 3.2 1.65 2.18\n"
          ]
        },
        {
          "name": "stderr",
          "output_type": "stream",
          "text": [
            " 64%|██████▍   | 101/157 [13:28<06:50,  7.32s/it]"
          ]
        },
        {
          "name": "stdout",
          "output_type": "stream",
          "text": [
            "26.07.2023 13:00 WORLD CLUB FRIENDLY Cadiz CF (Esp) Al Wakra (Qat) 1.19 6.0 10.0 1.08 7.1 1.33 3.2 1.65 2.18\n"
          ]
        },
        {
          "name": "stderr",
          "output_type": "stream",
          "text": [
            " 65%|██████▍   | 102/157 [13:35<06:41,  7.31s/it]"
          ]
        },
        {
          "name": "stdout",
          "output_type": "stream",
          "text": [
            "26.07.2023 13:00 WORLD CLUB FRIENDLY Caslav (Cze) Havlickuv Brod (Cze) 1.19 6.0 10.0 1.08 7.1 1.33 3.2 1.65 2.18\n"
          ]
        },
        {
          "name": "stderr",
          "output_type": "stream",
          "text": [
            " 66%|██████▌   | 103/157 [13:43<06:35,  7.32s/it]"
          ]
        },
        {
          "name": "stdout",
          "output_type": "stream",
          "text": [
            "26.07.2023 13:00 WORLD CLUB FRIENDLY Cosenza (Ita) Arezzo (Ita) 1.19 6.0 10.0 1.08 7.1 1.33 3.2 1.65 2.18\n"
          ]
        },
        {
          "name": "stderr",
          "output_type": "stream",
          "text": [
            " 66%|██████▌   | 104/157 [13:50<06:28,  7.33s/it]"
          ]
        },
        {
          "name": "stdout",
          "output_type": "stream",
          "text": [
            "26.07.2023 13:00 WORLD CLUB FRIENDLY Deinze (Bel) Valenciennes (Fra) 1.19 6.0 10.0 1.08 7.1 1.33 3.2 1.65 2.18\n"
          ]
        },
        {
          "name": "stderr",
          "output_type": "stream",
          "text": [
            " 67%|██████▋   | 105/157 [13:57<06:21,  7.34s/it]"
          ]
        },
        {
          "name": "stdout",
          "output_type": "stream",
          "text": [
            "26.07.2023 13:00 WORLD CLUB FRIENDLY Epinal (Fra) Dijon (Fra) 1.19 6.0 10.0 1.08 7.1 1.33 3.2 1.65 2.18\n"
          ]
        },
        {
          "name": "stderr",
          "output_type": "stream",
          "text": [
            " 68%|██████▊   | 106/157 [14:06<06:26,  7.58s/it]"
          ]
        },
        {
          "name": "stdout",
          "output_type": "stream",
          "text": [
            "26.07.2023 13:00 WORLD CLUB FRIENDLY Heidenheim (Ger) Empoli (Ita) 2.55 3.9 2.33 1.19 4.7 1.65 2.25 1.55 2.38\n"
          ]
        },
        {
          "name": "stderr",
          "output_type": "stream",
          "text": [
            " 68%|██████▊   | 107/157 [14:13<06:14,  7.49s/it]"
          ]
        },
        {
          "name": "stdout",
          "output_type": "stream",
          "text": [
            "26.07.2023 13:00 WORLD CLUB FRIENDLY Holstebro (Den) Thisted FC (Den) 2.55 3.9 2.33 1.19 4.7 1.65 2.25 1.55 2.38\n"
          ]
        },
        {
          "name": "stderr",
          "output_type": "stream",
          "text": [
            " 69%|██████▉   | 108/157 [14:20<06:02,  7.40s/it]"
          ]
        },
        {
          "name": "stdout",
          "output_type": "stream",
          "text": [
            "26.07.2023 13:00 WORLD CLUB FRIENDLY Kolin (Cze) Cesky Brod (Cze) 1.1 9.0 14.6 1.19 4.7 1.36 3.1 1.36 3.1\n"
          ]
        },
        {
          "name": "stderr",
          "output_type": "stream",
          "text": [
            " 69%|██████▉   | 109/157 [14:28<06:01,  7.53s/it]"
          ]
        },
        {
          "name": "stdout",
          "output_type": "stream",
          "text": [
            "26.07.2023 13:00 WORLD CLUB FRIENDLY Las Palmas (Esp) Espanyol (Esp) 2.4 3.6 2.4 1.19 4.7 1.7 2.1 1.7 2.1\n"
          ]
        },
        {
          "name": "stderr",
          "output_type": "stream",
          "text": [
            " 70%|███████   | 110/157 [14:35<05:51,  7.47s/it]"
          ]
        },
        {
          "name": "stdout",
          "output_type": "stream",
          "text": [
            "26.07.2023 13:00 WORLD CLUB FRIENDLY Laval (Fra) Caen (Fra) 2.4 3.6 2.4 1.19 4.7 1.7 2.1 1.7 2.1\n"
          ]
        },
        {
          "name": "stderr",
          "output_type": "stream",
          "text": [
            " 71%|███████   | 111/157 [14:42<05:41,  7.42s/it]"
          ]
        },
        {
          "name": "stdout",
          "output_type": "stream",
          "text": [
            "26.07.2023 13:00 WORLD CLUB FRIENDLY Le Mans (Fra) Cholet (Fra) 2.4 3.6 2.4 1.19 4.7 1.7 2.1 1.7 2.1\n"
          ]
        },
        {
          "name": "stderr",
          "output_type": "stream",
          "text": [
            " 71%|███████▏  | 112/157 [14:50<05:32,  7.38s/it]"
          ]
        },
        {
          "name": "stdout",
          "output_type": "stream",
          "text": [
            "26.07.2023 13:00 WORLD CLUB FRIENDLY Ohrid (Mkd) Pelister (Mkd) 2.4 3.6 2.4 1.19 4.7 1.7 2.1 1.7 2.1\n"
          ]
        },
        {
          "name": "stderr",
          "output_type": "stream",
          "text": [
            " 72%|███████▏  | 113/157 [14:58<05:37,  7.66s/it]"
          ]
        },
        {
          "name": "stdout",
          "output_type": "stream",
          "text": [
            "26.07.2023 13:00 WORLD CLUB FRIENDLY Spezia (Ita) Bochum (Ger) 3.06 3.6 2.02 1.18 4.9 1.6 2.3 1.53 2.43\n"
          ]
        },
        {
          "name": "stderr",
          "output_type": "stream",
          "text": [
            " 73%|███████▎  | 114/157 [15:05<05:22,  7.50s/it]"
          ]
        },
        {
          "name": "stdout",
          "output_type": "stream",
          "text": [
            "26.07.2023 13:00 WORLD CLUB FRIENDLY Usti nad Labem (Cze) FK Ceska Lipa (Cze) 3.06 3.6 2.02 1.18 4.9 1.6 2.3 1.53 2.43\n"
          ]
        },
        {
          "name": "stderr",
          "output_type": "stream",
          "text": [
            " 73%|███████▎  | 115/157 [15:12<05:09,  7.38s/it]"
          ]
        },
        {
          "name": "stdout",
          "output_type": "stream",
          "text": [
            "26.07.2023 13:30 WORLD CLUB FRIENDLY Clermont (Fra) Montpellier (Fra) 3.06 3.6 2.02 1.18 4.9 1.6 2.3 1.53 2.43\n"
          ]
        },
        {
          "name": "stderr",
          "output_type": "stream",
          "text": [
            " 74%|███████▍  | 116/157 [15:20<05:01,  7.35s/it]"
          ]
        },
        {
          "name": "stdout",
          "output_type": "stream",
          "text": [
            "26.07.2023 13:30 WORLD CLUB FRIENDLY Luzino (Pol) Gedania Gdansk (Pol) 3.06 3.6 2.02 1.18 4.9 1.6 2.3 1.53 2.43\n"
          ]
        },
        {
          "name": "stderr",
          "output_type": "stream",
          "text": [
            " 75%|███████▍  | 117/157 [15:27<04:53,  7.34s/it]"
          ]
        },
        {
          "name": "stdout",
          "output_type": "stream",
          "text": [
            "26.07.2023 13:30 WORLD CLUB FRIENDLY Olympic (Swe) Kristianstad (Swe) 3.06 3.6 2.02 1.18 4.9 1.6 2.3 1.53 2.43\n"
          ]
        },
        {
          "name": "stderr",
          "output_type": "stream",
          "text": [
            " 75%|███████▌  | 118/157 [15:34<04:43,  7.28s/it]"
          ]
        },
        {
          "name": "stdout",
          "output_type": "stream",
          "text": [
            "26.07.2023 13:30 WORLD CLUB FRIENDLY Strasbourg (Fra) Sturm Graz (Aut) 3.06 3.6 2.02 1.18 4.9 1.6 2.3 1.53 2.43\n"
          ]
        },
        {
          "name": "stderr",
          "output_type": "stream",
          "text": [
            " 76%|███████▌  | 119/157 [15:41<04:36,  7.29s/it]"
          ]
        },
        {
          "name": "stdout",
          "output_type": "stream",
          "text": [
            "26.07.2023 13:30 WORLD CLUB FRIENDLY VfR Mannheim (Ger) Freiberg (Ger) 3.06 3.6 2.02 1.18 4.9 1.6 2.3 1.53 2.43\n"
          ]
        },
        {
          "name": "stderr",
          "output_type": "stream",
          "text": [
            " 76%|███████▋  | 120/157 [15:48<04:28,  7.25s/it]"
          ]
        },
        {
          "name": "stdout",
          "output_type": "stream",
          "text": [
            "26.07.2023 14:00 WORLD CLUB FRIENDLY Albacete (Esp) UD Ibiza (Esp) 3.06 3.6 2.02 1.18 4.9 1.6 2.3 1.53 2.43\n"
          ]
        },
        {
          "name": "stderr",
          "output_type": "stream",
          "text": [
            " 77%|███████▋  | 121/157 [15:56<04:19,  7.21s/it]"
          ]
        },
        {
          "name": "stdout",
          "output_type": "stream",
          "text": [
            "26.07.2023 14:00 WORLD CLUB FRIENDLY Amorebieta (Esp) Eibar (Esp) 2.5 3.75 2.25 1.18 4.9 1.9 1.9 1.9 1.9\n"
          ]
        },
        {
          "name": "stderr",
          "output_type": "stream",
          "text": [
            " 78%|███████▊  | 122/157 [16:03<04:12,  7.20s/it]"
          ]
        },
        {
          "name": "stdout",
          "output_type": "stream",
          "text": [
            "26.07.2023 14:00 WORLD CLUB FRIENDLY Burgos CF (Esp) Leonesa (Esp) 2.5 3.75 2.25 1.18 4.9 1.9 1.9 1.9 1.9\n"
          ]
        },
        {
          "name": "stderr",
          "output_type": "stream",
          "text": [
            " 78%|███████▊  | 123/157 [16:10<04:05,  7.23s/it]"
          ]
        },
        {
          "name": "stdout",
          "output_type": "stream",
          "text": [
            "26.07.2023 14:00 WORLD CLUB FRIENDLY Huesca (Esp) Teruel (Esp) 1.72 3.5 4.28 1.18 4.9 1.9 1.9 1.9 1.9\n"
          ]
        },
        {
          "name": "stderr",
          "output_type": "stream",
          "text": [
            " 79%|███████▉  | 124/157 [16:17<03:57,  7.20s/it]"
          ]
        },
        {
          "name": "stdout",
          "output_type": "stream",
          "text": [
            "26.07.2023 14:00 WORLD CLUB FRIENDLY Real Madrid B (Esp) Mirandes (Esp) 1.72 3.5 4.28 1.18 4.9 1.9 1.9 1.9 1.9\n"
          ]
        },
        {
          "name": "stderr",
          "output_type": "stream",
          "text": [
            " 80%|███████▉  | 125/157 [16:24<03:49,  7.17s/it]"
          ]
        },
        {
          "name": "stdout",
          "output_type": "stream",
          "text": [
            "26.07.2023 14:00 WORLD CLUB FRIENDLY Trofense (Por) Dumiense (Por) 1.72 3.5 4.28 1.18 4.9 1.9 1.9 1.9 1.9\n"
          ]
        },
        {
          "name": "stderr",
          "output_type": "stream",
          "text": [
            " 80%|████████  | 126/157 [16:31<03:40,  7.10s/it]"
          ]
        },
        {
          "name": "stdout",
          "output_type": "stream",
          "text": [
            "26.07.2023 14:00 WORLD CLUB FRIENDLY Union Rochefortoise (Bel) Patro Eisden (Bel) 1.72 3.5 4.28 1.18 4.9 1.9 1.9 1.9 1.9\n"
          ]
        },
        {
          "name": "stderr",
          "output_type": "stream",
          "text": [
            " 81%|████████  | 127/157 [16:38<03:31,  7.05s/it]"
          ]
        },
        {
          "name": "stdout",
          "output_type": "stream",
          "text": [
            "26.07.2023 14:00 WORLD CLUB FRIENDLY URSL Vise (Bel) Seraing (Bel) 6.23 4.33 1.41 1.18 4.9 1.48 2.6 1.48 2.6\n"
          ]
        },
        {
          "name": "stderr",
          "output_type": "stream",
          "text": [
            " 82%|████████▏ | 128/157 [16:45<03:21,  6.95s/it]"
          ]
        },
        {
          "name": "stdout",
          "output_type": "stream",
          "text": [
            "26.07.2023 14:00 WORLD CLUB FRIENDLY Villarreal B (Esp) Sabadell (Esp) 6.23 4.33 1.41 1.18 4.9 1.48 2.6 1.48 2.6\n"
          ]
        },
        {
          "name": "stderr",
          "output_type": "stream",
          "text": [
            " 82%|████████▏ | 129/157 [16:52<03:14,  6.95s/it]"
          ]
        },
        {
          "name": "stdout",
          "output_type": "stream",
          "text": [
            "26.07.2023 14:30 WORLD CLUB FRIENDLY Hilden (Ger) Cronenberger (Ger) 6.23 4.33 1.41 1.18 4.9 1.48 2.6 1.48 2.6\n"
          ]
        },
        {
          "name": "stderr",
          "output_type": "stream",
          "text": [
            " 83%|████████▎ | 130/157 [16:59<03:07,  6.95s/it]"
          ]
        },
        {
          "name": "stdout",
          "output_type": "stream",
          "text": [
            "26.07.2023 14:30 WORLD CLUB FRIENDLY Homberg (Ger) Speldorf (Ger) 6.23 4.33 1.41 1.18 4.9 1.48 2.6 1.48 2.6\n"
          ]
        },
        {
          "name": "stderr",
          "output_type": "stream",
          "text": [
            " 83%|████████▎ | 131/157 [17:06<03:04,  7.10s/it]"
          ]
        },
        {
          "name": "stdout",
          "output_type": "stream",
          "text": [
            "26.07.2023 14:30 WORLD CLUB FRIENDLY Poblense (Esp) Mallorca (Esp) 9.35 6.0 1.21 1.18 4.9 1.48 2.6 1.48 2.6\n"
          ]
        },
        {
          "name": "stderr",
          "output_type": "stream",
          "text": [
            " 84%|████████▍ | 132/157 [17:14<03:00,  7.24s/it]"
          ]
        },
        {
          "name": "stdout",
          "output_type": "stream",
          "text": [
            "26.07.2023 14:30 WORLD CLUB FRIENDLY Ponferradina (Esp) Ferrol (Esp) 3.18 3.5 1.97 1.18 4.9 2.08 1.73 2.08 1.73\n"
          ]
        },
        {
          "name": "stderr",
          "output_type": "stream",
          "text": [
            " 85%|████████▍ | 133/157 [17:21<02:53,  7.25s/it]"
          ]
        },
        {
          "name": "stdout",
          "output_type": "stream",
          "text": [
            "26.07.2023 14:30 WORLD CLUB FRIENDLY Sanluqueno (Esp) Granada CF (Esp) 3.18 3.5 1.97 1.18 4.9 2.08 1.73 2.08 1.73\n"
          ]
        },
        {
          "name": "stderr",
          "output_type": "stream",
          "text": [
            " 85%|████████▌ | 134/157 [17:29<02:48,  7.33s/it]"
          ]
        },
        {
          "name": "stdout",
          "output_type": "stream",
          "text": [
            "26.07.2023 14:30 WORLD CLUB FRIENDLY Thes Sport (Bel) Lierse K. (Bel) 5.2 4.0 1.51 1.18 4.9 1.44 2.7 1.44 2.7\n"
          ]
        },
        {
          "name": "stderr",
          "output_type": "stream",
          "text": [
            " 86%|████████▌ | 135/157 [17:36<02:40,  7.31s/it]"
          ]
        },
        {
          "name": "stdout",
          "output_type": "stream",
          "text": [
            "26.07.2023 14:30 WORLD CLUB FRIENDLY Valladolid (Esp) Rayo Majadahonda (Esp) 5.2 4.0 1.51 1.18 4.9 1.44 2.7 1.44 2.7\n"
          ]
        },
        {
          "name": "stderr",
          "output_type": "stream",
          "text": [
            " 87%|████████▋ | 136/157 [17:43<02:32,  7.26s/it]"
          ]
        },
        {
          "name": "stdout",
          "output_type": "stream",
          "text": [
            "26.07.2023 15:00 WORLD CLUB FRIENDLY Cagliari (Ita) AS Roma U19 (Ita) 5.2 4.0 1.51 1.18 4.9 1.44 2.7 1.44 2.7\n"
          ]
        },
        {
          "name": "stderr",
          "output_type": "stream",
          "text": [
            " 87%|████████▋ | 137/157 [17:50<02:23,  7.19s/it]"
          ]
        },
        {
          "name": "stdout",
          "output_type": "stream",
          "text": [
            "26.07.2023 15:00 WORLD CLUB FRIENDLY Crvena zvezda (Srb) Fiorentina (Ita) 5.2 4.0 1.51 1.18 4.9 1.44 2.7 1.44 2.7\n"
          ]
        },
        {
          "name": "stderr",
          "output_type": "stream",
          "text": [
            " 88%|████████▊ | 138/157 [17:57<02:17,  7.25s/it]"
          ]
        },
        {
          "name": "stdout",
          "output_type": "stream",
          "text": [
            "26.07.2023 15:00 WORLD CLUB FRIENDLY PSV (Ned) Eindhoven FC (Ned) 1.21 6.5 8.25 1.18 4.9 1.33 3.4 1.33 3.4\n"
          ]
        },
        {
          "name": "stderr",
          "output_type": "stream",
          "text": [
            " 89%|████████▊ | 139/157 [18:04<02:09,  7.19s/it]"
          ]
        },
        {
          "name": "stdout",
          "output_type": "stream",
          "text": [
            "26.07.2023 15:00 WORLD CLUB FRIENDLY San Fernando (Esp) Betis B (Esp) 1.21 6.5 8.25 1.18 4.9 1.33 3.4 1.33 3.4\n"
          ]
        },
        {
          "name": "stderr",
          "output_type": "stream",
          "text": [
            " 89%|████████▉ | 140/157 [18:12<02:01,  7.16s/it]"
          ]
        },
        {
          "name": "stdout",
          "output_type": "stream",
          "text": [
            "26.07.2023 15:00 WORLD CLUB FRIENDLY Unionistas (Esp) Alcorcon (Esp) 1.21 6.5 8.25 1.18 4.9 1.33 3.4 1.33 3.4\n"
          ]
        },
        {
          "name": "stderr",
          "output_type": "stream",
          "text": [
            " 90%|████████▉ | 141/157 [18:18<01:53,  7.10s/it]"
          ]
        },
        {
          "name": "stdout",
          "output_type": "stream",
          "text": [
            "26.07.2023 15:30 WORLD CLUB FRIENDLY Belper Town (Eng) Burton (Eng) 1.21 6.5 8.25 1.18 4.9 1.33 3.4 1.33 3.4\n"
          ]
        },
        {
          "name": "stderr",
          "output_type": "stream",
          "text": [
            " 90%|█████████ | 142/157 [18:26<01:48,  7.22s/it]"
          ]
        },
        {
          "name": "stdout",
          "output_type": "stream",
          "text": [
            "26.07.2023 15:30 WORLD CLUB FRIENDLY Bradford City (Eng) Middlesbrough (Eng) 3.82 3.75 1.75 1.2 4.0 1.65 2.1 1.62 2.23\n"
          ]
        },
        {
          "name": "stderr",
          "output_type": "stream",
          "text": [
            " 91%|█████████ | 143/157 [18:33<01:40,  7.19s/it]"
          ]
        },
        {
          "name": "stdout",
          "output_type": "stream",
          "text": [
            "26.07.2023 15:30 WORLD CLUB FRIENDLY Grantham (Eng) Scunthorpe (Eng) 3.82 3.75 1.75 1.2 4.0 1.65 2.1 1.62 2.23\n"
          ]
        },
        {
          "name": "stderr",
          "output_type": "stream",
          "text": [
            " 92%|█████████▏| 144/157 [18:40<01:33,  7.17s/it]"
          ]
        },
        {
          "name": "stdout",
          "output_type": "stream",
          "text": [
            "26.07.2023 15:30 WORLD CLUB FRIENDLY North Ferriby (Eng) Hull (Eng) 3.82 3.75 1.75 1.2 4.0 1.65 2.1 1.62 2.23\n"
          ]
        },
        {
          "name": "stderr",
          "output_type": "stream",
          "text": [
            " 92%|█████████▏| 145/157 [18:47<01:25,  7.16s/it]"
          ]
        },
        {
          "name": "stdout",
          "output_type": "stream",
          "text": [
            "26.07.2023 15:45 WORLD CLUB FRIENDLY Boston Utd (Eng) Grimsby (Eng) 3.82 3.75 1.75 1.2 4.0 1.65 2.1 1.62 2.23\n"
          ]
        },
        {
          "name": "stderr",
          "output_type": "stream",
          "text": [
            " 93%|█████████▎| 146/157 [18:54<01:17,  7.05s/it]"
          ]
        },
        {
          "name": "stdout",
          "output_type": "stream",
          "text": [
            "26.07.2023 15:45 WORLD CLUB FRIENDLY Grantham (Eng) Loughborough Dyn. (Eng) 3.82 3.75 1.75 1.2 4.0 1.65 2.1 1.62 2.23\n"
          ]
        },
        {
          "name": "stderr",
          "output_type": "stream",
          "text": [
            " 94%|█████████▎| 147/157 [19:01<01:11,  7.13s/it]"
          ]
        },
        {
          "name": "stdout",
          "output_type": "stream",
          "text": [
            "26.07.2023 15:45 WORLD CLUB FRIENDLY Grimsby Borough (Eng) Cleethorpes (Eng) 3.82 3.75 1.75 1.2 4.0 1.65 2.1 1.62 2.23\n"
          ]
        },
        {
          "name": "stderr",
          "output_type": "stream",
          "text": [
            " 94%|█████████▍| 148/157 [19:09<01:04,  7.18s/it]"
          ]
        },
        {
          "name": "stdout",
          "output_type": "stream",
          "text": [
            "26.07.2023 15:45 WORLD CLUB FRIENDLY Macclesfield (Eng) Altrincham (Eng) 3.82 3.75 1.75 1.2 4.0 1.65 2.1 1.62 2.23\n"
          ]
        },
        {
          "name": "stderr",
          "output_type": "stream",
          "text": [
            " 95%|█████████▍| 149/157 [19:16<00:58,  7.31s/it]"
          ]
        },
        {
          "name": "stdout",
          "output_type": "stream",
          "text": [
            "26.07.2023 15:45 WORLD CLUB FRIENDLY Rangers (Sco) Olympiacos Piraeus (Gre) 2.05 3.5 3.25 1.26 3.5 1.78 1.93 1.65 2.1\n"
          ]
        },
        {
          "name": "stderr",
          "output_type": "stream",
          "text": [
            " 96%|█████████▌| 150/157 [19:25<00:52,  7.56s/it]"
          ]
        },
        {
          "name": "stdout",
          "output_type": "stream",
          "text": [
            "26.07.2023 16:00 WORLD CLUB FRIENDLY Braga (Por) AS Roma (Ita) 3.55 3.6 1.95 1.24 3.75 1.72 2.05 1.62 2.15\n"
          ]
        },
        {
          "name": "stderr",
          "output_type": "stream",
          "text": [
            " 96%|█████████▌| 151/157 [19:33<00:47,  7.84s/it]"
          ]
        },
        {
          "name": "stdout",
          "output_type": "stream",
          "text": [
            "26.07.2023 18:30 WORLD CLUB FRIENDLY Brentford (Eng) Brighton (Eng) 3.0 3.5 2.25 1.2 3.7 1.62 2.07 1.55 2.32\n"
          ]
        },
        {
          "name": "stderr",
          "output_type": "stream",
          "text": [
            " 97%|█████████▋| 152/157 [19:42<00:40,  8.03s/it]"
          ]
        },
        {
          "name": "stdout",
          "output_type": "stream",
          "text": [
            "26.07.2023 20:00 WORLD CLUB FRIENDLY Fulham (Eng) Aston Villa (Eng) 3.4 3.5 2.1 1.21 3.6 1.65 2.02 1.57 2.25\n"
          ]
        },
        {
          "name": "stderr",
          "output_type": "stream",
          "text": [
            " 97%|█████████▋| 153/157 [19:49<00:31,  8.00s/it]"
          ]
        },
        {
          "name": "stdout",
          "output_type": "stream",
          "text": [
            "26.07.2023 21:00 WORLD CLUB FRIENDLY Crystal Palace (Eng) Millonarios (Col) 2.02 3.4 3.34 1.28 3.5 1.87 1.87 1.75 2.03\n"
          ]
        },
        {
          "name": "stderr",
          "output_type": "stream",
          "text": [
            " 98%|█████████▊| 154/157 [19:58<00:24,  8.08s/it]"
          ]
        },
        {
          "name": "stdout",
          "output_type": "stream",
          "text": [
            "26.07.2023 21:15 WORLD CLUB FRIENDLY Chelsea (Eng) Newcastle (Eng) 2.45 3.6 2.65 1.22 4.2 1.7 2.15 1.57 2.35\n"
          ]
        },
        {
          "name": "stderr",
          "output_type": "stream",
          "text": [
            " 99%|█████████▊| 155/157 [20:07<00:16,  8.34s/it]"
          ]
        },
        {
          "name": "stdout",
          "output_type": "stream",
          "text": [
            "26.07.2023 21:30 WORLD CLUB FRIENDLY Real Madrid (Esp) Manchester Utd (Eng) 2.3 3.75 2.8 1.18 4.75 1.6 2.3 1.5 2.5\n"
          ]
        },
        {
          "name": "stderr",
          "output_type": "stream",
          "text": [
            " 99%|█████████▉| 156/157 [20:15<00:08,  8.26s/it]"
          ]
        },
        {
          "name": "stdout",
          "output_type": "stream",
          "text": [
            "26.07.2023 23:30 WORLD CLUB FRIENDLY Arsenal (Eng) Barcelona (Esp) 2.47 3.62 2.66 1.19 4.0 1.65 2.08 1.57 2.34\n"
          ]
        },
        {
          "name": "stderr",
          "output_type": "stream",
          "text": [
            "100%|██████████| 157/157 [20:22<00:00,  7.79s/it]"
          ]
        },
        {
          "name": "stdout",
          "output_type": "stream",
          "text": [
            "26.07.2023 09:00 WORLD CLUB FRIENDLY WOMEN Sparta Prague W (Cze) Ferencvaros W (Hun) 2.47 3.62 2.66 1.19 4.0 1.65 2.08 1.57 2.34\n"
          ]
        },
        {
          "name": "stderr",
          "output_type": "stream",
          "text": [
            "\n"
          ]
        }
      ],
      "source": [
        "# Pegando as Informacoes Básicas do Jogo\n",
        "for link in tqdm(id_jogos, total=len(id_jogos)):\n",
        "    wd_Chrome.get(f'https://www.flashscore.com/match/{link}/#/match-summary')\n",
        "    \n",
        "    try:\n",
        "        Date = wd_Chrome.find_element(By.CSS_SELECTOR,'div.duelParticipant__startTime').text.split(' ')[0]\n",
        "        Time = wd_Chrome.find_element(By.CSS_SELECTOR,'div.duelParticipant__startTime').text.split(' ')[1]\n",
        "        Country = wd_Chrome.find_element(By.CSS_SELECTOR,'span.tournamentHeader__country').text.split(':')[0]\n",
        "        League = wd_Chrome.find_element(By.CSS_SELECTOR,'span.tournamentHeader__country')\n",
        "        League = League.find_element(By.CSS_SELECTOR,'a').text\n",
        "        Home = wd_Chrome.find_element(By.CSS_SELECTOR,'div.duelParticipant__home')\n",
        "        Home = Home.find_element(By.CSS_SELECTOR,'div.participant__participantName').text\n",
        "        Away = wd_Chrome.find_element(By.CSS_SELECTOR,'div.duelParticipant__away')\n",
        "        Away = Away.find_element(By.CSS_SELECTOR,'div.participant__participantName').text\n",
        "    except:\n",
        "        pass\n",
        "\n",
        "# Match Odds\n",
        "    try:\n",
        "        wd_Chrome.get(f'https://www.flashscore.com/match/{link}/#/odds-comparison/1x2-odds/full-time')\n",
        "        time.sleep(2)\n",
        "        \n",
        "        linhas = wd_Chrome.find_elements(By.CSS_SELECTOR,'div.ui-table__row')\n",
        "        \n",
        "        for linha in linhas:\n",
        "                Odd_H = float(linha.find_elements(By.CSS_SELECTOR,'a.oddsCell__odd')[0].text)\n",
        "                Odd_D = float(linha.find_elements(By.CSS_SELECTOR,'a.oddsCell__odd')[1].text) \n",
        "                Odd_A = float(linha.find_elements(By.CSS_SELECTOR,'a.oddsCell__odd')[2].text)\n",
        "    except:\n",
        "        pass\n",
        "\n",
        "# Over e Under 2.5\n",
        "    try:\n",
        "        wd_Chrome.get(f'https://www.flashscore.com/match/{link}/#/odds-comparison/over-under/full-time')\n",
        "        time.sleep(2)\n",
        "        \n",
        "        linhas_over_under = wd_Chrome.find_elements(By.CSS_SELECTOR,'div.ui-table.oddsCell__odds')\n",
        "        for i in linhas_over_under:\n",
        "            linhas = i.find_elements(By.CSS_SELECTOR,'div.ui-table__row')\n",
        "            for linha in linhas:\n",
        "                try:\n",
        "                    qtd_gols = linha.find_element(By.CSS_SELECTOR,'span.oddsCell__noOddsCell').text.replace('.','')\n",
        "                    if qtd_gols == '05':\n",
        "                        Odd_Over05 = float(linha.find_elements(By.CSS_SELECTOR,'a.oddsCell__odd')[0].text)\n",
        "                        Odd_Under05 = float(linha.find_elements(By.CSS_SELECTOR,'a.oddsCell__odd')[1].text)\n",
        "                    if qtd_gols == '15':\n",
        "                        Odd_Over15 = float(linha.find_elements(By.CSS_SELECTOR,'a.oddsCell__odd')[0].text)\n",
        "                        Odd_Under15 = float(linha.find_elements(By.CSS_SELECTOR,'a.oddsCell__odd')[1].text)\n",
        "                        #print(Odd_Under15)\n",
        "                    if qtd_gols == '25':\n",
        "                        Odd_Over25 = float(linha.find_elements(By.CSS_SELECTOR,'a.oddsCell__odd')[0].text)\n",
        "                        Odd_Under25 = float(linha.find_elements(By.CSS_SELECTOR,'a.oddsCell__odd')[1].text)\n",
        "                except:\n",
        "                    pass\n",
        "    except:\n",
        "        pass\n",
        "\n",
        "# Ambas Marcam (BTTS)\n",
        "    try:\n",
        "        wd_Chrome.get(f'https://www.flashscore.com/match/{link}/#/odds-comparison/both-teams-to-score/full-time')\n",
        "        time.sleep(2)\n",
        "    \n",
        "        linhas = wd_Chrome.find_elements(By.CSS_SELECTOR,'div.ui-table__row')\n",
        "        \n",
        "        for linha in linhas:\n",
        "                BTTS_Yes = float(linha.find_elements(By.CSS_SELECTOR,'a.oddsCell__odd')[0].text)\n",
        "                BTTS_No = float(linha.find_elements(By.CSS_SELECTOR,'a.oddsCell__odd')[1].text)\n",
        "    except:\n",
        "        pass    \n",
        "    \n",
        "    try:\n",
        "        print(Date,Time,Country,League,Home,Away,Odd_H,Odd_D,Odd_A,Odd_Over15,Odd_Under15,Odd_Over25,Odd_Under25,BTTS_Yes,BTTS_No) \n",
        "\n",
        "        jogo['Date'].append(Date)\n",
        "        jogo['Time'].append(Time)\n",
        "        jogo['Country'].append(Country)\n",
        "        jogo['League'].append(League)\n",
        "        jogo['Home'].append(Home)\n",
        "        jogo['Away'].append(Away)\n",
        "        jogo['Odd_H'].append(Odd_H)\n",
        "        jogo['Odd_D'].append(Odd_D)\n",
        "        jogo['Odd_A'].append(Odd_A)\n",
        "        jogo['Odd_Over15'].append(Odd_Over15)\n",
        "        jogo['Odd_Under15'].append(Odd_Under15)\n",
        "        jogo['Odd_Over25'].append(Odd_Over25)\n",
        "        jogo['Odd_Under25'].append(Odd_Under25)\n",
        "        jogo['Odd_BTTS_Yes'].append(BTTS_Yes)\n",
        "        jogo['Odd_BTTS_No'].append(BTTS_No)\n",
        "\n",
        "    except:\n",
        "        pass"
      ]
    },
    {
      "attachments": {},
      "cell_type": "markdown",
      "metadata": {
        "id": "PfRRruDDyt38"
      },
      "source": [
        "## Gerando DataFrame com os Jogos do Dia"
      ]
    },
    {
      "cell_type": "code",
      "execution_count": null,
      "metadata": {
        "id": "gCvR74k9aiC9"
      },
      "outputs": [
        {
          "data": {
            "text/html": [
              "<div>\n",
              "<style scoped>\n",
              "    .dataframe tbody tr th:only-of-type {\n",
              "        vertical-align: middle;\n",
              "    }\n",
              "\n",
              "    .dataframe tbody tr th {\n",
              "        vertical-align: top;\n",
              "    }\n",
              "\n",
              "    .dataframe thead th {\n",
              "        text-align: right;\n",
              "    }\n",
              "</style>\n",
              "<table border=\"1\" class=\"dataframe\">\n",
              "  <thead>\n",
              "    <tr style=\"text-align: right;\">\n",
              "      <th></th>\n",
              "      <th>Date</th>\n",
              "      <th>Time</th>\n",
              "      <th>Country</th>\n",
              "      <th>League</th>\n",
              "      <th>Home</th>\n",
              "      <th>Away</th>\n",
              "      <th>Odd_H</th>\n",
              "      <th>Odd_D</th>\n",
              "      <th>Odd_A</th>\n",
              "      <th>Odd_Over15</th>\n",
              "      <th>Odd_Under15</th>\n",
              "      <th>Odd_Over25</th>\n",
              "      <th>Odd_Under25</th>\n",
              "      <th>Odd_BTTS_Yes</th>\n",
              "      <th>Odd_BTTS_No</th>\n",
              "    </tr>\n",
              "  </thead>\n",
              "  <tbody>\n",
              "    <tr>\n",
              "      <th>1</th>\n",
              "      <td>26.07.2023</td>\n",
              "      <td>14:00</td>\n",
              "      <td>EUROPE</td>\n",
              "      <td>CHAMPIONS LEAGUE - QUALIFICATION - QUARTER-FINALS</td>\n",
              "      <td>Aris (Cyp)</td>\n",
              "      <td>BATE (Blr)</td>\n",
              "      <td>1.57</td>\n",
              "      <td>3.75</td>\n",
              "      <td>6.00</td>\n",
              "      <td>1.38</td>\n",
              "      <td>2.90</td>\n",
              "      <td>2.20</td>\n",
              "      <td>1.63</td>\n",
              "      <td>2.20</td>\n",
              "      <td>1.63</td>\n",
              "    </tr>\n",
              "    <tr>\n",
              "      <th>2</th>\n",
              "      <td>26.07.2023</td>\n",
              "      <td>14:00</td>\n",
              "      <td>EUROPE</td>\n",
              "      <td>CHAMPIONS LEAGUE - QUALIFICATION - QUARTER-FINALS</td>\n",
              "      <td>Sheriff Tiraspol (Mda)</td>\n",
              "      <td>Maccabi Haifa (Isr)</td>\n",
              "      <td>2.95</td>\n",
              "      <td>3.00</td>\n",
              "      <td>2.50</td>\n",
              "      <td>1.45</td>\n",
              "      <td>2.60</td>\n",
              "      <td>2.40</td>\n",
              "      <td>1.53</td>\n",
              "      <td>2.00</td>\n",
              "      <td>1.75</td>\n",
              "    </tr>\n",
              "    <tr>\n",
              "      <th>3</th>\n",
              "      <td>26.07.2023</td>\n",
              "      <td>15:15</td>\n",
              "      <td>EUROPE</td>\n",
              "      <td>CHAMPIONS LEAGUE - QUALIFICATION - QUARTER-FINALS</td>\n",
              "      <td>Rakow (Pol)</td>\n",
              "      <td>Qarabag (Aze)</td>\n",
              "      <td>2.00</td>\n",
              "      <td>3.30</td>\n",
              "      <td>3.75</td>\n",
              "      <td>1.47</td>\n",
              "      <td>2.55</td>\n",
              "      <td>2.45</td>\n",
              "      <td>1.52</td>\n",
              "      <td>2.10</td>\n",
              "      <td>1.68</td>\n",
              "    </tr>\n",
              "    <tr>\n",
              "      <th>4</th>\n",
              "      <td>26.07.2023</td>\n",
              "      <td>15:45</td>\n",
              "      <td>EUROPE</td>\n",
              "      <td>CHAMPIONS LEAGUE - QUALIFICATION - QUARTER-FINALS</td>\n",
              "      <td>Klaksvik (Fai)</td>\n",
              "      <td>Hacken (Swe)</td>\n",
              "      <td>4.75</td>\n",
              "      <td>3.60</td>\n",
              "      <td>1.72</td>\n",
              "      <td>1.36</td>\n",
              "      <td>3.00</td>\n",
              "      <td>2.10</td>\n",
              "      <td>1.68</td>\n",
              "      <td>2.00</td>\n",
              "      <td>1.75</td>\n",
              "    </tr>\n",
              "    <tr>\n",
              "      <th>5</th>\n",
              "      <td>26.07.2023</td>\n",
              "      <td>15:45</td>\n",
              "      <td>EUROPE</td>\n",
              "      <td>CHAMPIONS LEAGUE - QUALIFICATION - QUARTER-FINALS</td>\n",
              "      <td>Ludogorets (Bul)</td>\n",
              "      <td>O. Ljubljana (Slo)</td>\n",
              "      <td>1.53</td>\n",
              "      <td>4.00</td>\n",
              "      <td>6.00</td>\n",
              "      <td>1.30</td>\n",
              "      <td>3.30</td>\n",
              "      <td>1.95</td>\n",
              "      <td>1.80</td>\n",
              "      <td>2.05</td>\n",
              "      <td>1.72</td>\n",
              "    </tr>\n",
              "    <tr>\n",
              "      <th>...</th>\n",
              "      <td>...</td>\n",
              "      <td>...</td>\n",
              "      <td>...</td>\n",
              "      <td>...</td>\n",
              "      <td>...</td>\n",
              "      <td>...</td>\n",
              "      <td>...</td>\n",
              "      <td>...</td>\n",
              "      <td>...</td>\n",
              "      <td>...</td>\n",
              "      <td>...</td>\n",
              "      <td>...</td>\n",
              "      <td>...</td>\n",
              "      <td>...</td>\n",
              "      <td>...</td>\n",
              "    </tr>\n",
              "    <tr>\n",
              "      <th>153</th>\n",
              "      <td>26.07.2023</td>\n",
              "      <td>21:00</td>\n",
              "      <td>WORLD</td>\n",
              "      <td>CLUB FRIENDLY</td>\n",
              "      <td>Crystal Palace (Eng)</td>\n",
              "      <td>Millonarios (Col)</td>\n",
              "      <td>2.02</td>\n",
              "      <td>3.40</td>\n",
              "      <td>3.34</td>\n",
              "      <td>1.28</td>\n",
              "      <td>3.50</td>\n",
              "      <td>1.87</td>\n",
              "      <td>1.87</td>\n",
              "      <td>1.75</td>\n",
              "      <td>2.03</td>\n",
              "    </tr>\n",
              "    <tr>\n",
              "      <th>154</th>\n",
              "      <td>26.07.2023</td>\n",
              "      <td>21:15</td>\n",
              "      <td>WORLD</td>\n",
              "      <td>CLUB FRIENDLY</td>\n",
              "      <td>Chelsea (Eng)</td>\n",
              "      <td>Newcastle (Eng)</td>\n",
              "      <td>2.45</td>\n",
              "      <td>3.60</td>\n",
              "      <td>2.65</td>\n",
              "      <td>1.22</td>\n",
              "      <td>4.20</td>\n",
              "      <td>1.70</td>\n",
              "      <td>2.15</td>\n",
              "      <td>1.57</td>\n",
              "      <td>2.35</td>\n",
              "    </tr>\n",
              "    <tr>\n",
              "      <th>155</th>\n",
              "      <td>26.07.2023</td>\n",
              "      <td>21:30</td>\n",
              "      <td>WORLD</td>\n",
              "      <td>CLUB FRIENDLY</td>\n",
              "      <td>Real Madrid (Esp)</td>\n",
              "      <td>Manchester Utd (Eng)</td>\n",
              "      <td>2.30</td>\n",
              "      <td>3.75</td>\n",
              "      <td>2.80</td>\n",
              "      <td>1.18</td>\n",
              "      <td>4.75</td>\n",
              "      <td>1.60</td>\n",
              "      <td>2.30</td>\n",
              "      <td>1.50</td>\n",
              "      <td>2.50</td>\n",
              "    </tr>\n",
              "    <tr>\n",
              "      <th>156</th>\n",
              "      <td>26.07.2023</td>\n",
              "      <td>23:30</td>\n",
              "      <td>WORLD</td>\n",
              "      <td>CLUB FRIENDLY</td>\n",
              "      <td>Arsenal (Eng)</td>\n",
              "      <td>Barcelona (Esp)</td>\n",
              "      <td>2.47</td>\n",
              "      <td>3.62</td>\n",
              "      <td>2.66</td>\n",
              "      <td>1.19</td>\n",
              "      <td>4.00</td>\n",
              "      <td>1.65</td>\n",
              "      <td>2.08</td>\n",
              "      <td>1.57</td>\n",
              "      <td>2.34</td>\n",
              "    </tr>\n",
              "    <tr>\n",
              "      <th>157</th>\n",
              "      <td>26.07.2023</td>\n",
              "      <td>09:00</td>\n",
              "      <td>WORLD</td>\n",
              "      <td>CLUB FRIENDLY WOMEN</td>\n",
              "      <td>Sparta Prague W (Cze)</td>\n",
              "      <td>Ferencvaros W (Hun)</td>\n",
              "      <td>2.47</td>\n",
              "      <td>3.62</td>\n",
              "      <td>2.66</td>\n",
              "      <td>1.19</td>\n",
              "      <td>4.00</td>\n",
              "      <td>1.65</td>\n",
              "      <td>2.08</td>\n",
              "      <td>1.57</td>\n",
              "      <td>2.34</td>\n",
              "    </tr>\n",
              "  </tbody>\n",
              "</table>\n",
              "<p>157 rows × 15 columns</p>\n",
              "</div>"
            ],
            "text/plain": [
              "           Date   Time Country  \\\n",
              "1    26.07.2023  14:00  EUROPE   \n",
              "2    26.07.2023  14:00  EUROPE   \n",
              "3    26.07.2023  15:15  EUROPE   \n",
              "4    26.07.2023  15:45  EUROPE   \n",
              "5    26.07.2023  15:45  EUROPE   \n",
              "..          ...    ...     ...   \n",
              "153  26.07.2023  21:00   WORLD   \n",
              "154  26.07.2023  21:15   WORLD   \n",
              "155  26.07.2023  21:30   WORLD   \n",
              "156  26.07.2023  23:30   WORLD   \n",
              "157  26.07.2023  09:00   WORLD   \n",
              "\n",
              "                                                League  \\\n",
              "1    CHAMPIONS LEAGUE - QUALIFICATION - QUARTER-FINALS   \n",
              "2    CHAMPIONS LEAGUE - QUALIFICATION - QUARTER-FINALS   \n",
              "3    CHAMPIONS LEAGUE - QUALIFICATION - QUARTER-FINALS   \n",
              "4    CHAMPIONS LEAGUE - QUALIFICATION - QUARTER-FINALS   \n",
              "5    CHAMPIONS LEAGUE - QUALIFICATION - QUARTER-FINALS   \n",
              "..                                                 ...   \n",
              "153                                      CLUB FRIENDLY   \n",
              "154                                      CLUB FRIENDLY   \n",
              "155                                      CLUB FRIENDLY   \n",
              "156                                      CLUB FRIENDLY   \n",
              "157                                CLUB FRIENDLY WOMEN   \n",
              "\n",
              "                       Home                  Away  Odd_H  Odd_D  Odd_A  \\\n",
              "1                Aris (Cyp)            BATE (Blr)   1.57   3.75   6.00   \n",
              "2    Sheriff Tiraspol (Mda)   Maccabi Haifa (Isr)   2.95   3.00   2.50   \n",
              "3               Rakow (Pol)         Qarabag (Aze)   2.00   3.30   3.75   \n",
              "4            Klaksvik (Fai)          Hacken (Swe)   4.75   3.60   1.72   \n",
              "5          Ludogorets (Bul)    O. Ljubljana (Slo)   1.53   4.00   6.00   \n",
              "..                      ...                   ...    ...    ...    ...   \n",
              "153    Crystal Palace (Eng)     Millonarios (Col)   2.02   3.40   3.34   \n",
              "154           Chelsea (Eng)       Newcastle (Eng)   2.45   3.60   2.65   \n",
              "155       Real Madrid (Esp)  Manchester Utd (Eng)   2.30   3.75   2.80   \n",
              "156           Arsenal (Eng)       Barcelona (Esp)   2.47   3.62   2.66   \n",
              "157   Sparta Prague W (Cze)   Ferencvaros W (Hun)   2.47   3.62   2.66   \n",
              "\n",
              "     Odd_Over15  Odd_Under15  Odd_Over25  Odd_Under25  Odd_BTTS_Yes  \\\n",
              "1          1.38         2.90        2.20         1.63          2.20   \n",
              "2          1.45         2.60        2.40         1.53          2.00   \n",
              "3          1.47         2.55        2.45         1.52          2.10   \n",
              "4          1.36         3.00        2.10         1.68          2.00   \n",
              "5          1.30         3.30        1.95         1.80          2.05   \n",
              "..          ...          ...         ...          ...           ...   \n",
              "153        1.28         3.50        1.87         1.87          1.75   \n",
              "154        1.22         4.20        1.70         2.15          1.57   \n",
              "155        1.18         4.75        1.60         2.30          1.50   \n",
              "156        1.19         4.00        1.65         2.08          1.57   \n",
              "157        1.19         4.00        1.65         2.08          1.57   \n",
              "\n",
              "     Odd_BTTS_No  \n",
              "1           1.63  \n",
              "2           1.75  \n",
              "3           1.68  \n",
              "4           1.75  \n",
              "5           1.72  \n",
              "..           ...  \n",
              "153         2.03  \n",
              "154         2.35  \n",
              "155         2.50  \n",
              "156         2.34  \n",
              "157         2.34  \n",
              "\n",
              "[157 rows x 15 columns]"
            ]
          },
          "execution_count": 7,
          "metadata": {},
          "output_type": "execute_result"
        }
      ],
      "source": [
        "df = pd.DataFrame(jogo)\n",
        "df = drop_reset_index(df)\n",
        "df"
      ]
    },
    {
      "cell_type": "code",
      "execution_count": null,
      "metadata": {},
      "outputs": [],
      "source": [
        "df = df.rename(columns={'Odd_H': 'FT_Odd_H',\n",
        "                        'Odd_D': 'FT_Odd_D',\n",
        "                        'Odd_A': 'FT_Odd_A',\n",
        "                        'Odd_Over15': 'FT_Odd_Over15',\n",
        "                        'Odd_Under15': 'FT_Odd_Under15',\n",
        "                        'Odd_Over25': 'FT_Odd_Over25',\n",
        "                        'Odd_Under25': 'FT_Odd_Under25',\n",
        "                        'Odd_BTTS_Yes': 'FT_Odd_BTTS_Yes',\n",
        "                        'Odd_BTTS_No': 'FT_Odd_BTTS_No',\n",
        "                        })"
      ]
    },
    {
      "cell_type": "code",
      "execution_count": null,
      "metadata": {
        "id": "RMxg0e62rlQv"
      },
      "outputs": [],
      "source": [
        "# Gerando os dados para excel\n",
        "from datetime import date, datetime, timedelta\n",
        "data = datetime.today() + timedelta(1)\n",
        "amanha = data.strftime('%Y-%m-%d')\n",
        "nome = 'Jogos_do_Dia_FlashScore.xlsx'\n",
        "\n",
        "df.to_excel(f'G:\\\\Meu Drive\\\\Programacao\\\\futPythonTrader\\\\Jogos do dia\\\\{amanha}_{nome}', index = False)"
      ]
    }
  ],
  "metadata": {
    "colab": {
      "collapsed_sections": [
        "Hs058KhByBQE",
        "LPftcTqaYDN7",
        "SxNjCaz_ZDBZ"
      ],
      "provenance": []
    },
    "kernelspec": {
      "display_name": "Python 3",
      "name": "python3"
    },
    "language_info": {
      "codemirror_mode": {
        "name": "ipython",
        "version": 3
      },
      "file_extension": ".py",
      "mimetype": "text/x-python",
      "name": "python",
      "nbconvert_exporter": "python",
      "pygments_lexer": "ipython3",
      "version": "3.10.1"
    }
  },
  "nbformat": 4,
  "nbformat_minor": 0
}
