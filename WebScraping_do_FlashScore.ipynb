{
  "cells": [
    {
      "cell_type": "code",
      "execution_count": 1,
      "metadata": {
        "id": "Il4jpanbyALF"
      },
      "outputs": [],
      "source": [
        "import pandas as pd\n",
        "import numpy as np\n",
        "\n",
        "import warnings\n",
        "warnings.filterwarnings('ignore')\n",
        "\n",
        "def dia():\n",
        "    from datetime import date, timedelta\n",
        "    dia = date.today() + timedelta(0)\n",
        "    return dia\n",
        "\n",
        "def drop_reset_index(df):\n",
        "    df = df.dropna()\n",
        "    df = df.reset_index(drop=True)\n",
        "    df.index += 1\n",
        "    return df\n",
        "    \n",
        "def grafico(df, nome):\n",
        "    df = df.reset_index(drop=True)\n",
        "    df.index += 1\n",
        "    df['Profit_acu'] = df.Profit.cumsum()\n",
        "    profit = round(df.Profit_acu.tail(1).item(),2)\n",
        "    ROI = round((df.Profit_acu.tail(1)/len(df)*100).item(),2)\n",
        "    df.Profit_acu.plot(title=nome, xlabel='Entradas', ylabel='Stakes')\n",
        "    print(\"Profit:\",profit,\"stakes em\", len(df),\"jogos\")\n",
        "    print(\"ROI:\",ROI,\"%\")"
      ]
    },
    {
      "attachments": {},
      "cell_type": "markdown",
      "metadata": {
        "id": "LPftcTqaYDN7"
      },
      "source": [
        "## Instalando as Dependências do Ubuntu"
      ]
    },
    {
      "cell_type": "code",
      "execution_count": 2,
      "metadata": {
        "colab": {
          "base_uri": "https://localhost:8080/"
        },
        "id": "gxE6n0dHk_cg",
        "outputId": "5b5b3173-8a5f-4846-c3bf-8ea3f2b2701b"
      },
      "outputs": [],
      "source": [
        "# %%shell\n",
        "# # Ubuntu no longer distributes chromium-browser outside of snap\n",
        "# #\n",
        "# # Proposed solution: https://askubuntu.com/questions/1204571/how-to-install-chromium-without-snap\n",
        "\n",
        "# # Add debian buster\n",
        "# cat > /etc/apt/sources.list.d/debian.list <<'EOF'\n",
        "# deb [arch=amd64 signed-by=/usr/share/keyrings/debian-buster.gpg] http://deb.debian.org/debian buster main\n",
        "# deb [arch=amd64 signed-by=/usr/share/keyrings/debian-buster-updates.gpg] http://deb.debian.org/debian buster-updates main\n",
        "# deb [arch=amd64 signed-by=/usr/share/keyrings/debian-security-buster.gpg] http://deb.debian.org/debian-security buster/updates main\n",
        "# EOF\n",
        "\n",
        "# # Add keys\n",
        "# apt-key adv --keyserver keyserver.ubuntu.com --recv-keys DCC9EFBF77E11517\n",
        "# apt-key adv --keyserver keyserver.ubuntu.com --recv-keys 648ACFD622F3D138\n",
        "# apt-key adv --keyserver keyserver.ubuntu.com --recv-keys 112695A0E562B32A\n",
        "\n",
        "# apt-key export 77E11517 | gpg --dearmour -o /usr/share/keyrings/debian-buster.gpg\n",
        "# apt-key export 22F3D138 | gpg --dearmour -o /usr/share/keyrings/debian-buster-updates.gpg\n",
        "# apt-key export E562B32A | gpg --dearmour -o /usr/share/keyrings/debian-security-buster.gpg\n",
        "\n",
        "# # Prefer debian repo for chromium* packages only\n",
        "# # Note the double-blank lines between entries\n",
        "# cat > /etc/apt/preferences.d/chromium.pref << 'EOF'\n",
        "# Package: *\n",
        "# Pin: release a=eoan\n",
        "# Pin-Priority: 500\n",
        "\n",
        "# Package: *\n",
        "# Pin: origin \"deb.debian.org\"\n",
        "# Pin-Priority: 300\n",
        "\n",
        "# Package: chromium*\n",
        "# Pin: origin \"deb.debian.org\"\n",
        "# Pin-Priority: 700\n",
        "# EOF\n",
        "\n",
        "# # Install chromium and chromium-driver\n",
        "# apt-get update\n",
        "# apt-get install chromium chromium-driver\n",
        "\n",
        "# # Install selenium\n",
        "# pip install selenium"
      ]
    },
    {
      "attachments": {},
      "cell_type": "markdown",
      "metadata": {
        "id": "SxNjCaz_ZDBZ"
      },
      "source": [
        "## Configuração do Web-Driver"
      ]
    },
    {
      "cell_type": "code",
      "execution_count": 3,
      "metadata": {
        "id": "fnFWgpcBh-nV"
      },
      "outputs": [],
      "source": [
        "import time\n",
        "from tqdm import tqdm\n",
        "from selenium import webdriver\n",
        "from selenium.webdriver.chrome.options import Options\n",
        "from selenium.webdriver.common.by import By\n",
        "\n",
        "options = Options()\n",
        "options.add_argument(\"--headless\")\n",
        "options.add_argument(\"--no-sandbox\")\n",
        "options.headless = True\n",
        "\n",
        "from selenium.webdriver.chrome.service import Service\n",
        "wd_Chrome = webdriver.Chrome(\"/usr/bin/chromedriver\", options=options)"
      ]
    },
    {
      "attachments": {},
      "cell_type": "markdown",
      "metadata": {
        "id": "FlNkojcdZybT"
      },
      "source": [
        "## Iniciando a Raspagem de Dados"
      ]
    },
    {
      "cell_type": "code",
      "execution_count": 4,
      "metadata": {
        "id": "eX6re9bjViBI"
      },
      "outputs": [],
      "source": [
        "# Com o WebDrive a gente consegue a pedir a página (URL)\n",
        "wd_Chrome.get(\"https://www.flashscore.com/\")"
      ]
    },
    {
      "cell_type": "code",
      "execution_count": 5,
      "metadata": {
        "id": "wL3Nnue6Vt5T"
      },
      "outputs": [],
      "source": [
        "# Fechando Botão de Cookies\n",
        "try:\n",
        "    button_cookies = wd_Chrome.find_element(By.CSS_SELECTOR,'button#onetrust-accept-btn-handler')\n",
        "    button_cookies.click()\n",
        "except:\n",
        "    pass\n",
        "\n",
        "# Selecionando o Dia de Amanhã\n",
        "wd_Chrome.find_element(By.CSS_SELECTOR,'button.calendar__navigation--tomorrow').click()\n",
        "time.sleep(3)\n",
        "\n",
        "# Pegando o ID dos Jogos\n",
        "id_jogos = []\n",
        "jogos = wd_Chrome.find_elements(By.CSS_SELECTOR,'div.event__match--scheduled')\n",
        "\n",
        "for i in jogos:\n",
        "    id_jogos.append(i.get_attribute(\"id\"))\n",
        "\n",
        "# Exemplo de ID de um jogo: 'g_1_Gb7buXVt'    \n",
        "id_jogos = [i[4:] for i in id_jogos]\n",
        "\n",
        "jogo = {'Date':[],'Time':[],'Country':[],'League':[],'Home':[],'Away':[],'Odd_H':[],'Odd_D':[],'Odd_A':[],'Odd_Over15':[],'Odd_Under15':[],'Odd_Over25':[],'Odd_Under25':[],'Odd_BTTS_Yes':[],'Odd_BTTS_No':[]}"
      ]
    },
    {
      "cell_type": "code",
      "execution_count": 6,
      "metadata": {
        "colab": {
          "base_uri": "https://localhost:8080/"
        },
        "id": "pfPc-OYBak9y",
        "outputId": "615af628-9ed6-4ec3-c72b-1696af141c5c"
      },
      "outputs": [
        {
          "name": "stderr",
          "output_type": "stream",
          "text": [
            " 51%|█████▏    | 157/306 [21:50<21:22,  8.61s/it]"
          ]
        },
        {
          "name": "stdout",
          "output_type": "stream",
          "text": [
            "23.07.2023 17:00 PARAGUAY PRIMERA DIVISION - CLAUSURA - ROUND 3 Sp. Luqueno Ameliano 2.3 3.4 2.85 1.28 3.5 1.87 1.87 1.7 2.1\n"
          ]
        },
        {
          "name": "stderr",
          "output_type": "stream",
          "text": [
            " 52%|█████▏    | 158/306 [21:59<21:27,  8.70s/it]"
          ]
        },
        {
          "name": "stdout",
          "output_type": "stream",
          "text": [
            "23.07.2023 19:30 PARAGUAY PRIMERA DIVISION - CLAUSURA - ROUND 3 Olimpia Asuncion Nacional Asuncion 1.75 3.6 4.33 1.33 3.1 2.0 1.75 1.9 1.83\n"
          ]
        },
        {
          "name": "stderr",
          "output_type": "stream",
          "text": [
            " 52%|█████▏    | 159/306 [22:08<21:39,  8.84s/it]"
          ]
        },
        {
          "name": "stdout",
          "output_type": "stream",
          "text": [
            "23.07.2023 15:00 PERU LIGA 1 - CLAUSURA - ROUND 5 AD Cantolao Cajamarca 2.3 3.4 3.0 1.33 3.25 2.0 1.78 1.8 1.95\n"
          ]
        },
        {
          "name": "stderr",
          "output_type": "stream",
          "text": [
            " 52%|█████▏    | 160/306 [22:17<21:50,  8.97s/it]"
          ]
        },
        {
          "name": "stdout",
          "output_type": "stream",
          "text": [
            "23.07.2023 17:00 PERU LIGA 1 - CLAUSURA - ROUND 5 Carlos Mannucci Sport Boys 2.08 3.45 3.35 1.33 3.3 2.0 1.8 1.78 1.95\n"
          ]
        },
        {
          "name": "stderr",
          "output_type": "stream",
          "text": [
            " 53%|█████▎    | 161/306 [22:27<22:09,  9.17s/it]"
          ]
        },
        {
          "name": "stdout",
          "output_type": "stream",
          "text": [
            "23.07.2023 17:30 PERU LIGA 1 - CLAUSURA - ROUND 5 FBC Melgar Sporting Cristal 2.02 3.55 3.45 1.28 3.6 1.83 1.95 1.7 2.1\n"
          ]
        },
        {
          "name": "stderr",
          "output_type": "stream",
          "text": [
            " 53%|█████▎    | 162/306 [22:34<20:40,  8.62s/it]"
          ]
        },
        {
          "name": "stdout",
          "output_type": "stream",
          "text": [
            "23.07.2023 05:00 PHILIPPINES COPA PAULINO ALCANTARA Inter Manila Don Bosco Garelli 2.02 3.55 3.45 1.28 3.6 1.83 1.95 1.7 2.1\n"
          ]
        },
        {
          "name": "stderr",
          "output_type": "stream",
          "text": [
            " 53%|█████▎    | 163/306 [22:41<19:19,  8.11s/it]"
          ]
        },
        {
          "name": "stdout",
          "output_type": "stream",
          "text": [
            "23.07.2023 07:30 PHILIPPINES COPA PAULINO ALCANTARA Tuloy Davao Aguilas 2.02 3.55 3.45 1.28 3.6 1.83 1.95 1.7 2.1\n"
          ]
        },
        {
          "name": "stderr",
          "output_type": "stream",
          "text": [
            " 54%|█████▎    | 164/306 [22:51<19:56,  8.43s/it]"
          ]
        },
        {
          "name": "stdout",
          "output_type": "stream",
          "text": [
            "23.07.2023 10:00 POLAND EKSTRAKLASA - ROUND 1 Gornik Zabrze Radomiak Radom 2.1 3.4 3.3 1.33 3.2 2.0 1.75 1.8 1.95\n"
          ]
        },
        {
          "name": "stderr",
          "output_type": "stream",
          "text": [
            " 54%|█████▍    | 165/306 [22:59<19:57,  8.49s/it]"
          ]
        },
        {
          "name": "stdout",
          "output_type": "stream",
          "text": [
            "23.07.2023 12:30 POLAND EKSTRAKLASA - ROUND 1 Zaglebie Ruch Chorzow 1.78 3.75 4.2 1.25 3.6 1.83 1.9 1.75 2.0\n"
          ]
        },
        {
          "name": "stderr",
          "output_type": "stream",
          "text": [
            " 54%|█████▍    | 166/306 [23:08<19:56,  8.54s/it]"
          ]
        },
        {
          "name": "stdout",
          "output_type": "stream",
          "text": [
            "23.07.2023 15:00 POLAND EKSTRAKLASA - ROUND 1 Widzew Lodz Puszcza 1.8 3.6 4.2 1.3 3.3 1.95 1.8 1.85 1.9\n"
          ]
        },
        {
          "name": "stderr",
          "output_type": "stream",
          "text": [
            " 55%|█████▍    | 167/306 [23:19<21:16,  9.18s/it]"
          ]
        },
        {
          "name": "stdout",
          "output_type": "stream",
          "text": [
            "23.07.2023 07:40 POLAND DIVISION 1 - ROUND 1 Podbeskidzie Wisla Plock 2.5 3.4 2.65 1.28 3.5 1.87 1.87 1.7 2.1\n"
          ]
        },
        {
          "name": "stderr",
          "output_type": "stream",
          "text": [
            " 55%|█████▍    | 168/306 [23:28<21:22,  9.29s/it]"
          ]
        },
        {
          "name": "stdout",
          "output_type": "stream",
          "text": [
            "23.07.2023 10:00 POLAND DIVISION 1 - ROUND 1 Pruszkow R. Rzeszow 2.35 3.4 2.85 1.28 3.5 1.87 1.87 1.7 2.1\n"
          ]
        },
        {
          "name": "stderr",
          "output_type": "stream",
          "text": [
            " 55%|█████▌    | 169/306 [23:37<21:05,  9.23s/it]"
          ]
        },
        {
          "name": "stdout",
          "output_type": "stream",
          "text": [
            "23.07.2023 13:00 POLAND DIVISION 1 - ROUND 1 Legnica GKS Katowice 2.1 3.25 3.5 1.4 2.8 2.2 1.62 1.95 1.8\n"
          ]
        },
        {
          "name": "stderr",
          "output_type": "stream",
          "text": [
            " 56%|█████▌    | 170/306 [23:46<20:31,  9.06s/it]"
          ]
        },
        {
          "name": "stdout",
          "output_type": "stream",
          "text": [
            "23.07.2023 07:00 PORTUGAL LEAGUE CUP - FIRST STAGE - SEMI-FINALS Leixoes Feirense 2.2 3.25 3.25 1.36 2.95 2.1 1.68 1.87 1.87\n"
          ]
        },
        {
          "name": "stderr",
          "output_type": "stream",
          "text": [
            " 56%|█████▌    | 171/306 [23:55<20:10,  8.96s/it]"
          ]
        },
        {
          "name": "stdout",
          "output_type": "stream",
          "text": [
            "23.07.2023 11:30 PORTUGAL LEAGUE CUP - FIRST STAGE - SEMI-FINALS Moreirense SC Farense 2.2 3.4 3.1 1.28 3.5 1.87 1.87 1.72 2.05\n"
          ]
        },
        {
          "name": "stderr",
          "output_type": "stream",
          "text": [
            " 56%|█████▌    | 172/306 [24:03<20:00,  8.96s/it]"
          ]
        },
        {
          "name": "stdout",
          "output_type": "stream",
          "text": [
            "23.07.2023 14:00 PORTUGAL LEAGUE CUP - FIRST STAGE - SEMI-FINALS Os Belenenses Famalicao 4.33 3.75 1.75 1.28 3.4 1.9 1.85 1.8 1.95\n"
          ]
        },
        {
          "name": "stderr",
          "output_type": "stream",
          "text": [
            " 57%|█████▋    | 173/306 [24:13<19:54,  8.98s/it]"
          ]
        },
        {
          "name": "stdout",
          "output_type": "stream",
          "text": [
            "23.07.2023 14:00 PORTUGAL LEAGUE CUP - FIRST STAGE - SEMI-FINALS Vilaverdense Casa Pia 4.5 3.5 1.78 1.36 3.0 2.1 1.7 2.0 1.8\n"
          ]
        },
        {
          "name": "stderr",
          "output_type": "stream",
          "text": [
            " 57%|█████▋    | 174/306 [24:21<19:25,  8.83s/it]"
          ]
        },
        {
          "name": "stdout",
          "output_type": "stream",
          "text": [
            "23.07.2023 16:30 PORTUGAL LEAGUE CUP - FIRST STAGE - SEMI-FINALS Portimonense Estrela 2.3 3.3 3.0 1.36 2.95 2.1 1.68 1.87 1.87\n"
          ]
        },
        {
          "name": "stderr",
          "output_type": "stream",
          "text": [
            " 57%|█████▋    | 175/306 [24:28<18:13,  8.35s/it]"
          ]
        },
        {
          "name": "stdout",
          "output_type": "stream",
          "text": [
            "23.07.2023 08:30 RÉUNION REGIONALE 1 - ROUND 16 Capricorne OCSA Leopards 2.3 3.3 3.0 1.36 2.95 2.1 1.68 1.87 1.87\n"
          ]
        },
        {
          "name": "stderr",
          "output_type": "stream",
          "text": [
            " 58%|█████▊    | 176/306 [24:35<17:12,  7.94s/it]"
          ]
        },
        {
          "name": "stdout",
          "output_type": "stream",
          "text": [
            "23.07.2023 08:30 RÉUNION REGIONALE 1 - ROUND 16 Piton Excelsior 2.3 3.3 3.0 1.36 2.95 2.1 1.68 1.87 1.87\n"
          ]
        },
        {
          "name": "stderr",
          "output_type": "stream",
          "text": [
            " 58%|█████▊    | 177/306 [24:43<16:40,  7.76s/it]"
          ]
        },
        {
          "name": "stdout",
          "output_type": "stream",
          "text": [
            "23.07.2023 08:30 RÉUNION REGIONALE 1 - ROUND 16 Saint-Pauloise Jeanne d'Arc 2.3 3.3 3.0 1.36 2.95 2.1 1.68 1.87 1.87\n"
          ]
        },
        {
          "name": "stderr",
          "output_type": "stream",
          "text": [
            " 58%|█████▊    | 178/306 [24:50<16:07,  7.56s/it]"
          ]
        },
        {
          "name": "stdout",
          "output_type": "stream",
          "text": [
            "23.07.2023 08:30 RÉUNION REGIONALE 1 - ROUND 16 Sainte-Marienne Saint-Denis 2.3 3.3 3.0 1.36 2.95 2.1 1.68 1.87 1.87\n"
          ]
        },
        {
          "name": "stderr",
          "output_type": "stream",
          "text": [
            " 58%|█████▊    | 179/306 [24:57<15:42,  7.42s/it]"
          ]
        },
        {
          "name": "stdout",
          "output_type": "stream",
          "text": [
            "23.07.2023 08:30 RÉUNION REGIONALE 1 - ROUND 16 Sainte-Suzanne Saint-Pierroise 2.3 3.3 3.0 1.36 2.95 2.1 1.68 1.87 1.87\n"
          ]
        },
        {
          "name": "stderr",
          "output_type": "stream",
          "text": [
            " 59%|█████▉    | 180/306 [25:04<15:21,  7.32s/it]"
          ]
        },
        {
          "name": "stdout",
          "output_type": "stream",
          "text": [
            "23.07.2023 08:30 RÉUNION REGIONALE 1 - ROUND 16 St. Louis Tamponnaise 2.3 3.3 3.0 1.36 2.95 2.1 1.68 1.87 1.87\n"
          ]
        },
        {
          "name": "stderr",
          "output_type": "stream",
          "text": [
            " 59%|█████▉    | 181/306 [25:11<14:59,  7.20s/it]"
          ]
        },
        {
          "name": "stdout",
          "output_type": "stream",
          "text": [
            "23.07.2023 09:00 RÉUNION REGIONALE 1 - ROUND 16 SC Chaudron Trois Bassins 2.3 3.3 3.0 1.36 2.95 2.1 1.68 1.87 1.87\n"
          ]
        },
        {
          "name": "stderr",
          "output_type": "stream",
          "text": [
            " 59%|█████▉    | 182/306 [25:20<16:07,  7.80s/it]"
          ]
        },
        {
          "name": "stdout",
          "output_type": "stream",
          "text": [
            "23.07.2023 12:30 ROMANIA LIGA 1 - ROUND 2 Poli Iasi FC Hermannstadt 3.0 3.0 2.4 1.5 2.5 2.5 1.5 2.1 1.68\n"
          ]
        },
        {
          "name": "stderr",
          "output_type": "stream",
          "text": [
            " 60%|█████▉    | 183/306 [25:29<16:44,  8.17s/it]"
          ]
        },
        {
          "name": "stdout",
          "output_type": "stream",
          "text": [
            "23.07.2023 15:30 ROMANIA LIGA 1 - ROUND 2 U. Cluj FC Rapid Bucuresti 2.7 3.25 2.5 1.36 2.95 2.1 1.68 1.85 1.9\n"
          ]
        },
        {
          "name": "stderr",
          "output_type": "stream",
          "text": [
            " 60%|██████    | 184/306 [25:37<16:20,  8.04s/it]"
          ]
        },
        {
          "name": "stdout",
          "output_type": "stream",
          "text": [
            "23.07.2023 11:30 RUSSIA PREMIER LEAGUE - ROUND 1 Spartak Moscow Orenburg 1.62 4.52 5.73 1.18 4.2 1.72 2.3 1.73 2.06\n"
          ]
        },
        {
          "name": "stderr",
          "output_type": "stream",
          "text": [
            " 60%|██████    | 185/306 [25:45<16:04,  7.97s/it]"
          ]
        },
        {
          "name": "stdout",
          "output_type": "stream",
          "text": [
            "23.07.2023 14:00 RUSSIA PREMIER LEAGUE - ROUND 1 FK Rostov Fakel Voronezh 1.77 3.94 5.1 1.29 3.24 2.05 1.9 1.91 1.85\n"
          ]
        },
        {
          "name": "stderr",
          "output_type": "stream",
          "text": [
            " 61%|██████    | 186/306 [25:52<15:36,  7.80s/it]"
          ]
        },
        {
          "name": "stdout",
          "output_type": "stream",
          "text": [
            "23.07.2023 14:00 RUSSIA PREMIER LEAGUE - ROUND 1 Sochi Baltika 1.83 3.9 4.69 1.28 3.26 2.01 1.93 1.85 1.91\n"
          ]
        },
        {
          "name": "stderr",
          "output_type": "stream",
          "text": [
            " 61%|██████    | 187/306 [26:00<15:24,  7.77s/it]"
          ]
        },
        {
          "name": "stdout",
          "output_type": "stream",
          "text": [
            "23.07.2023 04:30 RUSSIA FNL - ROUND 2 SKA Khabarovsk Tyumen 1.84 3.48 4.19 1.33 2.97 2.1 1.75 1.9 1.86\n"
          ]
        },
        {
          "name": "stderr",
          "output_type": "stream",
          "text": [
            " 61%|██████▏   | 188/306 [26:07<15:08,  7.70s/it]"
          ]
        },
        {
          "name": "stdout",
          "output_type": "stream",
          "text": [
            "23.07.2023 06:00 RUSSIA FNL - ROUND 2 Yenisey Leningradets 1.74 3.58 4.62 1.33 2.97 2.1 1.75 1.95 1.81\n"
          ]
        },
        {
          "name": "stderr",
          "output_type": "stream",
          "text": [
            " 62%|██████▏   | 189/306 [26:15<15:10,  7.78s/it]"
          ]
        },
        {
          "name": "stdout",
          "output_type": "stream",
          "text": [
            "23.07.2023 11:00 RUSSIA FNL - ROUND 2 Kamaz Kuban 2.21 3.24 3.23 1.35 2.88 2.17 1.7 1.86 1.9\n"
          ]
        },
        {
          "name": "stderr",
          "output_type": "stream",
          "text": [
            " 62%|██████▏   | 190/306 [26:23<15:00,  7.76s/it]"
          ]
        },
        {
          "name": "stdout",
          "output_type": "stream",
          "text": [
            "23.07.2023 12:00 RUSSIA FNL - ROUND 2 Saratov Shinnik Yaroslavl 2.37 3.2 2.98 1.32 3.02 2.1 1.75 1.8 1.96\n"
          ]
        },
        {
          "name": "stderr",
          "output_type": "stream",
          "text": [
            " 62%|██████▏   | 191/306 [26:31<14:50,  7.74s/it]"
          ]
        },
        {
          "name": "stdout",
          "output_type": "stream",
          "text": [
            "23.07.2023 12:00 RUSSIA FNL - ROUND 2 Volgar-Astrakhan Akron Togliatti 2.57 3.04 2.8 1.38 2.75 2.26 1.65 1.88 1.88\n"
          ]
        },
        {
          "name": "stderr",
          "output_type": "stream",
          "text": [
            " 63%|██████▎   | 192/306 [26:38<14:33,  7.66s/it]"
          ]
        },
        {
          "name": "stdout",
          "output_type": "stream",
          "text": [
            "23.07.2023 13:00 RUSSIA FNL - ROUND 2 Arsenal Tula Dynamo Makhachkala 3.63 3.05 2.14 1.44 2.54 2.45 1.56 2.04 1.74\n"
          ]
        },
        {
          "name": "stderr",
          "output_type": "stream",
          "text": [
            " 63%|██████▎   | 193/306 [26:46<14:28,  7.68s/it]"
          ]
        },
        {
          "name": "stdout",
          "output_type": "stream",
          "text": [
            "23.07.2023 13:00 RUSSIA FNL - ROUND 2 Chernomorets Novorossijsk Rodina Moscow 3.84 3.4 1.94 1.28 3.25 1.96 1.86 1.77 2.0\n"
          ]
        },
        {
          "name": "stderr",
          "output_type": "stream",
          "text": [
            " 63%|██████▎   | 194/306 [26:53<14:11,  7.60s/it]"
          ]
        },
        {
          "name": "stdout",
          "output_type": "stream",
          "text": [
            "23.07.2023 14:00 SENEGAL LIGUE 1 - ROUND 25 Douanes Pikine 2.72 2.67 2.7 1.72 1.9 3.3 1.28 2.7 1.44\n"
          ]
        },
        {
          "name": "stderr",
          "output_type": "stream",
          "text": [
            " 64%|██████▎   | 195/306 [27:01<14:03,  7.60s/it]"
          ]
        },
        {
          "name": "stdout",
          "output_type": "stream",
          "text": [
            "23.07.2023 14:00 SENEGAL LIGUE 1 - ROUND 25 Excellence Linguere 3.05 2.75 2.4 1.57 2.1 2.85 1.37 2.35 1.56\n"
          ]
        },
        {
          "name": "stderr",
          "output_type": "stream",
          "text": [
            " 64%|██████▍   | 196/306 [27:08<13:37,  7.44s/it]"
          ]
        },
        {
          "name": "stdout",
          "output_type": "stream",
          "text": [
            "23.07.2023 14:00 SENEGAL LIGUE 1 - ROUND 25 Generation F. Dakar SC 3.05 2.75 2.4 1.57 2.1 2.85 1.37 2.35 1.56\n"
          ]
        },
        {
          "name": "stderr",
          "output_type": "stream",
          "text": [
            " 64%|██████▍   | 197/306 [27:15<13:19,  7.33s/it]"
          ]
        },
        {
          "name": "stdout",
          "output_type": "stream",
          "text": [
            "23.07.2023 14:00 SENEGAL LIGUE 1 - ROUND 25 Guediawaye Jaraaf 3.05 2.75 2.4 1.57 2.1 2.85 1.37 2.35 1.56\n"
          ]
        },
        {
          "name": "stderr",
          "output_type": "stream",
          "text": [
            " 65%|██████▍   | 198/306 [27:23<13:29,  7.49s/it]"
          ]
        },
        {
          "name": "stdout",
          "output_type": "stream",
          "text": [
            "23.07.2023 14:00 SENEGAL LIGUE 1 - ROUND 25 Mbour Teungueth 2.35 2.67 3.25 1.7 1.93 3.2 1.29 11.0 1.01\n"
          ]
        },
        {
          "name": "stderr",
          "output_type": "stream",
          "text": [
            " 65%|██████▌   | 199/306 [27:30<13:29,  7.56s/it]"
          ]
        },
        {
          "name": "stdout",
          "output_type": "stream",
          "text": [
            "23.07.2023 14:00 SENEGAL LIGUE 1 - ROUND 25 Sonacos Casa 2.85 2.6 2.67 1.65 1.98 3.1 1.31 2.42 1.53\n"
          ]
        },
        {
          "name": "stderr",
          "output_type": "stream",
          "text": [
            " 65%|██████▌   | 200/306 [27:39<13:42,  7.76s/it]"
          ]
        },
        {
          "name": "stdout",
          "output_type": "stream",
          "text": [
            "23.07.2023 14:00 SENEGAL LIGUE 1 - ROUND 25 US Goree Diambars 2.85 2.67 2.6 1.57 2.1 2.85 1.37 11.0 1.01\n"
          ]
        },
        {
          "name": "stderr",
          "output_type": "stream",
          "text": [
            " 66%|██████▌   | 201/306 [27:46<13:27,  7.69s/it]"
          ]
        },
        {
          "name": "stdout",
          "output_type": "stream",
          "text": [
            "23.07.2023 12:00 SLOVAKIA SLOVAK CUP - 1/256-FINALS Borsky Mikulas Slovan Sastin-Straze 2.85 2.67 2.6 1.57 2.1 2.85 1.37 11.0 1.01\n"
          ]
        },
        {
          "name": "stderr",
          "output_type": "stream",
          "text": [
            " 66%|██████▌   | 202/306 [27:53<12:59,  7.50s/it]"
          ]
        },
        {
          "name": "stdout",
          "output_type": "stream",
          "text": [
            "23.07.2023 12:00 SLOVAKIA SLOVAK CUP - 1/256-FINALS Dubovce Iskra Holic 2.85 2.67 2.6 1.57 2.1 2.85 1.37 11.0 1.01\n"
          ]
        },
        {
          "name": "stderr",
          "output_type": "stream",
          "text": [
            " 66%|██████▋   | 203/306 [28:00<12:39,  7.37s/it]"
          ]
        },
        {
          "name": "stdout",
          "output_type": "stream",
          "text": [
            "23.07.2023 12:00 SLOVAKIA SLOVAK CUP - 1/256-FINALS FK Kamenica Sokol Brezovicka 2.85 2.67 2.6 1.57 2.1 2.85 1.37 11.0 1.01\n"
          ]
        },
        {
          "name": "stderr",
          "output_type": "stream",
          "text": [
            " 67%|██████▋   | 204/306 [28:07<12:24,  7.30s/it]"
          ]
        },
        {
          "name": "stdout",
          "output_type": "stream",
          "text": [
            "23.07.2023 12:00 SLOVAKIA SLOVAK CUP - 1/256-FINALS Gaboltov Druzstevnik Circ 2.85 2.67 2.6 1.57 2.1 2.85 1.37 11.0 1.01\n"
          ]
        },
        {
          "name": "stderr",
          "output_type": "stream",
          "text": [
            " 67%|██████▋   | 205/306 [28:14<12:05,  7.18s/it]"
          ]
        },
        {
          "name": "stdout",
          "output_type": "stream",
          "text": [
            "23.07.2023 12:00 SLOVAKIA SLOVAK CUP - 1/256-FINALS Kopcany OFK Mokry Haj 2.85 2.67 2.6 1.57 2.1 2.85 1.37 11.0 1.01\n"
          ]
        },
        {
          "name": "stderr",
          "output_type": "stream",
          "text": [
            " 67%|██████▋   | 206/306 [28:21<11:51,  7.12s/it]"
          ]
        },
        {
          "name": "stdout",
          "output_type": "stream",
          "text": [
            "23.07.2023 12:00 SLOVAKIA SLOVAK CUP - 1/256-FINALS Krskany Cernik 2.85 2.67 2.6 1.57 2.1 2.85 1.37 11.0 1.01\n"
          ]
        },
        {
          "name": "stderr",
          "output_type": "stream",
          "text": [
            " 68%|██████▊   | 207/306 [28:29<11:48,  7.15s/it]"
          ]
        },
        {
          "name": "stdout",
          "output_type": "stream",
          "text": [
            "23.07.2023 12:00 SLOVAKIA SLOVAK CUP - 1/256-FINALS Kuzmice Vojcice 2.85 2.67 2.6 1.57 2.1 2.85 1.37 11.0 1.01\n"
          ]
        },
        {
          "name": "stderr",
          "output_type": "stream",
          "text": [
            " 68%|██████▊   | 208/306 [28:36<11:39,  7.14s/it]"
          ]
        },
        {
          "name": "stdout",
          "output_type": "stream",
          "text": [
            "23.07.2023 12:00 SLOVAKIA SLOVAK CUP - 1/256-FINALS Lysa pod Makytou Priehrada Udica 2.85 2.67 2.6 1.57 2.1 2.85 1.37 11.0 1.01\n"
          ]
        },
        {
          "name": "stderr",
          "output_type": "stream",
          "text": [
            " 68%|██████▊   | 209/306 [28:43<11:31,  7.13s/it]"
          ]
        },
        {
          "name": "stdout",
          "output_type": "stream",
          "text": [
            "23.07.2023 12:00 SLOVAKIA SLOVAK CUP - 1/256-FINALS MFK Stara Tura Horna Streda 2.85 2.67 2.6 1.57 2.1 2.85 1.37 11.0 1.01\n"
          ]
        },
        {
          "name": "stderr",
          "output_type": "stream",
          "text": [
            " 69%|██████▊   | 210/306 [28:50<11:23,  7.12s/it]"
          ]
        },
        {
          "name": "stdout",
          "output_type": "stream",
          "text": [
            "23.07.2023 12:00 SLOVAKIA SLOVAK CUP - 1/256-FINALS Mokrance Bidovce 2.85 2.67 2.6 1.57 2.1 2.85 1.37 11.0 1.01\n"
          ]
        },
        {
          "name": "stderr",
          "output_type": "stream",
          "text": [
            " 69%|██████▉   | 211/306 [28:57<11:14,  7.10s/it]"
          ]
        },
        {
          "name": "stdout",
          "output_type": "stream",
          "text": [
            "23.07.2023 12:00 SLOVAKIA SLOVAK CUP - 1/256-FINALS Nemsova Stankovce 2.85 2.67 2.6 1.57 2.1 2.85 1.37 11.0 1.01\n"
          ]
        },
        {
          "name": "stderr",
          "output_type": "stream",
          "text": [
            " 69%|██████▉   | 212/306 [29:04<11:14,  7.17s/it]"
          ]
        },
        {
          "name": "stdout",
          "output_type": "stream",
          "text": [
            "23.07.2023 12:00 SLOVAKIA SLOVAK CUP - 1/256-FINALS Odorin Hrabusice 2.85 2.67 2.6 1.57 2.1 2.85 1.37 11.0 1.01\n"
          ]
        },
        {
          "name": "stderr",
          "output_type": "stream",
          "text": [
            " 70%|██████▉   | 213/306 [29:12<11:17,  7.29s/it]"
          ]
        },
        {
          "name": "stdout",
          "output_type": "stream",
          "text": [
            "23.07.2023 12:00 SLOVAKIA SLOVAK CUP - 1/256-FINALS Opatova nad Vahom Melcice 2.85 2.67 2.6 1.57 2.1 2.85 1.37 11.0 1.01\n"
          ]
        },
        {
          "name": "stderr",
          "output_type": "stream",
          "text": [
            " 70%|██████▉   | 214/306 [29:19<11:05,  7.23s/it]"
          ]
        },
        {
          "name": "stdout",
          "output_type": "stream",
          "text": [
            "23.07.2023 12:00 SLOVAKIA SLOVAK CUP - 1/256-FINALS Poproc Maraton Sena 2.85 2.67 2.6 1.57 2.1 2.85 1.37 11.0 1.01\n"
          ]
        },
        {
          "name": "stderr",
          "output_type": "stream",
          "text": [
            " 70%|███████   | 215/306 [29:26<10:54,  7.19s/it]"
          ]
        },
        {
          "name": "stdout",
          "output_type": "stream",
          "text": [
            "23.07.2023 12:00 SLOVAKIA SLOVAK CUP - 1/256-FINALS Povazska Sokol Kysak 2.85 2.67 2.6 1.57 2.1 2.85 1.37 11.0 1.01\n"
          ]
        },
        {
          "name": "stderr",
          "output_type": "stream",
          "text": [
            " 71%|███████   | 216/306 [29:33<10:42,  7.14s/it]"
          ]
        },
        {
          "name": "stdout",
          "output_type": "stream",
          "text": [
            "23.07.2023 12:00 SLOVAKIA SLOVAK CUP - 1/256-FINALS Pribis Olympia Bobrov 2.85 2.67 2.6 1.57 2.1 2.85 1.37 11.0 1.01\n"
          ]
        },
        {
          "name": "stderr",
          "output_type": "stream",
          "text": [
            " 71%|███████   | 217/306 [29:40<10:34,  7.13s/it]"
          ]
        },
        {
          "name": "stdout",
          "output_type": "stream",
          "text": [
            "23.07.2023 12:00 SLOVAKIA SLOVAK CUP - 1/256-FINALS Secovska Polianka Jasenov 2.85 2.67 2.6 1.57 2.1 2.85 1.37 11.0 1.01\n"
          ]
        },
        {
          "name": "stderr",
          "output_type": "stream",
          "text": [
            " 71%|███████   | 218/306 [29:47<10:26,  7.12s/it]"
          ]
        },
        {
          "name": "stdout",
          "output_type": "stream",
          "text": [
            "23.07.2023 12:00 SLOVAKIA SLOVAK CUP - 1/256-FINALS Semerovo Velke Lovce 2.85 2.67 2.6 1.57 2.1 2.85 1.37 11.0 1.01\n"
          ]
        },
        {
          "name": "stderr",
          "output_type": "stream",
          "text": [
            " 72%|███████▏  | 219/306 [29:54<10:17,  7.10s/it]"
          ]
        },
        {
          "name": "stdout",
          "output_type": "stream",
          "text": [
            "23.07.2023 12:00 SLOVAKIA SLOVAK CUP - 1/256-FINALS Siladice SK Velke Zaluzie 2.85 2.67 2.6 1.57 2.1 2.85 1.37 11.0 1.01\n"
          ]
        },
        {
          "name": "stderr",
          "output_type": "stream",
          "text": [
            " 72%|███████▏  | 220/306 [30:01<10:03,  7.02s/it]"
          ]
        },
        {
          "name": "stdout",
          "output_type": "stream",
          "text": [
            "23.07.2023 12:00 SLOVAKIA SLOVAK CUP - 1/256-FINALS Siroke Jamnik 2.85 2.67 2.6 1.57 2.1 2.85 1.37 11.0 1.01\n"
          ]
        },
        {
          "name": "stderr",
          "output_type": "stream",
          "text": [
            " 72%|███████▏  | 221/306 [30:08<09:58,  7.04s/it]"
          ]
        },
        {
          "name": "stdout",
          "output_type": "stream",
          "text": [
            "23.07.2023 12:00 SLOVAKIA SLOVAK CUP - 1/256-FINALS Spissky Stiavnik Velka Lomnica 2.85 2.67 2.6 1.57 2.1 2.85 1.37 11.0 1.01\n"
          ]
        },
        {
          "name": "stderr",
          "output_type": "stream",
          "text": [
            " 73%|███████▎  | 222/306 [30:15<09:52,  7.06s/it]"
          ]
        },
        {
          "name": "stdout",
          "output_type": "stream",
          "text": [
            "23.07.2023 12:00 SLOVAKIA SLOVAK CUP - 1/256-FINALS TJ Horne Saliby Topolniky 2.85 2.67 2.6 1.57 2.1 2.85 1.37 11.0 1.01\n"
          ]
        },
        {
          "name": "stderr",
          "output_type": "stream",
          "text": [
            " 73%|███████▎  | 223/306 [30:22<09:41,  7.01s/it]"
          ]
        },
        {
          "name": "stdout",
          "output_type": "stream",
          "text": [
            "23.07.2023 12:00 SLOVAKIA SLOVAK CUP - 1/256-FINALS Uhrovec Zemianske Kostolany 2.85 2.67 2.6 1.57 2.1 2.85 1.37 11.0 1.01\n"
          ]
        },
        {
          "name": "stderr",
          "output_type": "stream",
          "text": [
            " 73%|███████▎  | 224/306 [30:29<09:35,  7.02s/it]"
          ]
        },
        {
          "name": "stdout",
          "output_type": "stream",
          "text": [
            "23.07.2023 12:00 SLOVAKIA SLOVAK CUP - 1/256-FINALS Velky Cetin Nitra-Chrenova 2.85 2.67 2.6 1.57 2.1 2.85 1.37 11.0 1.01\n"
          ]
        },
        {
          "name": "stderr",
          "output_type": "stream",
          "text": [
            " 74%|███████▎  | 225/306 [30:36<09:29,  7.03s/it]"
          ]
        },
        {
          "name": "stdout",
          "output_type": "stream",
          "text": [
            "23.07.2023 12:00 SLOVAKIA SLOVAK CUP - 1/256-FINALS Vikartovce Spissky Stvrtok 2.85 2.67 2.6 1.57 2.1 2.85 1.37 11.0 1.01\n"
          ]
        },
        {
          "name": "stderr",
          "output_type": "stream",
          "text": [
            " 74%|███████▍  | 226/306 [30:43<09:23,  7.04s/it]"
          ]
        },
        {
          "name": "stdout",
          "output_type": "stream",
          "text": [
            "23.07.2023 12:00 SLOVAKIA SLOVAK CUP - 1/256-FINALS Zaluzice Nacina Ves 2.85 2.67 2.6 1.57 2.1 2.85 1.37 11.0 1.01\n"
          ]
        },
        {
          "name": "stderr",
          "output_type": "stream",
          "text": [
            " 74%|███████▍  | 227/306 [30:52<09:53,  7.51s/it]"
          ]
        },
        {
          "name": "stdout",
          "output_type": "stream",
          "text": [
            "23.07.2023 12:30 SLOVENIA PRVA LIGA - ROUND 1 Radomlje Maribor 4.33 3.75 1.72 1.25 3.6 1.83 1.9 1.78 1.95\n"
          ]
        },
        {
          "name": "stderr",
          "output_type": "stream",
          "text": [
            " 75%|███████▍  | 228/306 [31:01<10:11,  7.84s/it]"
          ]
        },
        {
          "name": "stdout",
          "output_type": "stream",
          "text": [
            "23.07.2023 15:15 SLOVENIA PRVA LIGA - ROUND 1 Aluminij Celje 4.5 3.75 1.68 1.25 3.6 1.83 1.9 1.8 1.95\n"
          ]
        },
        {
          "name": "stderr",
          "output_type": "stream",
          "text": [
            " 75%|███████▍  | 229/306 [31:10<10:32,  8.22s/it]"
          ]
        },
        {
          "name": "stdout",
          "output_type": "stream",
          "text": [
            "23.07.2023 07:00 SOUTH KOREA K LEAGUE 2 - ROUND 23 Cheongju Seoul E-Land 2.75 3.3 2.4 1.38 2.9 2.15 1.65 1.9 1.85\n"
          ]
        },
        {
          "name": "stderr",
          "output_type": "stream",
          "text": [
            " 75%|███████▌  | 230/306 [31:18<10:28,  8.27s/it]"
          ]
        },
        {
          "name": "stdout",
          "output_type": "stream",
          "text": [
            "23.07.2023 07:30 SOUTH KOREA K LEAGUE 2 - ROUND 23 Asan Bucheon FC 1995 2.35 3.25 2.9 1.36 2.95 2.1 1.68 1.85 1.9\n"
          ]
        },
        {
          "name": "stderr",
          "output_type": "stream",
          "text": [
            " 75%|███████▌  | 231/306 [31:27<10:36,  8.49s/it]"
          ]
        },
        {
          "name": "stdout",
          "output_type": "stream",
          "text": [
            "23.07.2023 07:30 SOUTH KOREA K LEAGUE 2 - ROUND 23 Gyeongnam Gimcheon Sangmu 3.0 3.6 2.15 1.25 3.75 1.75 2.0 1.62 2.2\n"
          ]
        },
        {
          "name": "stderr",
          "output_type": "stream",
          "text": [
            " 76%|███████▌  | 232/306 [31:36<10:38,  8.63s/it]"
          ]
        },
        {
          "name": "stdout",
          "output_type": "stream",
          "text": [
            "23.07.2023 08:00 SOUTH KOREA K LEAGUE 2 - ROUND 23 Cheonan City Seongnam 3.5 3.4 2.0 1.36 3.0 2.1 1.7 1.87 1.87\n"
          ]
        },
        {
          "name": "stderr",
          "output_type": "stream",
          "text": [
            " 76%|███████▌  | 233/306 [31:45<10:30,  8.64s/it]"
          ]
        },
        {
          "name": "stdout",
          "output_type": "stream",
          "text": [
            "23.07.2023 10:00 SWEDEN ALLSVENSKAN - ROUND 16 AIK Malmo FF 3.5 3.75 2.06 1.28 3.75 1.85 1.96 1.7 2.1\n"
          ]
        },
        {
          "name": "stderr",
          "output_type": "stream",
          "text": [
            " 76%|███████▋  | 234/306 [31:53<10:20,  8.61s/it]"
          ]
        },
        {
          "name": "stdout",
          "output_type": "stream",
          "text": [
            "23.07.2023 10:00 SWEDEN ALLSVENSKAN - ROUND 16 Norrkoping Degerfors 1.58 4.5 5.5 1.2 4.5 1.63 2.3 1.7 2.15\n"
          ]
        },
        {
          "name": "stderr",
          "output_type": "stream",
          "text": [
            " 77%|███████▋  | 235/306 [32:02<10:12,  8.63s/it]"
          ]
        },
        {
          "name": "stdout",
          "output_type": "stream",
          "text": [
            "23.07.2023 12:30 SWEDEN ALLSVENSKAN - ROUND 16 Goteborg Halmstad 2.15 3.5 3.5 1.33 3.3 2.0 1.8 1.8 1.98\n"
          ]
        },
        {
          "name": "stderr",
          "output_type": "stream",
          "text": [
            " 77%|███████▋  | 236/306 [32:11<10:06,  8.67s/it]"
          ]
        },
        {
          "name": "stdout",
          "output_type": "stream",
          "text": [
            "23.07.2023 12:30 SWEDEN ALLSVENSKAN - ROUND 16 Kalmar Varberg 1.6 4.3 5.5 1.3 3.6 1.88 1.92 1.92 1.87\n"
          ]
        },
        {
          "name": "stderr",
          "output_type": "stream",
          "text": [
            " 77%|███████▋  | 237/306 [32:20<10:10,  8.84s/it]"
          ]
        },
        {
          "name": "stdout",
          "output_type": "stream",
          "text": [
            "23.07.2023 08:00 SWEDEN SUPERETTAN - ROUND 15 Utsikten Jonkoping 2.1 3.6 3.3 1.25 3.75 1.8 2.0 1.66 2.2\n"
          ]
        },
        {
          "name": "stderr",
          "output_type": "stream",
          "text": [
            " 78%|███████▊  | 238/306 [32:29<10:08,  8.95s/it]"
          ]
        },
        {
          "name": "stdout",
          "output_type": "stream",
          "text": [
            "23.07.2023 10:00 SWEDEN SUPERETTAN - ROUND 15 Brage Oster 3.2 3.6 2.15 1.22 4.2 1.72 2.1 1.62 2.25\n"
          ]
        },
        {
          "name": "stderr",
          "output_type": "stream",
          "text": [
            " 78%|███████▊  | 239/306 [32:38<09:53,  8.86s/it]"
          ]
        },
        {
          "name": "stdout",
          "output_type": "stream",
          "text": [
            "23.07.2023 11:30 SWITZERLAND SUPER LEAGUE - ROUND 1 Young Boys Lausanne 1.4 5.0 6.5 1.13 6.0 1.45 2.6 1.63 2.2\n"
          ]
        },
        {
          "name": "stderr",
          "output_type": "stream",
          "text": [
            " 78%|███████▊  | 240/306 [32:47<09:48,  8.92s/it]"
          ]
        },
        {
          "name": "stdout",
          "output_type": "stream",
          "text": [
            "23.07.2023 11:30 SWITZERLAND SUPER LEAGUE - ROUND 1 Zurich Yverdon 1.72 3.75 4.5 1.22 4.0 1.7 2.1 1.68 2.15\n"
          ]
        },
        {
          "name": "stderr",
          "output_type": "stream",
          "text": [
            " 79%|███████▉  | 241/306 [32:55<09:23,  8.66s/it]"
          ]
        },
        {
          "name": "stdout",
          "output_type": "stream",
          "text": [
            "23.07.2023 09:15 SWITZERLAND CHALLENGE LEAGUE - ROUND 1 Bellinzona Wil 3.1 3.75 2.05 1.22 4.0 1.68 2.1 1.57 2.3\n"
          ]
        },
        {
          "name": "stderr",
          "output_type": "stream",
          "text": [
            " 79%|███████▉  | 242/306 [33:04<09:14,  8.67s/it]"
          ]
        },
        {
          "name": "stdout",
          "output_type": "stream",
          "text": [
            "23.07.2023 09:15 SWITZERLAND CHALLENGE LEAGUE - ROUND 1 Vaduz Sion 2.45 3.6 2.55 1.2 4.33 1.62 2.2 1.53 2.4\n"
          ]
        },
        {
          "name": "stderr",
          "output_type": "stream",
          "text": [
            " 79%|███████▉  | 243/306 [33:13<09:13,  8.78s/it]"
          ]
        },
        {
          "name": "stdout",
          "output_type": "stream",
          "text": [
            "23.07.2023 12:00 URUGUAY PRIMERA DIVISION - TORNEO INTERMEDIO - ROUND 7 Boston River Wanderers 2.1 3.4 3.2 1.33 3.1 2.0 1.75 1.8 1.95\n"
          ]
        },
        {
          "name": "stderr",
          "output_type": "stream",
          "text": [
            " 80%|███████▉  | 244/306 [33:22<09:09,  8.86s/it]"
          ]
        },
        {
          "name": "stdout",
          "output_type": "stream",
          "text": [
            "23.07.2023 15:00 URUGUAY PRIMERA DIVISION - TORNEO INTERMEDIO - ROUND 7 Penarol Defensor Sp. 2.0 3.4 3.5 1.36 3.0 2.1 1.7 1.87 1.87\n"
          ]
        },
        {
          "name": "stderr",
          "output_type": "stream",
          "text": [
            " 80%|████████  | 245/306 [33:30<08:56,  8.79s/it]"
          ]
        },
        {
          "name": "stdout",
          "output_type": "stream",
          "text": [
            "23.07.2023 18:00 VENEZUELA LIGA FUTVE - ROUND 20 Caracas Dep. Tachira 2.55 3.0 2.65 1.36 2.88 2.2 1.6 1.87 1.83\n"
          ]
        },
        {
          "name": "stderr",
          "output_type": "stream",
          "text": [
            " 80%|████████  | 246/306 [33:39<08:39,  8.67s/it]"
          ]
        },
        {
          "name": "stdout",
          "output_type": "stream",
          "text": [
            "23.07.2023 20:30 VENEZUELA LIGA FUTVE - ROUND 20 Portuguesa Hermanos Colmenarez 1.83 3.3 4.0 1.36 2.88 2.15 1.63 1.95 1.75\n"
          ]
        },
        {
          "name": "stderr",
          "output_type": "stream",
          "text": [
            " 81%|████████  | 247/306 [33:47<08:24,  8.55s/it]"
          ]
        },
        {
          "name": "stdout",
          "output_type": "stream",
          "text": [
            "23.07.2023 07:00 VIETNAM V.LEAGUE 1 - RELEGATION GROUP - ROUND 2 Binh Duong Gia Lai 2.4 3.1 2.75 1.33 3.25 2.0 1.72 1.75 1.95\n"
          ]
        },
        {
          "name": "stderr",
          "output_type": "stream",
          "text": [
            " 81%|████████  | 248/306 [33:55<08:11,  8.48s/it]"
          ]
        },
        {
          "name": "stdout",
          "output_type": "stream",
          "text": [
            "23.07.2023 07:00 VIETNAM V.LEAGUE 1 - RELEGATION GROUP - ROUND 2 Khanh Hoa Song Lam Nghe An 2.4 3.0 2.75 1.33 3.25 2.1 1.73 1.8 1.95\n"
          ]
        },
        {
          "name": "stderr",
          "output_type": "stream",
          "text": [
            " 81%|████████▏ | 249/306 [34:03<07:56,  8.36s/it]"
          ]
        },
        {
          "name": "stdout",
          "output_type": "stream",
          "text": [
            "23.07.2023 09:15 VIETNAM V.LEAGUE 1 - RELEGATION GROUP - ROUND 2 Ho Chi Minh Da Nang 2.25 3.25 2.9 1.33 3.25 2.0 1.72 1.8 1.9\n"
          ]
        },
        {
          "name": "stderr",
          "output_type": "stream",
          "text": [
            " 82%|████████▏ | 250/306 [34:10<07:26,  7.97s/it]"
          ]
        },
        {
          "name": "stdout",
          "output_type": "stream",
          "text": [
            "23.07.2023 06:00 WORLD CLUB FRIENDLY Honved II (Hun) III. Keruleti TVE (Hun) 2.25 3.25 2.9 1.33 3.25 2.0 1.72 1.8 1.9\n"
          ]
        },
        {
          "name": "stderr",
          "output_type": "stream",
          "text": [
            " 82%|████████▏ | 251/306 [34:17<07:03,  7.69s/it]"
          ]
        },
        {
          "name": "stdout",
          "output_type": "stream",
          "text": [
            "23.07.2023 06:00 WORLD CLUB FRIENDLY KKS Kalisz (Pol) GKS Belchatow (Pol) 2.25 3.25 2.9 1.33 3.25 2.0 1.72 1.8 1.9\n"
          ]
        },
        {
          "name": "stderr",
          "output_type": "stream",
          "text": [
            " 82%|████████▏ | 252/306 [34:25<06:45,  7.52s/it]"
          ]
        },
        {
          "name": "stdout",
          "output_type": "stream",
          "text": [
            "23.07.2023 06:00 WORLD CLUB FRIENDLY Komaromi VSE (Hun) Vasas II (Hun) 2.25 3.25 2.9 1.33 3.25 2.0 1.72 1.8 1.9\n"
          ]
        },
        {
          "name": "stderr",
          "output_type": "stream",
          "text": [
            " 83%|████████▎ | 253/306 [34:32<06:32,  7.40s/it]"
          ]
        },
        {
          "name": "stdout",
          "output_type": "stream",
          "text": [
            "23.07.2023 06:00 WORLD CLUB FRIENDLY Nafta (Slo) Kaposvar (Hun) 2.25 3.25 2.9 1.33 3.25 2.0 1.72 1.8 1.9\n"
          ]
        },
        {
          "name": "stderr",
          "output_type": "stream",
          "text": [
            " 83%|████████▎ | 254/306 [34:39<06:16,  7.24s/it]"
          ]
        },
        {
          "name": "stdout",
          "output_type": "stream",
          "text": [
            "23.07.2023 06:00 WORLD CLUB FRIENDLY Red Star (Fra) Seraing (Bel) 2.25 3.25 2.9 1.33 3.25 2.0 1.72 1.8 1.9\n"
          ]
        },
        {
          "name": "stderr",
          "output_type": "stream",
          "text": [
            " 83%|████████▎ | 255/306 [34:46<06:04,  7.15s/it]"
          ]
        },
        {
          "name": "stdout",
          "output_type": "stream",
          "text": [
            "23.07.2023 06:30 WORLD CLUB FRIENDLY Cracovia (Pol) Hapoel Jerusalem (Isr) 2.25 3.25 2.9 1.33 3.25 2.0 1.72 1.8 1.9\n"
          ]
        },
        {
          "name": "stderr",
          "output_type": "stream",
          "text": [
            " 84%|████████▎ | 256/306 [34:53<05:55,  7.11s/it]"
          ]
        },
        {
          "name": "stdout",
          "output_type": "stream",
          "text": [
            "23.07.2023 07:00 WORLD CLUB FRIENDLY Soroksar (Hun) Vasas (Hun) 2.25 3.25 2.9 1.33 3.25 2.0 1.72 1.8 1.9\n"
          ]
        },
        {
          "name": "stderr",
          "output_type": "stream",
          "text": [
            " 84%|████████▍ | 257/306 [35:00<05:49,  7.13s/it]"
          ]
        },
        {
          "name": "stdout",
          "output_type": "stream",
          "text": [
            "23.07.2023 07:00 WORLD CLUB FRIENDLY Swit Mazowiecki (Pol) Polonia Warszawa (Pol) 2.25 3.25 2.9 1.33 3.25 2.0 1.72 1.8 1.9\n"
          ]
        },
        {
          "name": "stderr",
          "output_type": "stream",
          "text": [
            " 84%|████████▍ | 258/306 [35:17<08:03, 10.08s/it]"
          ]
        },
        {
          "name": "stdout",
          "output_type": "stream",
          "text": [
            "23.07.2023 07:00 WORLD CLUB FRIENDLY Tottenham (Eng) Leicester (Eng) 1.5 4.1 6.0 1.2 4.5 1.62 2.25 1.67 2.15\n"
          ]
        },
        {
          "name": "stderr",
          "output_type": "stream",
          "text": [
            " 85%|████████▍ | 259/306 [35:25<07:30,  9.58s/it]"
          ]
        },
        {
          "name": "stdout",
          "output_type": "stream",
          "text": [
            "23.07.2023 07:00 WORLD CLUB FRIENDLY Yokohama F. Marinos (Jpn) Manchester City (Eng) 9.0 6.0 1.25 1.07 8.0 1.25 3.75 1.52 2.45\n"
          ]
        },
        {
          "name": "stderr",
          "output_type": "stream",
          "text": [
            " 85%|████████▍ | 260/306 [35:32<06:45,  8.82s/it]"
          ]
        },
        {
          "name": "stdout",
          "output_type": "stream",
          "text": [
            "23.07.2023 08:00 WORLD CLUB FRIENDLY Tasmania Berlin (Ger) Stern (Ger) 9.0 6.0 1.25 1.07 8.0 1.25 3.75 1.52 2.45\n"
          ]
        },
        {
          "name": "stderr",
          "output_type": "stream",
          "text": [
            " 85%|████████▌ | 261/306 [35:39<06:10,  8.23s/it]"
          ]
        },
        {
          "name": "stdout",
          "output_type": "stream",
          "text": [
            "23.07.2023 08:30 WORLD CLUB FRIENDLY Berliner AK 07 (Ger) Hertha Zehlendorf (Ger) 9.0 6.0 1.25 1.07 8.0 1.25 3.75 1.52 2.45\n"
          ]
        },
        {
          "name": "stderr",
          "output_type": "stream",
          "text": [
            " 86%|████████▌ | 262/306 [35:46<05:47,  7.89s/it]"
          ]
        },
        {
          "name": "stdout",
          "output_type": "stream",
          "text": [
            "23.07.2023 09:00 WORLD CLUB FRIENDLY Al-Hilal (Sau) Al Kuwait (Kuw) 9.0 6.0 1.25 1.07 8.0 1.25 3.75 1.52 2.45\n"
          ]
        },
        {
          "name": "stderr",
          "output_type": "stream",
          "text": [
            " 86%|████████▌ | 263/306 [35:54<05:37,  7.85s/it]"
          ]
        },
        {
          "name": "stdout",
          "output_type": "stream",
          "text": [
            "23.07.2023 09:00 WORLD CLUB FRIENDLY FSV Frankfurt (Ger) Jena (Ger) 2.63 3.5 2.2 1.17 4.5 1.6 2.2 1.5 2.4\n"
          ]
        },
        {
          "name": "stderr",
          "output_type": "stream",
          "text": [
            " 86%|████████▋ | 264/306 [36:01<05:19,  7.61s/it]"
          ]
        },
        {
          "name": "stdout",
          "output_type": "stream",
          "text": [
            "23.07.2023 09:00 WORLD CLUB FRIENDLY Ulm (Ger) Eintracht Frankfurt II (Ger) 2.63 3.5 2.2 1.17 4.5 1.6 2.2 1.5 2.4\n"
          ]
        },
        {
          "name": "stderr",
          "output_type": "stream",
          "text": [
            " 87%|████████▋ | 265/306 [36:08<05:05,  7.45s/it]"
          ]
        },
        {
          "name": "stdout",
          "output_type": "stream",
          "text": [
            "23.07.2023 09:00 WORLD CLUB FRIENDLY Vasas (Hun) Tiszakecske (Hun) 2.63 3.5 2.2 1.17 4.5 1.6 2.2 1.5 2.4\n"
          ]
        },
        {
          "name": "stderr",
          "output_type": "stream",
          "text": [
            " 87%|████████▋ | 266/306 [36:16<05:03,  7.58s/it]"
          ]
        },
        {
          "name": "stdout",
          "output_type": "stream",
          "text": [
            "23.07.2023 10:00 WORLD CLUB FRIENDLY G.A. Eagles (Ned) Mamelodi Sundowns (Rsa) 1.9 3.6 3.3 1.2 4.0 1.75 1.95 1.6 2.2\n"
          ]
        },
        {
          "name": "stderr",
          "output_type": "stream",
          "text": [
            " 87%|████████▋ | 267/306 [36:23<04:51,  7.48s/it]"
          ]
        },
        {
          "name": "stdout",
          "output_type": "stream",
          "text": [
            "23.07.2023 10:00 WORLD CLUB FRIENDLY Homberg (Ger) SG Wattenscheid (Ger) 2.37 3.9 2.38 1.1 5.85 1.37 2.85 1.34 3.14\n"
          ]
        },
        {
          "name": "stderr",
          "output_type": "stream",
          "text": [
            " 88%|████████▊ | 268/306 [36:30<04:39,  7.36s/it]"
          ]
        },
        {
          "name": "stdout",
          "output_type": "stream",
          "text": [
            "23.07.2023 10:00 WORLD CLUB FRIENDLY Lohne (Ger) Lotte (Ger) 2.37 3.9 2.38 1.1 5.85 1.37 2.85 1.34 3.14\n"
          ]
        },
        {
          "name": "stderr",
          "output_type": "stream",
          "text": [
            " 88%|████████▊ | 269/306 [36:37<04:26,  7.21s/it]"
          ]
        },
        {
          "name": "stdout",
          "output_type": "stream",
          "text": [
            "23.07.2023 10:00 WORLD CLUB FRIENDLY Sevilla (Esp) Magdeburg (Ger) 2.37 3.9 2.38 1.1 5.85 1.37 2.85 1.34 3.14\n"
          ]
        },
        {
          "name": "stderr",
          "output_type": "stream",
          "text": [
            " 88%|████████▊ | 270/306 [36:44<04:17,  7.16s/it]"
          ]
        },
        {
          "name": "stdout",
          "output_type": "stream",
          "text": [
            "23.07.2023 10:00 WORLD CLUB FRIENDLY Teuta (Alb) Bregalnica Stip (Mkd) 2.37 3.9 2.38 1.1 5.85 1.37 2.85 1.34 3.14\n"
          ]
        },
        {
          "name": "stderr",
          "output_type": "stream",
          "text": [
            " 89%|████████▊ | 271/306 [36:51<04:11,  7.18s/it]"
          ]
        },
        {
          "name": "stdout",
          "output_type": "stream",
          "text": [
            "23.07.2023 10:00 WORLD CLUB FRIENDLY Wegberg-Beeck (Ger) Meerbusch (Ger) 1.85 4.0 3.33 1.1 5.85 1.37 2.85 1.36 3.03\n"
          ]
        },
        {
          "name": "stderr",
          "output_type": "stream",
          "text": [
            " 89%|████████▉ | 272/306 [36:59<04:08,  7.31s/it]"
          ]
        },
        {
          "name": "stdout",
          "output_type": "stream",
          "text": [
            "23.07.2023 10:30 WORLD CLUB FRIENDLY Fortuna Koln II (Ger) Cronenberger (Ger) 1.55 4.05 4.65 1.12 5.1 1.44 2.6 1.51 2.48\n"
          ]
        },
        {
          "name": "stderr",
          "output_type": "stream",
          "text": [
            " 89%|████████▉ | 273/306 [37:07<04:08,  7.54s/it]"
          ]
        },
        {
          "name": "stdout",
          "output_type": "stream",
          "text": [
            "23.07.2023 10:30 WORLD CLUB FRIENDLY Sampdoria (Ita) Pro Patria (Ita) 1.29 5.0 7.5 1.11 5.5 1.45 2.55 1.65 2.1\n"
          ]
        },
        {
          "name": "stderr",
          "output_type": "stream",
          "text": [
            " 90%|████████▉ | 274/306 [37:15<04:02,  7.57s/it]"
          ]
        },
        {
          "name": "stdout",
          "output_type": "stream",
          "text": [
            "23.07.2023 11:00 WORLD CLUB FRIENDLY Monza (Ita) Vis Pesaro (Ita) 1.22 6.1 10.5 1.09 6.2 1.29 3.3 1.65 2.12\n"
          ]
        },
        {
          "name": "stderr",
          "output_type": "stream",
          "text": [
            " 90%|████████▉ | 275/306 [37:22<03:47,  7.35s/it]"
          ]
        },
        {
          "name": "stdout",
          "output_type": "stream",
          "text": [
            "23.07.2023 11:00 WORLD CLUB FRIENDLY Oleksandriya (Ukr) LNZ Cherkasy (Ukr) 1.22 6.1 10.5 1.09 6.2 1.29 3.3 1.65 2.12\n"
          ]
        },
        {
          "name": "stderr",
          "output_type": "stream",
          "text": [
            " 90%|█████████ | 276/306 [37:29<03:37,  7.27s/it]"
          ]
        },
        {
          "name": "stdout",
          "output_type": "stream",
          "text": [
            "23.07.2023 11:30 WORLD CLUB FRIENDLY Gradacac (Bih) Radnicki Lukavac (Bih) 1.22 6.1 10.5 1.09 6.2 1.29 3.3 1.65 2.12\n"
          ]
        },
        {
          "name": "stderr",
          "output_type": "stream",
          "text": [
            " 91%|█████████ | 277/306 [37:36<03:34,  7.41s/it]"
          ]
        },
        {
          "name": "stdout",
          "output_type": "stream",
          "text": [
            "23.07.2023 12:00 WORLD CLUB FRIENDLY Angers (Fra) Nantes (Fra) 4.84 4.25 1.64 1.16 4.4 1.63 2.3 1.65 2.18\n"
          ]
        },
        {
          "name": "stderr",
          "output_type": "stream",
          "text": [
            " 91%|█████████ | 278/306 [37:43<03:24,  7.32s/it]"
          ]
        },
        {
          "name": "stdout",
          "output_type": "stream",
          "text": [
            "23.07.2023 12:00 WORLD CLUB FRIENDLY BVSC-Zuglo (Hun) Ivancsa (Hun) 4.84 4.25 1.64 1.16 4.4 1.63 2.3 1.65 2.18\n"
          ]
        },
        {
          "name": "stderr",
          "output_type": "stream",
          "text": [
            " 91%|█████████ | 279/306 [37:50<03:15,  7.25s/it]"
          ]
        },
        {
          "name": "stdout",
          "output_type": "stream",
          "text": [
            "23.07.2023 12:00 WORLD CLUB FRIENDLY Modena (Ita) Fiorenzuola (Ita) 4.84 4.25 1.64 1.16 4.4 1.63 2.3 1.65 2.18\n"
          ]
        },
        {
          "name": "stderr",
          "output_type": "stream",
          "text": [
            " 92%|█████████▏| 280/306 [37:58<03:06,  7.19s/it]"
          ]
        },
        {
          "name": "stdout",
          "output_type": "stream",
          "text": [
            "23.07.2023 12:00 WORLD CLUB FRIENDLY Modena (Ita) Lucchese (Ita) 4.84 4.25 1.64 1.16 4.4 1.63 2.3 1.65 2.18\n"
          ]
        },
        {
          "name": "stderr",
          "output_type": "stream",
          "text": [
            " 92%|█████████▏| 281/306 [38:05<03:01,  7.25s/it]"
          ]
        },
        {
          "name": "stdout",
          "output_type": "stream",
          "text": [
            "23.07.2023 12:00 WORLD CLUB FRIENDLY Sassuolo (Ita) Spezia (Ita) 1.8 3.9 4.0 1.2 4.5 1.62 2.25 1.6 2.3\n"
          ]
        },
        {
          "name": "stderr",
          "output_type": "stream",
          "text": [
            " 92%|█████████▏| 282/306 [38:12<02:52,  7.20s/it]"
          ]
        },
        {
          "name": "stdout",
          "output_type": "stream",
          "text": [
            "23.07.2023 12:00 WORLD CLUB FRIENDLY Vardar (Mkd) Smederevo (Srb) 1.8 3.9 4.0 1.2 4.5 1.62 2.25 1.6 2.3\n"
          ]
        },
        {
          "name": "stderr",
          "output_type": "stream",
          "text": [
            " 92%|█████████▏| 283/306 [38:19<02:44,  7.15s/it]"
          ]
        },
        {
          "name": "stdout",
          "output_type": "stream",
          "text": [
            "23.07.2023 12:00 WORLD CLUB FRIENDLY Verona (Ita) Virtus Verona (Ita) 1.8 3.9 4.0 1.2 4.5 1.62 2.25 1.6 2.3\n"
          ]
        },
        {
          "name": "stderr",
          "output_type": "stream",
          "text": [
            " 93%|█████████▎| 284/306 [38:26<02:36,  7.13s/it]"
          ]
        },
        {
          "name": "stdout",
          "output_type": "stream",
          "text": [
            "23.07.2023 12:30 WORLD CLUB FRIENDLY Bari (Ita) Pescara (Ita) 1.8 3.9 4.0 1.2 4.5 1.62 2.25 1.6 2.3\n"
          ]
        },
        {
          "name": "stderr",
          "output_type": "stream",
          "text": [
            " 93%|█████████▎| 285/306 [38:33<02:29,  7.12s/it]"
          ]
        },
        {
          "name": "stdout",
          "output_type": "stream",
          "text": [
            "23.07.2023 13:00 WORLD CLUB FRIENDLY Beltinci (Slo) Ittihad Kalba (Uae) 1.8 3.9 4.0 1.2 4.5 1.62 2.25 1.6 2.3\n"
          ]
        },
        {
          "name": "stderr",
          "output_type": "stream",
          "text": [
            " 93%|█████████▎| 286/306 [38:40<02:21,  7.05s/it]"
          ]
        },
        {
          "name": "stdout",
          "output_type": "stream",
          "text": [
            "23.07.2023 13:00 WORLD CLUB FRIENDLY Como (Ita) Torres (Ita) 1.8 3.9 4.0 1.2 4.5 1.62 2.25 1.6 2.3\n"
          ]
        },
        {
          "name": "stderr",
          "output_type": "stream",
          "text": [
            " 94%|█████████▍| 287/306 [38:48<02:19,  7.32s/it]"
          ]
        },
        {
          "name": "stdout",
          "output_type": "stream",
          "text": [
            "23.07.2023 13:00 WORLD CLUB FRIENDLY Espanyol (Esp) Cadiz CF (Esp) 2.75 3.5 2.4 1.25 3.8 1.87 1.9 1.65 2.2\n"
          ]
        },
        {
          "name": "stderr",
          "output_type": "stream",
          "text": [
            " 94%|█████████▍| 288/306 [38:56<02:16,  7.59s/it]"
          ]
        },
        {
          "name": "stdout",
          "output_type": "stream",
          "text": [
            "23.07.2023 13:00 WORLD CLUB FRIENDLY Las Palmas (Esp) Almeria (Esp) 2.8 3.3 2.2 1.29 3.3 1.91 1.8 1.73 2.0\n"
          ]
        },
        {
          "name": "stderr",
          "output_type": "stream",
          "text": [
            " 94%|█████████▍| 289/306 [39:04<02:08,  7.55s/it]"
          ]
        },
        {
          "name": "stdout",
          "output_type": "stream",
          "text": [
            "23.07.2023 13:00 WORLD CLUB FRIENDLY Pisa (Ita) Pro Sesto (Ita) 1.69 3.6 4.29 1.23 3.7 1.76 1.95 1.75 2.03\n"
          ]
        },
        {
          "name": "stderr",
          "output_type": "stream",
          "text": [
            " 95%|█████████▍| 290/306 [39:12<02:02,  7.68s/it]"
          ]
        },
        {
          "name": "stdout",
          "output_type": "stream",
          "text": [
            "23.07.2023 13:00 WORLD CLUB FRIENDLY RWDM (Bel) Lyon (Fra) 4.0 3.8 1.67 1.14 4.8 1.6 2.2 1.57 2.25\n"
          ]
        },
        {
          "name": "stderr",
          "output_type": "stream",
          "text": [
            " 95%|█████████▌| 291/306 [39:19<01:52,  7.50s/it]"
          ]
        },
        {
          "name": "stdout",
          "output_type": "stream",
          "text": [
            "23.07.2023 13:00 WORLD CLUB FRIENDLY Sered (Svk) Malzenice (Svk) 4.0 3.8 1.67 1.14 4.8 1.6 2.2 1.57 2.25\n"
          ]
        },
        {
          "name": "stderr",
          "output_type": "stream",
          "text": [
            " 95%|█████████▌| 292/306 [39:26<01:42,  7.31s/it]"
          ]
        },
        {
          "name": "stdout",
          "output_type": "stream",
          "text": [
            "23.07.2023 13:30 WORLD CLUB FRIENDLY Banovici (Bih) Sloboda (Bih) 4.0 3.8 1.67 1.14 4.8 1.6 2.2 1.57 2.25\n"
          ]
        },
        {
          "name": "stderr",
          "output_type": "stream",
          "text": [
            " 96%|█████████▌| 293/306 [39:33<01:33,  7.20s/it]"
          ]
        },
        {
          "name": "stdout",
          "output_type": "stream",
          "text": [
            "23.07.2023 14:00 WORLD CLUB FRIENDLY AC Ajaccio (Fra) Furiani Agliani (Fra) 4.0 3.8 1.67 1.14 4.8 1.6 2.2 1.57 2.25\n"
          ]
        },
        {
          "name": "stderr",
          "output_type": "stream",
          "text": [
            " 96%|█████████▌| 294/306 [39:39<01:25,  7.10s/it]"
          ]
        },
        {
          "name": "stdout",
          "output_type": "stream",
          "text": [
            "23.07.2023 14:30 WORLD CLUB FRIENDLY Atletico La Paz (Mex) Gijon (Esp) 4.0 3.8 1.67 1.14 4.8 1.6 2.2 1.57 2.25\n"
          ]
        },
        {
          "name": "stderr",
          "output_type": "stream",
          "text": [
            " 96%|█████████▋| 295/306 [39:48<01:21,  7.44s/it]"
          ]
        },
        {
          "name": "stdout",
          "output_type": "stream",
          "text": [
            "23.07.2023 15:00 WORLD CLUB FRIENDLY Fiorentina (Ita) Catanzaro (Ita) 1.44 4.6 6.5 1.17 5.0 1.57 2.38 1.67 2.15\n"
          ]
        },
        {
          "name": "stderr",
          "output_type": "stream",
          "text": [
            " 97%|█████████▋| 296/306 [39:55<01:13,  7.38s/it]"
          ]
        },
        {
          "name": "stdout",
          "output_type": "stream",
          "text": [
            "23.07.2023 15:00 WORLD CLUB FRIENDLY Volos (Gre) AEK Athens FC (Gre) 7.0 4.0 1.45 1.18 4.3 1.55 2.3 1.65 2.12\n"
          ]
        },
        {
          "name": "stderr",
          "output_type": "stream",
          "text": [
            " 97%|█████████▋| 297/306 [40:03<01:07,  7.53s/it]"
          ]
        },
        {
          "name": "stdout",
          "output_type": "stream",
          "text": [
            "23.07.2023 17:00 WORLD CLUB FRIENDLY Fulham (Eng) Brentford (Eng) 3.2 3.6 2.15 1.23 3.5 1.7 1.95 1.6 2.2\n"
          ]
        },
        {
          "name": "stderr",
          "output_type": "stream",
          "text": [
            " 97%|█████████▋| 298/306 [40:11<01:00,  7.61s/it]"
          ]
        },
        {
          "name": "stdout",
          "output_type": "stream",
          "text": [
            "23.07.2023 20:00 WORLD CLUB FRIENDLY Newcastle (Eng) Aston Villa (Eng) 2.2 3.6 3.1 1.25 3.35 1.72 1.91 1.62 2.15\n"
          ]
        },
        {
          "name": "stderr",
          "output_type": "stream",
          "text": [
            " 98%|█████████▊| 299/306 [40:18<00:51,  7.40s/it]"
          ]
        },
        {
          "name": "stdout",
          "output_type": "stream",
          "text": [
            "23.07.2023 20:00 WORLD CLUB FRIENDLY Pachuca (Mex) R. Oviedo (Esp) 2.2 3.6 3.1 1.25 3.35 1.72 1.91 1.62 2.15\n"
          ]
        },
        {
          "name": "stderr",
          "output_type": "stream",
          "text": [
            " 98%|█████████▊| 300/306 [40:26<00:46,  7.68s/it]"
          ]
        },
        {
          "name": "stdout",
          "output_type": "stream",
          "text": [
            "23.07.2023 23:00 WORLD CLUB FRIENDLY AC Milan (Ita) Real Madrid (Esp) 3.2 3.75 2.1 1.22 4.0 1.75 2.05 1.62 2.2\n"
          ]
        },
        {
          "name": "stderr",
          "output_type": "stream",
          "text": [
            " 98%|█████████▊| 301/306 [40:33<00:37,  7.49s/it]"
          ]
        },
        {
          "name": "stdout",
          "output_type": "stream",
          "text": [
            "23.07.2023 09:00 WORLD CLUB FRIENDLY WOMEN St. Polten W (Aut) Sparta Prague W (Cze) 3.2 3.75 2.1 1.22 4.0 1.75 2.05 1.62 2.2\n"
          ]
        },
        {
          "name": "stderr",
          "output_type": "stream",
          "text": [
            " 99%|█████████▊| 302/306 [40:40<00:29,  7.37s/it]"
          ]
        },
        {
          "name": "stdout",
          "output_type": "stream",
          "text": [
            "23.07.2023 12:00 WORLD CLUB FRIENDLY WOMEN Partick Thistle W (Sco) Glasgow W (Sco) 3.2 3.75 2.1 1.22 4.0 1.75 2.05 1.62 2.2\n"
          ]
        },
        {
          "name": "stderr",
          "output_type": "stream",
          "text": [
            " 99%|█████████▉| 303/306 [40:47<00:21,  7.29s/it]"
          ]
        },
        {
          "name": "stdout",
          "output_type": "stream",
          "text": [
            "23.07.2023 10:00 ZIMBABWE PREMIER SOCCER LEAGUE - ROUND 16 Highlanders Manica 3.2 3.75 2.1 1.22 4.0 1.75 2.05 1.62 2.2\n"
          ]
        },
        {
          "name": "stderr",
          "output_type": "stream",
          "text": [
            " 99%|█████████▉| 304/306 [40:54<00:14,  7.26s/it]"
          ]
        },
        {
          "name": "stdout",
          "output_type": "stream",
          "text": [
            "23.07.2023 10:00 ZIMBABWE PREMIER SOCCER LEAGUE - ROUND 16 Hwange Platinum 3.2 3.75 2.1 1.22 4.0 1.75 2.05 1.62 2.2\n"
          ]
        },
        {
          "name": "stderr",
          "output_type": "stream",
          "text": [
            "100%|█████████▉| 305/306 [41:01<00:07,  7.20s/it]"
          ]
        },
        {
          "name": "stdout",
          "output_type": "stream",
          "text": [
            "23.07.2023 10:00 ZIMBABWE PREMIER SOCCER LEAGUE - ROUND 16 Sheasham Black Rhinos 3.2 3.75 2.1 1.22 4.0 1.75 2.05 1.62 2.2\n"
          ]
        },
        {
          "name": "stderr",
          "output_type": "stream",
          "text": [
            "100%|██████████| 306/306 [41:08<00:00,  8.07s/it]"
          ]
        },
        {
          "name": "stdout",
          "output_type": "stream",
          "text": [
            "23.07.2023 10:00 ZIMBABWE PREMIER SOCCER LEAGUE - ROUND 16 Simba Bhora ZPC Kariba 3.2 3.75 2.1 1.22 4.0 1.75 2.05 1.62 2.2\n"
          ]
        },
        {
          "name": "stderr",
          "output_type": "stream",
          "text": [
            "\n"
          ]
        }
      ],
      "source": [
        "# Pegando as Informacoes Básicas do Jogo\n",
        "for link in tqdm(id_jogos, total=len(id_jogos)):\n",
        "    wd_Chrome.get(f'https://www.flashscore.com/match/{link}/#/match-summary')\n",
        "    \n",
        "    try:\n",
        "        Date = wd_Chrome.find_element(By.CSS_SELECTOR,'div.duelParticipant__startTime').text.split(' ')[0]\n",
        "        Time = wd_Chrome.find_element(By.CSS_SELECTOR,'div.duelParticipant__startTime').text.split(' ')[1]\n",
        "        Country = wd_Chrome.find_element(By.CSS_SELECTOR,'span.tournamentHeader__country').text.split(':')[0]\n",
        "        League = wd_Chrome.find_element(By.CSS_SELECTOR,'span.tournamentHeader__country')\n",
        "        League = League.find_element(By.CSS_SELECTOR,'a').text\n",
        "        Home = wd_Chrome.find_element(By.CSS_SELECTOR,'div.duelParticipant__home')\n",
        "        Home = Home.find_element(By.CSS_SELECTOR,'div.participant__participantName').text\n",
        "        Away = wd_Chrome.find_element(By.CSS_SELECTOR,'div.duelParticipant__away')\n",
        "        Away = Away.find_element(By.CSS_SELECTOR,'div.participant__participantName').text\n",
        "    except:\n",
        "        pass\n",
        "\n",
        "# Match Odds\n",
        "    try:\n",
        "        wd_Chrome.get(f'https://www.flashscore.com/match/{link}/#/odds-comparison/1x2-odds/full-time')\n",
        "        time.sleep(2)\n",
        "        \n",
        "        linhas = wd_Chrome.find_elements(By.CSS_SELECTOR,'div.ui-table__row')\n",
        "        \n",
        "        for linha in linhas:\n",
        "                Odd_H = float(linha.find_elements(By.CSS_SELECTOR,'a.oddsCell__odd')[0].text)\n",
        "                Odd_D = float(linha.find_elements(By.CSS_SELECTOR,'a.oddsCell__odd')[1].text) \n",
        "                Odd_A = float(linha.find_elements(By.CSS_SELECTOR,'a.oddsCell__odd')[2].text)\n",
        "    except:\n",
        "        pass\n",
        "\n",
        "# Over e Under 2.5\n",
        "    try:\n",
        "        wd_Chrome.get(f'https://www.flashscore.com/match/{link}/#/odds-comparison/over-under/full-time')\n",
        "        time.sleep(2)\n",
        "        \n",
        "        linhas_over_under = wd_Chrome.find_elements(By.CSS_SELECTOR,'div.ui-table.oddsCell__odds')\n",
        "        for i in linhas_over_under:\n",
        "            linhas = i.find_elements(By.CSS_SELECTOR,'div.ui-table__row')\n",
        "            for linha in linhas:\n",
        "                try:\n",
        "                    qtd_gols = linha.find_element(By.CSS_SELECTOR,'span.oddsCell__noOddsCell').text.replace('.','')\n",
        "                    if qtd_gols == '05':\n",
        "                        Odd_Over05 = float(linha.find_elements(By.CSS_SELECTOR,'a.oddsCell__odd')[0].text)\n",
        "                        Odd_Under05 = float(linha.find_elements(By.CSS_SELECTOR,'a.oddsCell__odd')[1].text)\n",
        "                    if qtd_gols == '15':\n",
        "                        Odd_Over15 = float(linha.find_elements(By.CSS_SELECTOR,'a.oddsCell__odd')[0].text)\n",
        "                        Odd_Under15 = float(linha.find_elements(By.CSS_SELECTOR,'a.oddsCell__odd')[1].text)\n",
        "                        #print(Odd_Under15)\n",
        "                    if qtd_gols == '25':\n",
        "                        Odd_Over25 = float(linha.find_elements(By.CSS_SELECTOR,'a.oddsCell__odd')[0].text)\n",
        "                        Odd_Under25 = float(linha.find_elements(By.CSS_SELECTOR,'a.oddsCell__odd')[1].text)\n",
        "                except:\n",
        "                    pass\n",
        "    except:\n",
        "        pass\n",
        "\n",
        "# Ambas Marcam (BTTS)\n",
        "    try:\n",
        "        wd_Chrome.get(f'https://www.flashscore.com/match/{link}/#/odds-comparison/both-teams-to-score/full-time')\n",
        "        time.sleep(2)\n",
        "    \n",
        "        linhas = wd_Chrome.find_elements(By.CSS_SELECTOR,'div.ui-table__row')\n",
        "        \n",
        "        for linha in linhas:\n",
        "                BTTS_Yes = float(linha.find_elements(By.CSS_SELECTOR,'a.oddsCell__odd')[0].text)\n",
        "                BTTS_No = float(linha.find_elements(By.CSS_SELECTOR,'a.oddsCell__odd')[1].text)\n",
        "    except:\n",
        "        pass    \n",
        "    \n",
        "    try:\n",
        "        print(Date,Time,Country,League,Home,Away,Odd_H,Odd_D,Odd_A,Odd_Over15,Odd_Under15,Odd_Over25,Odd_Under25,BTTS_Yes,BTTS_No) \n",
        "\n",
        "        jogo['Date'].append(Date)\n",
        "        jogo['Time'].append(Time)\n",
        "        jogo['Country'].append(Country)\n",
        "        jogo['League'].append(League)\n",
        "        jogo['Home'].append(Home)\n",
        "        jogo['Away'].append(Away)\n",
        "        jogo['Odd_H'].append(Odd_H)\n",
        "        jogo['Odd_D'].append(Odd_D)\n",
        "        jogo['Odd_A'].append(Odd_A)\n",
        "        jogo['Odd_Over15'].append(Odd_Over15)\n",
        "        jogo['Odd_Under15'].append(Odd_Under15)\n",
        "        jogo['Odd_Over25'].append(Odd_Over25)\n",
        "        jogo['Odd_Under25'].append(Odd_Under25)\n",
        "        jogo['Odd_BTTS_Yes'].append(BTTS_Yes)\n",
        "        jogo['Odd_BTTS_No'].append(BTTS_No)\n",
        "\n",
        "    except:\n",
        "        pass"
      ]
    },
    {
      "attachments": {},
      "cell_type": "markdown",
      "metadata": {
        "id": "PfRRruDDyt38"
      },
      "source": [
        "## Gerando DataFrame com os Jogos do Dia"
      ]
    },
    {
      "cell_type": "code",
      "execution_count": 7,
      "metadata": {
        "id": "gCvR74k9aiC9"
      },
      "outputs": [
        {
          "data": {
            "text/html": [
              "<div>\n",
              "<style scoped>\n",
              "    .dataframe tbody tr th:only-of-type {\n",
              "        vertical-align: middle;\n",
              "    }\n",
              "\n",
              "    .dataframe tbody tr th {\n",
              "        vertical-align: top;\n",
              "    }\n",
              "\n",
              "    .dataframe thead th {\n",
              "        text-align: right;\n",
              "    }\n",
              "</style>\n",
              "<table border=\"1\" class=\"dataframe\">\n",
              "  <thead>\n",
              "    <tr style=\"text-align: right;\">\n",
              "      <th></th>\n",
              "      <th>Date</th>\n",
              "      <th>Time</th>\n",
              "      <th>Country</th>\n",
              "      <th>League</th>\n",
              "      <th>Home</th>\n",
              "      <th>Away</th>\n",
              "      <th>Odd_H</th>\n",
              "      <th>Odd_D</th>\n",
              "      <th>Odd_A</th>\n",
              "      <th>Odd_Over15</th>\n",
              "      <th>Odd_Under15</th>\n",
              "      <th>Odd_Over25</th>\n",
              "      <th>Odd_Under25</th>\n",
              "      <th>Odd_BTTS_Yes</th>\n",
              "      <th>Odd_BTTS_No</th>\n",
              "    </tr>\n",
              "  </thead>\n",
              "  <tbody>\n",
              "    <tr>\n",
              "      <th>1</th>\n",
              "      <td>23.07.2023</td>\n",
              "      <td>02:00</td>\n",
              "      <td>WORLD</td>\n",
              "      <td>WORLD CUP WOMEN - ROUND 1</td>\n",
              "      <td>Sweden W</td>\n",
              "      <td>South Africa W</td>\n",
              "      <td>1.06</td>\n",
              "      <td>10.50</td>\n",
              "      <td>41.00</td>\n",
              "      <td>1.12</td>\n",
              "      <td>5.78</td>\n",
              "      <td>1.47</td>\n",
              "      <td>2.62</td>\n",
              "      <td>3.35</td>\n",
              "      <td>1.29</td>\n",
              "    </tr>\n",
              "    <tr>\n",
              "      <th>2</th>\n",
              "      <td>23.07.2023</td>\n",
              "      <td>04:30</td>\n",
              "      <td>WORLD</td>\n",
              "      <td>WORLD CUP WOMEN - ROUND 1</td>\n",
              "      <td>Netherlands W</td>\n",
              "      <td>Portugal W</td>\n",
              "      <td>1.46</td>\n",
              "      <td>4.40</td>\n",
              "      <td>6.70</td>\n",
              "      <td>1.26</td>\n",
              "      <td>3.67</td>\n",
              "      <td>1.80</td>\n",
              "      <td>1.97</td>\n",
              "      <td>1.93</td>\n",
              "      <td>1.80</td>\n",
              "    </tr>\n",
              "    <tr>\n",
              "      <th>3</th>\n",
              "      <td>23.07.2023</td>\n",
              "      <td>07:00</td>\n",
              "      <td>WORLD</td>\n",
              "      <td>WORLD CUP WOMEN - ROUND 1</td>\n",
              "      <td>France W</td>\n",
              "      <td>Jamaica W</td>\n",
              "      <td>1.03</td>\n",
              "      <td>19.00</td>\n",
              "      <td>65.00</td>\n",
              "      <td>1.04</td>\n",
              "      <td>12.00</td>\n",
              "      <td>1.16</td>\n",
              "      <td>4.87</td>\n",
              "      <td>2.76</td>\n",
              "      <td>1.40</td>\n",
              "    </tr>\n",
              "    <tr>\n",
              "      <th>4</th>\n",
              "      <td>23.07.2023</td>\n",
              "      <td>16:30</td>\n",
              "      <td>ARGENTINA</td>\n",
              "      <td>LIGA PROFESIONAL - ROUND 26</td>\n",
              "      <td>Atl. Tucuman</td>\n",
              "      <td>Independiente</td>\n",
              "      <td>2.38</td>\n",
              "      <td>2.98</td>\n",
              "      <td>3.25</td>\n",
              "      <td>1.54</td>\n",
              "      <td>2.42</td>\n",
              "      <td>2.69</td>\n",
              "      <td>1.45</td>\n",
              "      <td>2.17</td>\n",
              "      <td>1.63</td>\n",
              "    </tr>\n",
              "    <tr>\n",
              "      <th>5</th>\n",
              "      <td>23.07.2023</td>\n",
              "      <td>18:45</td>\n",
              "      <td>ARGENTINA</td>\n",
              "      <td>LIGA PROFESIONAL - ROUND 26</td>\n",
              "      <td>Defensa y Justicia</td>\n",
              "      <td>Sarmiento Junin</td>\n",
              "      <td>1.78</td>\n",
              "      <td>3.50</td>\n",
              "      <td>4.60</td>\n",
              "      <td>1.36</td>\n",
              "      <td>3.04</td>\n",
              "      <td>2.11</td>\n",
              "      <td>1.69</td>\n",
              "      <td>1.96</td>\n",
              "      <td>1.77</td>\n",
              "    </tr>\n",
              "    <tr>\n",
              "      <th>...</th>\n",
              "      <td>...</td>\n",
              "      <td>...</td>\n",
              "      <td>...</td>\n",
              "      <td>...</td>\n",
              "      <td>...</td>\n",
              "      <td>...</td>\n",
              "      <td>...</td>\n",
              "      <td>...</td>\n",
              "      <td>...</td>\n",
              "      <td>...</td>\n",
              "      <td>...</td>\n",
              "      <td>...</td>\n",
              "      <td>...</td>\n",
              "      <td>...</td>\n",
              "      <td>...</td>\n",
              "    </tr>\n",
              "    <tr>\n",
              "      <th>302</th>\n",
              "      <td>23.07.2023</td>\n",
              "      <td>12:00</td>\n",
              "      <td>WORLD</td>\n",
              "      <td>CLUB FRIENDLY WOMEN</td>\n",
              "      <td>Partick Thistle W (Sco)</td>\n",
              "      <td>Glasgow W (Sco)</td>\n",
              "      <td>3.20</td>\n",
              "      <td>3.75</td>\n",
              "      <td>2.10</td>\n",
              "      <td>1.22</td>\n",
              "      <td>4.00</td>\n",
              "      <td>1.75</td>\n",
              "      <td>2.05</td>\n",
              "      <td>1.62</td>\n",
              "      <td>2.20</td>\n",
              "    </tr>\n",
              "    <tr>\n",
              "      <th>303</th>\n",
              "      <td>23.07.2023</td>\n",
              "      <td>10:00</td>\n",
              "      <td>ZIMBABWE</td>\n",
              "      <td>PREMIER SOCCER LEAGUE - ROUND 16</td>\n",
              "      <td>Highlanders</td>\n",
              "      <td>Manica</td>\n",
              "      <td>3.20</td>\n",
              "      <td>3.75</td>\n",
              "      <td>2.10</td>\n",
              "      <td>1.22</td>\n",
              "      <td>4.00</td>\n",
              "      <td>1.75</td>\n",
              "      <td>2.05</td>\n",
              "      <td>1.62</td>\n",
              "      <td>2.20</td>\n",
              "    </tr>\n",
              "    <tr>\n",
              "      <th>304</th>\n",
              "      <td>23.07.2023</td>\n",
              "      <td>10:00</td>\n",
              "      <td>ZIMBABWE</td>\n",
              "      <td>PREMIER SOCCER LEAGUE - ROUND 16</td>\n",
              "      <td>Hwange</td>\n",
              "      <td>Platinum</td>\n",
              "      <td>3.20</td>\n",
              "      <td>3.75</td>\n",
              "      <td>2.10</td>\n",
              "      <td>1.22</td>\n",
              "      <td>4.00</td>\n",
              "      <td>1.75</td>\n",
              "      <td>2.05</td>\n",
              "      <td>1.62</td>\n",
              "      <td>2.20</td>\n",
              "    </tr>\n",
              "    <tr>\n",
              "      <th>305</th>\n",
              "      <td>23.07.2023</td>\n",
              "      <td>10:00</td>\n",
              "      <td>ZIMBABWE</td>\n",
              "      <td>PREMIER SOCCER LEAGUE - ROUND 16</td>\n",
              "      <td>Sheasham</td>\n",
              "      <td>Black Rhinos</td>\n",
              "      <td>3.20</td>\n",
              "      <td>3.75</td>\n",
              "      <td>2.10</td>\n",
              "      <td>1.22</td>\n",
              "      <td>4.00</td>\n",
              "      <td>1.75</td>\n",
              "      <td>2.05</td>\n",
              "      <td>1.62</td>\n",
              "      <td>2.20</td>\n",
              "    </tr>\n",
              "    <tr>\n",
              "      <th>306</th>\n",
              "      <td>23.07.2023</td>\n",
              "      <td>10:00</td>\n",
              "      <td>ZIMBABWE</td>\n",
              "      <td>PREMIER SOCCER LEAGUE - ROUND 16</td>\n",
              "      <td>Simba Bhora</td>\n",
              "      <td>ZPC Kariba</td>\n",
              "      <td>3.20</td>\n",
              "      <td>3.75</td>\n",
              "      <td>2.10</td>\n",
              "      <td>1.22</td>\n",
              "      <td>4.00</td>\n",
              "      <td>1.75</td>\n",
              "      <td>2.05</td>\n",
              "      <td>1.62</td>\n",
              "      <td>2.20</td>\n",
              "    </tr>\n",
              "  </tbody>\n",
              "</table>\n",
              "<p>306 rows × 15 columns</p>\n",
              "</div>"
            ],
            "text/plain": [
              "           Date   Time    Country                            League  \\\n",
              "1    23.07.2023  02:00      WORLD         WORLD CUP WOMEN - ROUND 1   \n",
              "2    23.07.2023  04:30      WORLD         WORLD CUP WOMEN - ROUND 1   \n",
              "3    23.07.2023  07:00      WORLD         WORLD CUP WOMEN - ROUND 1   \n",
              "4    23.07.2023  16:30  ARGENTINA       LIGA PROFESIONAL - ROUND 26   \n",
              "5    23.07.2023  18:45  ARGENTINA       LIGA PROFESIONAL - ROUND 26   \n",
              "..          ...    ...        ...                               ...   \n",
              "302  23.07.2023  12:00      WORLD               CLUB FRIENDLY WOMEN   \n",
              "303  23.07.2023  10:00   ZIMBABWE  PREMIER SOCCER LEAGUE - ROUND 16   \n",
              "304  23.07.2023  10:00   ZIMBABWE  PREMIER SOCCER LEAGUE - ROUND 16   \n",
              "305  23.07.2023  10:00   ZIMBABWE  PREMIER SOCCER LEAGUE - ROUND 16   \n",
              "306  23.07.2023  10:00   ZIMBABWE  PREMIER SOCCER LEAGUE - ROUND 16   \n",
              "\n",
              "                        Home             Away  Odd_H  Odd_D  Odd_A  \\\n",
              "1                   Sweden W   South Africa W   1.06  10.50  41.00   \n",
              "2              Netherlands W       Portugal W   1.46   4.40   6.70   \n",
              "3                   France W        Jamaica W   1.03  19.00  65.00   \n",
              "4               Atl. Tucuman    Independiente   2.38   2.98   3.25   \n",
              "5         Defensa y Justicia  Sarmiento Junin   1.78   3.50   4.60   \n",
              "..                       ...              ...    ...    ...    ...   \n",
              "302  Partick Thistle W (Sco)  Glasgow W (Sco)   3.20   3.75   2.10   \n",
              "303              Highlanders           Manica   3.20   3.75   2.10   \n",
              "304                   Hwange         Platinum   3.20   3.75   2.10   \n",
              "305                 Sheasham     Black Rhinos   3.20   3.75   2.10   \n",
              "306              Simba Bhora       ZPC Kariba   3.20   3.75   2.10   \n",
              "\n",
              "     Odd_Over15  Odd_Under15  Odd_Over25  Odd_Under25  Odd_BTTS_Yes  \\\n",
              "1          1.12         5.78        1.47         2.62          3.35   \n",
              "2          1.26         3.67        1.80         1.97          1.93   \n",
              "3          1.04        12.00        1.16         4.87          2.76   \n",
              "4          1.54         2.42        2.69         1.45          2.17   \n",
              "5          1.36         3.04        2.11         1.69          1.96   \n",
              "..          ...          ...         ...          ...           ...   \n",
              "302        1.22         4.00        1.75         2.05          1.62   \n",
              "303        1.22         4.00        1.75         2.05          1.62   \n",
              "304        1.22         4.00        1.75         2.05          1.62   \n",
              "305        1.22         4.00        1.75         2.05          1.62   \n",
              "306        1.22         4.00        1.75         2.05          1.62   \n",
              "\n",
              "     Odd_BTTS_No  \n",
              "1           1.29  \n",
              "2           1.80  \n",
              "3           1.40  \n",
              "4           1.63  \n",
              "5           1.77  \n",
              "..           ...  \n",
              "302         2.20  \n",
              "303         2.20  \n",
              "304         2.20  \n",
              "305         2.20  \n",
              "306         2.20  \n",
              "\n",
              "[306 rows x 15 columns]"
            ]
          },
          "execution_count": 7,
          "metadata": {},
          "output_type": "execute_result"
        }
      ],
      "source": [
        "df = pd.DataFrame(jogo)\n",
        "df = drop_reset_index(df)\n",
        "df"
      ]
    },
    {
      "cell_type": "code",
      "execution_count": 8,
      "metadata": {},
      "outputs": [],
      "source": [
        "df = df.rename(columns={'Odd_H': 'FT_Odd_H',\n",
        "                        'Odd_D': 'FT_Odd_D',\n",
        "                        'Odd_A': 'FT_Odd_A',\n",
        "                        'Odd_Over15': 'FT_Odd_Over15',\n",
        "                        'Odd_Under15': 'FT_Odd_Under15',\n",
        "                        'Odd_Over25': 'FT_Odd_Over25',\n",
        "                        'Odd_Under25': 'FT_Odd_Under25',\n",
        "                        'Odd_BTTS_Yes': 'FT_Odd_BTTS_Yes',\n",
        "                        'Odd_BTTS_No': 'FT_Odd_BTTS_No',\n",
        "                        })"
      ]
    },
    {
      "cell_type": "code",
      "execution_count": 9,
      "metadata": {
        "id": "RMxg0e62rlQv"
      },
      "outputs": [],
      "source": [
        "# Gerando os dados para excel\n",
        "from datetime import date, datetime, timedelta\n",
        "data = datetime.today() + timedelta(1)\n",
        "amanha = data.strftime('%Y-%m-%d')\n",
        "nome = 'Jogos_do_Dia_FlashScore.xlsx'\n",
        "\n",
        "df.to_excel(f'G:\\\\Meu Drive\\\\Programacao\\\\futPythonTrader\\\\Jogos do dia\\\\{amanha}_{nome}', index = False)"
      ]
    }
  ],
  "metadata": {
    "colab": {
      "collapsed_sections": [
        "Hs058KhByBQE",
        "LPftcTqaYDN7",
        "SxNjCaz_ZDBZ"
      ],
      "provenance": []
    },
    "kernelspec": {
      "display_name": "Python 3",
      "name": "python3"
    },
    "language_info": {
      "codemirror_mode": {
        "name": "ipython",
        "version": 3
      },
      "file_extension": ".py",
      "mimetype": "text/x-python",
      "name": "python",
      "nbconvert_exporter": "python",
      "pygments_lexer": "ipython3",
      "version": "3.10.1"
    }
  },
  "nbformat": 4,
  "nbformat_minor": 0
}
