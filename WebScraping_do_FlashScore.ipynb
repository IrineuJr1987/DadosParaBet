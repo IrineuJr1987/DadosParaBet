{
  "cells": [
    {
      "cell_type": "code",
      "execution_count": 1,
      "metadata": {
        "id": "Il4jpanbyALF"
      },
      "outputs": [],
      "source": [
        "import pandas as pd\n",
        "import numpy as np\n",
        "\n",
        "import warnings\n",
        "warnings.filterwarnings('ignore')\n",
        "\n",
        "def dia():\n",
        "    from datetime import date, timedelta\n",
        "    dia = date.today() + timedelta(0)\n",
        "    return dia\n",
        "\n",
        "def drop_reset_index(df):\n",
        "    df = df.dropna()\n",
        "    df = df.reset_index(drop=True)\n",
        "    df.index += 1\n",
        "    return df\n",
        "    \n",
        "def grafico(df, nome):\n",
        "    df = df.reset_index(drop=True)\n",
        "    df.index += 1\n",
        "    df['Profit_acu'] = df.Profit.cumsum()\n",
        "    profit = round(df.Profit_acu.tail(1).item(),2)\n",
        "    ROI = round((df.Profit_acu.tail(1)/len(df)*100).item(),2)\n",
        "    df.Profit_acu.plot(title=nome, xlabel='Entradas', ylabel='Stakes')\n",
        "    print(\"Profit:\",profit,\"stakes em\", len(df),\"jogos\")\n",
        "    print(\"ROI:\",ROI,\"%\")"
      ]
    },
    {
      "attachments": {},
      "cell_type": "markdown",
      "metadata": {
        "id": "LPftcTqaYDN7"
      },
      "source": [
        "## Instalando as Dependências do Ubuntu"
      ]
    },
    {
      "cell_type": "code",
      "execution_count": 2,
      "metadata": {
        "colab": {
          "base_uri": "https://localhost:8080/"
        },
        "id": "gxE6n0dHk_cg",
        "outputId": "5b5b3173-8a5f-4846-c3bf-8ea3f2b2701b"
      },
      "outputs": [],
      "source": [
        "# %%shell\n",
        "# # Ubuntu no longer distributes chromium-browser outside of snap\n",
        "# #\n",
        "# # Proposed solution: https://askubuntu.com/questions/1204571/how-to-install-chromium-without-snap\n",
        "\n",
        "# # Add debian buster\n",
        "# cat > /etc/apt/sources.list.d/debian.list <<'EOF'\n",
        "# deb [arch=amd64 signed-by=/usr/share/keyrings/debian-buster.gpg] http://deb.debian.org/debian buster main\n",
        "# deb [arch=amd64 signed-by=/usr/share/keyrings/debian-buster-updates.gpg] http://deb.debian.org/debian buster-updates main\n",
        "# deb [arch=amd64 signed-by=/usr/share/keyrings/debian-security-buster.gpg] http://deb.debian.org/debian-security buster/updates main\n",
        "# EOF\n",
        "\n",
        "# # Add keys\n",
        "# apt-key adv --keyserver keyserver.ubuntu.com --recv-keys DCC9EFBF77E11517\n",
        "# apt-key adv --keyserver keyserver.ubuntu.com --recv-keys 648ACFD622F3D138\n",
        "# apt-key adv --keyserver keyserver.ubuntu.com --recv-keys 112695A0E562B32A\n",
        "\n",
        "# apt-key export 77E11517 | gpg --dearmour -o /usr/share/keyrings/debian-buster.gpg\n",
        "# apt-key export 22F3D138 | gpg --dearmour -o /usr/share/keyrings/debian-buster-updates.gpg\n",
        "# apt-key export E562B32A | gpg --dearmour -o /usr/share/keyrings/debian-security-buster.gpg\n",
        "\n",
        "# # Prefer debian repo for chromium* packages only\n",
        "# # Note the double-blank lines between entries\n",
        "# cat > /etc/apt/preferences.d/chromium.pref << 'EOF'\n",
        "# Package: *\n",
        "# Pin: release a=eoan\n",
        "# Pin-Priority: 500\n",
        "\n",
        "# Package: *\n",
        "# Pin: origin \"deb.debian.org\"\n",
        "# Pin-Priority: 300\n",
        "\n",
        "# Package: chromium*\n",
        "# Pin: origin \"deb.debian.org\"\n",
        "# Pin-Priority: 700\n",
        "# EOF\n",
        "\n",
        "# # Install chromium and chromium-driver\n",
        "# apt-get update\n",
        "# apt-get install chromium chromium-driver\n",
        "\n",
        "# # Install selenium\n",
        "# pip install selenium"
      ]
    },
    {
      "attachments": {},
      "cell_type": "markdown",
      "metadata": {
        "id": "SxNjCaz_ZDBZ"
      },
      "source": [
        "## Configuração do Web-Driver"
      ]
    },
    {
      "cell_type": "code",
      "execution_count": 3,
      "metadata": {
        "id": "fnFWgpcBh-nV"
      },
      "outputs": [],
      "source": [
        "import time\n",
        "from tqdm import tqdm\n",
        "from selenium import webdriver\n",
        "from selenium.webdriver.chrome.options import Options\n",
        "from selenium.webdriver.common.by import By\n",
        "\n",
        "options = Options()\n",
        "#options.add_argument(\"--headless\")\n",
        "options.add_argument(\"--no-sandbox\")\n",
        "options.headless = True\n",
        "\n",
        "from selenium.webdriver.chrome.service import Service\n",
        "wd_Chrome = webdriver.Chrome(\"/usr/bin/chromedriver\", options=options)"
      ]
    },
    {
      "attachments": {},
      "cell_type": "markdown",
      "metadata": {
        "id": "FlNkojcdZybT"
      },
      "source": [
        "## Iniciando a Raspagem de Dados"
      ]
    },
    {
      "cell_type": "code",
      "execution_count": 4,
      "metadata": {
        "id": "eX6re9bjViBI"
      },
      "outputs": [],
      "source": [
        "# Com o WebDrive a gente consegue a pedir a página (URL)\n",
        "wd_Chrome.get(\"https://www.flashscore.com/\")"
      ]
    },
    {
      "cell_type": "code",
      "execution_count": 5,
      "metadata": {
        "id": "wL3Nnue6Vt5T"
      },
      "outputs": [],
      "source": [
        "# Fechando Botão de Cookies\n",
        "try:\n",
        "    button_cookies = wd_Chrome.find_element(By.CSS_SELECTOR,'button#onetrust-accept-btn-handler')\n",
        "    button_cookies.click()\n",
        "except:\n",
        "    pass\n",
        "\n",
        "# Selecionando o Dia de Amanhã\n",
        "wd_Chrome.find_element(By.CSS_SELECTOR,'button.calendar__navigation--tomorrow').click()\n",
        "time.sleep(3)\n",
        "\n",
        "# Pegando o ID dos Jogos\n",
        "id_jogos = []\n",
        "jogos = wd_Chrome.find_elements(By.CSS_SELECTOR,'div.event__match--scheduled')\n",
        "\n",
        "for i in jogos:\n",
        "    id_jogos.append(i.get_attribute(\"id\"))\n",
        "\n",
        "# Exemplo de ID de um jogo: 'g_1_Gb7buXVt'    \n",
        "id_jogos = [i[4:] for i in id_jogos]\n",
        "\n",
        "jogo = {'Date':[],'Time':[],'Country':[],'League':[],'Home':[],'Away':[],'Odd_H':[],'Odd_D':[],'Odd_A':[],'Odd_Over15':[],'Odd_Under15':[],'Odd_Over25':[],'Odd_Under25':[],'Odd_BTTS_Yes':[],'Odd_BTTS_No':[]}"
      ]
    },
    {
      "cell_type": "code",
      "execution_count": 6,
      "metadata": {
        "colab": {
          "base_uri": "https://localhost:8080/"
        },
        "id": "pfPc-OYBak9y",
        "outputId": "615af628-9ed6-4ec3-c72b-1696af141c5c"
      },
      "outputs": [
        {
          "name": "stderr",
          "output_type": "stream",
          "text": [
            "  0%|          | 0/234 [00:00<?, ?it/s]"
          ]
        },
        {
          "name": "stderr",
          "output_type": "stream",
          "text": [
            "  0%|          | 1/234 [00:09<37:02,  9.54s/it]"
          ]
        },
        {
          "name": "stdout",
          "output_type": "stream",
          "text": [
            "16.07.2023 20:30 NORTH & CENTRAL AMERICA GOLD CUP - PLAY OFFS - FINAL Mexico Panama 1.66 3.6 5.5 1.42 2.8 2.3 1.6 2.25 1.62\n"
          ]
        },
        {
          "name": "stderr",
          "output_type": "stream",
          "text": [
            "  1%|          | 2/234 [00:17<34:10,  8.84s/it]"
          ]
        },
        {
          "name": "stdout",
          "output_type": "stream",
          "text": [
            "16.07.2023 10:00 AFRICA COSAFA CUP - PLAY OFFS - 3RD PLACE Malawi South Africa 4.0 3.25 1.85 1.4 2.75 2.3 1.55 2.05 1.68\n"
          ]
        },
        {
          "name": "stderr",
          "output_type": "stream",
          "text": [
            "  1%|▏         | 3/234 [00:25<32:41,  8.49s/it]"
          ]
        },
        {
          "name": "stdout",
          "output_type": "stream",
          "text": [
            "16.07.2023 13:00 AFRICA COSAFA CUP - PLAY OFFS - FINAL Lesotho Zambia 4.75 3.5 1.66 1.36 2.88 2.1 1.66 2.05 1.7\n"
          ]
        },
        {
          "name": "stderr",
          "output_type": "stream",
          "text": [
            "  2%|▏         | 4/234 [00:33<30:21,  7.92s/it]"
          ]
        },
        {
          "name": "stdout",
          "output_type": "stream",
          "text": [
            "16.07.2023 11:00 AFRICA OLYMPIC GAMES WOMEN - QUALIFICATION - 1/8-FINALS Rwanda W Uganda W 4.75 3.5 1.66 1.36 2.88 2.1 1.66 2.05 1.7\n"
          ]
        },
        {
          "name": "stderr",
          "output_type": "stream",
          "text": [
            "  2%|▏         | 5/234 [00:41<30:57,  8.11s/it]"
          ]
        },
        {
          "name": "stdout",
          "output_type": "stream",
          "text": [
            "16.07.2023 14:00 ARGENTINA LIGA PROFESIONAL - ROUND 25 Belgrano San Lorenzo 2.02 2.95 4.4 1.66 2.17 3.04 1.36 2.51 1.48\n"
          ]
        },
        {
          "name": "stderr",
          "output_type": "stream",
          "text": [
            "  3%|▎         | 6/234 [00:50<31:30,  8.29s/it]"
          ]
        },
        {
          "name": "stdout",
          "output_type": "stream",
          "text": [
            "16.07.2023 16:30 ARGENTINA LIGA PROFESIONAL - ROUND 25 Gimnasia L.P. Boca Juniors 3.15 3.0 2.4 1.53 2.45 2.62 1.47 2.12 1.66\n"
          ]
        },
        {
          "name": "stderr",
          "output_type": "stream",
          "text": [
            "  3%|▎         | 7/234 [00:59<32:25,  8.57s/it]"
          ]
        },
        {
          "name": "stdout",
          "output_type": "stream",
          "text": [
            "16.07.2023 19:00 ARGENTINA LIGA PROFESIONAL - ROUND 25 Lanus Banfield 1.95 3.15 4.2 1.57 2.34 2.76 1.43 2.31 1.56\n"
          ]
        },
        {
          "name": "stderr",
          "output_type": "stream",
          "text": [
            "  3%|▎         | 8/234 [01:08<32:53,  8.73s/it]"
          ]
        },
        {
          "name": "stdout",
          "output_type": "stream",
          "text": [
            "16.07.2023 21:30 ARGENTINA LIGA PROFESIONAL - ROUND 25 Argentinos Jrs Colon Santa Fe 1.62 3.65 5.8 1.39 2.91 2.21 1.64 2.16 1.63\n"
          ]
        },
        {
          "name": "stderr",
          "output_type": "stream",
          "text": [
            "  4%|▍         | 9/234 [01:17<32:51,  8.76s/it]"
          ]
        },
        {
          "name": "stdout",
          "output_type": "stream",
          "text": [
            "16.07.2023 21:30 ARGENTINA LIGA PROFESIONAL - ROUND 25 Central Cordoba Independiente 2.35 3.05 3.25 1.53 2.45 2.62 1.47 2.12 1.66\n"
          ]
        },
        {
          "name": "stderr",
          "output_type": "stream",
          "text": [
            "  4%|▍         | 10/234 [01:25<32:39,  8.75s/it]"
          ]
        },
        {
          "name": "stdout",
          "output_type": "stream",
          "text": [
            "16.07.2023 13:40 ARGENTINA PRIMERA NACIONAL - ROUND 25 All Boys Agropecuario 2.95 3.0 2.45 1.53 2.4 2.55 1.47 2.1 1.68\n"
          ]
        },
        {
          "name": "stderr",
          "output_type": "stream",
          "text": [
            "  5%|▍         | 11/234 [01:34<32:22,  8.71s/it]"
          ]
        },
        {
          "name": "stdout",
          "output_type": "stream",
          "text": [
            "16.07.2023 15:00 ARGENTINA PRIMERA NACIONAL - ROUND 25 Deportivo Moron Flandria 1.57 3.6 6.0 1.53 2.4 2.65 1.45 2.55 1.47\n"
          ]
        },
        {
          "name": "stderr",
          "output_type": "stream",
          "text": [
            "  5%|▌         | 12/234 [01:43<32:33,  8.80s/it]"
          ]
        },
        {
          "name": "stdout",
          "output_type": "stream",
          "text": [
            "16.07.2023 15:30 ARGENTINA PRIMERA NACIONAL - ROUND 22 Dep. Riestra Deportivo Madryn 1.83 3.25 4.5 1.45 2.6 2.4 1.53 2.15 1.65\n"
          ]
        },
        {
          "name": "stderr",
          "output_type": "stream",
          "text": [
            "  6%|▌         | 13/234 [01:52<32:33,  8.84s/it]"
          ]
        },
        {
          "name": "stdout",
          "output_type": "stream",
          "text": [
            "16.07.2023 15:30 ARGENTINA PRIMERA NACIONAL - ROUND 22 Racing Cordoba Villa Dalmine 1.55 3.75 6.0 1.4 2.8 2.25 1.6 2.25 1.6\n"
          ]
        },
        {
          "name": "stderr",
          "output_type": "stream",
          "text": [
            "  6%|▌         | 14/234 [02:01<32:30,  8.87s/it]"
          ]
        },
        {
          "name": "stdout",
          "output_type": "stream",
          "text": [
            "16.07.2023 17:00 ARGENTINA PRIMERA NACIONAL - ROUND 25 Estudiantes Rio Cuarto Guillermo Brown 1.85 3.2 4.5 1.55 2.35 2.65 1.44 2.35 1.55\n"
          ]
        },
        {
          "name": "stderr",
          "output_type": "stream",
          "text": [
            "  6%|▋         | 15/234 [02:10<32:25,  8.88s/it]"
          ]
        },
        {
          "name": "stdout",
          "output_type": "stream",
          "text": [
            "16.07.2023 19:05 ARGENTINA PRIMERA NACIONAL - ROUND 22 Ferro Atl. Rafaela 2.15 3.25 3.25 1.42 2.75 2.25 1.6 1.95 1.78\n"
          ]
        },
        {
          "name": "stderr",
          "output_type": "stream",
          "text": [
            "  7%|▋         | 16/234 [02:18<31:21,  8.63s/it]"
          ]
        },
        {
          "name": "stdout",
          "output_type": "stream",
          "text": [
            "16.07.2023 15:00 ARGENTINA TORNEO FEDERAL - ROUND 21 Germinal Sansinena 2.15 2.9 3.4 1.5 2.5 2.63 1.47 2.1 1.67\n"
          ]
        },
        {
          "name": "stderr",
          "output_type": "stream",
          "text": [
            "  7%|▋         | 17/234 [02:26<30:41,  8.48s/it]"
          ]
        },
        {
          "name": "stdout",
          "output_type": "stream",
          "text": [
            "16.07.2023 15:00 ARGENTINA TORNEO FEDERAL - ROUND 21 Sol de Mayo Circulo Deportivo 1.53 3.6 6.0 1.4 2.75 2.45 1.53 2.38 1.53\n"
          ]
        },
        {
          "name": "stderr",
          "output_type": "stream",
          "text": [
            "  8%|▊         | 18/234 [02:34<30:10,  8.38s/it]"
          ]
        },
        {
          "name": "stdout",
          "output_type": "stream",
          "text": [
            "16.07.2023 15:30 ARGENTINA TORNEO FEDERAL - ROUND 21 Douglas Haig Gimnasia E.R. 1.4 4.0 7.5 1.33 3.0 2.15 1.67 2.25 1.57\n"
          ]
        },
        {
          "name": "stderr",
          "output_type": "stream",
          "text": [
            "  8%|▊         | 19/234 [02:42<29:41,  8.29s/it]"
          ]
        },
        {
          "name": "stdout",
          "output_type": "stream",
          "text": [
            "16.07.2023 15:35 ARGENTINA TORNEO FEDERAL - ROUND 21 Sol de America San Martin Formosa 2.05 2.8 3.9 1.57 2.25 2.88 1.4 2.25 1.57\n"
          ]
        },
        {
          "name": "stderr",
          "output_type": "stream",
          "text": [
            "  9%|▊         | 20/234 [02:50<29:07,  8.17s/it]"
          ]
        },
        {
          "name": "stdout",
          "output_type": "stream",
          "text": [
            "16.07.2023 16:00 ARGENTINA TORNEO FEDERAL - ROUND 21 Cipolletti CA Liniers 1.62 3.3 5.5 1.44 2.63 2.45 1.53 2.25 1.57\n"
          ]
        },
        {
          "name": "stderr",
          "output_type": "stream",
          "text": [
            "  9%|▉         | 21/234 [02:57<27:49,  7.84s/it]"
          ]
        },
        {
          "name": "stdout",
          "output_type": "stream",
          "text": [
            "16.07.2023 16:00 ARGENTINA TORNEO FEDERAL - ROUND 21 Defensores Belgrano VR El Linqueno 1.62 3.3 5.5 1.44 2.63 2.45 1.53 2.25 1.57\n"
          ]
        },
        {
          "name": "stderr",
          "output_type": "stream",
          "text": [
            "  9%|▉         | 22/234 [03:05<28:01,  7.93s/it]"
          ]
        },
        {
          "name": "stdout",
          "output_type": "stream",
          "text": [
            "16.07.2023 16:00 ARGENTINA TORNEO FEDERAL - ROUND 21 Juventud Antoniana Crucero del Norte 1.8 3.1 4.5 1.5 2.5 2.63 1.47 2.25 1.57\n"
          ]
        },
        {
          "name": "stderr",
          "output_type": "stream",
          "text": [
            " 10%|▉         | 23/234 [03:13<27:46,  7.90s/it]"
          ]
        },
        {
          "name": "stdout",
          "output_type": "stream",
          "text": [
            "16.07.2023 16:00 ARGENTINA TORNEO FEDERAL - ROUND 21 Sportivo Estudiantes Juventud Unida Universitario 3.1 2.75 2.5 1.53 2.38 2.88 1.4 2.2 1.62\n"
          ]
        },
        {
          "name": "stderr",
          "output_type": "stream",
          "text": [
            " 10%|█         | 24/234 [03:21<27:52,  7.96s/it]"
          ]
        },
        {
          "name": "stdout",
          "output_type": "stream",
          "text": [
            "16.07.2023 19:00 ARGENTINA TORNEO FEDERAL - ROUND 21 Sportivo Belgrano Sportivo Las Parejas 1.9 3.1 4.0 1.44 2.63 2.63 1.47 2.1 1.67\n"
          ]
        },
        {
          "name": "stderr",
          "output_type": "stream",
          "text": [
            " 11%|█         | 25/234 [03:29<28:02,  8.05s/it]"
          ]
        },
        {
          "name": "stdout",
          "output_type": "stream",
          "text": [
            "16.07.2023 02:00 AUSTRALIA NPL ACT - ROUND 14 Gungahlin West Canberra Wanderers 1.04 13.0 23.0 1.01 15.0 1.13 6.0 1.8 1.95\n"
          ]
        },
        {
          "name": "stderr",
          "output_type": "stream",
          "text": [
            " 11%|█         | 26/234 [03:38<28:03,  8.10s/it]"
          ]
        },
        {
          "name": "stdout",
          "output_type": "stream",
          "text": [
            "16.07.2023 02:00 AUSTRALIA NPL ACT - ROUND 14 Tuggeranong Utd Monaro Panthers 10.0 6.5 1.15 1.07 8.0 1.29 3.5 1.6 2.25\n"
          ]
        },
        {
          "name": "stderr",
          "output_type": "stream",
          "text": [
            " 12%|█▏        | 27/234 [03:46<27:39,  8.02s/it]"
          ]
        },
        {
          "name": "stdout",
          "output_type": "stream",
          "text": [
            "16.07.2023 02:00 AUSTRALIA NPL NSW - ROUND 24 Sydney Utd Rockdale Ilinden 2.45 3.6 2.4 1.14 5.5 1.5 2.55 1.4 2.7\n"
          ]
        },
        {
          "name": "stderr",
          "output_type": "stream",
          "text": [
            " 12%|█▏        | 28/234 [03:54<27:33,  8.03s/it]"
          ]
        },
        {
          "name": "stdout",
          "output_type": "stream",
          "text": [
            "16.07.2023 02:00 AUSTRALIA NPL NSW - ROUND 24 Wollongong Wolves NWS Spirit 1.9 3.75 3.25 1.14 5.5 1.5 2.55 1.44 2.6\n"
          ]
        },
        {
          "name": "stderr",
          "output_type": "stream",
          "text": [
            " 12%|█▏        | 29/234 [04:01<27:17,  7.99s/it]"
          ]
        },
        {
          "name": "stdout",
          "output_type": "stream",
          "text": [
            "16.07.2023 02:30 AUSTRALIA NPL QUEENSLAND - ROUND 17 Gold Coast Knights Brisbane City 1.52 4.33 4.75 1.1 5.5 1.4 2.5 1.5 2.45\n"
          ]
        },
        {
          "name": "stderr",
          "output_type": "stream",
          "text": [
            " 13%|█▎        | 30/234 [04:09<27:04,  7.96s/it]"
          ]
        },
        {
          "name": "stdout",
          "output_type": "stream",
          "text": [
            "16.07.2023 04:00 AUSTRALIA NPL QUEENSLAND - ROUND 17 Eastern Suburbs Sunshine Coast Wanderers 3.4 3.75 1.85 1.11 5.15 1.57 2.25 1.44 2.6\n"
          ]
        },
        {
          "name": "stderr",
          "output_type": "stream",
          "text": [
            " 13%|█▎        | 31/234 [04:18<27:30,  8.13s/it]"
          ]
        },
        {
          "name": "stdout",
          "output_type": "stream",
          "text": [
            "16.07.2023 02:00 AUSTRALIA NPL VICTORIA - ROUND 22 St Albans Altona Magic 3.4 3.75 1.87 1.14 5.5 1.5 2.55 1.47 2.5\n"
          ]
        },
        {
          "name": "stderr",
          "output_type": "stream",
          "text": [
            " 14%|█▎        | 32/234 [04:26<27:22,  8.13s/it]"
          ]
        },
        {
          "name": "stdout",
          "output_type": "stream",
          "text": [
            "16.07.2023 03:00 AUSTRALIA NPL VICTORIA - ROUND 22 Melbourne Knights Moreland City 1.22 5.5 9.5 1.1 6.5 1.4 2.88 1.75 1.95\n"
          ]
        },
        {
          "name": "stderr",
          "output_type": "stream",
          "text": [
            " 14%|█▍        | 33/234 [04:33<26:09,  7.81s/it]"
          ]
        },
        {
          "name": "stdout",
          "output_type": "stream",
          "text": [
            "16.07.2023 09:00 BELARUS PERSHAYA LIGA - ROUND 16 Dnepr Mogilev Petrikov 1.22 5.5 9.5 1.1 6.5 1.4 2.88 1.75 1.95\n"
          ]
        },
        {
          "name": "stderr",
          "output_type": "stream",
          "text": [
            " 15%|█▍        | 34/234 [04:40<25:08,  7.54s/it]"
          ]
        },
        {
          "name": "stdout",
          "output_type": "stream",
          "text": [
            "16.07.2023 10:00 BELARUS PERSHAYA LIGA - ROUND 16 Niva Dolbizno Osipovichi 1.22 5.5 9.5 1.1 6.5 1.4 2.88 1.75 1.95\n"
          ]
        },
        {
          "name": "stderr",
          "output_type": "stream",
          "text": [
            " 15%|█▍        | 35/234 [04:47<24:24,  7.36s/it]"
          ]
        },
        {
          "name": "stdout",
          "output_type": "stream",
          "text": [
            "16.07.2023 11:00 BELARUS PERSHAYA LIGA - ROUND 16 Lokomotiv Gomel Maxline 1.22 5.5 9.5 1.1 6.5 1.4 2.88 1.75 1.95\n"
          ]
        },
        {
          "name": "stderr",
          "output_type": "stream",
          "text": [
            " 15%|█▌        | 36/234 [04:54<23:50,  7.22s/it]"
          ]
        },
        {
          "name": "stdout",
          "output_type": "stream",
          "text": [
            "16.07.2023 12:00 BELARUS PERSHAYA LIGA - ROUND 16 Zhodino Yuzhnoe Orsha 1.22 5.5 9.5 1.1 6.5 1.4 2.88 1.75 1.95\n"
          ]
        },
        {
          "name": "stderr",
          "output_type": "stream",
          "text": [
            " 16%|█▌        | 37/234 [05:02<24:52,  7.58s/it]"
          ]
        },
        {
          "name": "stdout",
          "output_type": "stream",
          "text": [
            "16.07.2023 16:00 BOLIVIA DIVISION PROFESIONAL - ROUND 19 Royal Pari Bolivar 3.1 3.6 2.0 1.17 4.5 1.6 2.3 1.5 2.5\n"
          ]
        },
        {
          "name": "stderr",
          "output_type": "stream",
          "text": [
            " 16%|█▌        | 38/234 [05:11<25:53,  7.93s/it]"
          ]
        },
        {
          "name": "stdout",
          "output_type": "stream",
          "text": [
            "16.07.2023 18:30 BOLIVIA DIVISION PROFESIONAL - ROUND 19 Aurora Wilstermann 2.0 3.4 3.3 1.3 3.2 2.05 1.75 1.73 2.0\n"
          ]
        },
        {
          "name": "stderr",
          "output_type": "stream",
          "text": [
            " 17%|█▋        | 39/234 [05:19<26:11,  8.06s/it]"
          ]
        },
        {
          "name": "stdout",
          "output_type": "stream",
          "text": [
            "16.07.2023 20:30 BOLIVIA DIVISION PROFESIONAL - ROUND 19 Blooming Nacional Potosi 2.25 3.4 2.75 1.17 4.5 1.57 2.38 1.5 2.5\n"
          ]
        },
        {
          "name": "stderr",
          "output_type": "stream",
          "text": [
            " 17%|█▋        | 40/234 [05:28<27:07,  8.39s/it]"
          ]
        },
        {
          "name": "stdout",
          "output_type": "stream",
          "text": [
            "16.07.2023 11:00 BRAZIL SERIE A - ROUND 15 Cruzeiro Coritiba 1.57 4.0 6.0 1.3 3.4 1.95 1.83 2.0 1.8\n"
          ]
        },
        {
          "name": "stderr",
          "output_type": "stream",
          "text": [
            " 18%|█▊        | 41/234 [05:38<27:45,  8.63s/it]"
          ]
        },
        {
          "name": "stdout",
          "output_type": "stream",
          "text": [
            "16.07.2023 16:00 BRAZIL SERIE A - ROUND 15 Fluminense Flamengo RJ 2.85 3.4 2.4 1.28 3.6 1.85 1.95 1.68 2.15\n"
          ]
        },
        {
          "name": "stderr",
          "output_type": "stream",
          "text": [
            " 18%|█▊        | 42/234 [05:47<27:59,  8.75s/it]"
          ]
        },
        {
          "name": "stdout",
          "output_type": "stream",
          "text": [
            "16.07.2023 16:00 BRAZIL SERIE A - ROUND 15 Fortaleza Cuiaba 1.63 3.75 5.5 1.4 2.95 2.2 1.65 2.15 1.66\n"
          ]
        },
        {
          "name": "stderr",
          "output_type": "stream",
          "text": [
            " 18%|█▊        | 43/234 [05:55<27:42,  8.70s/it]"
          ]
        },
        {
          "name": "stdout",
          "output_type": "stream",
          "text": [
            "16.07.2023 16:00 BRAZIL SERIE A - ROUND 15 Sao Paulo Santos 1.68 3.5 5.5 1.45 2.75 2.35 1.57 2.25 1.6\n"
          ]
        },
        {
          "name": "stderr",
          "output_type": "stream",
          "text": [
            " 19%|█▉        | 44/234 [06:04<27:24,  8.65s/it]"
          ]
        },
        {
          "name": "stdout",
          "output_type": "stream",
          "text": [
            "16.07.2023 18:30 BRAZIL SERIE A - ROUND 15 Athletico-PR Bahia 1.63 3.75 5.5 1.36 3.2 2.05 1.75 2.05 1.72\n"
          ]
        },
        {
          "name": "stderr",
          "output_type": "stream",
          "text": [
            " 19%|█▉        | 45/234 [06:13<27:35,  8.76s/it]"
          ]
        },
        {
          "name": "stdout",
          "output_type": "stream",
          "text": [
            "16.07.2023 18:30 BRAZIL SERIE A - ROUND 15 Internacional Palmeiras 2.9 3.2 2.5 1.4 2.95 2.2 1.66 1.9 1.87\n"
          ]
        },
        {
          "name": "stderr",
          "output_type": "stream",
          "text": [
            " 20%|█▉        | 46/234 [06:21<27:08,  8.66s/it]"
          ]
        },
        {
          "name": "stdout",
          "output_type": "stream",
          "text": [
            "16.07.2023 15:30 BRAZIL SERIE B - ROUND 17 Mirassol Ceara 1.9 3.25 4.2 1.42 2.75 2.3 1.57 2.05 1.72\n"
          ]
        },
        {
          "name": "stderr",
          "output_type": "stream",
          "text": [
            " 20%|██        | 47/234 [06:30<26:56,  8.65s/it]"
          ]
        },
        {
          "name": "stdout",
          "output_type": "stream",
          "text": [
            "16.07.2023 18:00 BRAZIL SERIE B - ROUND 17 Vitoria Novorizontino 2.35 3.1 3.1 1.5 2.5 2.5 1.5 2.1 1.68\n"
          ]
        },
        {
          "name": "stderr",
          "output_type": "stream",
          "text": [
            " 21%|██        | 48/234 [06:37<25:18,  8.17s/it]"
          ]
        },
        {
          "name": "stdout",
          "output_type": "stream",
          "text": [
            "16.07.2023 10:00 BRAZIL COPA PAULISTA - ROUND 3 Comercial Mirassol 2.35 3.1 3.1 1.5 2.5 2.5 1.5 2.1 1.68\n"
          ]
        },
        {
          "name": "stderr",
          "output_type": "stream",
          "text": [
            " 21%|██        | 49/234 [06:44<23:59,  7.78s/it]"
          ]
        },
        {
          "name": "stdout",
          "output_type": "stream",
          "text": [
            "16.07.2023 10:00 BRAZIL COPA PAULISTA - ROUND 3 Juventus-SP Primavera EC 2.35 3.1 3.1 1.5 2.5 2.5 1.5 2.1 1.68\n"
          ]
        },
        {
          "name": "stderr",
          "output_type": "stream",
          "text": [
            " 21%|██▏       | 50/234 [06:51<23:01,  7.51s/it]"
          ]
        },
        {
          "name": "stdout",
          "output_type": "stream",
          "text": [
            "16.07.2023 10:00 BRAZIL COPA PAULISTA - ROUND 3 Portuguesa Santista Santo Andre 2.35 3.1 3.1 1.5 2.5 2.5 1.5 2.1 1.68\n"
          ]
        },
        {
          "name": "stderr",
          "output_type": "stream",
          "text": [
            " 22%|██▏       | 51/234 [07:00<24:10,  7.93s/it]"
          ]
        },
        {
          "name": "stdout",
          "output_type": "stream",
          "text": [
            "16.07.2023 12:30 BULGARIA PARVA LIGA - ROUND 1 Lok. Plovdiv Botev Plovdiv 2.35 3.2 2.9 1.42 2.7 2.3 1.57 1.95 1.8\n"
          ]
        },
        {
          "name": "stderr",
          "output_type": "stream",
          "text": [
            " 22%|██▏       | 52/234 [07:09<25:01,  8.25s/it]"
          ]
        },
        {
          "name": "stdout",
          "output_type": "stream",
          "text": [
            "16.07.2023 15:00 BULGARIA PARVA LIGA - ROUND 1 Hebar CSKA Sofia 10.0 5.0 1.28 1.28 3.5 1.87 1.87 2.4 1.53\n"
          ]
        },
        {
          "name": "stderr",
          "output_type": "stream",
          "text": [
            " 23%|██▎       | 53/234 [07:17<25:17,  8.38s/it]"
          ]
        },
        {
          "name": "stdout",
          "output_type": "stream",
          "text": [
            "16.07.2023 15:00 CANADA CANADIAN PREMIER LEAGUE Atl. Ottawa Vancouver FC 1.5 4.0 5.5 1.22 3.8 1.78 1.95 1.87 1.83\n"
          ]
        },
        {
          "name": "stderr",
          "output_type": "stream",
          "text": [
            " 23%|██▎       | 54/234 [07:26<25:48,  8.60s/it]"
          ]
        },
        {
          "name": "stdout",
          "output_type": "stream",
          "text": [
            "16.07.2023 13:30 CHILE PRIMERA DIVISION - ROUND 17 Copiapo A. Italiano 2.4 3.4 2.85 1.28 3.6 1.83 1.95 1.68 2.15\n"
          ]
        },
        {
          "name": "stderr",
          "output_type": "stream",
          "text": [
            " 24%|██▎       | 55/234 [07:35<25:49,  8.65s/it]"
          ]
        },
        {
          "name": "stdout",
          "output_type": "stream",
          "text": [
            "16.07.2023 16:00 CHILE PRIMERA DIVISION - ROUND 17 Magallanes Nublense 2.25 3.4 3.1 1.36 3.1 2.1 1.72 1.85 1.9\n"
          ]
        },
        {
          "name": "stderr",
          "output_type": "stream",
          "text": [
            " 24%|██▍       | 56/234 [07:44<25:38,  8.65s/it]"
          ]
        },
        {
          "name": "stdout",
          "output_type": "stream",
          "text": [
            "16.07.2023 18:30 CHILE PRIMERA DIVISION - ROUND 17 Everton Union La Calera 1.87 3.6 4.0 1.3 3.5 1.9 1.87 1.8 1.95\n"
          ]
        },
        {
          "name": "stderr",
          "output_type": "stream",
          "text": [
            " 24%|██▍       | 57/234 [07:52<25:25,  8.62s/it]"
          ]
        },
        {
          "name": "stdout",
          "output_type": "stream",
          "text": [
            "16.07.2023 21:00 CHILE PRIMERA DIVISION - ROUND 17 Curico Unido U. Catolica 2.9 3.6 2.3 1.22 4.2 1.72 2.1 1.6 2.3\n"
          ]
        },
        {
          "name": "stderr",
          "output_type": "stream",
          "text": [
            " 25%|██▍       | 58/234 [07:59<23:49,  8.12s/it]"
          ]
        },
        {
          "name": "stdout",
          "output_type": "stream",
          "text": [
            "16.07.2023 16:00 CHILE SEGUNDA DIVISION - ROUND 15 General Velasquez Iberia 2.9 3.6 2.3 1.22 4.2 1.72 2.1 1.6 2.3\n"
          ]
        },
        {
          "name": "stderr",
          "output_type": "stream",
          "text": [
            " 25%|██▌       | 59/234 [08:08<23:56,  8.21s/it]"
          ]
        },
        {
          "name": "stdout",
          "output_type": "stream",
          "text": [
            "16.07.2023 16:00 CHILE SEGUNDA DIVISION - ROUND 15 Real San Joaquin D. Concepcion 1.95 3.4 3.5 1.3 3.2 2.05 1.75 1.73 2.0\n"
          ]
        },
        {
          "name": "stderr",
          "output_type": "stream",
          "text": [
            " 26%|██▌       | 60/234 [08:15<22:40,  7.82s/it]"
          ]
        },
        {
          "name": "stdout",
          "output_type": "stream",
          "text": [
            "16.07.2023 17:00 CHILE SEGUNDA DIVISION - ROUND 15 Arturo Fernandez Vial Melipilla 1.95 3.4 3.5 1.3 3.2 2.05 1.75 1.73 2.0\n"
          ]
        },
        {
          "name": "stderr",
          "output_type": "stream",
          "text": [
            " 26%|██▌       | 61/234 [08:22<21:53,  7.59s/it]"
          ]
        },
        {
          "name": "stdout",
          "output_type": "stream",
          "text": [
            "16.07.2023 17:00 CHILE SEGUNDA DIVISION - ROUND 15 Trasandino Osorno 1.95 3.4 3.5 1.3 3.2 2.05 1.75 1.73 2.0\n"
          ]
        },
        {
          "name": "stderr",
          "output_type": "stream",
          "text": [
            " 26%|██▋       | 62/234 [08:30<22:35,  7.88s/it]"
          ]
        },
        {
          "name": "stdout",
          "output_type": "stream",
          "text": [
            "16.07.2023 08:35 CHINA SUPER LEAGUE - ROUND 17 Beijing Guoan Wuhan Three Towns 2.5 3.5 2.6 1.22 4.0 1.7 2.1 1.57 2.3\n"
          ]
        },
        {
          "name": "stderr",
          "output_type": "stream",
          "text": [
            " 27%|██▋       | 63/234 [08:39<23:28,  8.23s/it]"
          ]
        },
        {
          "name": "stdout",
          "output_type": "stream",
          "text": [
            "16.07.2023 08:35 CHINA SUPER LEAGUE - ROUND 17 Dalian Pro Changchun Yatai 2.85 3.5 2.3 1.25 3.75 1.75 2.0 1.62 2.2\n"
          ]
        },
        {
          "name": "stderr",
          "output_type": "stream",
          "text": [
            " 27%|██▋       | 64/234 [08:48<23:35,  8.33s/it]"
          ]
        },
        {
          "name": "stdout",
          "output_type": "stream",
          "text": [
            "16.07.2023 08:35 CHINA SUPER LEAGUE - ROUND 17 Nantong Zhiyun Shandong Taishan 8.0 4.75 1.36 1.25 3.6 1.83 1.9 2.15 1.65\n"
          ]
        },
        {
          "name": "stderr",
          "output_type": "stream",
          "text": [
            " 28%|██▊       | 65/234 [08:57<24:05,  8.55s/it]"
          ]
        },
        {
          "name": "stdout",
          "output_type": "stream",
          "text": [
            "16.07.2023 08:35 CHINA SUPER LEAGUE - ROUND 17 Shenzhen Shanghai Port 41.0 11.0 1.05 1.07 8.0 1.28 3.5 2.88 1.4\n"
          ]
        },
        {
          "name": "stderr",
          "output_type": "stream",
          "text": [
            " 28%|██▊       | 66/234 [09:06<23:57,  8.55s/it]"
          ]
        },
        {
          "name": "stdout",
          "output_type": "stream",
          "text": [
            "16.07.2023 08:35 CHINA SUPER LEAGUE - ROUND 17 Zhejiang Professional Tianjin Jinmen Tiger 2.2 3.4 3.1 1.28 3.5 1.87 1.87 1.72 2.05\n"
          ]
        },
        {
          "name": "stderr",
          "output_type": "stream",
          "text": [
            " 29%|██▊       | 67/234 [09:15<24:12,  8.70s/it]"
          ]
        },
        {
          "name": "stdout",
          "output_type": "stream",
          "text": [
            "16.07.2023 19:15 COLOMBIA PRIMERA A - CLAUSURA - ROUND 1 America De Cali Deportes Tolima 2.0 3.4 3.75 1.36 3.2 2.05 1.75 1.87 1.9\n"
          ]
        },
        {
          "name": "stderr",
          "output_type": "stream",
          "text": [
            " 29%|██▉       | 68/234 [09:24<24:29,  8.85s/it]"
          ]
        },
        {
          "name": "stdout",
          "output_type": "stream",
          "text": [
            "16.07.2023 21:30 COLOMBIA PRIMERA A - CLAUSURA - ROUND 1 Once Caldas Atl. Nacional 2.65 3.2 2.7 1.42 2.8 2.3 1.6 1.95 1.8\n"
          ]
        },
        {
          "name": "stderr",
          "output_type": "stream",
          "text": [
            " 29%|██▉       | 69/234 [09:32<23:45,  8.64s/it]"
          ]
        },
        {
          "name": "stdout",
          "output_type": "stream",
          "text": [
            "16.07.2023 19:00 DOMINICAN REPUBLIC LDF - WINNERS STAGE - ROUND 1 Atletico Pantoja Cibao 3.0 3.25 2.2 1.4 2.75 2.25 1.57 9.0 1.03\n"
          ]
        },
        {
          "name": "stderr",
          "output_type": "stream",
          "text": [
            " 30%|██▉       | 70/234 [09:40<23:14,  8.50s/it]"
          ]
        },
        {
          "name": "stdout",
          "output_type": "stream",
          "text": [
            "16.07.2023 13:00 EGYPT PREMIER LEAGUE - ROUND 34 Arab Contractors Al Ahly 6.5 4.0 1.47 1.28 3.4 1.9 1.83 2.0 1.75\n"
          ]
        },
        {
          "name": "stderr",
          "output_type": "stream",
          "text": [
            " 30%|███       | 71/234 [09:49<23:07,  8.51s/it]"
          ]
        },
        {
          "name": "stdout",
          "output_type": "stream",
          "text": [
            "16.07.2023 15:30 EGYPT PREMIER LEAGUE - ROUND 34 Zamalek Pharco 1.53 4.0 5.5 1.33 3.1 2.0 1.75 2.05 1.72\n"
          ]
        },
        {
          "name": "stderr",
          "output_type": "stream",
          "text": [
            " 31%|███       | 72/234 [09:56<21:39,  8.02s/it]"
          ]
        },
        {
          "name": "stdout",
          "output_type": "stream",
          "text": [
            "16.07.2023 08:00 ESTONIA ESTONIAN CUP - 1/32-FINALS Elva Saue Laagri 1.53 4.0 5.5 1.33 3.1 2.0 1.75 2.05 1.72\n"
          ]
        },
        {
          "name": "stderr",
          "output_type": "stream",
          "text": [
            " 31%|███       | 73/234 [10:04<22:02,  8.21s/it]"
          ]
        },
        {
          "name": "stdout",
          "output_type": "stream",
          "text": [
            "16.07.2023 16:00 EUROPE EURO U19 - PLAY OFFS - FINAL Portugal U19 Italy U19 1.75 4.0 4.33 1.22 4.2 1.72 2.1 1.68 2.15\n"
          ]
        },
        {
          "name": "stderr",
          "output_type": "stream",
          "text": [
            " 32%|███▏      | 74/234 [10:11<20:53,  7.83s/it]"
          ]
        },
        {
          "name": "stdout",
          "output_type": "stream",
          "text": [
            "16.07.2023 00:00 FIJI PREMIER LEAGUE - ROUND 12 Nadroga Ba 1.75 4.0 4.33 1.22 4.2 1.72 2.1 1.68 2.15\n"
          ]
        },
        {
          "name": "stderr",
          "output_type": "stream",
          "text": [
            " 32%|███▏      | 75/234 [10:18<20:09,  7.61s/it]"
          ]
        },
        {
          "name": "stdout",
          "output_type": "stream",
          "text": [
            "16.07.2023 00:00 FIJI PREMIER LEAGUE - ROUND 12 Tavua Navua 1.75 4.0 4.33 1.22 4.2 1.72 2.1 1.68 2.15\n"
          ]
        },
        {
          "name": "stderr",
          "output_type": "stream",
          "text": [
            " 32%|███▏      | 76/234 [10:27<20:48,  7.90s/it]"
          ]
        },
        {
          "name": "stdout",
          "output_type": "stream",
          "text": [
            "16.07.2023 12:30 FINLAND VEIKKAUSLIIGA Lahti SJK 4.15 3.55 1.89 1.36 3.2 2.05 1.75 1.9 1.87\n"
          ]
        },
        {
          "name": "stderr",
          "output_type": "stream",
          "text": [
            " 33%|███▎      | 77/234 [10:35<21:17,  8.14s/it]"
          ]
        },
        {
          "name": "stdout",
          "output_type": "stream",
          "text": [
            "16.07.2023 13:00 ICELAND BESTA DEILD KARLA - ROUND 15 Vestmannaeyjar Keflavik 1.58 4.2 5.0 1.2 4.2 1.63 2.2 1.68 2.1\n"
          ]
        },
        {
          "name": "stderr",
          "output_type": "stream",
          "text": [
            " 33%|███▎      | 78/234 [10:44<21:15,  8.18s/it]"
          ]
        },
        {
          "name": "stdout",
          "output_type": "stream",
          "text": [
            "16.07.2023 11:00 ICELAND DIVISION 1 - ROUND 12 Aegir Njardvik 2.6 3.7 2.18 1.11 6.0 1.4 2.88 1.38 2.85\n"
          ]
        },
        {
          "name": "stderr",
          "output_type": "stream",
          "text": [
            " 34%|███▍      | 79/234 [10:52<21:13,  8.22s/it]"
          ]
        },
        {
          "name": "stdout",
          "output_type": "stream",
          "text": [
            "16.07.2023 11:00 ICELAND DIVISION 1 - ROUND 12 Akranes Vestri 1.46 4.45 4.95 1.11 6.0 1.4 2.88 1.47 2.5\n"
          ]
        },
        {
          "name": "stderr",
          "output_type": "stream",
          "text": [
            " 34%|███▍      | 80/234 [11:00<20:59,  8.18s/it]"
          ]
        },
        {
          "name": "stdout",
          "output_type": "stream",
          "text": [
            "16.07.2023 11:00 ICELAND DIVISION 1 - ROUND 12 Grotta Grindavik 2.38 3.7 2.38 1.11 6.0 1.53 2.35 1.36 2.9\n"
          ]
        },
        {
          "name": "stderr",
          "output_type": "stream",
          "text": [
            " 35%|███▍      | 81/234 [11:08<20:46,  8.15s/it]"
          ]
        },
        {
          "name": "stdout",
          "output_type": "stream",
          "text": [
            "16.07.2023 11:00 ICELAND DIVISION 1 - ROUND 12 Selfoss Leiknir 2.22 3.65 2.55 1.1 6.0 1.36 3.1 1.33 3.0\n"
          ]
        },
        {
          "name": "stderr",
          "output_type": "stream",
          "text": [
            " 35%|███▌      | 82/234 [11:16<20:23,  8.05s/it]"
          ]
        },
        {
          "name": "stdout",
          "output_type": "stream",
          "text": [
            "16.07.2023 13:00 ICELAND DIVISION 1 - ROUND 12 Thor Akureyri Afturelding 3.55 3.95 1.73 1.1 6.0 1.36 3.1 1.38 2.85\n"
          ]
        },
        {
          "name": "stderr",
          "output_type": "stream",
          "text": [
            " 35%|███▌      | 83/234 [11:23<19:24,  7.71s/it]"
          ]
        },
        {
          "name": "stdout",
          "output_type": "stream",
          "text": [
            "16.07.2023 13:00 ICELAND DIVISION 1 - ROUND 12 Throttur Fjolnir 3.55 3.95 1.73 1.1 6.0 1.36 3.1 1.38 2.85\n"
          ]
        },
        {
          "name": "stderr",
          "output_type": "stream",
          "text": [
            " 36%|███▌      | 84/234 [11:31<19:43,  7.89s/it]"
          ]
        },
        {
          "name": "stdout",
          "output_type": "stream",
          "text": [
            "16.07.2023 05:00 INDONESIA LIGA 1 - ROUND 3 PSIS Semarang Persebaya 1.91 3.5 3.3 1.14 4.8 1.6 2.2 1.5 2.4\n"
          ]
        },
        {
          "name": "stderr",
          "output_type": "stream",
          "text": [
            " 36%|███▋      | 85/234 [11:39<19:39,  7.91s/it]"
          ]
        },
        {
          "name": "stdout",
          "output_type": "stream",
          "text": [
            "16.07.2023 09:00 INDONESIA LIGA 1 - ROUND 3 Persija Jakarta FC Bhayangkara 1.47 4.0 5.5 1.17 4.5 1.65 2.1 1.73 2.0\n"
          ]
        },
        {
          "name": "stderr",
          "output_type": "stream",
          "text": [
            " 37%|███▋      | 86/234 [11:47<19:14,  7.80s/it]"
          ]
        },
        {
          "name": "stdout",
          "output_type": "stream",
          "text": [
            "16.07.2023 11:30 IRAQ SUPER LEAGUE - ROUND 37 Al-Qassim Al Wasat 2.22 2.85 3.25 1.55 2.15 2.7 1.41 2.34 1.57\n"
          ]
        },
        {
          "name": "stderr",
          "output_type": "stream",
          "text": [
            " 37%|███▋      | 87/234 [11:54<18:33,  7.57s/it]"
          ]
        },
        {
          "name": "stdout",
          "output_type": "stream",
          "text": [
            "16.07.2023 13:45 IRAQ SUPER LEAGUE - ROUND 37 Karbala Al Naft 2.22 2.85 3.25 1.55 2.15 2.7 1.41 2.34 1.57\n"
          ]
        },
        {
          "name": "stderr",
          "output_type": "stream",
          "text": [
            " 38%|███▊      | 88/234 [12:01<18:04,  7.43s/it]"
          ]
        },
        {
          "name": "stdout",
          "output_type": "stream",
          "text": [
            "16.07.2023 13:45 IRAQ SUPER LEAGUE - ROUND 37 Naft Al-Basra Al Sinaah 2.22 2.85 3.25 1.55 2.15 2.7 1.41 2.34 1.57\n"
          ]
        },
        {
          "name": "stderr",
          "output_type": "stream",
          "text": [
            " 38%|███▊      | 89/234 [12:08<17:45,  7.35s/it]"
          ]
        },
        {
          "name": "stdout",
          "output_type": "stream",
          "text": [
            "16.07.2023 15:00 IRAQ SUPER LEAGUE - ROUND 37 Erbil Al Najaf 2.22 2.85 3.25 1.55 2.15 2.7 1.41 2.34 1.57\n"
          ]
        },
        {
          "name": "stderr",
          "output_type": "stream",
          "text": [
            " 38%|███▊      | 90/234 [12:16<17:52,  7.45s/it]"
          ]
        },
        {
          "name": "stdout",
          "output_type": "stream",
          "text": [
            "16.07.2023 16:00 IRAQ SUPER LEAGUE - ROUND 37 Al Zawraa Al Karkh 1.7 3.3 4.55 1.46 2.55 2.2 1.52 2.43 1.53\n"
          ]
        },
        {
          "name": "stderr",
          "output_type": "stream",
          "text": [
            " 39%|███▉      | 91/234 [12:24<18:35,  7.80s/it]"
          ]
        },
        {
          "name": "stdout",
          "output_type": "stream",
          "text": [
            "16.07.2023 06:00 JAPAN J1 LEAGUE - ROUND 21 Sanfrecce Hiroshima Yokohama FC 1.36 4.75 8.0 1.2 4.33 1.65 2.2 1.9 1.83\n"
          ]
        },
        {
          "name": "stderr",
          "output_type": "stream",
          "text": [
            " 39%|███▉      | 92/234 [12:33<19:19,  8.17s/it]"
          ]
        },
        {
          "name": "stdout",
          "output_type": "stream",
          "text": [
            "16.07.2023 07:00 JAPAN J1 LEAGUE - ROUND 21 Cerezo Osaka Urawa Reds 3.2 3.25 2.2 1.33 3.1 2.05 1.72 1.8 1.95\n"
          ]
        },
        {
          "name": "stderr",
          "output_type": "stream",
          "text": [
            " 40%|███▉      | 93/234 [12:42<19:22,  8.25s/it]"
          ]
        },
        {
          "name": "stdout",
          "output_type": "stream",
          "text": [
            "16.07.2023 07:00 JAPAN J1 LEAGUE - ROUND 21 FC Tokyo Kashima Antlers 2.6 3.1 2.75 1.4 2.8 2.2 1.62 1.9 1.83\n"
          ]
        },
        {
          "name": "stderr",
          "output_type": "stream",
          "text": [
            " 40%|████      | 94/234 [12:50<19:25,  8.32s/it]"
          ]
        },
        {
          "name": "stdout",
          "output_type": "stream",
          "text": [
            "16.07.2023 07:00 JAPAN J1 LEAGUE - ROUND 21 Gamba Osaka Kashiwa Reysol 1.9 3.4 4.0 1.33 3.2 2.0 1.75 1.85 1.9\n"
          ]
        },
        {
          "name": "stderr",
          "output_type": "stream",
          "text": [
            " 41%|████      | 95/234 [12:59<19:23,  8.37s/it]"
          ]
        },
        {
          "name": "stdout",
          "output_type": "stream",
          "text": [
            "16.07.2023 07:00 JAPAN J1 LEAGUE - ROUND 21 Kyoto Nagoya Grampus 3.6 3.5 1.95 1.33 3.2 2.0 1.75 1.83 1.9\n"
          ]
        },
        {
          "name": "stderr",
          "output_type": "stream",
          "text": [
            " 41%|████      | 96/234 [13:07<19:22,  8.42s/it]"
          ]
        },
        {
          "name": "stdout",
          "output_type": "stream",
          "text": [
            "16.07.2023 07:00 JAPAN J1 LEAGUE - ROUND 21 Shonan Bellmare Avispa Fukuoka 2.5 3.2 2.8 1.36 3.0 2.1 1.7 1.83 1.95\n"
          ]
        },
        {
          "name": "stderr",
          "output_type": "stream",
          "text": [
            " 41%|████▏     | 97/234 [13:16<19:42,  8.63s/it]"
          ]
        },
        {
          "name": "stdout",
          "output_type": "stream",
          "text": [
            "16.07.2023 07:00 JAPAN J1 LEAGUE - ROUND 21 Vissel Kobe Sagan Tosu 1.53 4.2 5.5 1.22 4.0 1.75 2.0 1.83 1.95\n"
          ]
        },
        {
          "name": "stderr",
          "output_type": "stream",
          "text": [
            " 42%|████▏     | 98/234 [13:25<19:32,  8.62s/it]"
          ]
        },
        {
          "name": "stdout",
          "output_type": "stream",
          "text": [
            "16.07.2023 06:00 JAPAN J2 LEAGUE - ROUND 26 Blaublitz Machida 4.33 3.1 1.9 1.6 2.25 2.8 1.4 2.4 1.53\n"
          ]
        },
        {
          "name": "stderr",
          "output_type": "stream",
          "text": [
            " 42%|████▏     | 99/234 [13:34<19:38,  8.73s/it]"
          ]
        },
        {
          "name": "stdout",
          "output_type": "stream",
          "text": [
            "16.07.2023 06:00 JAPAN J2 LEAGUE - ROUND 26 Kofu Kusatsu 1.7 3.6 4.75 1.3 3.3 1.95 1.8 1.9 1.83\n"
          ]
        },
        {
          "name": "stderr",
          "output_type": "stream",
          "text": [
            " 43%|████▎     | 100/234 [13:43<19:21,  8.67s/it]"
          ]
        },
        {
          "name": "stdout",
          "output_type": "stream",
          "text": [
            "16.07.2023 06:00 JAPAN J2 LEAGUE - ROUND 26 Mito Montedio Yamagata 2.65 3.4 2.45 1.25 3.6 1.83 1.9 1.65 2.15\n"
          ]
        },
        {
          "name": "stderr",
          "output_type": "stream",
          "text": [
            " 43%|████▎     | 101/234 [13:52<19:25,  8.77s/it]"
          ]
        },
        {
          "name": "stdout",
          "output_type": "stream",
          "text": [
            "16.07.2023 06:00 JAPAN J2 LEAGUE - ROUND 26 Okayama V-Varen Nagasaki 2.15 3.3 3.2 1.36 2.95 2.1 1.68 1.87 1.87\n"
          ]
        },
        {
          "name": "stderr",
          "output_type": "stream",
          "text": [
            " 44%|████▎     | 102/234 [14:00<19:21,  8.80s/it]"
          ]
        },
        {
          "name": "stdout",
          "output_type": "stream",
          "text": [
            "16.07.2023 06:00 JAPAN J2 LEAGUE - ROUND 26 Shimizu S-Pulse Chiba 1.7 3.75 4.5 1.25 3.6 1.83 1.9 1.8 1.95\n"
          ]
        },
        {
          "name": "stderr",
          "output_type": "stream",
          "text": [
            " 44%|████▍     | 103/234 [14:09<19:05,  8.74s/it]"
          ]
        },
        {
          "name": "stdout",
          "output_type": "stream",
          "text": [
            "16.07.2023 07:00 JAPAN J2 LEAGUE - ROUND 26 Iwata Fujieda MYFC 1.66 4.0 4.33 1.18 4.5 1.5 2.5 1.52 2.45\n"
          ]
        },
        {
          "name": "stderr",
          "output_type": "stream",
          "text": [
            " 44%|████▍     | 104/234 [14:18<19:10,  8.85s/it]"
          ]
        },
        {
          "name": "stdout",
          "output_type": "stream",
          "text": [
            "16.07.2023 07:00 JAPAN J2 LEAGUE - ROUND 26 Kanazawa Vegalta Sendai 2.55 3.6 2.45 1.2 4.2 1.65 2.15 1.53 2.4\n"
          ]
        },
        {
          "name": "stderr",
          "output_type": "stream",
          "text": [
            " 45%|████▍     | 105/234 [14:27<19:10,  8.92s/it]"
          ]
        },
        {
          "name": "stdout",
          "output_type": "stream",
          "text": [
            "16.07.2023 07:00 JAPAN J2 LEAGUE - ROUND 26 Kumamoto Oita Trinita 2.25 3.3 3.0 1.3 3.3 1.95 1.8 1.75 2.0\n"
          ]
        },
        {
          "name": "stderr",
          "output_type": "stream",
          "text": [
            " 45%|████▌     | 106/234 [14:36<19:10,  8.99s/it]"
          ]
        },
        {
          "name": "stdout",
          "output_type": "stream",
          "text": [
            "16.07.2023 07:00 JAPAN J2 LEAGUE - ROUND 26 Omiya Ardija Tochigi SC 2.65 3.0 2.7 1.44 2.65 2.3 1.57 1.95 1.8\n"
          ]
        },
        {
          "name": "stderr",
          "output_type": "stream",
          "text": [
            " 46%|████▌     | 107/234 [14:44<18:17,  8.64s/it]"
          ]
        },
        {
          "name": "stdout",
          "output_type": "stream",
          "text": [
            "16.07.2023 12:00 JORDAN SHIELD CUP - ROUND 11 Al Ahli Aqaba 2.7 3.3 2.3 1.29 3.3 2.0 1.73 1.75 1.95\n"
          ]
        },
        {
          "name": "stderr",
          "output_type": "stream",
          "text": [
            " 46%|████▌     | 108/234 [14:52<17:39,  8.41s/it]"
          ]
        },
        {
          "name": "stdout",
          "output_type": "stream",
          "text": [
            "16.07.2023 15:30 JORDAN SHIELD CUP - ROUND 11 Shabab Al Ordon Al Jalil 2.7 3.3 2.3 1.29 3.3 1.91 1.8 1.65 2.1\n"
          ]
        },
        {
          "name": "stderr",
          "output_type": "stream",
          "text": [
            " 47%|████▋     | 109/234 [15:00<17:30,  8.41s/it]"
          ]
        },
        {
          "name": "stdout",
          "output_type": "stream",
          "text": [
            "16.07.2023 11:00 KAZAKHSTAN PREMIER LEAGUE - ROUND 15 Kaspij Aktau Zhetysu Taldykorgan 2.0 3.5 3.4 1.28 3.5 1.85 1.9 1.72 2.05\n"
          ]
        },
        {
          "name": "stderr",
          "output_type": "stream",
          "text": [
            " 47%|████▋     | 110/234 [15:08<16:42,  8.08s/it]"
          ]
        },
        {
          "name": "stdout",
          "output_type": "stream",
          "text": [
            "16.07.2023 07:00 LATVIA LATVIAN CUP - 1/8-FINALS Betsafe Riga FC 33.0 11.0 1.05 1.28 3.5 1.05 11.0 1.5 2.45\n"
          ]
        },
        {
          "name": "stderr",
          "output_type": "stream",
          "text": [
            " 47%|████▋     | 111/234 [15:16<16:31,  8.06s/it]"
          ]
        },
        {
          "name": "stdout",
          "output_type": "stream",
          "text": [
            "16.07.2023 11:00 LATVIA LATVIAN CUP - 1/8-FINALS BFC Daugavpils Auda 3.0 3.75 2.1 1.2 4.0 1.65 2.2 1.57 2.25\n"
          ]
        },
        {
          "name": "stderr",
          "output_type": "stream",
          "text": [
            " 48%|████▊     | 112/234 [15:24<16:24,  8.07s/it]"
          ]
        },
        {
          "name": "stdout",
          "output_type": "stream",
          "text": [
            "16.07.2023 12:00 LATVIA LATVIAN CUP - 1/8-FINALS Jelgava RFS 20.0 7.5 1.12 1.1 6.0 1.36 3.1 1.67 2.1\n"
          ]
        },
        {
          "name": "stderr",
          "output_type": "stream",
          "text": [
            " 48%|████▊     | 113/234 [15:32<16:10,  8.02s/it]"
          ]
        },
        {
          "name": "stdout",
          "output_type": "stream",
          "text": [
            "16.07.2023 12:30 LATVIA LATVIAN CUP - 1/8-FINALS Metta/LU FK Liepaja 2.9 3.7 2.1 1.2 4.0 1.67 2.15 1.57 2.25\n"
          ]
        },
        {
          "name": "stderr",
          "output_type": "stream",
          "text": [
            " 49%|████▊     | 114/234 [15:40<16:03,  8.03s/it]"
          ]
        },
        {
          "name": "stdout",
          "output_type": "stream",
          "text": [
            "16.07.2023 11:55 LITHUANIA A LYGA - ROUND 22 Riteriai Dainava Alytus 3.1 3.1 2.3 1.45 2.65 2.35 1.55 2.0 1.75\n"
          ]
        },
        {
          "name": "stderr",
          "output_type": "stream",
          "text": [
            " 49%|████▉     | 115/234 [15:47<15:26,  7.79s/it]"
          ]
        },
        {
          "name": "stdout",
          "output_type": "stream",
          "text": [
            "16.07.2023 07:00 MACAO ELITE LEAGUE - ROUND 16 Chao Pak Kei Sporting Macau 1.02 17.0 30.0 1.45 2.65 1.03 15.0 1.03 15.0\n"
          ]
        },
        {
          "name": "stderr",
          "output_type": "stream",
          "text": [
            " 50%|████▉     | 116/234 [15:54<14:58,  7.61s/it]"
          ]
        },
        {
          "name": "stdout",
          "output_type": "stream",
          "text": [
            "16.07.2023 09:00 MACAO ELITE LEAGUE - ROUND 16 Toi Seng Cheng Fung 33.0 13.0 1.02 1.45 2.65 1.14 5.5 1.14 5.5\n"
          ]
        },
        {
          "name": "stderr",
          "output_type": "stream",
          "text": [
            " 50%|█████     | 117/234 [16:02<14:38,  7.51s/it]"
          ]
        },
        {
          "name": "stdout",
          "output_type": "stream",
          "text": [
            "16.07.2023 09:30 MALAWI SUPER LEAGUE - ROUND 14 Bangwe All Stars Extreme FC 33.0 13.0 1.02 1.45 2.65 1.14 5.5 1.14 5.5\n"
          ]
        },
        {
          "name": "stderr",
          "output_type": "stream",
          "text": [
            " 50%|█████     | 118/234 [16:09<14:14,  7.37s/it]"
          ]
        },
        {
          "name": "stdout",
          "output_type": "stream",
          "text": [
            "16.07.2023 09:30 MALAWI SUPER LEAGUE - ROUND 14 Blue Eagles Karonga United 33.0 13.0 1.02 1.45 2.65 1.14 5.5 1.14 5.5\n"
          ]
        },
        {
          "name": "stderr",
          "output_type": "stream",
          "text": [
            " 51%|█████     | 119/234 [16:16<14:21,  7.49s/it]"
          ]
        },
        {
          "name": "stdout",
          "output_type": "stream",
          "text": [
            "16.07.2023 09:30 MALAWI SUPER LEAGUE - ROUND 14 Ekwendeni Hammers Red Lions 1.75 3.0 5.0 1.4 2.75 2.4 1.5 2.1 1.65\n"
          ]
        },
        {
          "name": "stderr",
          "output_type": "stream",
          "text": [
            " 51%|█████▏    | 120/234 [16:23<14:00,  7.37s/it]"
          ]
        },
        {
          "name": "stdout",
          "output_type": "stream",
          "text": [
            "16.07.2023 09:30 MALAWI SUPER LEAGUE - ROUND 14 Kamuzu Barracks MAFCO 1.75 3.0 5.0 1.4 2.75 2.4 1.5 2.1 1.65\n"
          ]
        },
        {
          "name": "stderr",
          "output_type": "stream",
          "text": [
            " 52%|█████▏    | 121/234 [16:31<13:42,  7.28s/it]"
          ]
        },
        {
          "name": "stdout",
          "output_type": "stream",
          "text": [
            "16.07.2023 09:30 MALAWI SUPER LEAGUE - ROUND 14 Mighty Wanderers Silver Strikers 1.75 3.0 5.0 1.4 2.75 2.4 1.5 2.1 1.65\n"
          ]
        },
        {
          "name": "stderr",
          "output_type": "stream",
          "text": [
            " 52%|█████▏    | 122/234 [16:39<14:01,  7.51s/it]"
          ]
        },
        {
          "name": "stdout",
          "output_type": "stream",
          "text": [
            "16.07.2023 09:15 MALAYSIA SUPER LEAGUE - ROUND 17 Kuching City FC Perak 1.9 3.75 3.1 1.25 3.75 1.75 2.0 1.66 2.15\n"
          ]
        },
        {
          "name": "stderr",
          "output_type": "stream",
          "text": [
            " 53%|█████▎    | 123/234 [16:47<14:25,  7.79s/it]"
          ]
        },
        {
          "name": "stdout",
          "output_type": "stream",
          "text": [
            "16.07.2023 10:00 MALAYSIA SUPER LEAGUE - ROUND 17 PDRM FC Terengganu 4.0 3.75 1.78 1.22 4.0 1.68 2.1 1.63 2.2\n"
          ]
        },
        {
          "name": "stderr",
          "output_type": "stream",
          "text": [
            " 53%|█████▎    | 124/234 [16:56<14:45,  8.05s/it]"
          ]
        },
        {
          "name": "stdout",
          "output_type": "stream",
          "text": [
            "16.07.2023 00:05 MEXICO LIGA MX - APERTURA - ROUND 3 U.A.N.L.- Tigres Club Leon 2.0 3.5 3.6 1.33 3.3 2.0 1.8 1.83 1.95\n"
          ]
        },
        {
          "name": "stderr",
          "output_type": "stream",
          "text": [
            " 53%|█████▎    | 125/234 [17:04<14:54,  8.21s/it]"
          ]
        },
        {
          "name": "stdout",
          "output_type": "stream",
          "text": [
            "16.07.2023 15:00 MEXICO LIGA MX - APERTURA - ROUND 3 Toluca Juarez 1.57 4.33 5.0 1.2 4.33 1.65 2.2 1.68 2.1\n"
          ]
        },
        {
          "name": "stderr",
          "output_type": "stream",
          "text": [
            " 54%|█████▍    | 126/234 [17:13<15:00,  8.33s/it]"
          ]
        },
        {
          "name": "stdout",
          "output_type": "stream",
          "text": [
            "16.07.2023 23:15 MEXICO LIGA MX - APERTURA - ROUND 3 Pachuca U.N.A.M.- Pumas 1.85 4.0 3.75 1.2 4.5 1.62 2.25 1.6 2.3\n"
          ]
        },
        {
          "name": "stderr",
          "output_type": "stream",
          "text": [
            " 54%|█████▍    | 127/234 [17:21<14:38,  8.21s/it]"
          ]
        },
        {
          "name": "stdout",
          "output_type": "stream",
          "text": [
            "16.07.2023 22:06 MEXICO LIGA MX WOMEN - APERTURA - ROUND 1 Mazatlan FC W Cruz Azul W 7.5 6.5 1.2 1.05 7.5 1.29 3.3 1.57 2.25\n"
          ]
        },
        {
          "name": "stderr",
          "output_type": "stream",
          "text": [
            " 55%|█████▍    | 128/234 [17:28<14:09,  8.01s/it]"
          ]
        },
        {
          "name": "stdout",
          "output_type": "stream",
          "text": [
            "16.07.2023 06:30 MYANMAR NATIONAL LEAGUE - ROUND 12 Rakhine United Sagaing 2.3 3.4 2.63 1.14 4.8 1.57 2.25 1.45 2.55\n"
          ]
        },
        {
          "name": "stderr",
          "output_type": "stream",
          "text": [
            " 55%|█████▌    | 129/234 [17:37<14:21,  8.20s/it]"
          ]
        },
        {
          "name": "stdout",
          "output_type": "stream",
          "text": [
            "16.07.2023 12:00 NORWAY ELITESERIEN - ROUND 14 Aalesund Odd 2.35 3.5 3.1 1.33 3.4 1.98 1.83 1.78 2.0\n"
          ]
        },
        {
          "name": "stderr",
          "output_type": "stream",
          "text": [
            " 56%|█████▌    | 130/234 [17:46<14:28,  8.35s/it]"
          ]
        },
        {
          "name": "stdout",
          "output_type": "stream",
          "text": [
            "16.07.2023 12:00 NORWAY ELITESERIEN - ROUND 14 Bodo/Glimt Haugesund 1.2 7.5 13.0 1.1 7.0 1.35 3.25 1.8 1.98\n"
          ]
        },
        {
          "name": "stderr",
          "output_type": "stream",
          "text": [
            " 56%|█████▌    | 131/234 [17:55<14:34,  8.49s/it]"
          ]
        },
        {
          "name": "stdout",
          "output_type": "stream",
          "text": [
            "16.07.2023 12:00 NORWAY ELITESERIEN - ROUND 14 Lillestrom Sandefjord 1.33 5.5 9.5 1.15 5.5 1.48 2.65 1.78 2.0\n"
          ]
        },
        {
          "name": "stderr",
          "output_type": "stream",
          "text": [
            " 56%|█████▋    | 132/234 [18:04<14:44,  8.67s/it]"
          ]
        },
        {
          "name": "stdout",
          "output_type": "stream",
          "text": [
            "16.07.2023 12:00 NORWAY ELITESERIEN - ROUND 14 Rosenborg Tromso 2.0 3.6 3.75 1.33 3.3 2.0 1.8 1.83 1.95\n"
          ]
        },
        {
          "name": "stderr",
          "output_type": "stream",
          "text": [
            " 57%|█████▋    | 133/234 [18:12<14:38,  8.70s/it]"
          ]
        },
        {
          "name": "stdout",
          "output_type": "stream",
          "text": [
            "16.07.2023 12:00 NORWAY ELITESERIEN - ROUND 14 Sarpsborg 08 Ham-Kam 1.44 5.0 7.0 1.13 6.0 1.44 2.85 1.58 2.35\n"
          ]
        },
        {
          "name": "stderr",
          "output_type": "stream",
          "text": [
            " 57%|█████▋    | 134/234 [18:21<14:28,  8.68s/it]"
          ]
        },
        {
          "name": "stdout",
          "output_type": "stream",
          "text": [
            "16.07.2023 12:00 NORWAY ELITESERIEN - ROUND 14 Stabaek Viking 3.0 3.75 2.3 1.2 4.5 1.65 2.25 1.55 2.45\n"
          ]
        },
        {
          "name": "stderr",
          "output_type": "stream",
          "text": [
            " 58%|█████▊    | 135/234 [18:30<14:23,  8.73s/it]"
          ]
        },
        {
          "name": "stdout",
          "output_type": "stream",
          "text": [
            "16.07.2023 14:15 NORWAY ELITESERIEN - ROUND 14 Brann Stromsgodset 1.45 5.0 6.5 1.12 6.5 1.4 3.0 1.55 2.45\n"
          ]
        },
        {
          "name": "stderr",
          "output_type": "stream",
          "text": [
            " 58%|█████▊    | 136/234 [18:39<14:15,  8.73s/it]"
          ]
        },
        {
          "name": "stdout",
          "output_type": "stream",
          "text": [
            "16.07.2023 17:00 PARAGUAY PRIMERA DIVISION - CLAUSURA - ROUND 2 General Caballero JLM Sportivo Trinidense 2.9 3.4 2.25 1.25 3.75 1.8 1.95 1.63 2.2\n"
          ]
        },
        {
          "name": "stderr",
          "output_type": "stream",
          "text": [
            " 59%|█████▊    | 137/234 [18:47<14:07,  8.74s/it]"
          ]
        },
        {
          "name": "stdout",
          "output_type": "stream",
          "text": [
            "16.07.2023 19:30 PARAGUAY PRIMERA DIVISION - CLAUSURA - ROUND 2 Guarani Libertad Asuncion 4.2 3.75 1.75 1.25 3.75 1.75 2.0 1.72 2.05\n"
          ]
        },
        {
          "name": "stderr",
          "output_type": "stream",
          "text": [
            " 59%|█████▉    | 138/234 [18:56<14:06,  8.82s/it]"
          ]
        },
        {
          "name": "stdout",
          "output_type": "stream",
          "text": [
            "16.07.2023 15:00 PERU LIGA 1 - CLAUSURA - ROUND 4 Grau Binacional 1.46 4.7 5.95 1.18 4.75 1.6 2.35 1.72 2.1\n"
          ]
        },
        {
          "name": "stderr",
          "output_type": "stream",
          "text": [
            " 59%|█████▉    | 139/234 [19:05<14:03,  8.88s/it]"
          ]
        },
        {
          "name": "stdout",
          "output_type": "stream",
          "text": [
            "16.07.2023 17:00 PERU LIGA 1 - CLAUSURA - ROUND 4 Sport Boys Alianza Lima 6.4 4.45 1.46 1.3 3.5 1.9 1.87 2.1 1.72\n"
          ]
        },
        {
          "name": "stderr",
          "output_type": "stream",
          "text": [
            " 60%|█████▉    | 140/234 [19:15<14:11,  9.06s/it]"
          ]
        },
        {
          "name": "stdout",
          "output_type": "stream",
          "text": [
            "16.07.2023 19:00 PERU LIGA 1 - CLAUSURA - ROUND 4 Cusco Cienciano 2.05 3.5 3.5 1.36 3.1 2.1 1.72 1.9 1.87\n"
          ]
        },
        {
          "name": "stderr",
          "output_type": "stream",
          "text": [
            " 60%|██████    | 141/234 [19:22<13:06,  8.46s/it]"
          ]
        },
        {
          "name": "stdout",
          "output_type": "stream",
          "text": [
            "16.07.2023 05:00 PHILIPPINES COPA PAULINO ALCANTARA Davao Aguilas Adamson University 2.05 3.5 3.5 1.36 3.1 2.1 1.72 1.9 1.87\n"
          ]
        },
        {
          "name": "stderr",
          "output_type": "stream",
          "text": [
            " 61%|██████    | 142/234 [19:29<12:19,  8.04s/it]"
          ]
        },
        {
          "name": "stdout",
          "output_type": "stream",
          "text": [
            "16.07.2023 07:30 PHILIPPINES COPA PAULINO ALCANTARA Loyola Inter Manila 2.05 3.5 3.5 1.36 3.1 2.1 1.72 1.9 1.87\n"
          ]
        },
        {
          "name": "stderr",
          "output_type": "stream",
          "text": [
            " 61%|██████    | 143/234 [19:38<12:25,  8.19s/it]"
          ]
        },
        {
          "name": "stdout",
          "output_type": "stream",
          "text": [
            "16.07.2023 12:30 ROMANIA LIGA 1 - ROUND 1 Petrolul U. Cluj 2.7 3.1 2.6 1.45 2.65 2.35 1.55 2.0 1.75\n"
          ]
        },
        {
          "name": "stderr",
          "output_type": "stream",
          "text": [
            " 62%|██████▏   | 144/234 [19:46<12:26,  8.29s/it]"
          ]
        },
        {
          "name": "stdout",
          "output_type": "stream",
          "text": [
            "16.07.2023 15:30 ROMANIA LIGA 1 - ROUND 1 U Craiova 1948 FCSB 4.0 3.4 1.87 1.38 2.9 2.15 1.65 1.95 1.78\n"
          ]
        },
        {
          "name": "stderr",
          "output_type": "stream",
          "text": [
            " 62%|██████▏   | 145/234 [19:54<12:00,  8.10s/it]"
          ]
        },
        {
          "name": "stdout",
          "output_type": "stream",
          "text": [
            "16.07.2023 04:00 RUSSIA FNL - ROUND 1 SKA Khabarovsk Shinnik Yaroslavl 1.6 3.92 5.27 1.26 3.4 1.91 1.91 1.88 1.88\n"
          ]
        },
        {
          "name": "stderr",
          "output_type": "stream",
          "text": [
            " 62%|██████▏   | 146/234 [20:02<11:50,  8.07s/it]"
          ]
        },
        {
          "name": "stdout",
          "output_type": "stream",
          "text": [
            "16.07.2023 11:00 RUSSIA FNL - ROUND 1 Akron Togliatti Kamaz 1.48 4.1 6.63 1.31 3.08 2.03 1.8 2.12 1.69\n"
          ]
        },
        {
          "name": "stderr",
          "output_type": "stream",
          "text": [
            " 63%|██████▎   | 147/234 [20:09<11:31,  7.95s/it]"
          ]
        },
        {
          "name": "stdout",
          "output_type": "stream",
          "text": [
            "16.07.2023 12:00 RUSSIA FNL - ROUND 1 Arsenal Tula Leningradets 2.37 3.22 2.97 1.31 3.08 2.04 1.79 1.77 2.0\n"
          ]
        },
        {
          "name": "stderr",
          "output_type": "stream",
          "text": [
            " 63%|██████▎   | 148/234 [20:17<11:22,  7.94s/it]"
          ]
        },
        {
          "name": "stdout",
          "output_type": "stream",
          "text": [
            "16.07.2023 12:00 RUSSIA FNL - ROUND 1 Kuban Yenisey 2.51 3.25 2.71 1.33 2.97 2.1 1.75 1.8 1.96\n"
          ]
        },
        {
          "name": "stderr",
          "output_type": "stream",
          "text": [
            " 64%|██████▎   | 149/234 [20:25<11:04,  7.82s/it]"
          ]
        },
        {
          "name": "stdout",
          "output_type": "stream",
          "text": [
            "16.07.2023 12:00 RUSSIA FNL - ROUND 1 Neftekhimik Volgar-Astrakhan 2.15 3.13 3.51 1.37 2.79 2.24 1.66 1.9 1.86\n"
          ]
        },
        {
          "name": "stderr",
          "output_type": "stream",
          "text": [
            " 64%|██████▍   | 150/234 [20:33<10:54,  7.79s/it]"
          ]
        },
        {
          "name": "stdout",
          "output_type": "stream",
          "text": [
            "16.07.2023 12:00 RUSSIA FNL - ROUND 1 Rodina Moscow Saratov 1.4 4.5 7.5 1.24 3.54 1.85 1.97 2.04 1.74\n"
          ]
        },
        {
          "name": "stderr",
          "output_type": "stream",
          "text": [
            " 65%|██████▍   | 151/234 [20:40<10:35,  7.65s/it]"
          ]
        },
        {
          "name": "stdout",
          "output_type": "stream",
          "text": [
            "16.07.2023 14:00 SENEGAL LIGUE 1 - ROUND 24 Casa Mbour 1.85 2.9 4.5 1.65 1.98 3.2 1.3 2.8 1.41\n"
          ]
        },
        {
          "name": "stderr",
          "output_type": "stream",
          "text": [
            " 65%|██████▍   | 152/234 [20:48<10:32,  7.72s/it]"
          ]
        },
        {
          "name": "stdout",
          "output_type": "stream",
          "text": [
            "16.07.2023 14:00 SENEGAL LIGUE 1 - ROUND 24 Linguere Douanes 2.42 2.55 3.3 1.7 1.93 3.2 1.3 2.65 1.45\n"
          ]
        },
        {
          "name": "stderr",
          "output_type": "stream",
          "text": [
            " 65%|██████▌   | 153/234 [21:04<13:47, 10.22s/it]"
          ]
        },
        {
          "name": "stdout",
          "output_type": "stream",
          "text": [
            "16.07.2023 14:00 SENEGAL LIGUE 1 - ROUND 24 Pikine Sonacos 2.07 2.7 3.9 1.7 1.93 3.2 1.3 2.65 1.45\n"
          ]
        },
        {
          "name": "stderr",
          "output_type": "stream",
          "text": [
            " 66%|██████▌   | 154/234 [21:11<12:23,  9.30s/it]"
          ]
        },
        {
          "name": "stdout",
          "output_type": "stream",
          "text": [
            "16.07.2023 14:00 SENEGAL LIGUE 1 - ROUND 24 US Goree Guediawaye 2.07 2.7 3.9 1.7 1.93 3.2 1.3 2.65 1.45\n"
          ]
        },
        {
          "name": "stderr",
          "output_type": "stream",
          "text": [
            " 66%|██████▌   | 155/234 [21:18<11:21,  8.62s/it]"
          ]
        },
        {
          "name": "stdout",
          "output_type": "stream",
          "text": [
            "16.07.2023 13:15 SIERRA LEONE PREMIER LEAGUE - ROUND 33 Diamond Stars East End Lions 2.07 2.7 3.9 1.7 1.93 3.2 1.3 2.65 1.45\n"
          ]
        },
        {
          "name": "stderr",
          "output_type": "stream",
          "text": [
            " 67%|██████▋   | 156/234 [21:25<10:35,  8.15s/it]"
          ]
        },
        {
          "name": "stdout",
          "output_type": "stream",
          "text": [
            "16.07.2023 13:15 SIERRA LEONE PREMIER LEAGUE - ROUND 33 Kamboi Eagles Freetown City 2.07 2.7 3.9 1.7 1.93 3.2 1.3 2.65 1.45\n"
          ]
        },
        {
          "name": "stderr",
          "output_type": "stream",
          "text": [
            " 67%|██████▋   | 157/234 [21:32<10:03,  7.84s/it]"
          ]
        },
        {
          "name": "stdout",
          "output_type": "stream",
          "text": [
            "16.07.2023 13:15 SIERRA LEONE PREMIER LEAGUE - ROUND 33 Mighty Blackpool Wusum Stars 2.07 2.7 3.9 1.7 1.93 3.2 1.3 2.65 1.45\n"
          ]
        },
        {
          "name": "stderr",
          "output_type": "stream",
          "text": [
            " 68%|██████▊   | 158/234 [21:39<09:38,  7.61s/it]"
          ]
        },
        {
          "name": "stdout",
          "output_type": "stream",
          "text": [
            "16.07.2023 13:15 SIERRA LEONE PREMIER LEAGUE - ROUND 33 Old Edwardians FC Johansen 2.07 2.7 3.9 1.7 1.93 3.2 1.3 2.65 1.45\n"
          ]
        },
        {
          "name": "stderr",
          "output_type": "stream",
          "text": [
            " 68%|██████▊   | 159/234 [21:48<09:50,  7.87s/it]"
          ]
        },
        {
          "name": "stdout",
          "output_type": "stream",
          "text": [
            "16.07.2023 07:00 SINGAPORE PREMIER LEAGUE Albirex Niigata Lion City 1.9 4.33 3.1 1.06 8.5 1.28 3.5 1.28 3.4\n"
          ]
        },
        {
          "name": "stderr",
          "output_type": "stream",
          "text": [
            " 68%|██████▊   | 160/234 [21:56<10:01,  8.13s/it]"
          ]
        },
        {
          "name": "stdout",
          "output_type": "stream",
          "text": [
            "16.07.2023 07:00 SINGAPORE PREMIER LEAGUE DPMM Balestier Khalsa 2.25 4.2 2.55 1.05 9.0 1.22 4.0 1.22 4.0\n"
          ]
        },
        {
          "name": "stderr",
          "output_type": "stream",
          "text": [
            " 69%|██████▉   | 161/234 [22:04<09:37,  7.90s/it]"
          ]
        },
        {
          "name": "stdout",
          "output_type": "stream",
          "text": [
            "16.07.2023 13:00 SOUTH AMERICA COPA LIBERTADORES U20 - PLAY OFFS - 3RD PLACE Penarol U20 (Uru) Cerro Porteno U20 (Par) 1.65 3.9 4.85 1.22 4.0 1.65 2.15 1.65 2.1\n"
          ]
        },
        {
          "name": "stderr",
          "output_type": "stream",
          "text": [
            " 69%|██████▉   | 162/234 [22:11<09:13,  7.69s/it]"
          ]
        },
        {
          "name": "stdout",
          "output_type": "stream",
          "text": [
            "16.07.2023 16:30 SOUTH AMERICA COPA LIBERTADORES U20 - PLAY OFFS - FINAL Boca Juniors U20 (Arg) Independiente del Valle U20 (Ecu) 2.75 3.25 2.5 1.32 3.2 1.95 1.8 1.72 2.0\n"
          ]
        },
        {
          "name": "stderr",
          "output_type": "stream",
          "text": [
            " 70%|██████▉   | 163/234 [22:19<09:21,  7.91s/it]"
          ]
        },
        {
          "name": "stdout",
          "output_type": "stream",
          "text": [
            "16.07.2023 07:00 SOUTH KOREA K LEAGUE 1 - ROUND 23 Jeonbuk Suwon FC 1.5 4.33 5.5 1.16 4.75 1.55 2.35 1.65 2.15\n"
          ]
        },
        {
          "name": "stderr",
          "output_type": "stream",
          "text": [
            " 70%|███████   | 164/234 [22:28<09:26,  8.10s/it]"
          ]
        },
        {
          "name": "stdout",
          "output_type": "stream",
          "text": [
            "16.07.2023 07:30 SOUTH KOREA K LEAGUE 1 - ROUND 23 Pohang Jeju Utd 1.75 3.6 4.33 1.3 3.3 1.9 1.83 1.83 1.9\n"
          ]
        },
        {
          "name": "stderr",
          "output_type": "stream",
          "text": [
            " 71%|███████   | 165/234 [22:37<09:32,  8.30s/it]"
          ]
        },
        {
          "name": "stdout",
          "output_type": "stream",
          "text": [
            "16.07.2023 08:00 SOUTH KOREA K LEAGUE 1 - ROUND 23 Incheon Daejeon 2.0 3.4 3.5 1.28 3.5 1.87 1.87 1.72 2.05\n"
          ]
        },
        {
          "name": "stderr",
          "output_type": "stream",
          "text": [
            " 71%|███████   | 166/234 [22:46<09:36,  8.48s/it]"
          ]
        },
        {
          "name": "stdout",
          "output_type": "stream",
          "text": [
            "16.07.2023 07:00 SOUTH KOREA K LEAGUE 2 - ROUND 21 Busan Seongnam 1.95 3.3 3.75 1.4 2.8 2.2 1.62 2.0 1.75\n"
          ]
        },
        {
          "name": "stderr",
          "output_type": "stream",
          "text": [
            " 71%|███████▏  | 167/234 [22:55<09:38,  8.63s/it]"
          ]
        },
        {
          "name": "stdout",
          "output_type": "stream",
          "text": [
            "16.07.2023 08:00 SOUTH KOREA K LEAGUE 2 - ROUND 21 Gyeongnam Jeonnam 2.0 3.6 3.3 1.22 4.0 1.7 2.1 1.6 2.25\n"
          ]
        },
        {
          "name": "stderr",
          "output_type": "stream",
          "text": [
            " 72%|███████▏  | 168/234 [23:03<09:30,  8.65s/it]"
          ]
        },
        {
          "name": "stdout",
          "output_type": "stream",
          "text": [
            "16.07.2023 10:00 SWEDEN ALLSVENSKAN - ROUND 15 Elfsborg Goteborg 1.33 5.5 9.5 1.17 5.0 1.53 2.5 1.87 1.92\n"
          ]
        },
        {
          "name": "stderr",
          "output_type": "stream",
          "text": [
            " 72%|███████▏  | 169/234 [23:13<09:33,  8.82s/it]"
          ]
        },
        {
          "name": "stdout",
          "output_type": "stream",
          "text": [
            "16.07.2023 10:00 SWEDEN ALLSVENSKAN - ROUND 15 Hammarby Kalmar 1.81 3.75 4.5 1.32 3.4 1.96 1.85 1.85 1.92\n"
          ]
        },
        {
          "name": "stderr",
          "output_type": "stream",
          "text": [
            " 73%|███████▎  | 170/234 [23:21<09:20,  8.75s/it]"
          ]
        },
        {
          "name": "stdout",
          "output_type": "stream",
          "text": [
            "16.07.2023 12:30 SWEDEN ALLSVENSKAN - ROUND 15 Mjallby Norrkoping 2.2 3.45 3.35 1.38 3.1 2.15 1.72 1.88 1.9\n"
          ]
        },
        {
          "name": "stderr",
          "output_type": "stream",
          "text": [
            " 73%|███████▎  | 171/234 [23:30<09:17,  8.85s/it]"
          ]
        },
        {
          "name": "stdout",
          "output_type": "stream",
          "text": [
            "16.07.2023 10:00 SWEDEN SUPERETTAN - ROUND 14 AFC Eskilstuna Brage 3.1 3.4 2.25 1.3 3.5 1.9 1.87 1.72 2.1\n"
          ]
        },
        {
          "name": "stderr",
          "output_type": "stream",
          "text": [
            " 74%|███████▎  | 172/234 [23:39<09:15,  8.96s/it]"
          ]
        },
        {
          "name": "stdout",
          "output_type": "stream",
          "text": [
            "16.07.2023 10:00 SWEDEN SUPERETTAN - ROUND 14 GAIS Gefle 1.22 6.0 13.0 1.16 5.0 1.53 2.45 2.1 1.68\n"
          ]
        },
        {
          "name": "stderr",
          "output_type": "stream",
          "text": [
            " 74%|███████▍  | 173/234 [23:48<08:58,  8.83s/it]"
          ]
        },
        {
          "name": "stdout",
          "output_type": "stream",
          "text": [
            "16.07.2023 12:00 URUGUAY PRIMERA DIVISION - TORNEO INTERMEDIO - ROUND 6 River Plate La Luz 2.25 3.4 2.9 1.28 3.5 1.87 1.87 1.72 2.05\n"
          ]
        },
        {
          "name": "stderr",
          "output_type": "stream",
          "text": [
            " 74%|███████▍  | 174/234 [23:57<08:52,  8.88s/it]"
          ]
        },
        {
          "name": "stdout",
          "output_type": "stream",
          "text": [
            "16.07.2023 15:00 URUGUAY PRIMERA DIVISION - TORNEO INTERMEDIO - ROUND 6 Penarol Boston River 1.52 4.0 6.0 1.3 3.3 1.95 1.8 2.05 1.72\n"
          ]
        },
        {
          "name": "stderr",
          "output_type": "stream",
          "text": [
            " 75%|███████▍  | 175/234 [24:06<08:46,  8.93s/it]"
          ]
        },
        {
          "name": "stdout",
          "output_type": "stream",
          "text": [
            "16.07.2023 18:00 URUGUAY PRIMERA DIVISION - TORNEO INTERMEDIO - ROUND 6 Wanderers Montevideo City 2.35 3.25 2.9 1.36 3.0 2.1 1.7 1.83 1.9\n"
          ]
        },
        {
          "name": "stderr",
          "output_type": "stream",
          "text": [
            " 75%|███████▌  | 176/234 [24:15<08:34,  8.87s/it]"
          ]
        },
        {
          "name": "stdout",
          "output_type": "stream",
          "text": [
            "16.07.2023 00:00 USA USL CHAMPIONSHIP Sacramento Republic Memphis 1.62 4.2 4.5 1.18 4.5 1.6 2.25 1.63 2.2\n"
          ]
        },
        {
          "name": "stderr",
          "output_type": "stream",
          "text": [
            " 76%|███████▌  | 177/234 [24:23<08:13,  8.65s/it]"
          ]
        },
        {
          "name": "stdout",
          "output_type": "stream",
          "text": [
            "16.07.2023 17:00 VENEZUELA LIGA FUTVE - ROUND 19 Dep. Tachira Puerto Cabello 1.78 3.2 4.5 1.33 3.0 2.15 1.63 2.0 1.72\n"
          ]
        },
        {
          "name": "stderr",
          "output_type": "stream",
          "text": [
            " 76%|███████▌  | 178/234 [24:31<07:58,  8.54s/it]"
          ]
        },
        {
          "name": "stdout",
          "output_type": "stream",
          "text": [
            "16.07.2023 19:15 VENEZUELA LIGA FUTVE - ROUND 19 Portuguesa Estudiantes Merida 2.2 3.0 3.2 1.36 2.88 2.15 1.63 1.87 1.83\n"
          ]
        },
        {
          "name": "stderr",
          "output_type": "stream",
          "text": [
            " 76%|███████▋  | 179/234 [24:39<07:45,  8.47s/it]"
          ]
        },
        {
          "name": "stdout",
          "output_type": "stream",
          "text": [
            "16.07.2023 21:30 VENEZUELA LIGA FUTVE - ROUND 19 Mineros Metropolitanos 3.6 3.25 1.95 1.25 3.5 1.87 1.83 1.72 2.0\n"
          ]
        },
        {
          "name": "stderr",
          "output_type": "stream",
          "text": [
            " 77%|███████▋  | 180/234 [24:48<07:31,  8.37s/it]"
          ]
        },
        {
          "name": "stdout",
          "output_type": "stream",
          "text": [
            "16.07.2023 08:00 VIETNAM V.LEAGUE 1 - CHAMPIONSHIP GROUP - ROUND 1 Thanh Hoa Nam Dinh 1.87 3.3 3.75 1.36 3.1 2.1 1.66 1.9 1.8\n"
          ]
        },
        {
          "name": "stderr",
          "output_type": "stream",
          "text": [
            " 77%|███████▋  | 181/234 [24:56<07:21,  8.34s/it]"
          ]
        },
        {
          "name": "stdout",
          "output_type": "stream",
          "text": [
            "16.07.2023 09:15 VIETNAM V.LEAGUE 1 - CHAMPIONSHIP GROUP - ROUND 1 Cong An Hong Linh Ha Tinh 1.45 4.33 5.5 1.17 5.0 1.6 2.2 1.72 2.0\n"
          ]
        },
        {
          "name": "stderr",
          "output_type": "stream",
          "text": [
            " 78%|███████▊  | 182/234 [25:03<06:52,  7.94s/it]"
          ]
        },
        {
          "name": "stdout",
          "output_type": "stream",
          "text": [
            "16.07.2023 06:00 WORLD CLUB FRIENDLY I. Bratislava (Svk) Znojmo (Cze) 2.52 3.75 2.18 1.13 5.1 1.42 2.57 1.39 2.89\n"
          ]
        },
        {
          "name": "stderr",
          "output_type": "stream",
          "text": [
            " 78%|███████▊  | 183/234 [25:11<06:41,  7.87s/it]"
          ]
        },
        {
          "name": "stdout",
          "output_type": "stream",
          "text": [
            "16.07.2023 06:00 WORLD CLUB FRIENDLY Kromeriz (Cze) Dubnica (Svk) 1.8 3.75 3.6 1.11 5.5 1.5 2.4 1.45 2.55\n"
          ]
        },
        {
          "name": "stderr",
          "output_type": "stream",
          "text": [
            " 79%|███████▊  | 184/234 [25:18<06:21,  7.63s/it]"
          ]
        },
        {
          "name": "stdout",
          "output_type": "stream",
          "text": [
            "16.07.2023 06:30 WORLD CLUB FRIENDLY Widzew Lodz (Pol) Wisla Plock (Pol) 1.8 3.75 3.6 1.11 5.5 1.5 2.4 1.45 2.55\n"
          ]
        },
        {
          "name": "stderr",
          "output_type": "stream",
          "text": [
            " 79%|███████▉  | 185/234 [25:25<06:02,  7.40s/it]"
          ]
        },
        {
          "name": "stdout",
          "output_type": "stream",
          "text": [
            "16.07.2023 07:30 WORLD CLUB FRIENDLY Drochtersen/Assel (Ger) B. Monchengladbach II (Ger) 1.8 3.75 3.6 1.11 5.5 1.5 2.4 1.45 2.55\n"
          ]
        },
        {
          "name": "stderr",
          "output_type": "stream",
          "text": [
            " 79%|███████▉  | 186/234 [25:32<06:00,  7.51s/it]"
          ]
        },
        {
          "name": "stdout",
          "output_type": "stream",
          "text": [
            "16.07.2023 08:00 WORLD CLUB FRIENDLY Antwerp (Bel) Hertha Berlin (Ger) 2.1 3.8 2.95 1.19 4.15 1.6 2.22 1.55 2.32\n"
          ]
        },
        {
          "name": "stderr",
          "output_type": "stream",
          "text": [
            " 80%|███████▉  | 187/234 [25:40<05:51,  7.47s/it]"
          ]
        },
        {
          "name": "stdout",
          "output_type": "stream",
          "text": [
            "16.07.2023 08:00 WORLD CLUB FRIENDLY Tasmania Berlin (Ger) Charlottenburg (Ger) 1.5 4.5 4.5 1.19 4.15 1.31 3.04 1.41 2.81\n"
          ]
        },
        {
          "name": "stderr",
          "output_type": "stream",
          "text": [
            " 80%|████████  | 188/234 [25:47<05:35,  7.30s/it]"
          ]
        },
        {
          "name": "stdout",
          "output_type": "stream",
          "text": [
            "16.07.2023 08:00 WORLD CLUB FRIENDLY Turkgucu Munchen (Ger) Donaustauf (Ger) 1.5 4.5 4.5 1.19 4.15 1.31 3.04 1.41 2.81\n"
          ]
        },
        {
          "name": "stderr",
          "output_type": "stream",
          "text": [
            " 81%|████████  | 189/234 [25:54<05:35,  7.46s/it]"
          ]
        },
        {
          "name": "stdout",
          "output_type": "stream",
          "text": [
            "16.07.2023 09:00 WORLD CLUB FRIENDLY Aarhus (Den) Midtjylland (Den) 2.55 3.8 2.2 1.11 5.5 1.44 2.6 1.36 2.88\n"
          ]
        },
        {
          "name": "stderr",
          "output_type": "stream",
          "text": [
            " 81%|████████  | 190/234 [26:02<05:29,  7.48s/it]"
          ]
        },
        {
          "name": "stdout",
          "output_type": "stream",
          "text": [
            "16.07.2023 09:00 WORLD CLUB FRIENDLY Ahlen (Ger) Lotte (Ger) 2.18 3.8 2.57 1.11 5.5 1.43 2.54 1.4 2.85\n"
          ]
        },
        {
          "name": "stderr",
          "output_type": "stream",
          "text": [
            " 82%|████████▏ | 191/234 [26:09<05:16,  7.35s/it]"
          ]
        },
        {
          "name": "stdout",
          "output_type": "stream",
          "text": [
            "16.07.2023 09:00 WORLD CLUB FRIENDLY Burgos CF (Esp) Alaves (Esp) 2.18 3.8 2.57 1.11 5.5 1.43 2.54 1.4 2.85\n"
          ]
        },
        {
          "name": "stderr",
          "output_type": "stream",
          "text": [
            " 82%|████████▏ | 192/234 [26:16<05:04,  7.24s/it]"
          ]
        },
        {
          "name": "stdout",
          "output_type": "stream",
          "text": [
            "16.07.2023 09:00 WORLD CLUB FRIENDLY Engers (Ger) Viktoria Koln U19 (Ger) 2.18 3.8 2.57 1.11 5.5 1.43 2.54 1.4 2.85\n"
          ]
        },
        {
          "name": "stderr",
          "output_type": "stream",
          "text": [
            " 82%|████████▏ | 193/234 [26:23<04:54,  7.18s/it]"
          ]
        },
        {
          "name": "stdout",
          "output_type": "stream",
          "text": [
            "16.07.2023 09:00 WORLD CLUB FRIENDLY Fakel Voronezh (Rus) Spartak Tambov (Rus) 2.18 3.8 2.57 1.11 5.5 1.43 2.54 1.4 2.85\n"
          ]
        },
        {
          "name": "stderr",
          "output_type": "stream",
          "text": [
            " 83%|████████▎ | 194/234 [26:30<04:46,  7.17s/it]"
          ]
        },
        {
          "name": "stdout",
          "output_type": "stream",
          "text": [
            "16.07.2023 09:00 WORLD CLUB FRIENDLY Hannover (Ger) Gornik Zabrze (Pol) 2.18 3.8 2.57 1.11 5.5 1.43 2.54 1.4 2.85\n"
          ]
        },
        {
          "name": "stderr",
          "output_type": "stream",
          "text": [
            " 83%|████████▎ | 195/234 [26:37<04:38,  7.14s/it]"
          ]
        },
        {
          "name": "stdout",
          "output_type": "stream",
          "text": [
            "16.07.2023 09:00 WORLD CLUB FRIENDLY Krylya Sovetov (Rus) Ural (Rus) 2.18 3.8 2.57 1.11 5.5 1.43 2.54 1.4 2.85\n"
          ]
        },
        {
          "name": "stderr",
          "output_type": "stream",
          "text": [
            " 84%|████████▍ | 196/234 [26:44<04:30,  7.11s/it]"
          ]
        },
        {
          "name": "stdout",
          "output_type": "stream",
          "text": [
            "16.07.2023 09:00 WORLD CLUB FRIENDLY Paks (Hun) Maccabi Petah Tikva (Isr) 2.18 3.8 2.57 1.11 5.5 1.43 2.54 1.4 2.85\n"
          ]
        },
        {
          "name": "stderr",
          "output_type": "stream",
          "text": [
            " 84%|████████▍ | 197/234 [26:52<04:35,  7.44s/it]"
          ]
        },
        {
          "name": "stdout",
          "output_type": "stream",
          "text": [
            "16.07.2023 09:00 WORLD CLUB FRIENDLY Slavia Prague (Cze) SG Dynamo Dresden (Ger) 1.3 5.0 7.0 1.06 7.5 1.3 3.2 1.45 2.55\n"
          ]
        },
        {
          "name": "stderr",
          "output_type": "stream",
          "text": [
            " 85%|████████▍ | 198/234 [27:00<04:23,  7.33s/it]"
          ]
        },
        {
          "name": "stdout",
          "output_type": "stream",
          "text": [
            "16.07.2023 09:00 WORLD CLUB FRIENDLY Tomislav (Bih) Siroki Brijeg (Bih) 1.3 5.0 7.0 1.06 7.5 1.3 3.2 1.45 2.55\n"
          ]
        },
        {
          "name": "stderr",
          "output_type": "stream",
          "text": [
            " 85%|████████▌ | 199/234 [27:07<04:13,  7.25s/it]"
          ]
        },
        {
          "name": "stdout",
          "output_type": "stream",
          "text": [
            "16.07.2023 09:00 WORLD CLUB FRIENDLY Trabzonspor (Tur) Celje (Slo) 1.3 5.0 7.0 1.06 7.5 1.3 3.2 1.45 2.55\n"
          ]
        },
        {
          "name": "stderr",
          "output_type": "stream",
          "text": [
            " 85%|████████▌ | 200/234 [27:14<04:04,  7.20s/it]"
          ]
        },
        {
          "name": "stdout",
          "output_type": "stream",
          "text": [
            "16.07.2023 09:00 WORLD CLUB FRIENDLY Zalaegerszegi (Hun) Nafta (Slo) 1.3 5.0 7.0 1.06 7.5 1.3 3.2 1.45 2.55\n"
          ]
        },
        {
          "name": "stderr",
          "output_type": "stream",
          "text": [
            " 86%|████████▌ | 201/234 [27:21<04:00,  7.29s/it]"
          ]
        },
        {
          "name": "stdout",
          "output_type": "stream",
          "text": [
            "16.07.2023 10:00 WORLD CLUB FRIENDLY ASC 09 Dortmund (Ger) Dusseldorf II (Ger) 3.0 3.8 1.91 1.13 4.85 1.44 2.6 1.42 2.77\n"
          ]
        },
        {
          "name": "stderr",
          "output_type": "stream",
          "text": [
            " 86%|████████▋ | 202/234 [27:28<03:51,  7.22s/it]"
          ]
        },
        {
          "name": "stdout",
          "output_type": "stream",
          "text": [
            "16.07.2023 10:00 WORLD CLUB FRIENDLY FC Koln (Ger) Hannover (Ger) 3.0 3.8 1.91 1.13 4.85 1.44 2.6 1.42 2.77\n"
          ]
        },
        {
          "name": "stderr",
          "output_type": "stream",
          "text": [
            " 87%|████████▋ | 203/234 [27:36<03:47,  7.32s/it]"
          ]
        },
        {
          "name": "stdout",
          "output_type": "stream",
          "text": [
            "16.07.2023 10:00 WORLD CLUB FRIENDLY Schonnebeck (Ger) SG Wattenscheid (Ger) 2.2 3.8 2.47 1.12 5.1 1.4 2.7 1.37 2.98\n"
          ]
        },
        {
          "name": "stderr",
          "output_type": "stream",
          "text": [
            " 87%|████████▋ | 204/234 [27:43<03:37,  7.24s/it]"
          ]
        },
        {
          "name": "stdout",
          "output_type": "stream",
          "text": [
            "16.07.2023 10:00 WORLD CLUB FRIENDLY SSVg Velbert (Ger) Bovinghausen (Ger) 2.2 3.8 2.47 1.12 5.1 1.4 2.7 1.37 2.98\n"
          ]
        },
        {
          "name": "stderr",
          "output_type": "stream",
          "text": [
            " 88%|████████▊ | 205/234 [27:51<03:33,  7.36s/it]"
          ]
        },
        {
          "name": "stdout",
          "output_type": "stream",
          "text": [
            "16.07.2023 10:00 WORLD CLUB FRIENDLY TuRU Dusseldorf (Ger) Freialdenhoven (Ger) 3.0 4.05 1.85 1.09 6.15 1.31 3.04 1.32 3.25\n"
          ]
        },
        {
          "name": "stderr",
          "output_type": "stream",
          "text": [
            " 88%|████████▊ | 206/234 [27:58<03:29,  7.47s/it]"
          ]
        },
        {
          "name": "stdout",
          "output_type": "stream",
          "text": [
            "16.07.2023 10:00 WORLD CLUB FRIENDLY Werder Bremen (Ger) VfB Oldenburg (Ger) 1.08 8.5 15.0 1.05 8.0 1.29 3.3 1.95 1.75\n"
          ]
        },
        {
          "name": "stderr",
          "output_type": "stream",
          "text": [
            " 88%|████████▊ | 207/234 [28:05<03:19,  7.40s/it]"
          ]
        },
        {
          "name": "stdout",
          "output_type": "stream",
          "text": [
            "16.07.2023 11:00 WORLD CLUB FRIENDLY Accrington (Eng) Clitheroe (Eng) 1.23 6.5 7.26 1.05 8.0 1.44 2.7 1.44 2.7\n"
          ]
        },
        {
          "name": "stderr",
          "output_type": "stream",
          "text": [
            " 89%|████████▉ | 208/234 [28:14<03:17,  7.59s/it]"
          ]
        },
        {
          "name": "stdout",
          "output_type": "stream",
          "text": [
            "16.07.2023 11:00 WORLD CLUB FRIENDLY Basel (Sui) Benfica (Por) 3.75 3.4 1.85 1.22 3.8 1.8 1.91 1.65 2.1\n"
          ]
        },
        {
          "name": "stderr",
          "output_type": "stream",
          "text": [
            " 89%|████████▉ | 209/234 [28:21<03:05,  7.43s/it]"
          ]
        },
        {
          "name": "stdout",
          "output_type": "stream",
          "text": [
            "16.07.2023 11:00 WORLD CLUB FRIENDLY FC Koln (Ger) Gornik Zabrze (Pol) 3.75 3.4 1.85 1.22 3.8 1.8 1.91 1.65 2.1\n"
          ]
        },
        {
          "name": "stderr",
          "output_type": "stream",
          "text": [
            " 90%|████████▉ | 210/234 [28:28<02:55,  7.33s/it]"
          ]
        },
        {
          "name": "stdout",
          "output_type": "stream",
          "text": [
            "16.07.2023 11:00 WORLD CLUB FRIENDLY FC Viktoria 08 (Ger) Bedburger (Ger) 3.75 3.4 1.85 1.22 3.8 1.8 1.91 1.65 2.1\n"
          ]
        },
        {
          "name": "stderr",
          "output_type": "stream",
          "text": [
            " 90%|█████████ | 211/234 [28:35<02:51,  7.46s/it]"
          ]
        },
        {
          "name": "stdout",
          "output_type": "stream",
          "text": [
            "16.07.2023 11:00 WORLD CLUB FRIENDLY Giessen (Ger) Darmstadt (Ger) 13.0 8.0 1.11 1.03 9.0 1.2 4.0 1.6 2.2\n"
          ]
        },
        {
          "name": "stderr",
          "output_type": "stream",
          "text": [
            " 91%|█████████ | 212/234 [28:42<02:41,  7.33s/it]"
          ]
        },
        {
          "name": "stdout",
          "output_type": "stream",
          "text": [
            "16.07.2023 11:00 WORLD CLUB FRIENDLY Nagold (Ger) Pforzheim (Ger) 13.0 8.0 1.11 1.03 9.0 1.2 4.0 1.6 2.2\n"
          ]
        },
        {
          "name": "stderr",
          "output_type": "stream",
          "text": [
            " 91%|█████████ | 213/234 [28:50<02:32,  7.25s/it]"
          ]
        },
        {
          "name": "stdout",
          "output_type": "stream",
          "text": [
            "16.07.2023 11:00 WORLD CLUB FRIENDLY SV Mergelstetten (Ger) Heidenheim (Ger) 13.0 8.0 1.11 1.03 9.0 1.2 4.0 1.6 2.2\n"
          ]
        },
        {
          "name": "stderr",
          "output_type": "stream",
          "text": [
            " 91%|█████████▏| 214/234 [28:57<02:29,  7.46s/it]"
          ]
        },
        {
          "name": "stdout",
          "output_type": "stream",
          "text": [
            "16.07.2023 11:00 WORLD CLUB FRIENDLY Westerlo (Bel) PAOK (Gre) 3.6 3.6 1.85 1.2 4.0 1.73 2.0 1.6 2.2\n"
          ]
        },
        {
          "name": "stderr",
          "output_type": "stream",
          "text": [
            " 92%|█████████▏| 215/234 [29:05<02:19,  7.34s/it]"
          ]
        },
        {
          "name": "stdout",
          "output_type": "stream",
          "text": [
            "16.07.2023 12:00 WORLD CLUB FRIENDLY Chrudim B (Cze) Caslav (Cze) 3.6 3.6 1.85 1.2 4.0 1.73 2.0 1.6 2.2\n"
          ]
        },
        {
          "name": "stderr",
          "output_type": "stream",
          "text": [
            " 92%|█████████▏| 216/234 [29:12<02:10,  7.27s/it]"
          ]
        },
        {
          "name": "stdout",
          "output_type": "stream",
          "text": [
            "16.07.2023 12:00 WORLD CLUB FRIENDLY Kryvbas (Ukr) Minaj (Ukr) 3.6 3.6 1.85 1.2 4.0 1.73 2.0 1.6 2.2\n"
          ]
        },
        {
          "name": "stderr",
          "output_type": "stream",
          "text": [
            " 93%|█████████▎| 217/234 [29:19<02:02,  7.19s/it]"
          ]
        },
        {
          "name": "stdout",
          "output_type": "stream",
          "text": [
            "16.07.2023 12:00 WORLD CLUB FRIENDLY Verona (Ita) US Primiero (Ita) 3.6 3.6 1.85 1.2 4.0 1.73 2.0 1.6 2.2\n"
          ]
        },
        {
          "name": "stderr",
          "output_type": "stream",
          "text": [
            " 93%|█████████▎| 218/234 [29:27<01:59,  7.47s/it]"
          ]
        },
        {
          "name": "stdout",
          "output_type": "stream",
          "text": [
            "16.07.2023 12:30 WORLD CLUB FRIENDLY AEK Larnaca (Cyp) Kisvarda (Hun) 2.05 3.5 3.0 1.17 4.5 1.6 2.2 1.5 2.25\n"
          ]
        },
        {
          "name": "stderr",
          "output_type": "stream",
          "text": [
            " 94%|█████████▎| 219/234 [29:35<01:55,  7.73s/it]"
          ]
        },
        {
          "name": "stdout",
          "output_type": "stream",
          "text": [
            "16.07.2023 13:00 WORLD CLUB FRIENDLY Dyn. Kyiv (Ukr) Aris (Cyp) 1.57 3.9 4.75 1.17 4.5 1.6 2.2 1.65 2.1\n"
          ]
        },
        {
          "name": "stderr",
          "output_type": "stream",
          "text": [
            " 94%|█████████▍| 220/234 [29:43<01:50,  7.86s/it]"
          ]
        },
        {
          "name": "stdout",
          "output_type": "stream",
          "text": [
            "16.07.2023 14:00 WORLD CLUB FRIENDLY Bournemouth (Eng) Maccabi Tel Aviv (Isr) 1.57 3.9 4.75 1.14 4.8 1.57 2.25 1.57 2.25\n"
          ]
        },
        {
          "name": "stderr",
          "output_type": "stream",
          "text": [
            " 94%|█████████▍| 221/234 [29:51<01:43,  7.94s/it]"
          ]
        },
        {
          "name": "stdout",
          "output_type": "stream",
          "text": [
            "16.07.2023 14:00 WORLD CLUB FRIENDLY Dordrecht (Ned) Shakhtar Donetsk (Ukr) 6.5 4.33 1.36 1.11 5.5 1.45 2.55 1.6 2.2\n"
          ]
        },
        {
          "name": "stderr",
          "output_type": "stream",
          "text": [
            " 95%|█████████▍| 222/234 [29:58<01:32,  7.68s/it]"
          ]
        },
        {
          "name": "stdout",
          "output_type": "stream",
          "text": [
            "16.07.2023 14:00 WORLD CLUB FRIENDLY Santos Laguna (Mex) Gijon (Esp) 6.5 4.33 1.36 1.11 5.5 1.45 2.55 1.6 2.2\n"
          ]
        },
        {
          "name": "stderr",
          "output_type": "stream",
          "text": [
            " 95%|█████████▌| 223/234 [30:07<01:26,  7.88s/it]"
          ]
        },
        {
          "name": "stdout",
          "output_type": "stream",
          "text": [
            "16.07.2023 15:00 WORLD CLUB FRIENDLY Guadalajara Chivas (Mex) Ath Bilbao (Esp) 2.55 3.5 2.6 1.25 3.8 1.87 1.9 1.65 2.2\n"
          ]
        },
        {
          "name": "stderr",
          "output_type": "stream",
          "text": [
            " 96%|█████████▌| 224/234 [30:14<01:16,  7.63s/it]"
          ]
        },
        {
          "name": "stdout",
          "output_type": "stream",
          "text": [
            "16.07.2023 06:30 WORLD FRIENDLY INTERNATIONAL WOMEN Kosovo W Liechtenstein W 2.55 3.5 2.6 1.25 3.8 1.87 1.9 1.65 2.2\n"
          ]
        },
        {
          "name": "stderr",
          "output_type": "stream",
          "text": [
            " 96%|█████████▌| 225/234 [30:21<01:07,  7.46s/it]"
          ]
        },
        {
          "name": "stdout",
          "output_type": "stream",
          "text": [
            "16.07.2023 07:00 WORLD FRIENDLY INTERNATIONAL WOMEN Bangladesh W Nepal W 2.55 3.5 2.6 1.25 3.8 1.87 1.9 1.65 2.2\n"
          ]
        },
        {
          "name": "stderr",
          "output_type": "stream",
          "text": [
            " 97%|█████████▋| 226/234 [30:28<00:58,  7.33s/it]"
          ]
        },
        {
          "name": "stdout",
          "output_type": "stream",
          "text": [
            "16.07.2023 09:00 WORLD FRIENDLY INTERNATIONAL WOMEN Morocco W Jamaica W 2.55 3.5 2.6 1.25 3.8 1.87 1.9 1.65 2.2\n"
          ]
        },
        {
          "name": "stderr",
          "output_type": "stream",
          "text": [
            " 97%|█████████▋| 227/234 [30:35<00:50,  7.23s/it]"
          ]
        },
        {
          "name": "stdout",
          "output_type": "stream",
          "text": [
            "16.07.2023 10:00 WORLD FRIENDLY INTERNATIONAL WOMEN Georgia W Armenia W 2.55 3.5 2.6 1.25 3.8 1.87 1.9 1.65 2.2\n"
          ]
        },
        {
          "name": "stderr",
          "output_type": "stream",
          "text": [
            " 97%|█████████▋| 228/234 [30:42<00:43,  7.18s/it]"
          ]
        },
        {
          "name": "stdout",
          "output_type": "stream",
          "text": [
            "16.07.2023 13:00 WORLD FRIENDLY INTERNATIONAL WOMEN Sweden U23 W China U23 W 2.55 3.5 2.6 1.25 3.8 1.87 1.9 1.65 2.2\n"
          ]
        },
        {
          "name": "stderr",
          "output_type": "stream",
          "text": [
            " 98%|█████████▊| 229/234 [30:50<00:36,  7.40s/it]"
          ]
        },
        {
          "name": "stdout",
          "output_type": "stream",
          "text": [
            "16.07.2023 13:30 WORLD FRIENDLY INTERNATIONAL WOMEN Romania W Bulgaria W 1.12 7.5 19.0 1.22 4.0 1.72 2.05 2.88 1.36\n"
          ]
        },
        {
          "name": "stderr",
          "output_type": "stream",
          "text": [
            " 98%|█████████▊| 230/234 [30:58<00:30,  7.58s/it]"
          ]
        },
        {
          "name": "stdout",
          "output_type": "stream",
          "text": [
            "16.07.2023 19:00 WORLD FRIENDLY INTERNATIONAL WOMEN Puerto Rico W Dominican Republic W 1.93 3.4 3.47 1.27 3.4 1.85 1.85 10.0 1.04\n"
          ]
        },
        {
          "name": "stderr",
          "output_type": "stream",
          "text": [
            " 99%|█████████▊| 231/234 [31:06<00:23,  7.70s/it]"
          ]
        },
        {
          "name": "stdout",
          "output_type": "stream",
          "text": [
            "16.07.2023 23:00 WORLD FRIENDLY INTERNATIONAL WOMEN Colombia W China W 2.6 3.4 2.5 1.28 3.4 1.87 1.87 1.7 2.1\n"
          ]
        },
        {
          "name": "stderr",
          "output_type": "stream",
          "text": [
            " 99%|█████████▉| 232/234 [31:13<00:15,  7.50s/it]"
          ]
        },
        {
          "name": "stdout",
          "output_type": "stream",
          "text": [
            "16.07.2023 10:00 ZIMBABWE PREMIER SOCCER LEAGUE - ROUND 15 Black Rhinos Hwange 2.6 3.4 2.5 1.28 3.4 1.87 1.87 1.7 2.1\n"
          ]
        },
        {
          "name": "stderr",
          "output_type": "stream",
          "text": [
            "100%|█████████▉| 233/234 [31:20<00:07,  7.36s/it]"
          ]
        },
        {
          "name": "stdout",
          "output_type": "stream",
          "text": [
            "16.07.2023 10:00 ZIMBABWE PREMIER SOCCER LEAGUE - ROUND 15 Herentals Highlanders 2.6 3.4 2.5 1.28 3.4 1.87 1.87 1.7 2.1\n"
          ]
        },
        {
          "name": "stderr",
          "output_type": "stream",
          "text": [
            "100%|██████████| 234/234 [31:27<00:00,  8.07s/it]"
          ]
        },
        {
          "name": "stdout",
          "output_type": "stream",
          "text": [
            "16.07.2023 10:00 ZIMBABWE PREMIER SOCCER LEAGUE - ROUND 15 Triangle Bulawayo Chiefs 2.6 3.4 2.5 1.28 3.4 1.87 1.87 1.7 2.1\n"
          ]
        },
        {
          "name": "stderr",
          "output_type": "stream",
          "text": [
            "\n"
          ]
        }
      ],
      "source": [
        "# Pegando as Informacoes Básicas do Jogo\n",
        "for link in tqdm(id_jogos, total=len(id_jogos)):\n",
        "    wd_Chrome.get(f'https://www.flashscore.com/match/{link}/#/match-summary')\n",
        "    \n",
        "    try:\n",
        "        Date = wd_Chrome.find_element(By.CSS_SELECTOR,'div.duelParticipant__startTime').text.split(' ')[0]\n",
        "        Time = wd_Chrome.find_element(By.CSS_SELECTOR,'div.duelParticipant__startTime').text.split(' ')[1]\n",
        "        Country = wd_Chrome.find_element(By.CSS_SELECTOR,'span.tournamentHeader__country').text.split(':')[0]\n",
        "        League = wd_Chrome.find_element(By.CSS_SELECTOR,'span.tournamentHeader__country')\n",
        "        League = League.find_element(By.CSS_SELECTOR,'a').text\n",
        "        Home = wd_Chrome.find_element(By.CSS_SELECTOR,'div.duelParticipant__home')\n",
        "        Home = Home.find_element(By.CSS_SELECTOR,'div.participant__participantName').text\n",
        "        Away = wd_Chrome.find_element(By.CSS_SELECTOR,'div.duelParticipant__away')\n",
        "        Away = Away.find_element(By.CSS_SELECTOR,'div.participant__participantName').text\n",
        "    except:\n",
        "        pass\n",
        "\n",
        "# Match Odds\n",
        "    try:\n",
        "        wd_Chrome.get(f'https://www.flashscore.com/match/{link}/#/odds-comparison/1x2-odds/full-time')\n",
        "        time.sleep(2)\n",
        "        \n",
        "        linhas = wd_Chrome.find_elements(By.CSS_SELECTOR,'div.ui-table__row')\n",
        "        \n",
        "        for linha in linhas:\n",
        "                Odd_H = float(linha.find_elements(By.CSS_SELECTOR,'a.oddsCell__odd')[0].text)\n",
        "                Odd_D = float(linha.find_elements(By.CSS_SELECTOR,'a.oddsCell__odd')[1].text) \n",
        "                Odd_A = float(linha.find_elements(By.CSS_SELECTOR,'a.oddsCell__odd')[2].text)\n",
        "    except:\n",
        "        pass\n",
        "\n",
        "# Over e Under 2.5\n",
        "    try:\n",
        "        wd_Chrome.get(f'https://www.flashscore.com/match/{link}/#/odds-comparison/over-under/full-time')\n",
        "        time.sleep(2)\n",
        "        \n",
        "        linhas_over_under = wd_Chrome.find_elements(By.CSS_SELECTOR,'div.ui-table.oddsCell__odds')\n",
        "        for i in linhas_over_under:\n",
        "            linhas = i.find_elements(By.CSS_SELECTOR,'div.ui-table__row')\n",
        "            for linha in linhas:\n",
        "                try:\n",
        "                    qtd_gols = linha.find_element(By.CSS_SELECTOR,'span.oddsCell__noOddsCell').text.replace('.','')\n",
        "                    if qtd_gols == '05':\n",
        "                        Odd_Over05 = float(linha.find_elements(By.CSS_SELECTOR,'a.oddsCell__odd')[0].text)\n",
        "                        Odd_Under05 = float(linha.find_elements(By.CSS_SELECTOR,'a.oddsCell__odd')[1].text)\n",
        "                    if qtd_gols == '15':\n",
        "                        Odd_Over15 = float(linha.find_elements(By.CSS_SELECTOR,'a.oddsCell__odd')[0].text)\n",
        "                        Odd_Under15 = float(linha.find_elements(By.CSS_SELECTOR,'a.oddsCell__odd')[1].text)\n",
        "                        #print(Odd_Under15)\n",
        "                    if qtd_gols == '25':\n",
        "                        Odd_Over25 = float(linha.find_elements(By.CSS_SELECTOR,'a.oddsCell__odd')[0].text)\n",
        "                        Odd_Under25 = float(linha.find_elements(By.CSS_SELECTOR,'a.oddsCell__odd')[1].text)\n",
        "                except:\n",
        "                    pass\n",
        "    except:\n",
        "        pass\n",
        "\n",
        "# Ambas Marcam (BTTS)\n",
        "    try:\n",
        "        wd_Chrome.get(f'https://www.flashscore.com/match/{link}/#/odds-comparison/both-teams-to-score/full-time')\n",
        "        time.sleep(2)\n",
        "    \n",
        "        linhas = wd_Chrome.find_elements(By.CSS_SELECTOR,'div.ui-table__row')\n",
        "        \n",
        "        for linha in linhas:\n",
        "                BTTS_Yes = float(linha.find_elements(By.CSS_SELECTOR,'a.oddsCell__odd')[0].text)\n",
        "                BTTS_No = float(linha.find_elements(By.CSS_SELECTOR,'a.oddsCell__odd')[1].text)\n",
        "    except:\n",
        "        pass    \n",
        "    \n",
        "    try:\n",
        "        print(Date,Time,Country,League,Home,Away,Odd_H,Odd_D,Odd_A,Odd_Over15,Odd_Under15,Odd_Over25,Odd_Under25,BTTS_Yes,BTTS_No) \n",
        "\n",
        "        jogo['Date'].append(Date)\n",
        "        jogo['Time'].append(Time)\n",
        "        jogo['Country'].append(Country)\n",
        "        jogo['League'].append(League)\n",
        "        jogo['Home'].append(Home)\n",
        "        jogo['Away'].append(Away)\n",
        "        jogo['Odd_H'].append(Odd_H)\n",
        "        jogo['Odd_D'].append(Odd_D)\n",
        "        jogo['Odd_A'].append(Odd_A)\n",
        "        jogo['Odd_Over15'].append(Odd_Over15)\n",
        "        jogo['Odd_Under15'].append(Odd_Under15)\n",
        "        jogo['Odd_Over25'].append(Odd_Over25)\n",
        "        jogo['Odd_Under25'].append(Odd_Under25)\n",
        "        jogo['Odd_BTTS_Yes'].append(BTTS_Yes)\n",
        "        jogo['Odd_BTTS_No'].append(BTTS_No)\n",
        "\n",
        "    except:\n",
        "        pass"
      ]
    },
    {
      "attachments": {},
      "cell_type": "markdown",
      "metadata": {
        "id": "PfRRruDDyt38"
      },
      "source": [
        "## Gerando DataFrame com os Jogos do Dia"
      ]
    },
    {
      "cell_type": "code",
      "execution_count": 7,
      "metadata": {
        "id": "gCvR74k9aiC9"
      },
      "outputs": [
        {
          "data": {
            "text/html": [
              "<div>\n",
              "<style scoped>\n",
              "    .dataframe tbody tr th:only-of-type {\n",
              "        vertical-align: middle;\n",
              "    }\n",
              "\n",
              "    .dataframe tbody tr th {\n",
              "        vertical-align: top;\n",
              "    }\n",
              "\n",
              "    .dataframe thead th {\n",
              "        text-align: right;\n",
              "    }\n",
              "</style>\n",
              "<table border=\"1\" class=\"dataframe\">\n",
              "  <thead>\n",
              "    <tr style=\"text-align: right;\">\n",
              "      <th></th>\n",
              "      <th>Date</th>\n",
              "      <th>Time</th>\n",
              "      <th>Country</th>\n",
              "      <th>League</th>\n",
              "      <th>Home</th>\n",
              "      <th>Away</th>\n",
              "      <th>Odd_H</th>\n",
              "      <th>Odd_D</th>\n",
              "      <th>Odd_A</th>\n",
              "      <th>Odd_Over15</th>\n",
              "      <th>Odd_Under15</th>\n",
              "      <th>Odd_Over25</th>\n",
              "      <th>Odd_Under25</th>\n",
              "      <th>Odd_BTTS_Yes</th>\n",
              "      <th>Odd_BTTS_No</th>\n",
              "    </tr>\n",
              "  </thead>\n",
              "  <tbody>\n",
              "    <tr>\n",
              "      <th>1</th>\n",
              "      <td>16.07.2023</td>\n",
              "      <td>20:30</td>\n",
              "      <td>NORTH &amp; CENTRAL AMERICA</td>\n",
              "      <td>GOLD CUP - PLAY OFFS - FINAL</td>\n",
              "      <td>Mexico</td>\n",
              "      <td>Panama</td>\n",
              "      <td>1.66</td>\n",
              "      <td>3.60</td>\n",
              "      <td>5.50</td>\n",
              "      <td>1.42</td>\n",
              "      <td>2.80</td>\n",
              "      <td>2.30</td>\n",
              "      <td>1.60</td>\n",
              "      <td>2.25</td>\n",
              "      <td>1.62</td>\n",
              "    </tr>\n",
              "    <tr>\n",
              "      <th>2</th>\n",
              "      <td>16.07.2023</td>\n",
              "      <td>10:00</td>\n",
              "      <td>AFRICA</td>\n",
              "      <td>COSAFA CUP - PLAY OFFS - 3RD PLACE</td>\n",
              "      <td>Malawi</td>\n",
              "      <td>South Africa</td>\n",
              "      <td>4.00</td>\n",
              "      <td>3.25</td>\n",
              "      <td>1.85</td>\n",
              "      <td>1.40</td>\n",
              "      <td>2.75</td>\n",
              "      <td>2.30</td>\n",
              "      <td>1.55</td>\n",
              "      <td>2.05</td>\n",
              "      <td>1.68</td>\n",
              "    </tr>\n",
              "    <tr>\n",
              "      <th>3</th>\n",
              "      <td>16.07.2023</td>\n",
              "      <td>13:00</td>\n",
              "      <td>AFRICA</td>\n",
              "      <td>COSAFA CUP - PLAY OFFS - FINAL</td>\n",
              "      <td>Lesotho</td>\n",
              "      <td>Zambia</td>\n",
              "      <td>4.75</td>\n",
              "      <td>3.50</td>\n",
              "      <td>1.66</td>\n",
              "      <td>1.36</td>\n",
              "      <td>2.88</td>\n",
              "      <td>2.10</td>\n",
              "      <td>1.66</td>\n",
              "      <td>2.05</td>\n",
              "      <td>1.70</td>\n",
              "    </tr>\n",
              "    <tr>\n",
              "      <th>4</th>\n",
              "      <td>16.07.2023</td>\n",
              "      <td>11:00</td>\n",
              "      <td>AFRICA</td>\n",
              "      <td>OLYMPIC GAMES WOMEN - QUALIFICATION - 1/8-FINALS</td>\n",
              "      <td>Rwanda W</td>\n",
              "      <td>Uganda W</td>\n",
              "      <td>4.75</td>\n",
              "      <td>3.50</td>\n",
              "      <td>1.66</td>\n",
              "      <td>1.36</td>\n",
              "      <td>2.88</td>\n",
              "      <td>2.10</td>\n",
              "      <td>1.66</td>\n",
              "      <td>2.05</td>\n",
              "      <td>1.70</td>\n",
              "    </tr>\n",
              "    <tr>\n",
              "      <th>5</th>\n",
              "      <td>16.07.2023</td>\n",
              "      <td>14:00</td>\n",
              "      <td>ARGENTINA</td>\n",
              "      <td>LIGA PROFESIONAL - ROUND 25</td>\n",
              "      <td>Belgrano</td>\n",
              "      <td>San Lorenzo</td>\n",
              "      <td>2.02</td>\n",
              "      <td>2.95</td>\n",
              "      <td>4.40</td>\n",
              "      <td>1.66</td>\n",
              "      <td>2.17</td>\n",
              "      <td>3.04</td>\n",
              "      <td>1.36</td>\n",
              "      <td>2.51</td>\n",
              "      <td>1.48</td>\n",
              "    </tr>\n",
              "    <tr>\n",
              "      <th>...</th>\n",
              "      <td>...</td>\n",
              "      <td>...</td>\n",
              "      <td>...</td>\n",
              "      <td>...</td>\n",
              "      <td>...</td>\n",
              "      <td>...</td>\n",
              "      <td>...</td>\n",
              "      <td>...</td>\n",
              "      <td>...</td>\n",
              "      <td>...</td>\n",
              "      <td>...</td>\n",
              "      <td>...</td>\n",
              "      <td>...</td>\n",
              "      <td>...</td>\n",
              "      <td>...</td>\n",
              "    </tr>\n",
              "    <tr>\n",
              "      <th>230</th>\n",
              "      <td>16.07.2023</td>\n",
              "      <td>19:00</td>\n",
              "      <td>WORLD</td>\n",
              "      <td>FRIENDLY INTERNATIONAL WOMEN</td>\n",
              "      <td>Puerto Rico W</td>\n",
              "      <td>Dominican Republic W</td>\n",
              "      <td>1.93</td>\n",
              "      <td>3.40</td>\n",
              "      <td>3.47</td>\n",
              "      <td>1.27</td>\n",
              "      <td>3.40</td>\n",
              "      <td>1.85</td>\n",
              "      <td>1.85</td>\n",
              "      <td>10.00</td>\n",
              "      <td>1.04</td>\n",
              "    </tr>\n",
              "    <tr>\n",
              "      <th>231</th>\n",
              "      <td>16.07.2023</td>\n",
              "      <td>23:00</td>\n",
              "      <td>WORLD</td>\n",
              "      <td>FRIENDLY INTERNATIONAL WOMEN</td>\n",
              "      <td>Colombia W</td>\n",
              "      <td>China W</td>\n",
              "      <td>2.60</td>\n",
              "      <td>3.40</td>\n",
              "      <td>2.50</td>\n",
              "      <td>1.28</td>\n",
              "      <td>3.40</td>\n",
              "      <td>1.87</td>\n",
              "      <td>1.87</td>\n",
              "      <td>1.70</td>\n",
              "      <td>2.10</td>\n",
              "    </tr>\n",
              "    <tr>\n",
              "      <th>232</th>\n",
              "      <td>16.07.2023</td>\n",
              "      <td>10:00</td>\n",
              "      <td>ZIMBABWE</td>\n",
              "      <td>PREMIER SOCCER LEAGUE - ROUND 15</td>\n",
              "      <td>Black Rhinos</td>\n",
              "      <td>Hwange</td>\n",
              "      <td>2.60</td>\n",
              "      <td>3.40</td>\n",
              "      <td>2.50</td>\n",
              "      <td>1.28</td>\n",
              "      <td>3.40</td>\n",
              "      <td>1.87</td>\n",
              "      <td>1.87</td>\n",
              "      <td>1.70</td>\n",
              "      <td>2.10</td>\n",
              "    </tr>\n",
              "    <tr>\n",
              "      <th>233</th>\n",
              "      <td>16.07.2023</td>\n",
              "      <td>10:00</td>\n",
              "      <td>ZIMBABWE</td>\n",
              "      <td>PREMIER SOCCER LEAGUE - ROUND 15</td>\n",
              "      <td>Herentals</td>\n",
              "      <td>Highlanders</td>\n",
              "      <td>2.60</td>\n",
              "      <td>3.40</td>\n",
              "      <td>2.50</td>\n",
              "      <td>1.28</td>\n",
              "      <td>3.40</td>\n",
              "      <td>1.87</td>\n",
              "      <td>1.87</td>\n",
              "      <td>1.70</td>\n",
              "      <td>2.10</td>\n",
              "    </tr>\n",
              "    <tr>\n",
              "      <th>234</th>\n",
              "      <td>16.07.2023</td>\n",
              "      <td>10:00</td>\n",
              "      <td>ZIMBABWE</td>\n",
              "      <td>PREMIER SOCCER LEAGUE - ROUND 15</td>\n",
              "      <td>Triangle</td>\n",
              "      <td>Bulawayo Chiefs</td>\n",
              "      <td>2.60</td>\n",
              "      <td>3.40</td>\n",
              "      <td>2.50</td>\n",
              "      <td>1.28</td>\n",
              "      <td>3.40</td>\n",
              "      <td>1.87</td>\n",
              "      <td>1.87</td>\n",
              "      <td>1.70</td>\n",
              "      <td>2.10</td>\n",
              "    </tr>\n",
              "  </tbody>\n",
              "</table>\n",
              "<p>234 rows × 15 columns</p>\n",
              "</div>"
            ],
            "text/plain": [
              "           Date   Time                  Country  \\\n",
              "1    16.07.2023  20:30  NORTH & CENTRAL AMERICA   \n",
              "2    16.07.2023  10:00                   AFRICA   \n",
              "3    16.07.2023  13:00                   AFRICA   \n",
              "4    16.07.2023  11:00                   AFRICA   \n",
              "5    16.07.2023  14:00                ARGENTINA   \n",
              "..          ...    ...                      ...   \n",
              "230  16.07.2023  19:00                    WORLD   \n",
              "231  16.07.2023  23:00                    WORLD   \n",
              "232  16.07.2023  10:00                 ZIMBABWE   \n",
              "233  16.07.2023  10:00                 ZIMBABWE   \n",
              "234  16.07.2023  10:00                 ZIMBABWE   \n",
              "\n",
              "                                               League           Home  \\\n",
              "1                        GOLD CUP - PLAY OFFS - FINAL         Mexico   \n",
              "2                  COSAFA CUP - PLAY OFFS - 3RD PLACE         Malawi   \n",
              "3                      COSAFA CUP - PLAY OFFS - FINAL        Lesotho   \n",
              "4    OLYMPIC GAMES WOMEN - QUALIFICATION - 1/8-FINALS       Rwanda W   \n",
              "5                         LIGA PROFESIONAL - ROUND 25       Belgrano   \n",
              "..                                                ...            ...   \n",
              "230                      FRIENDLY INTERNATIONAL WOMEN  Puerto Rico W   \n",
              "231                      FRIENDLY INTERNATIONAL WOMEN     Colombia W   \n",
              "232                  PREMIER SOCCER LEAGUE - ROUND 15   Black Rhinos   \n",
              "233                  PREMIER SOCCER LEAGUE - ROUND 15      Herentals   \n",
              "234                  PREMIER SOCCER LEAGUE - ROUND 15       Triangle   \n",
              "\n",
              "                     Away  Odd_H  Odd_D  Odd_A  Odd_Over15  Odd_Under15  \\\n",
              "1                  Panama   1.66   3.60   5.50        1.42         2.80   \n",
              "2            South Africa   4.00   3.25   1.85        1.40         2.75   \n",
              "3                  Zambia   4.75   3.50   1.66        1.36         2.88   \n",
              "4                Uganda W   4.75   3.50   1.66        1.36         2.88   \n",
              "5             San Lorenzo   2.02   2.95   4.40        1.66         2.17   \n",
              "..                    ...    ...    ...    ...         ...          ...   \n",
              "230  Dominican Republic W   1.93   3.40   3.47        1.27         3.40   \n",
              "231               China W   2.60   3.40   2.50        1.28         3.40   \n",
              "232                Hwange   2.60   3.40   2.50        1.28         3.40   \n",
              "233           Highlanders   2.60   3.40   2.50        1.28         3.40   \n",
              "234       Bulawayo Chiefs   2.60   3.40   2.50        1.28         3.40   \n",
              "\n",
              "     Odd_Over25  Odd_Under25  Odd_BTTS_Yes  Odd_BTTS_No  \n",
              "1          2.30         1.60          2.25         1.62  \n",
              "2          2.30         1.55          2.05         1.68  \n",
              "3          2.10         1.66          2.05         1.70  \n",
              "4          2.10         1.66          2.05         1.70  \n",
              "5          3.04         1.36          2.51         1.48  \n",
              "..          ...          ...           ...          ...  \n",
              "230        1.85         1.85         10.00         1.04  \n",
              "231        1.87         1.87          1.70         2.10  \n",
              "232        1.87         1.87          1.70         2.10  \n",
              "233        1.87         1.87          1.70         2.10  \n",
              "234        1.87         1.87          1.70         2.10  \n",
              "\n",
              "[234 rows x 15 columns]"
            ]
          },
          "execution_count": 7,
          "metadata": {},
          "output_type": "execute_result"
        }
      ],
      "source": [
        "df = pd.DataFrame(jogo)\n",
        "df = drop_reset_index(df)\n",
        "df"
      ]
    },
    {
      "cell_type": "code",
      "execution_count": 8,
      "metadata": {},
      "outputs": [],
      "source": [
        "df = df.rename(columns={'Odd_H': 'FT_Odd_H',\n",
        "                        'Odd_D': 'FT_Odd_D',\n",
        "                        'Odd_A': 'FT_Odd_A',\n",
        "                        'Odd_Over15': 'FT_Odd_Over15',\n",
        "                        'Odd_Under15': 'FT_Odd_Under15',\n",
        "                        'Odd_Over25': 'FT_Odd_Over25',\n",
        "                        'Odd_Under25': 'FT_Odd_Under25',\n",
        "                        'Odd_BTTS_Yes': 'FT_Odd_BTTS_Yes',\n",
        "                        'Odd_BTTS_No': 'FT_Odd_BTTS_No',\n",
        "                        })"
      ]
    },
    {
      "cell_type": "code",
      "execution_count": 9,
      "metadata": {
        "id": "RMxg0e62rlQv"
      },
      "outputs": [],
      "source": [
        "# Gerando os dados para excel\n",
        "from datetime import date, datetime, timedelta\n",
        "data = datetime.today() + timedelta(1)\n",
        "amanha = data.strftime('%Y-%m-%d')\n",
        "nome = 'Jogos_do_Dia_FlashScore.xlsx'\n",
        "\n",
        "df.to_excel(f'G:\\\\Meu Drive\\\\Programacao\\\\futPythonTrader\\\\Jogos do dia\\\\{amanha}_{nome}', index = False)"
      ]
    }
  ],
  "metadata": {
    "colab": {
      "collapsed_sections": [
        "Hs058KhByBQE",
        "LPftcTqaYDN7",
        "SxNjCaz_ZDBZ"
      ],
      "provenance": []
    },
    "kernelspec": {
      "display_name": "Python 3",
      "name": "python3"
    },
    "language_info": {
      "codemirror_mode": {
        "name": "ipython",
        "version": 3
      },
      "file_extension": ".py",
      "mimetype": "text/x-python",
      "name": "python",
      "nbconvert_exporter": "python",
      "pygments_lexer": "ipython3",
      "version": "3.10.1"
    }
  },
  "nbformat": 4,
  "nbformat_minor": 0
}
