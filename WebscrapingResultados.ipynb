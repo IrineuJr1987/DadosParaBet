{
 "cells": [
  {
   "cell_type": "code",
   "execution_count": 1,
   "metadata": {},
   "outputs": [],
   "source": [
    "import numpy as np\n",
    "import pandas as pd\n",
    "import warnings\n",
    "warnings.filterwarnings('ignore')\n",
    "\n",
    "def dia():\n",
    "    from datetime import date, timedelta\n",
    "    dia = date.today() + timedelta(0)\n",
    "    return dia\n",
    "\n",
    "def drop_reset_index(df):\n",
    "    df = df.dropna()\n",
    "    df = df.reset_index(drop=True)\n",
    "    df.index += 1\n",
    "    return df"
   ]
  },
  {
   "cell_type": "markdown",
   "metadata": {},
   "source": [
    "Conf do Chrome Driver"
   ]
  },
  {
   "cell_type": "code",
   "execution_count": 2,
   "metadata": {},
   "outputs": [],
   "source": [
    "import time\n",
    "from tqdm import tqdm\n",
    "from selenium import webdriver\n",
    "from selenium.webdriver.chrome.options import Options\n",
    "from selenium.webdriver.common.by import By\n",
    "from webdriver_manager.chrome import ChromeDriverManager\n",
    "\n",
    "options = Options()\n",
    "#options.add_argument(\"--headless\")\n",
    "options.add_argument(\"--no-sandbox\")\n",
    "#options.headless = True\n",
    "\n",
    "from selenium.webdriver.chrome.service import Service\n",
    "wd_Chrome = webdriver.Chrome(\"/usr/bin/chromedriver\", options=options, service=Service(ChromeDriverManager().install()))\n"
   ]
  },
  {
   "cell_type": "code",
   "execution_count": 3,
   "metadata": {},
   "outputs": [],
   "source": [
    "# Com o WebDrive a gente consegue a pedir a página (URL)\n",
    "wd_Chrome.get(\"https://www.flashscore.com.br/\")\n",
    "time.sleep(2)\n",
    "# Fechando Botão de Cookies\n",
    "try:\n",
    "    button_cookies = wd_Chrome.find_element(By.CSS_SELECTOR,'button#onetrust-accept-btn-handler')\n",
    "    button_cookies.click()\n",
    "except:\n",
    "    pass\n",
    "\n",
    "time.sleep(3)"
   ]
  },
  {
   "cell_type": "code",
   "execution_count": 4,
   "metadata": {},
   "outputs": [
    {
     "name": "stdout",
     "output_type": "stream",
     "text": [
      "2023-07-21\n"
     ]
    }
   ],
   "source": [
    "from datetime import date, datetime, timedelta\n",
    "data = datetime.today() + timedelta(-1)\n",
    "ontem = data.strftime('%Y-%m-%d')\n",
    "print (ontem)\n",
    "\n",
    "# Carregar o arquivo XLSX em um DataFrame do pandas\n",
    "\n"
   ]
  },
  {
   "cell_type": "code",
   "execution_count": 6,
   "metadata": {},
   "outputs": [],
   "source": [
    "# placar1 = wd_Chrome.find_elements(By.CLASS_NAME,'event__score.event__score--home')[0].text\n",
    "# placar2 = wd_Chrome.find_elements(By.CLASS_NAME,'event__score.event__score--away')[0].text\n",
    "\n",
    "# placar1"
   ]
  },
  {
   "cell_type": "code",
   "execution_count": 10,
   "metadata": {},
   "outputs": [],
   "source": [
    "try:\n",
    "    df = pd.read_excel(f'ApostasGeradas\\\\{ontem}_entradas.xlsx')\n",
    "\n",
    "\n",
    "    for index, row in df.iterrows():\n",
    "        # Acessar os valores de cada coluna para a linha atual\n",
    "\n",
    "        time1 = row['Home']\n",
    "\n",
    "        wd_Chrome.find_element(By.XPATH,'//*[@id=\"search-window\"]').click()\n",
    "        time.sleep(3)\n",
    "        wd_Chrome.find_element(By.XPATH,'//*[@id=\"search-window\"]/div/div/div[2]/input').send_keys(time1)\n",
    "        time.sleep(3)\n",
    "        wd_Chrome.find_element(By.XPATH,'//*[@id=\"search-window\"]/div/div/div[3]/div/a[1]/div[3]').click()\n",
    "        wd_Chrome.find_element(By.XPATH,'//*[@id=\"li2\"]').click()\n",
    "\n",
    "        try:\n",
    "            #verifica se foi pra penalti ou prorrogação\n",
    "            div_pai = wd_Chrome.find_elements(By.CLASS_NAME,'event__time')[0]\n",
    "            div_filha = div_pai.find_elements(By.CLASS_NAME,'event__stage')\n",
    "\n",
    "            placar1 = wd_Chrome.find_elements(By.CLASS_NAME,'event__part.event__part--home.event__part--2')[0].text\n",
    "            placar2 = wd_Chrome.find_elements(By.CLASS_NAME,'event__part.event__part--away.event__part--2')[0].text\n",
    "            df.loc[index, 'PlacarHome'] = placar1\n",
    "            df.loc[index, 'PlacarAway'] = placar2\n",
    "\n",
    "        except Exception:\n",
    "\n",
    "            placar1 = wd_Chrome.find_elements(By.CLASS_NAME,'event__score.event__score--home')[0].text\n",
    "            placar2 = wd_Chrome.find_elements(By.CLASS_NAME,'event__score.event__score--away')[0].text\n",
    "            df.loc[index, 'PlacarHome'] = placar1\n",
    "            df.loc[index, 'PlacarAway'] = placar2\n",
    "\n",
    "        if df.loc[index, 'Método'] == \"Back Draw\":\n",
    "            if placar1==placar2:\n",
    "                df.loc[index, 'Green'] = \"S\"\n",
    "                df.loc[index, 'GanhosPerdas'] = df.loc[index, 'Odd_Metodo'] - 1\n",
    "            else:\n",
    "                df.loc[index, 'Green'] = \"N\"\n",
    "                df.loc[index, 'GanhosPerdas'] = -1\n",
    "        \n",
    "        if df.loc[index, 'Método'] == \"BTTS_Sim\":\n",
    "            if placar1!=0 and placar2!=0:\n",
    "                df.loc[index, 'Green'] = \"S\"\n",
    "                df.loc[index, 'GanhosPerdas'] = df.loc[index, 'Odd_Metodo'] - 1\n",
    "            else:\n",
    "                df.loc[index, 'Green'] = \"N\"\n",
    "                df.loc[index, 'GanhosPerdas'] = -1\n",
    "\n",
    "        if df.loc[index, 'Método'] == \"BTTS_Nao\":\n",
    "            if placar1== 0 or placar2==0:\n",
    "                df.loc[index, 'Green'] = \"S\"\n",
    "                df.loc[index, 'GanhosPerdas'] = df.loc[index, 'Odd_Metodo'] - 1\n",
    "            else:\n",
    "                df.loc[index, 'Green'] = \"N\"\n",
    "                df.loc[index, 'GanhosPerdas'] = -1\n",
    "                \n",
    "        resultFinal = placar1 + placar2\n",
    "        if df.loc[index, 'Método'] == \"full25\":\n",
    "            if resultFinal > 2:\n",
    "                df.loc[index, 'Green'] = \"S\"\n",
    "                df.loc[index, 'GanhosPerdas'] = df.loc[index, 'Odd_Metodo'] - 1\n",
    "            else:\n",
    "                df.loc[index, 'Green'] = \"N\"\n",
    "                df.loc[index, 'GanhosPerdas'] = -1\n",
    "        \n",
    "\n",
    "    #bttsnao bttsim full25\n",
    "    # validar os metodos com a coluna green S ou N\n",
    "    # calcular a porcentagem de perda e ganho\n",
    "    df.to_excel(f'ApostasGeradas\\\\{ontem}_entradas.xlsx', index=False)\n",
    "except FileNotFoundError:\n",
    "    print (\"Planilha não encontrada\")\n",
    "\n"
   ]
  },
  {
   "cell_type": "code",
   "execution_count": null,
   "metadata": {},
   "outputs": [],
   "source": []
  }
 ],
 "metadata": {
  "kernelspec": {
   "display_name": "Python 3",
   "language": "python",
   "name": "python3"
  },
  "language_info": {
   "codemirror_mode": {
    "name": "ipython",
    "version": 3
   },
   "file_extension": ".py",
   "mimetype": "text/x-python",
   "name": "python",
   "nbconvert_exporter": "python",
   "pygments_lexer": "ipython3",
   "version": "3.10.1"
  },
  "orig_nbformat": 4
 },
 "nbformat": 4,
 "nbformat_minor": 2
}
