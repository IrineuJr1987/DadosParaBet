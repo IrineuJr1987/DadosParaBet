{
 "cells": [
  {
   "cell_type": "code",
   "execution_count": 3,
   "metadata": {},
   "outputs": [],
   "source": [
    "import numpy as np\n",
    "import pandas as pd\n",
    "import warnings\n",
    "warnings.filterwarnings('ignore')\n",
    "\n",
    "def dia():\n",
    "    from datetime import date, timedelta\n",
    "    dia = date.today() + timedelta(0)\n",
    "    return dia\n",
    "\n",
    "def drop_reset_index(df):\n",
    "    df = df.dropna()\n",
    "    df = df.reset_index(drop=True)\n",
    "    df.index += 1\n",
    "    return df"
   ]
  },
  {
   "cell_type": "markdown",
   "metadata": {},
   "source": [
    "Conf do Chrome Driver"
   ]
  },
  {
   "cell_type": "code",
   "execution_count": 4,
   "metadata": {},
   "outputs": [
    {
     "ename": "ValueError",
     "evalue": "There is no such driver by url https://chromedriver.storage.googleapis.com/115.0.5790/chromedriver_win32.zip",
     "output_type": "error",
     "traceback": [
      "\u001b[1;31m---------------------------------------------------------------------------\u001b[0m",
      "\u001b[1;31mValueError\u001b[0m                                Traceback (most recent call last)",
      "Cell \u001b[1;32mIn[4], line 14\u001b[0m\n\u001b[0;32m     11\u001b[0m chrome_options\u001b[39m.\u001b[39madd_argument(\u001b[39m\"\u001b[39m\u001b[39m--no-sandbox\u001b[39m\u001b[39m\"\u001b[39m)\n\u001b[0;32m     12\u001b[0m \u001b[39m#options.headless = True\u001b[39;00m\n\u001b[0;32m     13\u001b[0m \u001b[39m#chrome_options.add_experimental_option(\"debuggerAddress\", \"127.0.0.1:9222\")\u001b[39;00m\n\u001b[1;32m---> 14\u001b[0m wd_Chrome \u001b[39m=\u001b[39m webdriver\u001b[39m.\u001b[39mChrome(ChromeDriverManager()\u001b[39m.\u001b[39;49minstall(),options\u001b[39m=\u001b[39mchrome_options,)\n",
      "File \u001b[1;32mc:\\Users\\Bill\\AppData\\Local\\Programs\\Python\\Python310\\lib\\site-packages\\webdriver_manager\\chrome.py:39\u001b[0m, in \u001b[0;36mChromeDriverManager.install\u001b[1;34m(self)\u001b[0m\n\u001b[0;32m     38\u001b[0m \u001b[39mdef\u001b[39;00m \u001b[39minstall\u001b[39m(\u001b[39mself\u001b[39m) \u001b[39m-\u001b[39m\u001b[39m>\u001b[39m \u001b[39mstr\u001b[39m:\n\u001b[1;32m---> 39\u001b[0m     driver_path \u001b[39m=\u001b[39m \u001b[39mself\u001b[39;49m\u001b[39m.\u001b[39;49m_get_driver_path(\u001b[39mself\u001b[39;49m\u001b[39m.\u001b[39;49mdriver)\n\u001b[0;32m     40\u001b[0m     os\u001b[39m.\u001b[39mchmod(driver_path, \u001b[39m0o755\u001b[39m)\n\u001b[0;32m     41\u001b[0m     \u001b[39mreturn\u001b[39;00m driver_path\n",
      "File \u001b[1;32mc:\\Users\\Bill\\AppData\\Local\\Programs\\Python\\Python310\\lib\\site-packages\\webdriver_manager\\core\\manager.py:30\u001b[0m, in \u001b[0;36mDriverManager._get_driver_path\u001b[1;34m(self, driver)\u001b[0m\n\u001b[0;32m     27\u001b[0m \u001b[39mif\u001b[39;00m binary_path:\n\u001b[0;32m     28\u001b[0m     \u001b[39mreturn\u001b[39;00m binary_path\n\u001b[1;32m---> 30\u001b[0m file \u001b[39m=\u001b[39m \u001b[39mself\u001b[39;49m\u001b[39m.\u001b[39;49m_download_manager\u001b[39m.\u001b[39;49mdownload_file(driver\u001b[39m.\u001b[39;49mget_url())\n\u001b[0;32m     31\u001b[0m binary_path \u001b[39m=\u001b[39m \u001b[39mself\u001b[39m\u001b[39m.\u001b[39mdriver_cache\u001b[39m.\u001b[39msave_file_to_cache(driver, file)\n\u001b[0;32m     32\u001b[0m \u001b[39mreturn\u001b[39;00m binary_path\n",
      "File \u001b[1;32mc:\\Users\\Bill\\AppData\\Local\\Programs\\Python\\Python310\\lib\\site-packages\\webdriver_manager\\core\\download_manager.py:28\u001b[0m, in \u001b[0;36mWDMDownloadManager.download_file\u001b[1;34m(self, url)\u001b[0m\n\u001b[0;32m     26\u001b[0m \u001b[39mdef\u001b[39;00m \u001b[39mdownload_file\u001b[39m(\u001b[39mself\u001b[39m, url: \u001b[39mstr\u001b[39m) \u001b[39m-\u001b[39m\u001b[39m>\u001b[39m File:\n\u001b[0;32m     27\u001b[0m     log(\u001b[39mf\u001b[39m\u001b[39m\"\u001b[39m\u001b[39mAbout to download new driver from \u001b[39m\u001b[39m{\u001b[39;00murl\u001b[39m}\u001b[39;00m\u001b[39m\"\u001b[39m)\n\u001b[1;32m---> 28\u001b[0m     response \u001b[39m=\u001b[39m \u001b[39mself\u001b[39;49m\u001b[39m.\u001b[39;49m_http_client\u001b[39m.\u001b[39;49mget(url)\n\u001b[0;32m     29\u001b[0m     \u001b[39mreturn\u001b[39;00m File(response)\n",
      "File \u001b[1;32mc:\\Users\\Bill\\AppData\\Local\\Programs\\Python\\Python310\\lib\\site-packages\\webdriver_manager\\core\\http.py:33\u001b[0m, in \u001b[0;36mWDMHttpClient.get\u001b[1;34m(self, url, **kwargs)\u001b[0m\n\u001b[0;32m     31\u001b[0m \u001b[39mdef\u001b[39;00m \u001b[39mget\u001b[39m(\u001b[39mself\u001b[39m, url, \u001b[39m*\u001b[39m\u001b[39m*\u001b[39mkwargs) \u001b[39m-\u001b[39m\u001b[39m>\u001b[39m Response:\n\u001b[0;32m     32\u001b[0m     resp \u001b[39m=\u001b[39m requests\u001b[39m.\u001b[39mget(url\u001b[39m=\u001b[39murl, verify\u001b[39m=\u001b[39m\u001b[39mself\u001b[39m\u001b[39m.\u001b[39m_ssl_verify, stream\u001b[39m=\u001b[39m\u001b[39mTrue\u001b[39;00m, \u001b[39m*\u001b[39m\u001b[39m*\u001b[39mkwargs)\n\u001b[1;32m---> 33\u001b[0m     \u001b[39mself\u001b[39;49m\u001b[39m.\u001b[39;49mvalidate_response(resp)\n\u001b[0;32m     34\u001b[0m     \u001b[39mif\u001b[39;00m wdm_progress_bar():\n\u001b[0;32m     35\u001b[0m         show_download_progress(resp)\n",
      "File \u001b[1;32mc:\\Users\\Bill\\AppData\\Local\\Programs\\Python\\Python310\\lib\\site-packages\\webdriver_manager\\core\\http.py:16\u001b[0m, in \u001b[0;36mHttpClient.validate_response\u001b[1;34m(resp)\u001b[0m\n\u001b[0;32m     14\u001b[0m status_code \u001b[39m=\u001b[39m resp\u001b[39m.\u001b[39mstatus_code\n\u001b[0;32m     15\u001b[0m \u001b[39mif\u001b[39;00m status_code \u001b[39m==\u001b[39m \u001b[39m404\u001b[39m:\n\u001b[1;32m---> 16\u001b[0m     \u001b[39mraise\u001b[39;00m \u001b[39mValueError\u001b[39;00m(\u001b[39mf\u001b[39m\u001b[39m\"\u001b[39m\u001b[39mThere is no such driver by url \u001b[39m\u001b[39m{\u001b[39;00mresp\u001b[39m.\u001b[39murl\u001b[39m}\u001b[39;00m\u001b[39m\"\u001b[39m)\n\u001b[0;32m     17\u001b[0m \u001b[39melif\u001b[39;00m status_code \u001b[39m==\u001b[39m \u001b[39m401\u001b[39m:\n\u001b[0;32m     18\u001b[0m     \u001b[39mraise\u001b[39;00m \u001b[39mValueError\u001b[39;00m(\u001b[39mf\u001b[39m\u001b[39m\"\u001b[39m\u001b[39mAPI Rate limit exceeded. You have to add GH_TOKEN!!!\u001b[39m\u001b[39m\"\u001b[39m)\n",
      "\u001b[1;31mValueError\u001b[0m: There is no such driver by url https://chromedriver.storage.googleapis.com/115.0.5790/chromedriver_win32.zip"
     ]
    }
   ],
   "source": [
    "import time\n",
    "from tqdm import tqdm\n",
    "from selenium import webdriver\n",
    "from selenium.webdriver.chrome.options import Options\n",
    "from selenium.webdriver.common.by import By\n",
    "from webdriver_manager.chrome import ChromeDriverManager\n",
    "from selenium.webdriver.chrome.service import Service\n",
    "\n",
    "chrome_options = Options()\n",
    "chrome_options.add_argument('--log-level=3')\n",
    "chrome_options.add_argument(\"--no-sandbox\")\n",
    "#options.headless = True\n",
    "#chrome_options.add_experimental_option(\"debuggerAddress\", \"127.0.0.1:9222\")\n",
    "wd_Chrome = webdriver.Chrome(\"/usr/bin/chromedriver\", ChromeDriverManager().install(),options=chrome_options,)\n",
    "\n",
    "\n",
    "\n"
   ]
  },
  {
   "cell_type": "code",
   "execution_count": null,
   "metadata": {},
   "outputs": [],
   "source": [
    "# Com o WebDrive a gente consegue a pedir a página (URL)\n",
    "wd_Chrome.get(\"https://www.flashscore.com.br/\")\n",
    "time.sleep(2)\n",
    "# Fechando Botão de Cookies\n",
    "try:\n",
    "    button_cookies = wd_Chrome.find_element(By.CSS_SELECTOR,'button#onetrust-accept-btn-handler')\n",
    "    button_cookies.click()\n",
    "except:\n",
    "    pass\n",
    "\n",
    "time.sleep(3)"
   ]
  },
  {
   "cell_type": "code",
   "execution_count": null,
   "metadata": {},
   "outputs": [
    {
     "name": "stdout",
     "output_type": "stream",
     "text": [
      "2023-07-27\n"
     ]
    }
   ],
   "source": [
    "from datetime import date, datetime, timedelta\n",
    "data = datetime.today() + timedelta(-1)\n",
    "ontem = data.strftime('%Y-%m-%d')\n",
    "print (ontem)\n",
    "\n",
    "# Carregar o arquivo XLSX em um DataFrame do pandas\n",
    "\n"
   ]
  },
  {
   "cell_type": "code",
   "execution_count": null,
   "metadata": {},
   "outputs": [],
   "source": [
    "# placar1 = wd_Chrome.find_elements(By.CLASS_NAME,'event__score.event__score--home')[0].text\n",
    "# placar2 = wd_Chrome.find_elements(By.CLASS_NAME,'event__score.event__score--away')[0].text\n",
    "\n",
    "# placar1"
   ]
  },
  {
   "cell_type": "code",
   "execution_count": null,
   "metadata": {},
   "outputs": [],
   "source": [
    "try:\n",
    "    df = pd.read_excel(f'ApostasGeradas\\\\{ontem}_entradas.xlsx')\n",
    "\n",
    "\n",
    "    for index, row in df.iterrows():\n",
    "        # Acessar os valores de cada coluna para a linha atual\n",
    "\n",
    "        time1 = row['Home']\n",
    "\n",
    "        wd_Chrome.find_element(By.XPATH,'//*[@id=\"search-window\"]').click()\n",
    "        time.sleep(3)\n",
    "        wd_Chrome.find_element(By.XPATH,'//*[@id=\"search-window\"]/div/div/div[2]/input').send_keys(time1)\n",
    "        time.sleep(3)\n",
    "        wd_Chrome.find_element(By.XPATH,'//*[@id=\"search-window\"]/div/div/div[3]/div/a[1]/div[3]').click()\n",
    "        wd_Chrome.find_element(By.XPATH,'//*[@id=\"li2\"]').click()\n",
    "\n",
    "        try:\n",
    "            #verifica se foi pra penalti ou prorrogação\n",
    "            div_pai = wd_Chrome.find_elements(By.CLASS_NAME,'event__time')[0]\n",
    "            div_filha = div_pai.find_element(By.CLASS_NAME,'event__stage')\n",
    "\n",
    "            placar1 = wd_Chrome.find_elements(By.CLASS_NAME,'event__part.event__part--home.event__part--2')[0].text\n",
    "            placar2 = wd_Chrome.find_elements(By.CLASS_NAME,'event__part.event__part--away.event__part--2')[0].text\n",
    "\n",
    "\n",
    "        except Exception:\n",
    "\n",
    "            placar1 = wd_Chrome.find_elements(By.CLASS_NAME,'event__score.event__score--home')[0].text\n",
    "            placar2 = wd_Chrome.find_elements(By.CLASS_NAME,'event__score.event__score--away')[0].text\n",
    "\n",
    "        placar1=int(placar1)\n",
    "        placar2=int(placar2)\n",
    "        df.loc[index, 'PlacarHome'] = placar1\n",
    "        df.loc[index, 'PlacarAway'] = placar2\n",
    "\n",
    "        if df.loc[index, 'Método'] == \"Back Draw\":\n",
    "            if placar1==placar2:\n",
    "                df.loc[index, 'Green'] = \"S\"\n",
    "                df.loc[index, 'GanhosPerdas'] = df.loc[index, 'Odd_Metodo'] - 1\n",
    "            else:\n",
    "                df.loc[index, 'Green'] = \"N\"\n",
    "                df.loc[index, 'GanhosPerdas'] = -1\n",
    "        \n",
    "        if df.loc[index, 'Método'] == \"BTTS_Sim\":\n",
    "            if placar1!=0 and placar2!=0:\n",
    "                df.loc[index, 'Green'] = \"S\"\n",
    "                df.loc[index, 'GanhosPerdas'] = df.loc[index, 'Odd_Metodo'] - 1\n",
    "            else:\n",
    "                df.loc[index, 'Green'] = \"N\"\n",
    "                df.loc[index, 'GanhosPerdas'] = -1\n",
    "\n",
    "        if df.loc[index, 'Método'] == \"BTTS_Nao\":\n",
    "            if placar1== 0 or placar2==0:\n",
    "                df.loc[index, 'Green'] = \"S\"\n",
    "                df.loc[index, 'GanhosPerdas'] = df.loc[index, 'Odd_Metodo'] - 1\n",
    "            else:\n",
    "                df.loc[index, 'Green'] = \"N\"\n",
    "                df.loc[index, 'GanhosPerdas'] = -1\n",
    "                \n",
    "        resultFinal = placar1 + placar2\n",
    "        if df.loc[index, 'Método'] == \"full25\":\n",
    "            if resultFinal > 2:\n",
    "                df.loc[index, 'Green'] = \"S\"\n",
    "                df.loc[index, 'GanhosPerdas'] = df.loc[index, 'Odd_Metodo'] - 1\n",
    "            else:\n",
    "                df.loc[index, 'Green'] = \"N\"\n",
    "                df.loc[index, 'GanhosPerdas'] = -1\n",
    "        \n",
    "\n",
    "    #bttsnao bttsim full25\n",
    "    # validar os metodos com a coluna green S ou N\n",
    "    # calcular a porcentagem de perda e ganho\n",
    "    df.to_excel(f'ApostasGeradas\\\\{ontem}_entradas.xlsx', index=False)\n",
    "except FileNotFoundError:\n",
    "    print (\"Planilha não encontrada\")\n",
    "\n"
   ]
  },
  {
   "cell_type": "code",
   "execution_count": null,
   "metadata": {},
   "outputs": [],
   "source": []
  }
 ],
 "metadata": {
  "kernelspec": {
   "display_name": "Python 3",
   "language": "python",
   "name": "python3"
  },
  "language_info": {
   "codemirror_mode": {
    "name": "ipython",
    "version": 3
   },
   "file_extension": ".py",
   "mimetype": "text/x-python",
   "name": "python",
   "nbconvert_exporter": "python",
   "pygments_lexer": "ipython3",
   "version": "3.10.1"
  },
  "orig_nbformat": 4
 },
 "nbformat": 4,
 "nbformat_minor": 2
}
