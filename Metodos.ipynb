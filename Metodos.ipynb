{
  "cells": [
    {
      "cell_type": "code",
      "execution_count": 1,
      "metadata": {
        "id": "nTma97iBM3IZ"
      },
      "outputs": [],
      "source": [
        "import pandas as pd\n",
        "import numpy as np\n",
        "#import plotly.express as px\n",
        "\n",
        "import warnings\n",
        "warnings.filterwarnings('ignore')\n",
        "\n",
        "def dia():\n",
        "    from datetime import date, timedelta\n",
        "    dia = date.today() + timedelta(0)\n",
        "    return dia\n",
        "\n",
        "def drop_reset_index(df):\n",
        "    df = df.dropna()\n",
        "    df = df.reset_index(drop=True)\n",
        "    df.index += 1\n",
        "    return df\n",
        "    \n",
        "def grafico(df, nome):\n",
        "    df = df.reset_index(drop=True)\n",
        "    df.index += 1\n",
        "    df['Profit_acu'] = df.Profit.cumsum()\n",
        "    profit = round(df.Profit_acu.tail(1).item(),2)\n",
        "    ROI = round((df.Profit_acu.tail(1)/len(df)*100).item(),2)\n",
        "    df.Profit_acu.plot(title=nome, xlabel='Entradas', ylabel='Stakes')\n",
        "    print(\"Profit:\",profit,\"stakes em\", len(df),\"jogos\")\n",
        "    print(\"ROI:\",ROI,\"%\")"
      ]
    },
    {
      "attachments": {},
      "cell_type": "markdown",
      "metadata": {
        "id": "m5NsFyK8TtOh"
      },
      "source": [
        "# Unindo a Base de Dados com os Jogos do Dia"
      ]
    },
    {
      "cell_type": "code",
      "execution_count": 2,
      "metadata": {
        "id": "5dwKkyzMRD8h"
      },
      "outputs": [],
      "source": [
        "#back draw, 2.5\n",
        "df1 = pd.read_excel(\"G:\\\\Meu Drive\\\\Programacao\\\\futPythonTrader\\\\BasesDeDados\\\\x_FutPythonTrader_Base_de_Dados_Temporada_2122_x.xlsx\")\n",
        "df2 = pd.read_excel(\"https://github.com/futpythontrader/YouTube/raw/main/x_FutPythonTrader_Base_de_Dados_Temporada_Atual_x.xlsx\")\n",
        "base = pd.concat([df1,df2])\n",
        "base.reset_index(inplace=True, drop=True)\n",
        "base.index = base.index.set_names(['Nº'])\n",
        "base = base.rename(index=lambda x: x + 1)\n",
        "\n",
        "base = base[['Date','League','Home','Away','Season','FT_Goals_H','FT_Goals_A','FT_Odds_H','FT_Odds_D','FT_Odds_A','FT_Odds_Over25','FT_Odds_Under25','Odds_BTTS_Yes','Odds_BTTS_No']]\n",
        "base[\"Date\"] = pd.to_datetime(base[\"Date\"])\n"
      ]
    },
    {
      "cell_type": "code",
      "execution_count": 4,
      "metadata": {
        "id": "1k-07U6eRjN-"
      },
      "outputs": [],
      "source": [
        "baseBackDraw = base[base['League'].isin([\"Austria Bundesliga\",\n",
        "\"Bolivia LFPB\",\n",
        "\"Brazil Serie B\",\n",
        "\"Brazil Serie D\",\n",
        "\"Canada Canadian Premier League\",\n",
        "\"China Chinese Super League\",\n",
        "\"Croatia Prva HNL\",\n",
        "\"Czech Republic First League\",\n",
        "\"Denmark Superliga\",\n",
        "\"Germany 2. Bundesliga\",\n",
        "\"Italy Serie A\",\n",
        "\"Italy Serie B\",\n",
        "\"Mexico Liga MX\",\n",
        "\"Poland Ekstraklasa\",\n",
        "\"Romania Liga I\",\n",
        "\"Scotland Premiership\",\n",
        "\"Spain La Liga\",\n",
        "\"Switzerland Super League\",\n",
        "\"Uruguay Primera División\",\n",
        "\"USA MLS\",\n",
        "\"Venezuela Primera División\",\n",
        "\"Wales Welsh Premier League\"]) == True]"
      ]
    },
    {
      "cell_type": "code",
      "execution_count": 5,
      "metadata": {
        "id": "Iwmg0vxhRVF5"
      },
      "outputs": [],
      "source": [
        "flt = ((baseBackDraw.FT_Odds_H != 0) & (baseBackDraw.FT_Odds_D != 0) & (baseBackDraw.FT_Odds_A != 0))\n",
        "baseBackDraw = baseBackDraw[flt]\n",
        "\n",
        "baseBackDraw[\"Total_Goals\"] = baseBackDraw[\"FT_Goals_H\"] + baseBackDraw[\"FT_Goals_A\"]\n",
        "\n",
        "baseBackDraw.loc[baseBackDraw['FT_Goals_H'] > baseBackDraw['FT_Goals_A'], 'FT_Result'] = \"H\"\n",
        "baseBackDraw.loc[baseBackDraw['FT_Goals_H'] == baseBackDraw['FT_Goals_A'], 'FT_Result'] = \"D\"\n",
        "baseBackDraw.loc[baseBackDraw['FT_Goals_H'] < baseBackDraw['FT_Goals_A'], 'FT_Result'] = \"A\"\n",
        "\n",
        "# Profit\n",
        "green = baseBackDraw.FT_Odds_D - 1\n",
        "red = -1\n",
        "\n",
        "baseBackDraw.loc[baseBackDraw['FT_Result'] == \"D\", 'Profit'] = green\n",
        "baseBackDraw.loc[baseBackDraw['FT_Result'] != \"D\", 'Profit'] = red\n",
        "\n",
        "# Probabilidades\n",
        "baseBackDraw['p_H'] = 1 / baseBackDraw.FT_Odds_H\n",
        "baseBackDraw['p_D'] = 1 / baseBackDraw.FT_Odds_D\n",
        "baseBackDraw['p_A'] = 1 / baseBackDraw.FT_Odds_A\n",
        "\n",
        "# CV das Odds do Match Odds\n",
        "baseBackDraw['CV_HDA'] = baseBackDraw[['p_H','p_D','p_A']].std(ddof=0, axis=1) / baseBackDraw[['p_H','p_D','p_A']].mean(axis=1)\n",
        "\n",
        "# Pontos\n",
        "baseBackDraw.loc[baseBackDraw['FT_Goals_H'] > baseBackDraw['FT_Goals_A'], 'Ptos_H'] = 3\n",
        "baseBackDraw.loc[baseBackDraw['FT_Goals_H'] == baseBackDraw['FT_Goals_A'], 'Ptos_H'] = 1\n",
        "baseBackDraw.loc[baseBackDraw['FT_Goals_H'] < baseBackDraw['FT_Goals_A'], 'Ptos_H'] = 0\n",
        "\n",
        "baseBackDraw.loc[baseBackDraw['FT_Goals_H'] < baseBackDraw['FT_Goals_A'], 'Ptos_A'] = 3\n",
        "baseBackDraw.loc[baseBackDraw['FT_Goals_H'] == baseBackDraw['FT_Goals_A'], 'Ptos_A'] = 1\n",
        "baseBackDraw.loc[baseBackDraw['FT_Goals_H'] > baseBackDraw['FT_Goals_A'], 'Ptos_A'] = 0\n",
        "\n",
        "baseBackDraw[\"Ptos_H\"] = baseBackDraw[\"Ptos_H\"].astype('int64')\n",
        "baseBackDraw[\"Ptos_A\"] = baseBackDraw[\"Ptos_A\"].astype('int64')\n",
        "\n",
        "baseBackDraw['Media_Ptos_H'] = baseBackDraw.groupby('Home')['Ptos_H'].rolling(window=10, min_periods=2).mean().reset_index(0,drop=True)\n",
        "baseBackDraw['Media_Ptos_A'] = baseBackDraw.groupby('Away')['Ptos_A'].rolling(window=10, min_periods=2).mean().reset_index(0,drop=True)\n",
        "\n",
        "baseBackDraw['Media_Ptos_H'] = baseBackDraw.groupby('Home')['Media_Ptos_H'].shift(1)\n",
        "baseBackDraw['Media_Ptos_A'] = baseBackDraw.groupby('Away')['Media_Ptos_A'].shift(1)\n",
        "\n",
        "baseBackDraw['DesvPad_Ptos_H'] = baseBackDraw.groupby('Home')['Ptos_H'].rolling(window=10, min_periods=2).std(ddof=0).reset_index(0,drop=True)\n",
        "baseBackDraw['DesvPad_Ptos_A'] = baseBackDraw.groupby('Away')['Ptos_A'].rolling(window=10, min_periods=2).std(ddof=0).reset_index(0,drop=True)\n",
        "\n",
        "baseBackDraw['DesvPad_Ptos_H'] = baseBackDraw.groupby('Home')['DesvPad_Ptos_H'].shift(1)\n",
        "baseBackDraw['DesvPad_Ptos_A'] = baseBackDraw.groupby('Away')['DesvPad_Ptos_A'].shift(1)\n",
        "\n",
        "baseBackDraw['CV_Ptos_H'] = baseBackDraw['DesvPad_Ptos_H'] / baseBackDraw['Media_Ptos_H']\n",
        "baseBackDraw['CV_Ptos_A'] = baseBackDraw['DesvPad_Ptos_A'] / baseBackDraw['Media_Ptos_A']\n",
        "\n",
        "# Valor do Gol\n",
        "baseBackDraw['VG_H'] = baseBackDraw.FT_Goals_H * baseBackDraw.p_A\n",
        "baseBackDraw['VG_A'] = baseBackDraw.FT_Goals_A * baseBackDraw.p_H\n",
        "\n",
        "baseBackDraw['Media_VG_H'] = baseBackDraw.groupby('Home')['VG_H'].rolling(window=10, min_periods=2).mean().reset_index(0,drop=True)\n",
        "baseBackDraw['Media_VG_A'] = baseBackDraw.groupby('Away')['VG_A'].rolling(window=10, min_periods=2).mean().reset_index(0,drop=True)\n",
        "\n",
        "baseBackDraw['Media_VG_H'] = baseBackDraw.groupby('Home')['Media_VG_H'].shift(1)\n",
        "baseBackDraw['Media_VG_A'] = baseBackDraw.groupby('Away')['Media_VG_A'].shift(1)\n",
        "\n",
        "baseBackDraw['DesvPad_VG_H'] = baseBackDraw.groupby('Home')['VG_H'].rolling(window=10, min_periods=2).std(ddof=0).reset_index(0,drop=True)\n",
        "baseBackDraw['DesvPad_VG_A'] = baseBackDraw.groupby('Away')['VG_A'].rolling(window=10, min_periods=2).std(ddof=0).reset_index(0,drop=True)\n",
        "\n",
        "baseBackDraw['DesvPad_VG_H'] = baseBackDraw.groupby('Home')['DesvPad_VG_H'].shift(1)\n",
        "baseBackDraw['DesvPad_VG_A'] = baseBackDraw.groupby('Away')['DesvPad_VG_A'].shift(1)\n",
        "\n",
        "baseBackDraw['CV_VG_H'] = baseBackDraw['DesvPad_VG_H'] / baseBackDraw['Media_VG_H']\n",
        "baseBackDraw['CV_VG_A'] = baseBackDraw['DesvPad_VG_A'] / baseBackDraw['Media_VG_A']\n",
        "\n",
        "# Custo do Gol\n",
        "baseBackDraw['CG_H'] = baseBackDraw.p_H / baseBackDraw.FT_Goals_H\n",
        "baseBackDraw['CG_A'] = baseBackDraw.p_A / baseBackDraw.FT_Goals_A\n",
        "\n",
        "baseBackDraw['Media_CG_H'] = baseBackDraw.groupby('Home')['CG_H'].rolling(window=10, min_periods=2).mean().reset_index(0,drop=True)\n",
        "baseBackDraw['Media_CG_A'] = baseBackDraw.groupby('Away')['CG_A'].rolling(window=10, min_periods=2).mean().reset_index(0,drop=True)\n",
        "\n",
        "baseBackDraw['Media_CG_H'] = baseBackDraw.groupby('Home')['Media_CG_H'].shift(1)\n",
        "baseBackDraw['Media_CG_A'] = baseBackDraw.groupby('Away')['Media_CG_A'].shift(1)\n",
        "\n",
        "baseBackDraw['DesvPad_CG_H'] = baseBackDraw.groupby('Home')['CG_H'].rolling(window=10, min_periods=2).std(ddof=0).reset_index(0,drop=True)\n",
        "baseBackDraw['DesvPad_CG_A'] = baseBackDraw.groupby('Away')['CG_A'].rolling(window=10, min_periods=2).std(ddof=0).reset_index(0,drop=True)\n",
        "\n",
        "baseBackDraw['DesvPad_CG_H'] = baseBackDraw.groupby('Home')['DesvPad_CG_H'].shift(1)\n",
        "baseBackDraw['DesvPad_CG_A'] = baseBackDraw.groupby('Away')['DesvPad_CG_A'].shift(1)\n",
        "\n",
        "baseBackDraw['CV_CG_H'] = baseBackDraw['DesvPad_CG_H'] / baseBackDraw['Media_CG_H']\n",
        "baseBackDraw['CV_CG_A'] = baseBackDraw['DesvPad_CG_A'] / baseBackDraw['Media_CG_A']\n",
        "\n",
        "baseBackDraw.replace(np.inf, 1, inplace=True)\n",
        "baseBackDraw = drop_reset_index(baseBackDraw)\n",
        "\n",
        "baseBackDraw = baseBackDraw.drop(['Ptos_H','Ptos_A','VG_H', 'VG_A', 'CG_H', 'CG_A'], axis=1)"
      ]
    },
    {
      "cell_type": "code",
      "execution_count": 6,
      "metadata": {
        "id": "BxsRPY2KRmzo"
      },
      "outputs": [],
      "source": [
        "base = drop_reset_index(base)\n",
        "#base"
      ]
    },
    {
      "cell_type": "code",
      "execution_count": 7,
      "metadata": {
        "id": "M_3JY3VyR3ss"
      },
      "outputs": [],
      "source": [
        "base_HBackDraw = baseBackDraw[['Home', 'Media_Ptos_H', 'DesvPad_Ptos_H', 'CV_Ptos_H', 'Media_VG_H', 'DesvPad_VG_H', 'CV_VG_H', 'Media_CG_H', 'DesvPad_CG_H', 'CV_CG_H']]\n",
        "\n",
        "base_HBackDraw = baseBackDraw[['Home', 'CV_HDA', 'Media_VG_H', 'CV_CG_H']]\n",
        "\n",
        "base_ABackDraw = baseBackDraw[['Away', 'CV_HDA', 'Media_VG_A', 'CV_CG_A']]\n",
        "\n",
        "#base_H.to_excel('baseh.xlsx', index=None)"
      ]
    },
    {
      "cell_type": "code",
      "execution_count": 8,
      "metadata": {
        "id": "QpZ4J1GPSlQw"
      },
      "outputs": [
        {
          "name": "stdout",
          "output_type": "stream",
          "text": [
            "2023-07-09\n"
          ]
        }
      ],
      "source": [
        "from datetime import date, datetime, timedelta\n",
        "dia = date.today() - timedelta(-1)\n",
        "print(dia)"
      ]
    },
    {
      "cell_type": "code",
      "execution_count": 9,
      "metadata": {
        "id": "moDBWI38SeS6"
      },
      "outputs": [],
      "source": [
        "#jogos_do_dia = pd.read_csv('https://github.com/futpythontrader/YouTube/blob/main/Jogos_do_Dia_FlashScore/'+str(dia)+'_Jogos_do_Dia_FlashScore.csv?raw=true')\n",
        "jogos_do_dia = pd.read_excel('G:\\\\Meu Drive\\\\Programacao\\\\futPythonTrader\\\\Jogos do dia\\\\'+str(dia)+'_Jogos_do_Dia_FlashScore.xlsx')\n",
        "#jogos_do_dia = pd.read_excel('G:\\\\Meu Drive\\\\Programacao\\\\futPythonTrader\\\\Jogos do dia\\\\2023-04-22_Jogos_do_Dia_FlashScore.xlsx')\n",
        "#jogos_do_dia = jogos_do_dia[['League','Round','Date','Time','Home','Away','FT_Odd_H','FT_Odd_D','FT_Odd_A','FT_Odd_Over25','FT_Odd_Under25','FT_Odd_BTTS_Yes','FT_Odd_BTTS_No']] \n",
        "jogos_do_dia = jogos_do_dia[['League','Date','Time','Home','Away','FT_Odd_H','FT_Odd_D','FT_Odd_A','FT_Odd_Over25','FT_Odd_Under25','FT_Odd_BTTS_Yes','FT_Odd_BTTS_No']] \n",
        "jogos_do_dia.dropna(inplace=True)\n",
        "jogos_do_dia.reset_index(inplace=True, drop=True)\n",
        "jogos_do_dia.index = jogos_do_dia.index.set_names(['Nº'])\n",
        "Jogos_do_Dia = jogos_do_dia.rename(index=lambda x: x + 1)\n",
        "#Jogos_do_Dia"
      ]
    },
    {
      "cell_type": "code",
      "execution_count": 10,
      "metadata": {
        "id": "WvDqrWmdSsEV"
      },
      "outputs": [],
      "source": [
        "lista=[]\n",
        "\n",
        "for a,b,c,d,e,f,g,h,i,j,k,l in zip(Jogos_do_Dia.League,Jogos_do_Dia.Date,Jogos_do_Dia.Time,Jogos_do_Dia.Home,Jogos_do_Dia.Away,\n",
        "                                   Jogos_do_Dia.FT_Odd_H,Jogos_do_Dia.FT_Odd_D,Jogos_do_Dia.FT_Odd_A,Jogos_do_Dia.FT_Odd_Over25,Jogos_do_Dia.FT_Odd_Under25,\n",
        "                                   Jogos_do_Dia.FT_Odd_BTTS_Yes,Jogos_do_Dia.FT_Odd_BTTS_No):\n",
        "        League = a\n",
        "        Date = b\n",
        "        Time = c\n",
        "        home = d\n",
        "        away = e\n",
        "        FT_Odds_H = f\n",
        "        FT_Odds_D = g\n",
        "        FT_Odds_A = h\n",
        "        FT_Odds_Over25 = i\n",
        "        FT_Odds_Under25 = j\n",
        "        FT_Odds_BTTS_Yes = k\n",
        "        FT_Odds_BTTS_No = l\n",
        "  \n",
        "        df1 = base_HBackDraw[base_HBackDraw.Home == home].tail(1)\n",
        "\n",
        "        df2 = base_ABackDraw[base_ABackDraw.Away == away].tail(1)\n",
        "\n",
        "        jogo = {}\n",
        "\n",
        "        jogo[\"League\"] = League \n",
        "        jogo[\"Date\"] = Date\n",
        "        jogo[\"Time\"] = Time\n",
        "        jogo[\"Home\"] = home\n",
        "        jogo[\"Away\"] = away\n",
        "        jogo[\"FT_Odds_H\"] = FT_Odds_H\n",
        "        jogo[\"FT_Odds_D\"] = FT_Odds_D\n",
        "        jogo[\"FT_Odds_A\"] = FT_Odds_A\n",
        "        jogo[\"FT_Odds_Over25\"] = FT_Odds_Over25\n",
        "        jogo[\"FT_Odds_Under25\"] = FT_Odds_Under25\n",
        "        jogo[\"FT_Odds_BTTS_Yes\"] = FT_Odds_BTTS_Yes\n",
        "        jogo[\"FT_Odds_BTTS_No\"] = FT_Odds_BTTS_No\n",
        "\n",
        "        \n",
        "        try:\n",
        "\n",
        "            base_HBackDraw = baseBackDraw[['Home', 'CV_HDA', 'Media_VG_H', 'CV_CG_H']]\n",
        "\n",
        "            base_ABackDraw = baseBackDraw[['Away', 'CV_HDA', 'Media_VG_A', 'CV_CG_A']]\n",
        "        \n",
        "            \n",
        "            \n",
        "            \n",
        "            jogo['Media_VG_H'] = df1[df1.Home == home]['Media_VG_H'].iloc[0]\n",
        "            jogo['CV_CG_H'] = df1[df1.Home == home]['CV_CG_H'].iloc[0]\n",
        "\n",
        "\n",
        "            jogo['Media_VG_A'] = df2[df2.Away == away]['Media_VG_A'].iloc[0]\n",
        "            jogo['CV_CG_A'] = df2[df2.Away == away]['CV_CG_A'].iloc[0]\n",
        "            \n",
        "        except:\n",
        "            pass\n",
        "        \n",
        "        lista.append(jogo)\n",
        "\n",
        "\n",
        "df = pd.DataFrame(lista)\n",
        "#df.reset_index(inplace=True, drop=True)\n",
        "df.index = df.index.set_names(['Nº'])\n",
        "df = df.rename(index=lambda x: x + 1)\n",
        "\n",
        "# CV das Odds do Match Odds\n",
        "df['CV_HDA'] = df[['FT_Odds_H','FT_Odds_D','FT_Odds_A']].std(ddof=0, axis=1) / df[['FT_Odds_H','FT_Odds_D','FT_Odds_A']].mean(axis=1)\n",
        "#df"
      ]
    },
    {
      "cell_type": "code",
      "execution_count": 11,
      "metadata": {
        "id": "25F-GCuzTZGz"
      },
      "outputs": [],
      "source": [
        "flt = (\n",
        "((df.CV_HDA >= 0.2) & (df.CV_HDA <= 0.3))\n",
        "& ((df.FT_Odds_H > 1.5) & (df.FT_Odds_H < 3.5))\n",
        "& ((df.FT_Odds_D > 3)) & ((df.FT_Odds_D < 4.02))\n",
        "& ((df.FT_Odds_A > 1.52)) & ((df.FT_Odds_A < 4))\n",
        "& ((df.FT_Odds_Under25 >= 1.01) & (df.FT_Odds_Under25 <= 3))\n",
        "& ((df.Media_VG_A >= 0.153)) & ((df.Media_VG_A <= 1.85))\n",
        "& ((df.CV_CG_A <= 0.8))\n",
        "& ((df.CV_CG_H > 0.2)) & ((df.CV_CG_H < 0.6))\n",
        ")\n",
        "\n",
        "Back_Draw = df[flt]\n",
        "Back_Draw = Back_Draw[['Date','Time','League','Home','Away','FT_Odds_H','FT_Odds_D','FT_Odds_A']]\n",
        "Back_Draw = drop_reset_index(Back_Draw)\n",
        "\n",
        "\n",
        "\n",
        "from datetime import date, datetime, timedelta\n",
        "data = datetime.today() + timedelta(1)\n",
        "amanha = data.strftime('%Y-%m-%d')\n",
        "#Back_Draw.to_excel(f'Entradas Back_Draw\\\\{amanha}_entrada_Back_Draw_.xlsx', index=None)\n",
        "#Back_Draw"
      ]
    },
    {
      "attachments": {},
      "cell_type": "markdown",
      "metadata": {
        "id": "4jxyCp0cUEUw"
      },
      "source": [
        "# Entradas"
      ]
    },
    {
      "cell_type": "code",
      "execution_count": 12,
      "metadata": {
        "id": "rul-JLC3UDrM"
      },
      "outputs": [
        {
          "data": {
            "text/html": [
              "<div>\n",
              "<style scoped>\n",
              "    .dataframe tbody tr th:only-of-type {\n",
              "        vertical-align: middle;\n",
              "    }\n",
              "\n",
              "    .dataframe tbody tr th {\n",
              "        vertical-align: top;\n",
              "    }\n",
              "\n",
              "    .dataframe thead th {\n",
              "        text-align: right;\n",
              "    }\n",
              "</style>\n",
              "<table border=\"1\" class=\"dataframe\">\n",
              "  <thead>\n",
              "    <tr style=\"text-align: right;\">\n",
              "      <th></th>\n",
              "      <th>Date</th>\n",
              "      <th>Time</th>\n",
              "      <th>League</th>\n",
              "      <th>Home</th>\n",
              "      <th>Away</th>\n",
              "      <th>FT_Odds_H</th>\n",
              "      <th>FT_Odds_D</th>\n",
              "      <th>FT_Odds_A</th>\n",
              "    </tr>\n",
              "  </thead>\n",
              "  <tbody>\n",
              "    <tr>\n",
              "      <th>1</th>\n",
              "      <td>09.07.2023</td>\n",
              "      <td>20:30</td>\n",
              "      <td>DIVISION PROFESIONAL - ROUND 18</td>\n",
              "      <td>Universitario de Vinto</td>\n",
              "      <td>The Strongest</td>\n",
              "      <td>3.1</td>\n",
              "      <td>3.4</td>\n",
              "      <td>2.05</td>\n",
              "    </tr>\n",
              "  </tbody>\n",
              "</table>\n",
              "</div>"
            ],
            "text/plain": [
              "         Date   Time                           League                    Home  \\\n",
              "1  09.07.2023  20:30  DIVISION PROFESIONAL - ROUND 18  Universitario de Vinto   \n",
              "\n",
              "            Away  FT_Odds_H  FT_Odds_D  FT_Odds_A  \n",
              "1  The Strongest        3.1        3.4       2.05  "
            ]
          },
          "execution_count": 12,
          "metadata": {},
          "output_type": "execute_result"
        }
      ],
      "source": [
        "Back_Draw"
      ]
    }
  ],
  "metadata": {
    "colab": {
      "collapsed_sections": [
        "JES_NIODM2WE",
        "M-ZOjqTNM7GS",
        "jHq8hCi2ZlHv",
        "m5NsFyK8TtOh"
      ],
      "private_outputs": true,
      "provenance": []
    },
    "gpuClass": "standard",
    "kernelspec": {
      "display_name": "Python 3",
      "language": "python",
      "name": "python3"
    },
    "language_info": {
      "codemirror_mode": {
        "name": "ipython",
        "version": 3
      },
      "file_extension": ".py",
      "mimetype": "text/x-python",
      "name": "python",
      "nbconvert_exporter": "python",
      "pygments_lexer": "ipython3",
      "version": "3.10.1"
    },
    "vscode": {
      "interpreter": {
        "hash": "969865d4a30e44c97746a39a713a7b997c8febb92cc2710085e7e1537f124735"
      }
    }
  },
  "nbformat": 4,
  "nbformat_minor": 0
}
